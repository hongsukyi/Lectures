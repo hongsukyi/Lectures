{
 "cells": [
  {
   "cell_type": "markdown",
   "metadata": {
    "_uuid": "67e976faab9af355494b17fa5f4a577b1eec2252",
    "id": "JOKc769hBFTE"
   },
   "source": [
    "# Machine Learning (ML) \n",
    "## lecture 12 Basic Text Classification with Movie Reviews"
   ]
  },
  {
   "cell_type": "markdown",
   "metadata": {
    "_uuid": "471063453fe22a507db228edfc51d123286f92d0",
    "id": "gHGm54yCBFTG"
   },
   "source": [
    "## Text Classification with IMDB Movie Reviews\n",
    "\n",
    "\n",
    "This notebook classifies movie reviews as *positive* or *negative* using the text of the review. \n",
    "\n",
    "This is an example of *binary*—or two-class—classification.  \n",
    "\n",
    "We'll use the [IMDB dataset](https://www.tensorflow.org/api_docs/python/tf/keras/datasets/imdb) that contains the text of 50,000 movie reviews from the [Internet Movie Database](https://www.imdb.com/). \n",
    "\n",
    "Imdb dataset split into 25,000 reviews for training and 25,000 reviews for testing. "
   ]
  },
  {
   "cell_type": "markdown",
   "metadata": {
    "id": "GWh-gfQBBFTH"
   },
   "source": [
    "![image.png](attachment:image.png)"
   ]
  },
  {
   "cell_type": "markdown",
   "metadata": {
    "id": "9A2dkmhTBFTH"
   },
   "source": [
    "## 1. Setup"
   ]
  },
  {
   "cell_type": "code",
   "execution_count": 1,
   "metadata": {
    "colab": {
     "base_uri": "https://localhost:8080/",
     "height": 35
    },
    "id": "lI4Pzeo6BFTH",
    "outputId": "7a2ec8e9-8d3d-4ad1-b7bf-4f51484216dc"
   },
   "outputs": [
    {
     "data": {
      "text/plain": [
       "'2.7.0'"
      ]
     },
     "execution_count": 1,
     "metadata": {},
     "output_type": "execute_result"
    }
   ],
   "source": [
    "import tensorflow as tf\n",
    "\n",
    "import numpy as np\n",
    "import matplotlib.pyplot as plt\n",
    "\n",
    "from tensorflow.keras.datasets import imdb\n",
    "from tensorflow.keras.preprocessing.sequence import pad_sequences\n",
    "from tensorflow.keras.models import Sequential\n",
    "from tensorflow.keras.layers import Embedding, LSTM, Dense, GRU, Bidirectional\n",
    "from tensorflow.keras.layers import Dropout, BatchNormalization, SimpleRNN\n",
    "from tensorflow.keras.utils import to_categorical, plot_model\n",
    "tf.__version__"
   ]
  },
  {
   "cell_type": "code",
   "execution_count": 3,
   "metadata": {
    "scrolled": true
   },
   "outputs": [
    {
     "name": "stdout",
     "output_type": "stream",
     "text": [
      "Version:  2.7.0\n",
      "Eager mode:  True\n",
      "GPU is available\n"
     ]
    }
   ],
   "source": [
    "print(\"Version: \", tf.__version__)\n",
    "print(\"Eager mode: \", tf.executing_eagerly())\n",
    "\n",
    "print(\"GPU is\", \"available\" if tf.config.list_physical_devices('GPU') else \"NOT AVAILABLE\")"
   ]
  },
  {
   "cell_type": "markdown",
   "metadata": {
    "_uuid": "ef6a2761e1ac0381853cd6164d22fc338322e5f1",
    "id": "S21TJXRBBFTJ"
   },
   "source": [
    "## 2. Download the IMDB dataset"
   ]
  },
  {
   "cell_type": "markdown",
   "metadata": {
    "_uuid": "ef6a2761e1ac0381853cd6164d22fc338322e5f1",
    "id": "lUVSzc5lBFTJ"
   },
   "source": [
    "- The reviews (sequences of words) have been converted to sequences of integers"
   ]
  },
  {
   "cell_type": "markdown",
   "metadata": {
    "_uuid": "36ad7e030828c25dcfb311a199d8b0e4714851d4",
    "id": "qOHKShjbBFTJ"
   },
   "source": [
    "- `vocal_size` ~ 10,000 most frequently occurring words."
   ]
  },
  {
   "cell_type": "code",
   "execution_count": 4,
   "metadata": {
    "_uuid": "fc32852b5f489292602c949a76a9d6db92ad49b7",
    "colab": {
     "base_uri": "https://localhost:8080/"
    },
    "id": "vs0z5DGrBFTK",
    "outputId": "8ab5b5ca-fed9-4aa6-aa6d-f5b69c68c08b"
   },
   "outputs": [],
   "source": [
    "vocal_size = 10000\n",
    "(X_train, y_train), (X_test, y_test) = imdb.load_data(num_words=vocal_size)"
   ]
  },
  {
   "cell_type": "markdown",
   "metadata": {
    "_uuid": "36ad7e030828c25dcfb311a199d8b0e4714851d4",
    "id": "x_pEZYt4BFTK"
   },
   "source": [
    "## 3. Explore the data "
   ]
  },
  {
   "cell_type": "markdown",
   "metadata": {
    "_uuid": "36ad7e030828c25dcfb311a199d8b0e4714851d4",
    "id": "Qj0cs0fuBFTK"
   },
   "source": [
    "- Each `y_train, y_test` is an integer value of either `0`(negative) or `1`(positive) review."
   ]
  },
  {
   "cell_type": "code",
   "execution_count": 5,
   "metadata": {
    "_uuid": "fe9afd64bd9b8d3b09cf640d25b769c97af4b324",
    "colab": {
     "base_uri": "https://localhost:8080/"
    },
    "id": "6LMsBpy7BFTK",
    "outputId": "612d4a87-8195-4875-bf64-13bb74c99244"
   },
   "outputs": [
    {
     "name": "stdout",
     "output_type": "stream",
     "text": [
      "Training entries: 25000, labels: 25000\n",
      "Test entries: 25000, labels: 25000\n"
     ]
    }
   ],
   "source": [
    "print(\"Training entries: {}, labels: {}\".format(len(X_train), len(y_train)))\n",
    "\n",
    "print(\"Test entries: {}, labels: {}\".format(len(X_test), len(y_test)))"
   ]
  },
  {
   "cell_type": "markdown",
   "metadata": {
    "_uuid": "dbad3e2ae203bd5c672dff7d1ce872efc116f083",
    "id": "F7wiGZDiBFTL"
   },
   "source": [
    "- 첫 샘플 "
   ]
  },
  {
   "cell_type": "code",
   "execution_count": 6,
   "metadata": {
    "colab": {
     "base_uri": "https://localhost:8080/"
    },
    "id": "14GpjrtpBFTL",
    "outputId": "696a045a-c610-4488-c93e-3f0efd7a58fa",
    "scrolled": true
   },
   "outputs": [
    {
     "name": "stdout",
     "output_type": "stream",
     "text": [
      "[1, 14, 22, 16, 43, 530, 973, 1622, 1385, 65, 458, 4468, 66, 3941, 4, 173, 36, 256, 5, 25, 100, 43, 838, 112, 50, 670, 2, 9, 35, 480, 284, 5, 150, 4, 172, 112, 167, 2, 336, 385, 39, 4, 172, 4536, 1111, 17, 546, 38, 13, 447, 4, 192, 50, 16, 6, 147, 2025, 19, 14, 22, 4, 1920, 4613, 469, 4, 22, 71, 87, 12, 16, 43, 530, 38, 76, 15, 13, 1247, 4, 22, 17, 515, 17, 12, 16, 626, 18, 2, 5, 62, 386, 12, 8, 316, 8, 106, 5, 4, 2223, 5244, 16, 480, 66, 3785, 33, 4, 130, 12, 16, 38, 619, 5, 25, 124, 51, 36, 135, 48, 25, 1415, 33, 6, 22, 12, 215, 28, 77, 52, 5, 14, 407, 16, 82, 2, 8, 4, 107, 117, 5952, 15, 256, 4, 2, 7, 3766, 5, 723, 36, 71, 43, 530, 476, 26, 400, 317, 46, 7, 4, 2, 1029, 13, 104, 88, 4, 381, 15, 297, 98, 32, 2071, 56, 26, 141, 6, 194, 7486, 18, 4, 226, 22, 21, 134, 476, 26, 480, 5, 144, 30, 5535, 18, 51, 36, 28, 224, 92, 25, 104, 4, 226, 65, 16, 38, 1334, 88, 12, 16, 283, 5, 16, 4472, 113, 103, 32, 15, 16, 5345, 19, 178, 32]\n",
      "-------\n",
      "1\n"
     ]
    }
   ],
   "source": [
    "print(X_train[0])\n",
    "print('-------')\n",
    "print(y_train[0])"
   ]
  },
  {
   "cell_type": "markdown",
   "metadata": {
    "id": "9dm2RaTSBFTM"
   },
   "source": [
    "- Check the first data : Movie reviews may be different lengths. "
   ]
  },
  {
   "cell_type": "code",
   "execution_count": 7,
   "metadata": {
    "_uuid": "f63ff4b9b040bf980af00e94525c60fa35359868",
    "colab": {
     "base_uri": "https://localhost:8080/"
    },
    "id": "s_Vzi5r5BFTM",
    "outputId": "ba27534b-57e1-4b3a-d98a-bda733c3f66a"
   },
   "outputs": [
    {
     "data": {
      "text/plain": [
       "(218, 189)"
      ]
     },
     "execution_count": 7,
     "metadata": {},
     "output_type": "execute_result"
    }
   ],
   "source": [
    "len(X_train[0]), len(X_train[1])"
   ]
  },
  {
   "cell_type": "markdown",
   "metadata": {
    "id": "EgNgpnkyBFTM"
   },
   "source": [
    "- The 5 most frequently used words"
   ]
  },
  {
   "cell_type": "code",
   "execution_count": 8,
   "metadata": {
    "colab": {
     "base_uri": "https://localhost:8080/"
    },
    "id": "3cOZXXmMBFTN",
    "outputId": "660cd822-be19-4e59-a4ac-31f741d0a694"
   },
   "outputs": [
    {
     "name": "stdout",
     "output_type": "stream",
     "text": [
      "1-th word which is used the most frequently = the\n",
      "2-th word which is used the most frequently = and\n",
      "3-th word which is used the most frequently = a\n",
      "4-th word which is used the most frequently = of\n",
      "5-th word which is used the most frequently = to\n"
     ]
    }
   ],
   "source": [
    "imdb_get_word_index = {}\n",
    "\n",
    "for key, value in imdb.get_word_index().items():\n",
    "    imdb_get_word_index[value] = key\n",
    "    \n",
    "for i in range(1, 6):\n",
    "    print('{}-th word which is used the most frequently = {}'.format(i, imdb_get_word_index[i])) "
   ]
  },
  {
   "cell_type": "markdown",
   "metadata": {
    "_uuid": "759e97447e824169d54930c13649a86ed3aa0758",
    "id": "hqgeuVMqBFTN"
   },
   "source": [
    "- Convert the integers back to words"
   ]
  },
  {
   "cell_type": "code",
   "execution_count": 9,
   "metadata": {
    "_uuid": "6f8f45ce4fa615614fff5252453b379da024169d",
    "id": "l6fAiFBxBFTN"
   },
   "outputs": [],
   "source": [
    "# A dictionary mapping words to an integer index\n",
    "word_index = imdb.get_word_index()\n",
    "\n",
    "# The first indices are reserved\n",
    "word_index = {k:(v+3) for k,v in word_index.items()} \n",
    "word_index[\"<PAD>\"] = 0\n",
    "word_index[\"<START>\"] = 1\n",
    "word_index[\"<UNK>\"] = 2  # unknown\n",
    "word_index[\"<UNUSED>\"] = 3\n",
    "\n",
    "reverse_word_index = dict([(value, key) for (key, value) in word_index.items()])"
   ]
  },
  {
   "cell_type": "code",
   "execution_count": 10,
   "metadata": {
    "_uuid": "6f8f45ce4fa615614fff5252453b379da024169d",
    "id": "Xw4fGPsABFTO"
   },
   "outputs": [],
   "source": [
    "def decode_review(text):\n",
    "    return ' '.join([reverse_word_index.get(i, '?') for i in text])"
   ]
  },
  {
   "cell_type": "markdown",
   "metadata": {
    "_uuid": "306d7546dfee9f4223eb709a354a3303af2155ab",
    "id": "jmN8Cd2TBFTO"
   },
   "source": [
    "-  display the text for the first review:"
   ]
  },
  {
   "cell_type": "code",
   "execution_count": 11,
   "metadata": {
    "_uuid": "4c6e7dbc2b8121ad5c3522f2fffafc5bfce30bd3",
    "colab": {
     "base_uri": "https://localhost:8080/",
     "height": 126
    },
    "id": "PBZYkkl4BFTO",
    "outputId": "801cc824-059b-4376-c5ed-ee634dda9296"
   },
   "outputs": [
    {
     "data": {
      "text/plain": [
       "\"<START> this film was just brilliant casting location scenery story direction everyone's really suited the part they played and you could just imagine being there robert <UNK> is an amazing actor and now the same being director <UNK> father came from the same scottish island as myself so i loved the fact there was a real connection with this film the witty remarks throughout the film were great it was just brilliant so much that i bought the film as soon as it was released for <UNK> and would recommend it to everyone to watch and the fly fishing was amazing really cried at the end it was so sad and you know what they say if you cry at a film it must have been good and this definitely was also <UNK> to the two little boy's that played the <UNK> of norman and paul they were just brilliant children are often left out of the <UNK> list i think because the stars that play them all grown up are such a big profile for the whole film but these children are amazing and should be praised for what they have done don't you think the whole story was so lovely because it was true and was someone's life after all that was shared with us all\""
      ]
     },
     "execution_count": 11,
     "metadata": {},
     "output_type": "execute_result"
    }
   ],
   "source": [
    "decode_review(X_train[0])"
   ]
  },
  {
   "cell_type": "markdown",
   "metadata": {
    "_uuid": "c3eb4a38a49b27576a7257a41ecb654c398a4cfb",
    "id": "Z1W1lLTLBFTO"
   },
   "source": [
    "## 4. Prepare the data\n",
    "\n",
    "- pad the arrays so they all have the same length,"
   ]
  },
  {
   "cell_type": "code",
   "execution_count": 12,
   "metadata": {
    "colab": {
     "base_uri": "https://localhost:8080/"
    },
    "id": "7oDCbcQuBFTP",
    "outputId": "23f597c9-60fb-4851-9eed-3429e6721abf"
   },
   "outputs": [
    {
     "name": "stdout",
     "output_type": "stream",
     "text": [
      "Before pad_sequences:  218\n"
     ]
    }
   ],
   "source": [
    "seq_len = 256\n",
    "print('Before pad_sequences: ', len(X_train[0]))"
   ]
  },
  {
   "cell_type": "code",
   "execution_count": 13,
   "metadata": {
    "colab": {
     "base_uri": "https://localhost:8080/"
    },
    "id": "osZiLBpIBFTP",
    "outputId": "6db61910-72a2-4fab-c783-7c0d63fdecfc"
   },
   "outputs": [
    {
     "name": "stdout",
     "output_type": "stream",
     "text": [
      "After X_train pad_sequences:  256\n",
      "After X_test pad_sequences:  256\n"
     ]
    }
   ],
   "source": [
    "X_train = pad_sequences(X_train, maxlen=seq_len, padding = 'pre')\n",
    "X_test = pad_sequences(X_test, maxlen=seq_len, padding = 'pre')\n",
    "print('After X_train pad_sequences: ', len(X_train[0]))\n",
    "print('After X_test pad_sequences: ', len(X_test[0]))"
   ]
  },
  {
   "cell_type": "markdown",
   "metadata": {
    "_uuid": "96f104e3c40027fe13422453e351c58f201beb86",
    "id": "8Err0vbDBFTP"
   },
   "source": [
    "## 5. Build the model"
   ]
  },
  {
   "cell_type": "markdown",
   "metadata": {
    "id": "Ikjk0mFsBFTP"
   },
   "source": [
    "- Construct a model using the Embedding layer"
   ]
  },
  {
   "cell_type": "markdown",
   "metadata": {
    "id": "i6Wa6wGdBFTQ"
   },
   "source": [
    "![image.png](attachment:image.png)"
   ]
  },
  {
   "cell_type": "code",
   "execution_count": 14,
   "metadata": {
    "id": "ci9VKSdWBFTQ"
   },
   "outputs": [],
   "source": [
    "embedding_dim = 128"
   ]
  },
  {
   "cell_type": "markdown",
   "metadata": {
    "_uuid": "ef1165f71d993b14f2c383fff2482805325029d0",
    "id": "0A8DDUknBFTQ"
   },
   "source": [
    "- The first layer is an Embedding layer.\n",
    "- The resulting dimensions are: (batch, sequence, embedding, seq_len)."
   ]
  },
  {
   "cell_type": "code",
   "execution_count": 15,
   "metadata": {
    "id": "FQOGXQHXBFTQ"
   },
   "outputs": [],
   "source": [
    "m1 = Sequential()\n",
    "\n",
    "m1.add(Embedding(vocal_size, embedding_dim, input_length = seq_len))\n",
    "m1.add(SimpleRNN(embedding_dim))               \n",
    "m1.add(Dense(1, activation='sigmoid'))"
   ]
  },
  {
   "cell_type": "code",
   "execution_count": 16,
   "metadata": {
    "id": "q_Dgs1TeBFTR"
   },
   "outputs": [],
   "source": [
    "m2 = Sequential()\n",
    "\n",
    "m2.add(Embedding(vocal_size, embedding_dim, input_length = seq_len))\n",
    "m2.add(Bidirectional(LSTM(embedding_dim)))               \n",
    "m2.add(Dropout(0.2))\n",
    "m2.add(Dense(embedding_dim, activation = 'relu'))\n",
    "m2.add(BatchNormalization())\n",
    "m2.add(Dropout(0.2))\n",
    "m2.add(Dense(1, activation='sigmoid'))"
   ]
  },
  {
   "cell_type": "code",
   "execution_count": 17,
   "metadata": {
    "id": "8--7of9yBFTR"
   },
   "outputs": [],
   "source": [
    "m3 = Sequential()\n",
    "m3.add(Embedding(input_dim = vocal_size, output_dim = embedding_dim, input_length = seq_len))\n",
    "m3.add(Bidirectional(LSTM(embedding_dim, return_sequences = True )))\n",
    "m3.add(Bidirectional(LSTM(embedding_dim)))\n",
    "m3.add(Dense(embedding_dim, activation = 'relu'))\n",
    "m3.add(Dropout(0.5))\n",
    "m3.add(Dense(1, activation = 'sigmoid'))"
   ]
  },
  {
   "cell_type": "code",
   "execution_count": 18,
   "metadata": {
    "colab": {
     "base_uri": "https://localhost:8080/",
     "height": 422
    },
    "id": "qnGRh2GLBFTR",
    "outputId": "a82fa292-3c86-469c-a466-30e7f96e9481",
    "scrolled": false
   },
   "outputs": [
    {
     "data": {
      "image/png": "[encoded data removed]",
      "text/plain": [
       "<IPython.core.display.Image object>"
      ]
     },
     "execution_count": 18,
     "metadata": {},
     "output_type": "execute_result"
    }
   ],
   "source": [
    "model = m1; plot_model(model, show_shapes=True)"
   ]
  },
  {
   "cell_type": "code",
   "execution_count": 19,
   "metadata": {
    "id": "fRZ6VtWABFTS"
   },
   "outputs": [],
   "source": [
    "#model = m2; plot_model(model, show_shapes=True)"
   ]
  },
  {
   "cell_type": "code",
   "execution_count": 20,
   "metadata": {
    "id": "bYucdGceBFTS"
   },
   "outputs": [],
   "source": [
    "#model = m3; plot_model(model, show_shapes=True)"
   ]
  },
  {
   "cell_type": "code",
   "execution_count": 21,
   "metadata": {
    "id": "iNvK2lxkBFTS"
   },
   "outputs": [],
   "source": [
    "model = m1"
   ]
  },
  {
   "cell_type": "code",
   "execution_count": 22,
   "metadata": {
    "_uuid": "6eed0a4d82bcee419e9a7203041d7c4b4e1b0554",
    "id": "ZVWyxjyEBFTT"
   },
   "outputs": [],
   "source": [
    "model.compile(optimizer='adam',\n",
    "              loss='binary_crossentropy',\n",
    "              metrics=['acc'])"
   ]
  },
  {
   "cell_type": "code",
   "execution_count": 23,
   "metadata": {
    "colab": {
     "base_uri": "https://localhost:8080/"
    },
    "id": "ckPXNcyMBFTT",
    "outputId": "9f225e7c-8898-4297-f572-294396452b1f"
   },
   "outputs": [
    {
     "data": {
      "text/plain": [
       "((25000, 256), (25000,))"
      ]
     },
     "execution_count": 23,
     "metadata": {},
     "output_type": "execute_result"
    }
   ],
   "source": [
    "X_train.shape, y_train.shape"
   ]
  },
  {
   "cell_type": "code",
   "execution_count": 24,
   "metadata": {
    "id": "gppNRnssBFTT"
   },
   "outputs": [],
   "source": [
    "num_small = 10000\n",
    "\n",
    "pX_train = X_train[num_small:]\n",
    "py_train = y_train[num_small:]\n",
    "\n",
    "x_val = X_train[:num_small]\n",
    "y_val = y_train[:num_small]"
   ]
  },
  {
   "cell_type": "code",
   "execution_count": 25,
   "metadata": {
    "colab": {
     "base_uri": "https://localhost:8080/"
    },
    "id": "st1pBG4YB_TW",
    "outputId": "3c3463ae-bd5d-4ccb-87b2-e8ca0f36965c"
   },
   "outputs": [
    {
     "name": "stdout",
     "output_type": "stream",
     "text": [
      "(10000, 256) (10000,)\n",
      "(15000, 256) (15000,)\n"
     ]
    }
   ],
   "source": [
    "print(x_val.shape, y_val.shape)\n",
    "print(pX_train.shape, py_train.shape)"
   ]
  },
  {
   "cell_type": "markdown",
   "metadata": {
    "_uuid": "b722719bac464450b269b14aa0aa5ecbc4957c9d",
    "id": "_aeox79pBFTT"
   },
   "source": [
    "## 6. Train the model"
   ]
  },
  {
   "cell_type": "markdown",
   "metadata": {
    "id": "tJa0ze-EBFTT"
   },
   "source": [
    "Colab: Elapsed 2933.763 seconds."
   ]
  },
  {
   "cell_type": "code",
   "execution_count": 26,
   "metadata": {
    "_uuid": "7b96432dfced6becf80d0efdc5b92c20af0aa366",
    "colab": {
     "base_uri": "https://localhost:8080/"
    },
    "id": "koNB_md4BFTU",
    "outputId": "89415722-1ff1-483a-b84d-3bac64eadecb"
   },
   "outputs": [
    {
     "name": "stdout",
     "output_type": "stream",
     "text": [
      "Epoch 1/10\n",
      "WARNING:tensorflow:AutoGraph could not transform <function Model.make_train_function.<locals>.train_function at 0x0000018FC014B8B8> and will run it as-is.\n",
      "Please report this to the TensorFlow team. When filing the bug, set the verbosity to 10 (on Linux, `export AUTOGRAPH_VERBOSITY=10`) and attach the full output.\n",
      "Cause: 'arguments' object has no attribute 'posonlyargs'\n",
      "To silence this warning, decorate the function with @tf.autograph.experimental.do_not_convert\n",
      "WARNING: AutoGraph could not transform <function Model.make_train_function.<locals>.train_function at 0x0000018FC014B8B8> and will run it as-is.\n",
      "Please report this to the TensorFlow team. When filing the bug, set the verbosity to 10 (on Linux, `export AUTOGRAPH_VERBOSITY=10`) and attach the full output.\n",
      "Cause: 'arguments' object has no attribute 'posonlyargs'\n",
      "To silence this warning, decorate the function with @tf.autograph.experimental.do_not_convert\n",
      "391/391 [==============================] - ETA: 0s - loss: 0.6829 - acc: 0.5601WARNING:tensorflow:AutoGraph could not transform <function Model.make_test_function.<locals>.test_function at 0x0000018FB0F161F8> and will run it as-is.\n",
      "Please report this to the TensorFlow team. When filing the bug, set the verbosity to 10 (on Linux, `export AUTOGRAPH_VERBOSITY=10`) and attach the full output.\n",
      "Cause: 'arguments' object has no attribute 'posonlyargs'\n",
      "To silence this warning, decorate the function with @tf.autograph.experimental.do_not_convert\n",
      "WARNING: AutoGraph could not transform <function Model.make_test_function.<locals>.test_function at 0x0000018FB0F161F8> and will run it as-is.\n",
      "Please report this to the TensorFlow team. When filing the bug, set the verbosity to 10 (on Linux, `export AUTOGRAPH_VERBOSITY=10`) and attach the full output.\n",
      "Cause: 'arguments' object has no attribute 'posonlyargs'\n",
      "To silence this warning, decorate the function with @tf.autograph.experimental.do_not_convert\n",
      "391/391 [==============================] - 293s 746ms/step - loss: 0.6829 - acc: 0.5601 - val_loss: 0.6220 - val_acc: 0.6896\n",
      "Epoch 2/10\n",
      "391/391 [==============================] - 294s 753ms/step - loss: 0.5594 - acc: 0.7155 - val_loss: 0.6289 - val_acc: 0.6076\n",
      "Epoch 3/10\n",
      "391/391 [==============================] - 298s 762ms/step - loss: 0.5697 - acc: 0.7048 - val_loss: 0.5049 - val_acc: 0.7496\n",
      "Epoch 4/10\n",
      "391/391 [==============================] - 295s 755ms/step - loss: 0.4769 - acc: 0.7690 - val_loss: 0.3726 - val_acc: 0.8418\n",
      "Epoch 5/10\n",
      "391/391 [==============================] - 294s 753ms/step - loss: 0.4037 - acc: 0.8231 - val_loss: 0.3475 - val_acc: 0.8663\n",
      "Epoch 6/10\n",
      "391/391 [==============================] - 291s 745ms/step - loss: 0.3452 - acc: 0.8565 - val_loss: 0.2745 - val_acc: 0.8902\n",
      "Epoch 7/10\n",
      "391/391 [==============================] - 290s 743ms/step - loss: 0.2879 - acc: 0.8862 - val_loss: 0.2226 - val_acc: 0.9218\n",
      "Epoch 8/10\n",
      "391/391 [==============================] - 296s 757ms/step - loss: 0.2408 - acc: 0.9102 - val_loss: 0.1882 - val_acc: 0.9374\n",
      "Epoch 9/10\n",
      "391/391 [==============================] - 288s 737ms/step - loss: 0.2267 - acc: 0.9172 - val_loss: 0.1950 - val_acc: 0.9281\n",
      "Epoch 10/10\n",
      "391/391 [==============================] - 293s 748ms/step - loss: 0.2421 - acc: 0.9055 - val_loss: 0.1627 - val_acc: 0.9477\n",
      "============================\n",
      " Elapsed 2933.763 seconds.\n"
     ]
    }
   ],
   "source": [
    "import time\n",
    "start = time.perf_counter()\n",
    "\n",
    "history = model.fit(X_train, y_train, epochs=10, batch_size=64, \n",
    "                    validation_data=(x_val, y_val),\n",
    "                    verbose=1)\n",
    "\n",
    "elapsed = time.perf_counter() - start\n",
    "print('============================\\n Elapsed %.3f seconds.' % elapsed)"
   ]
  },
  {
   "cell_type": "markdown",
   "metadata": {
    "_uuid": "dc1f35cb53acf2315f9a3fcf2ef2875f4683d87f",
    "id": "E93l5W1-BFTU"
   },
   "source": [
    "## 7. Evaluate the model\n"
   ]
  },
  {
   "cell_type": "code",
   "execution_count": 27,
   "metadata": {
    "id": "aofC3bd9BFTU",
    "outputId": "057202b4-aaf1-4e58-9f16-c3f7779c35a6"
   },
   "outputs": [
    {
     "data": {
      "text/plain": [
       "((25000, 256), (25000,))"
      ]
     },
     "execution_count": 27,
     "metadata": {},
     "output_type": "execute_result"
    }
   ],
   "source": [
    "X_test.shape, y_test.shape"
   ]
  },
  {
   "cell_type": "code",
   "execution_count": 28,
   "metadata": {
    "id": "WGah096lBFTU",
    "outputId": "dca943fe-9355-479b-c8c5-051c160819f6"
   },
   "outputs": [
    {
     "name": "stdout",
     "output_type": "stream",
     "text": [
      "782/782 [==============================] - 54s 69ms/step - loss: 0.5326 - acc: 0.7910\n",
      "Test accuracy: 0.7910400032997131\n",
      "Test loss: 0.5326084494590759\n"
     ]
    }
   ],
   "source": [
    "test_loss, test_acurracy = model.evaluate(X_test, y_test)\n",
    "\n",
    "print(\"Test accuracy: {}\".format(test_acurracy))\n",
    "print(\"Test loss: {}\".format(test_loss))"
   ]
  },
  {
   "cell_type": "code",
   "execution_count": 29,
   "metadata": {
    "id": "2pcK_p1bBFTU",
    "outputId": "78e628a6-af61-4d77-b4a3-b5b60fef7652",
    "scrolled": true
   },
   "outputs": [
    {
     "name": "stdout",
     "output_type": "stream",
     "text": [
      "WARNING:tensorflow:AutoGraph could not transform <function Model.make_predict_function.<locals>.predict_function at 0x0000018FAEF523A8> and will run it as-is.\n",
      "Please report this to the TensorFlow team. When filing the bug, set the verbosity to 10 (on Linux, `export AUTOGRAPH_VERBOSITY=10`) and attach the full output.\n",
      "Cause: 'arguments' object has no attribute 'posonlyargs'\n",
      "To silence this warning, decorate the function with @tf.autograph.experimental.do_not_convert\n",
      "WARNING: AutoGraph could not transform <function Model.make_predict_function.<locals>.predict_function at 0x0000018FAEF523A8> and will run it as-is.\n",
      "Please report this to the TensorFlow team. When filing the bug, set the verbosity to 10 (on Linux, `export AUTOGRAPH_VERBOSITY=10`) and attach the full output.\n",
      "Cause: 'arguments' object has no attribute 'posonlyargs'\n",
      "To silence this warning, decorate the function with @tf.autograph.experimental.do_not_convert\n",
      "[[0.95647436]\n",
      " [0.09762806]\n",
      " [0.09510067]\n",
      " [0.9884554 ]\n",
      " [0.08556186]\n",
      " [0.03566658]\n",
      " [0.9776307 ]\n",
      " [0.02483661]\n",
      " [0.9840465 ]\n",
      " [0.05688852]\n",
      " [0.9931352 ]\n",
      " [0.09034158]\n",
      " [0.14482702]\n",
      " [0.01156923]\n",
      " [0.01982516]\n",
      " [0.03456545]\n",
      " [0.9952172 ]\n",
      " [0.6925166 ]\n",
      " [0.05652772]\n",
      " [0.9745355 ]]\n"
     ]
    }
   ],
   "source": [
    "# Generate predictions\n",
    "predictions = model.predict(X_train[0:20])\n",
    "print(predictions)\n"
   ]
  },
  {
   "cell_type": "code",
   "execution_count": 30,
   "metadata": {
    "id": "Qy3Qc8LkBFTV",
    "outputId": "da987d68-6a43-477f-ccbc-15df5a7629df",
    "scrolled": true
   },
   "outputs": [
    {
     "name": "stdout",
     "output_type": "stream",
     "text": [
      "=================================================\n",
      "Sample = 0 | Length = 256\n",
      "=================================================\n",
      "<PAD> <PAD> <PAD> <PAD> <PAD> <PAD> <PAD> <PAD> <PAD> <PAD> <PAD> <PAD> <PAD> <PAD> <PAD> <PAD> <PAD> <PAD> <PAD> <PAD> <PAD> <PAD> <PAD> <PAD> <PAD> <PAD> <PAD> <PAD> <PAD> <PAD> <PAD> <PAD> <PAD> <PAD> <PAD> <PAD> <PAD> <PAD> <PAD> <PAD> <PAD> <PAD> <PAD> <PAD> <PAD> <PAD> <PAD> <PAD> <PAD> <PAD> <PAD> <PAD> <PAD> <PAD> <PAD> <PAD> <PAD> <PAD> <PAD> <PAD> <PAD> <PAD> <PAD> <PAD> <PAD> <PAD> <PAD> <PAD> <PAD> <PAD> <PAD> <PAD> <PAD> <PAD> <PAD> <PAD> <PAD> <PAD> <PAD> <PAD> <PAD> <PAD> <PAD> <PAD> <PAD> <PAD> <PAD> <PAD> <PAD> <PAD> <PAD> <PAD> <PAD> <PAD> <PAD> <PAD> <PAD> <PAD> <PAD> <PAD> <PAD> <PAD> <PAD> <PAD> <PAD> <PAD> <PAD> <PAD> <PAD> <PAD> <PAD> <PAD> <PAD> <PAD> <PAD> <PAD> <PAD> <PAD> <PAD> <PAD> <PAD> <PAD> <PAD> <PAD> <PAD> <PAD> <PAD> <PAD> <PAD> <PAD> <PAD> <PAD> <PAD> <PAD> <PAD> <PAD> <PAD> <PAD> <PAD> <PAD> <PAD> <PAD> <PAD> <PAD> <PAD> <PAD> <PAD> <PAD> <PAD> <PAD> <PAD> <PAD> <PAD> <PAD> <PAD> <PAD> <PAD> <PAD> <PAD> <PAD> <PAD> <PAD> <PAD> <PAD> <PAD> <PAD> <PAD> <PAD> <PAD> <PAD> <PAD> <PAD> <PAD> <PAD> <PAD> <PAD> <PAD> <PAD> <PAD> <PAD> <PAD> <PAD> <PAD> <PAD> <PAD> <PAD> <PAD> <PAD> <START> please give this one a miss br br <UNK> <UNK> and the rest of the cast rendered terrible performances the show is flat flat flat br br i don't know how michael madison could have allowed this one on his plate he almost seemed to know this wasn't going to work out and his performance was quite <UNK> so all you madison fans give this a miss\n",
      "=================================================\n",
      "Sample = 1 | Length = 256\n",
      "=================================================\n",
      "a lot of patience because it focuses on mood and character development the plot is very simple and many of the scenes take place on the same set in frances <UNK> the sandy dennis character apartment but the film builds to a disturbing climax br br the characters create an atmosphere <UNK> with sexual tension and psychological <UNK> it's very interesting that robert altman directed this considering the style and structure of his other films still the trademark altman audio style is evident here and there i think what really makes this film work is the brilliant performance by sandy dennis it's definitely one of her darker characters but she plays it so perfectly and convincingly that it's scary michael burns does a good job as the mute young man regular altman player michael murphy has a small part the <UNK> moody set fits the content of the story very well in short this movie is a powerful study of loneliness sexual <UNK> and desperation be patient <UNK> up the atmosphere and pay attention to the wonderfully written script br br i praise robert altman this is one of his many films that deals with unconventional fascinating subject matter this film is disturbing but it's sincere and it's sure to <UNK> a strong emotional response from the viewer if you want to see an unusual film some might even say bizarre this is worth the time br br unfortunately it's very difficult to find in video stores you may have to buy it off the internet\n"
     ]
    }
   ],
   "source": [
    "for i in range(2):\n",
    "  INDEX_FROM=3   # word index offset\n",
    "  word_to_id = imdb.get_word_index()\n",
    "  word_to_id = {k:(v+INDEX_FROM) for k,v in word_to_id.items()}\n",
    "  word_to_id[\"<PAD>\"] = 0\n",
    "  word_to_id[\"<START>\"] = 1\n",
    "  word_to_id[\"<UNK>\"] = 2\n",
    "  word_to_id[\"<UNUSED>\"] = 3\n",
    "\n",
    "  id_to_word = {value:key for key,value in word_to_id.items()}\n",
    "  print('=================================================')\n",
    "  print(f'Sample = {i} | Length = {len(X_test[i])}')\n",
    "  print('=================================================')\n",
    "  print(' '.join(id_to_word[id] for id in X_test[i] ))\n"
   ]
  },
  {
   "cell_type": "markdown",
   "metadata": {
    "_uuid": "0fc64d43bdd14a6006bddf569ef6734d0d60a7c9",
    "id": "470TSO15BFTV"
   },
   "source": [
    "## 8. Create a graph of accuracy and loss over time\n",
    "\n",
    "- `model.fit()` returns a `History` object that contains a dictionary with everything that happened during training:"
   ]
  },
  {
   "cell_type": "code",
   "execution_count": 31,
   "metadata": {
    "_uuid": "b49022767303692a5b74c80c587395c7e30207fb",
    "id": "P9hnlwd7BFTV",
    "outputId": "dadfe9a6-8234-4d5c-bddf-c0893585db0a"
   },
   "outputs": [
    {
     "data": {
      "text/plain": [
       "dict_keys(['loss', 'acc', 'val_loss', 'val_acc'])"
      ]
     },
     "execution_count": 31,
     "metadata": {},
     "output_type": "execute_result"
    }
   ],
   "source": [
    "history_dict = history.history\n",
    "history_dict.keys()"
   ]
  },
  {
   "cell_type": "markdown",
   "metadata": {
    "_uuid": "f406c646add493f2d7ec1f2a9aa257d499f82f74",
    "id": "0KNfS0jxBFTV"
   },
   "source": [
    "- There are four entries: one for each monitored metric during training and validation. \n",
    "- We can use these to plot the training and validation loss for comparison, as well as the training and validation accuracy:"
   ]
  },
  {
   "cell_type": "code",
   "execution_count": 32,
   "metadata": {
    "_uuid": "b5a4f9172937b694b326a88ccf64d5987b8c5ba2",
    "id": "pPW5rCHmBFTW",
    "outputId": "dddc4890-f0c6-4d09-f617-529eb211b74d",
    "scrolled": true
   },
   "outputs": [
    {
     "data": {
      "image/png": "[encoded data removed]",
      "text/plain": [
       "<Figure size 720x432 with 1 Axes>"
      ]
     },
     "metadata": {
      "needs_background": "light"
     },
     "output_type": "display_data"
    }
   ],
   "source": [
    "plt.figure(figsize=(10, 6))\n",
    "\n",
    "acc = history_dict['acc']\n",
    "val_acc = history_dict['val_acc']\n",
    "loss = history_dict['loss']\n",
    "val_loss = history_dict['val_loss']\n",
    "\n",
    "epochs = range(1, len(acc) + 1)\n",
    "\n",
    "# \"bo\" is for \"blue dot\"\n",
    "plt.plot(epochs, loss, 'bo', label='Training loss')\n",
    "# b is for \"solid blue line\"\n",
    "plt.plot(epochs, val_loss, 'b', label='Validation loss')\n",
    "plt.title('Training and validation loss')\n",
    "plt.xlabel('Epochs')\n",
    "plt.ylabel('Loss')\n",
    "plt.legend()\n",
    "\n",
    "plt.show()"
   ]
  },
  {
   "cell_type": "code",
   "execution_count": 33,
   "metadata": {
    "_uuid": "71ef0cd92f7b5e6db10bb192818c8a316f8cacf3",
    "id": "RWtPArALBFTW",
    "outputId": "d7ad332f-6e90-4118-befe-61a77a25a516",
    "scrolled": false
   },
   "outputs": [
    {
     "data": {
      "image/png": "[encoded data removed]",
      "text/plain": [
       "<Figure size 720x432 with 1 Axes>"
      ]
     },
     "metadata": {
      "needs_background": "light"
     },
     "output_type": "display_data"
    }
   ],
   "source": [
    "#plt.clf()   # clear figure\n",
    "plt.figure(figsize=(10, 6))\n",
    "plt.plot(epochs, acc, 'bo', label='Training acc')\n",
    "plt.plot(epochs, val_acc, 'b', label='Validation acc')\n",
    "plt.title('Training and validation accuracy')\n",
    "plt.xlabel('Epochs')\n",
    "plt.ylabel('Accuracy')\n",
    "plt.legend()\n",
    "\n",
    "plt.show()"
   ]
  },
  {
   "cell_type": "markdown",
   "metadata": {
    "id": "szllsWCZBFTW"
   },
   "source": [
    "## 9. Model Evaluation : ROC Curve"
   ]
  },
  {
   "cell_type": "code",
   "execution_count": 34,
   "metadata": {
    "id": "9Ea5sR8UBFTW"
   },
   "outputs": [],
   "source": [
    "from sklearn.metrics import confusion_matrix\n",
    "from sklearn.metrics import balanced_accuracy_score\n",
    "from sklearn.metrics import roc_curve, auc\n",
    "import matplotlib.pyplot as plt\n",
    "import numpy as np\n",
    "\n",
    "y_hat = model.predict(X_test)\n",
    "\n",
    "# Compute ROC curve and ROC area for each class\n",
    "fpr, tpr, thresholds = roc_curve(y_test, y_hat)\n",
    "roc_auc = auc(fpr, tpr)"
   ]
  },
  {
   "cell_type": "code",
   "execution_count": 35,
   "metadata": {
    "id": "X9F1D3YKBFTX",
    "outputId": "4e386441-b30b-40c5-f8bb-9e26e16dc557"
   },
   "outputs": [
    {
     "data": {
      "image/png": "[encoded data removed]",
      "text/plain": [
       "<Figure size 720x432 with 1 Axes>"
      ]
     },
     "metadata": {
      "needs_background": "light"
     },
     "output_type": "display_data"
    }
   ],
   "source": [
    "fig = plt.figure(figsize=(10,6))\n",
    "plt.plot(fpr, tpr, color='#785ef0', label='ROC curve (AUC = %0.2f)' % roc_auc)\n",
    "plt.plot([0, 1], [0, 1], color='#dc267f', linestyle='--')\n",
    "plt.xlim([0.0, 1.0])\n",
    "plt.ylim([0.0, 1.05])\n",
    "plt.xlabel('False Positive Rate')\n",
    "plt.ylabel('True Positive Rate')\n",
    "plt.title('Receiver Operating Characteristic Curve')\n",
    "plt.legend(loc=\"lower right\")\n",
    "\n",
    "plt.show()"
   ]
  },
  {
   "cell_type": "code",
   "execution_count": 36,
   "metadata": {
    "id": "iWI2fDAGBFTX",
    "outputId": "f9da5784-f9ca-468f-a770-fcffda3dacf0",
    "scrolled": true
   },
   "outputs": [
    {
     "name": "stdout",
     "output_type": "stream",
     "text": [
      "Threshold value is: 0.59686714\n",
      "Balanced Accuracy Score: 0.79244\n",
      "[[9972 2528]\n",
      " [2661 9839]]\n"
     ]
    }
   ],
   "source": [
    "optimal_idx = np.argmax(tpr - fpr)\n",
    "optimal_threshold = thresholds[optimal_idx]\n",
    "print(\"Threshold value is:\", optimal_threshold)\n",
    "y_pred = np.where(y_hat>=optimal_threshold, 1, 0)\n",
    "print('Balanced Accuracy Score:',balanced_accuracy_score(y_test, y_pred))\n",
    "print(confusion_matrix(y_test, y_pred))"
   ]
  },
  {
   "cell_type": "markdown",
   "metadata": {
    "id": "MJSPVypMBFTX"
   },
   "source": [
    "# Model M3: Stack two or more LSTM layers"
   ]
  },
  {
   "cell_type": "markdown",
   "metadata": {
    "id": "ecqDk9d8BFTX"
   },
   "source": [
    "### return_sequence : True or False \n",
    "return_sequence = False:\n",
    "- It returns only the last output for each input sequence (a 2D tensor of shape (batch_size, output_features)). \n",
    "\n",
    "return_sequence = True:\n",
    "- the full sequences of successive outputs for each timestep is returned (a 3D tensor of shape (batch_size, timesteps, output_features))."
   ]
  },
  {
   "cell_type": "markdown",
   "metadata": {
    "id": "oZ0Lx_v5BFTX"
   },
   "source": [
    "![image.png](attachment:image.png)"
   ]
  }
 ],
 "metadata": {
  "accelerator": "GPU",
  "colab": {
   "name": "lab12-text-classification-imdb-lstm.ipynb",
   "provenance": []
  },
  "kernelspec": {
   "display_name": "tf2.7",
   "language": "python",
   "name": "myvenv"
  },
  "language_info": {
   "codemirror_mode": {
    "name": "ipython",
    "version": 3
   },
   "file_extension": ".py",
   "mimetype": "text/x-python",
   "name": "python",
   "nbconvert_exporter": "python",
   "pygments_lexer": "ipython3",
   "version": "3.7.6"
  }
 },
 "nbformat": 4,
 "nbformat_minor": 1
}
