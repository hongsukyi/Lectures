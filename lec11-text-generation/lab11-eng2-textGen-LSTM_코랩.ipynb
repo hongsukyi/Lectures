{
  "nbformat": 4,
  "nbformat_minor": 5,
  "metadata": {
    "kernelspec": {
      "display_name": "tf-cpu",
      "language": "python",
      "name": "tf-cpu"
    },
    "language_info": {
      "codemirror_mode": {
        "name": "ipython",
        "version": 3
      },
      "file_extension": ".py",
      "mimetype": "text/x-python",
      "name": "python",
      "nbconvert_exporter": "python",
      "pygments_lexer": "ipython3",
      "version": "3.8.0"
    },
    "colab": {
      "name": "lab11-eng2-textGen-LSTM.ipynb",
      "provenance": []
    },
    "accelerator": "GPU"
  },
  "cells": [
    {
      "cell_type": "markdown",
      "metadata": {
        "id": "e8a17e33"
      },
      "source": [
        "# Lab 10.Eng2 \n",
        "## Text Generation through Bidirectional LSTM model"
      ],
      "id": "e8a17e33"
    },
    {
      "cell_type": "markdown",
      "metadata": {
        "id": "ca244fe9"
      },
      "source": [
        "<table class=\"tfo-notebook-buttons\" align=\"left\">\n",
        "   <td>\n",
        "    <a target=\"_blank\" href=\"https://colab.research.google.com/github.com/hongsukyi/rnn-nlp-lectures/blob/main/lec11-text-generation/lab11-eng2-textGen-LSTM2.ipynb\"><img src=\"https://www.tensorflow.org/images/colab_logo_32px.png\" />Run in Google Colab</a>\n",
        "  </td>\n",
        "</table>\n",
        "\n"
      ],
      "id": "ca244fe9"
    },
    {
      "cell_type": "markdown",
      "metadata": {
        "id": "a023672e"
      },
      "source": [
        "## 1) Bidirectional LSTMs"
      ],
      "id": "a023672e"
    },
    {
      "cell_type": "markdown",
      "metadata": {
        "id": "044ddb3c"
      },
      "source": [
        "Bidirectional LSTMs are an extension of traditional LSTMs that can improve model performance on sequence classification problems. \n",
        "\n",
        "They train the model forward and backward on the same input (so for 1 layer LSTM we get 2 hidden and cell states)\n",
        "- First from left to right on the input sequence and the second in reversed order of the input sequence. "
      ],
      "id": "044ddb3c"
    },
    {
      "cell_type": "markdown",
      "metadata": {
        "id": "36a3508d"
      },
      "source": [
        "### Now let’s see how to implement this model in text generation.\n",
        "\n",
        "Import the following libraries:"
      ],
      "id": "36a3508d"
    },
    {
      "cell_type": "code",
      "metadata": {
        "id": "345b0dc6"
      },
      "source": [
        "import numpy as np\n",
        "import tensorflow as tf\n",
        "\n",
        "from tensorflow.keras.preprocessing.sequence import pad_sequences\n",
        "from tensorflow.keras.layers import Embedding, LSTM, Dense, GRU, Bidirectional\n",
        "from tensorflow.keras.preprocessing.text import Tokenizer\n",
        "from tensorflow.keras.models import Sequential\n",
        "from tensorflow.keras.optimizers import Adam\n",
        "from tensorflow.keras import regularizers\n",
        "from tensorflow.keras.utils import to_categorical, plot_model\n"
      ],
      "id": "345b0dc6",
      "execution_count": 2,
      "outputs": []
    },
    {
      "cell_type": "code",
      "metadata": {
        "id": "1zwOxg1ddHgh",
        "outputId": "b706ce61-b445-4d0d-e2b0-4c5639547837",
        "colab": {
          "base_uri": "https://localhost:8080/"
        }
      },
      "source": [
        "print(tf.__version__)"
      ],
      "id": "1zwOxg1ddHgh",
      "execution_count": 5,
      "outputs": [
        {
          "output_type": "stream",
          "name": "stdout",
          "text": [
            "2.7.0\n"
          ]
        }
      ]
    },
    {
      "cell_type": "markdown",
      "metadata": {
        "id": "83d027d4"
      },
      "source": [
        "## 2) Text pre-processing"
      ],
      "id": "83d027d4"
    },
    {
      "cell_type": "markdown",
      "metadata": {
        "id": "8ec36854"
      },
      "source": [
        "- In this, the whole text is cleaned and converted to lower case and the whole corpus of sentences are joined. \n",
        "- Words are then tokenized"
      ],
      "id": "8ec36854"
    },
    {
      "cell_type": "code",
      "metadata": {
        "id": "1f06d90f"
      },
      "source": [
        "tokenizer = Tokenizer()"
      ],
      "id": "1f06d90f",
      "execution_count": 3,
      "outputs": []
    },
    {
      "cell_type": "code",
      "metadata": {
        "id": "nee7lQfKcJNa",
        "outputId": "cca67293-1bfc-4f8a-fb22-967f3465eb56",
        "colab": {
          "resources": {
            "http://localhost:8080/nbextensions/google.colab/files.js": {
              "data": "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",
              "ok": true,
              "headers": [
                [
                  "content-type",
                  "application/javascript"
                ]
              ],
              "status": 200,
              "status_text": "OK"
            }
          },
          "base_uri": "https://localhost:8080/",
          "height": 76
        }
      },
      "source": [
        "# Colab에서 데이터 파일 읽기\n",
        "\n",
        "from google.colab import files \n",
        "myfile = files.upload()"
      ],
      "id": "nee7lQfKcJNa",
      "execution_count": 6,
      "outputs": [
        {
          "output_type": "display_data",
          "data": {
            "text/html": [
              "\n",
              "     <input type=\"file\" id=\"files-c7b16559-aa91-47d4-8709-2e860dd18850\" name=\"files[]\" multiple disabled\n",
              "        style=\"border:none\" />\n",
              "     <output id=\"result-c7b16559-aa91-47d4-8709-2e860dd18850\">\n",
              "      Upload widget is only available when the cell has been executed in the\n",
              "      current browser session. Please rerun this cell to enable.\n",
              "      </output>\n",
              "      <script src=\"/nbextensions/google.colab/files.js\"></script> "
            ],
            "text/plain": [
              "<IPython.core.display.HTML object>"
            ]
          },
          "metadata": {}
        },
        {
          "output_type": "stream",
          "name": "stdout",
          "text": [
            "Saving tiny-shakespeare.txt to tiny-shakespeare.txt\n"
          ]
        }
      ]
    },
    {
      "cell_type": "code",
      "metadata": {
        "id": "4PeUzvAScTM8"
      },
      "source": [
        "data = open('./tiny-shakespeare.txt').read()"
      ],
      "id": "4PeUzvAScTM8",
      "execution_count": 7,
      "outputs": []
    },
    {
      "cell_type": "code",
      "metadata": {
        "colab": {
          "base_uri": "https://localhost:8080/"
        },
        "id": "ea835146",
        "outputId": "eb85b34b-10b6-42f4-aa71-f13ee4e272ea"
      },
      "source": [
        "len(data)"
      ],
      "id": "ea835146",
      "execution_count": 8,
      "outputs": [
        {
          "output_type": "execute_result",
          "data": {
            "text/plain": [
              "1115394"
            ]
          },
          "metadata": {},
          "execution_count": 8
        }
      ]
    },
    {
      "cell_type": "code",
      "metadata": {
        "id": "f128de71"
      },
      "source": [
        "data=data[:10000]"
      ],
      "id": "f128de71",
      "execution_count": 9,
      "outputs": []
    },
    {
      "cell_type": "code",
      "metadata": {
        "id": "0e9af69c"
      },
      "source": [
        "corpus = data.lower().split(\"\\n\")\n",
        "tokenizer.fit_on_texts(corpus)\n",
        "print(tokenizer.word_index)"
      ],
      "id": "0e9af69c",
      "execution_count": null,
      "outputs": []
    },
    {
      "cell_type": "code",
      "metadata": {
        "id": "63e0da8f"
      },
      "source": [
        "print(corpus[:15])"
      ],
      "id": "63e0da8f",
      "execution_count": null,
      "outputs": []
    },
    {
      "cell_type": "code",
      "metadata": {
        "scrolled": true,
        "colab": {
          "base_uri": "https://localhost:8080/"
        },
        "id": "ff1e36c3",
        "outputId": "257f9eb1-641d-4a28-d2f8-37c813cdea8b"
      },
      "source": [
        "total_words = len(tokenizer.word_index) + 1\n",
        "print('total_words=',total_words)"
      ],
      "id": "ff1e36c3",
      "execution_count": 11,
      "outputs": [
        {
          "output_type": "stream",
          "name": "stdout",
          "text": [
            "total_words= 672\n"
          ]
        }
      ]
    },
    {
      "cell_type": "markdown",
      "metadata": {
        "id": "d2d66888"
      },
      "source": [
        "## 3) Creating Sequences\n",
        "\n",
        "For each word, an n-gram sequence is made and input sequences are updated. It happens in the iteration for the next word and so on.\n",
        "\n",
        "- For example, in the sentence below first 'He’ was extracted out then, ‘He was ’ was extracted, and then ‘He was walking ’ was extracted, and so on."
      ],
      "id": "d2d66888"
    },
    {
      "cell_type": "markdown",
      "metadata": {
        "id": "9f36ef11"
      },
      "source": [
        "![image.png](attachment:image.png)"
      ],
      "id": "9f36ef11"
    },
    {
      "cell_type": "markdown",
      "metadata": {
        "id": "7b0d9f70"
      },
      "source": [
        "![image.png](attachment:image.png)"
      ],
      "id": "7b0d9f70"
    },
    {
      "cell_type": "code",
      "metadata": {
        "id": "92e5a746"
      },
      "source": [
        "# create input sequences using list of tokens\n",
        "input_sequences = []\n",
        "for line in corpus:\n",
        "    token_list = tokenizer.texts_to_sequences([line])[0]\n",
        "    for i in range(1, len(token_list)):\n",
        "        n_gram_sequence = token_list[:i+1]\n",
        "        input_sequences.append(n_gram_sequence)        "
      ],
      "id": "92e5a746",
      "execution_count": 12,
      "outputs": []
    },
    {
      "cell_type": "markdown",
      "metadata": {
        "id": "892649c1"
      },
      "source": [
        "### Padding sequences"
      ],
      "id": "892649c1"
    },
    {
      "cell_type": "markdown",
      "metadata": {
        "id": "a701d433"
      },
      "source": [
        "- The maximum length of the sentence is extracted and then the rest of the sentences are pre-padded as per the longest sentence."
      ],
      "id": "a701d433"
    },
    {
      "cell_type": "code",
      "metadata": {
        "id": "7e2455d8"
      },
      "source": [
        "# pad sequences \n",
        "max_sequence_len = max([len(x) for x in input_sequences])\n",
        "input_sequences = np.array(pad_sequences(input_sequences, \n",
        "                                         maxlen=max_sequence_len, \n",
        "                                         padding='pre'))"
      ],
      "id": "7e2455d8",
      "execution_count": 13,
      "outputs": []
    },
    {
      "cell_type": "code",
      "metadata": {
        "colab": {
          "base_uri": "https://localhost:8080/"
        },
        "id": "0355b373",
        "outputId": "a8fd9b0a-3c19-4580-faba-f8b0ef929a38"
      },
      "source": [
        "print('max_len', max_sequence_len)\n",
        "print('total-words',total_words)"
      ],
      "id": "0355b373",
      "execution_count": 14,
      "outputs": [
        {
          "output_type": "stream",
          "name": "stdout",
          "text": [
            "max_len 12\n",
            "total-words 672\n"
          ]
        }
      ]
    },
    {
      "cell_type": "markdown",
      "metadata": {
        "id": "19fe6515"
      },
      "source": [
        "### Label\n",
        "Extract the last word of sequence and convert it to categorical from numerical."
      ],
      "id": "19fe6515"
    },
    {
      "cell_type": "code",
      "metadata": {
        "id": "a3e227ab"
      },
      "source": [
        "# create predictors and label\n",
        "predictors, label = input_sequences[:,:-1],input_sequences[:,-1]\n",
        "\n",
        "label = to_categorical(label, num_classes=total_words)"
      ],
      "id": "a3e227ab",
      "execution_count": 15,
      "outputs": []
    },
    {
      "cell_type": "markdown",
      "metadata": {
        "id": "54a12be2"
      },
      "source": [
        "## 4) Bidirectional LSTM Model\n",
        "- Let’s make a sequential model now with the first layer as the word embedding layer.\n",
        "- __'return_sequence'__ is marked as __True__ so that the word generation keeps in consideration, previous and even the words coming ahead in the sequence.\n",
        "\n",
        "- The output layer has softmax so as to get the probability of the word to be predicted next."
      ],
      "id": "54a12be2"
    },
    {
      "cell_type": "code",
      "metadata": {
        "id": "58bfe130"
      },
      "source": [
        "model = Sequential()\n",
        "model.add(Embedding(total_words, 100, input_length=max_sequence_len-1))\n",
        "model.add(Bidirectional(LSTM(150, return_sequences = True)))\n",
        "model.add(LSTM(100))\n",
        "model.add(Dense(total_words/2, activation='relu' ))\n",
        "model.add(Dense(total_words, activation='softmax'))"
      ],
      "id": "58bfe130",
      "execution_count": 16,
      "outputs": []
    },
    {
      "cell_type": "code",
      "metadata": {
        "scrolled": true,
        "colab": {
          "base_uri": "https://localhost:8080/"
        },
        "id": "9c90ffd6",
        "outputId": "4e16780c-7b56-46f4-a739-3dd27ee9ed0b"
      },
      "source": [
        "print(model.summary())"
      ],
      "id": "9c90ffd6",
      "execution_count": 17,
      "outputs": [
        {
          "output_type": "stream",
          "name": "stdout",
          "text": [
            "Model: \"sequential\"\n",
            "_________________________________________________________________\n",
            " Layer (type)                Output Shape              Param #   \n",
            "=================================================================\n",
            " embedding (Embedding)       (None, 11, 100)           67200     \n",
            "                                                                 \n",
            " bidirectional (Bidirectiona  (None, 11, 300)          301200    \n",
            " l)                                                              \n",
            "                                                                 \n",
            " lstm_1 (LSTM)               (None, 100)               160400    \n",
            "                                                                 \n",
            " dense (Dense)               (None, 336)               33936     \n",
            "                                                                 \n",
            " dense_1 (Dense)             (None, 672)               226464    \n",
            "                                                                 \n",
            "=================================================================\n",
            "Total params: 789,200\n",
            "Trainable params: 789,200\n",
            "Non-trainable params: 0\n",
            "_________________________________________________________________\n",
            "None\n"
          ]
        }
      ]
    },
    {
      "cell_type": "code",
      "metadata": {
        "colab": {
          "base_uri": "https://localhost:8080/",
          "height": 644
        },
        "id": "c9e29573",
        "outputId": "9e6e173c-ca5b-4fd5-c062-d4999a1b071f"
      },
      "source": [
        "plot_model(model, './fig_lab10_eng2.png', show_shapes=True)"
      ],
      "id": "c9e29573",
      "execution_count": 18,
      "outputs": [
        {
          "output_type": "execute_result",
          "data": {
            "image/png": "[encoded data removed]",
            "text/plain": [
              "<IPython.core.display.Image object>"
            ]
          },
          "metadata": {},
          "execution_count": 18
        }
      ]
    },
    {
      "cell_type": "code",
      "metadata": {
        "id": "8a1d54ed"
      },
      "source": [
        "model.compile(loss='categorical_crossentropy', \n",
        "              optimizer='adam', \n",
        "              metrics=['accuracy'])"
      ],
      "id": "8a1d54ed",
      "execution_count": 19,
      "outputs": []
    },
    {
      "cell_type": "code",
      "metadata": {
        "id": "e80393de"
      },
      "source": [
        "import time\n",
        "start = time.perf_counter()"
      ],
      "id": "e80393de",
      "execution_count": null,
      "outputs": []
    },
    {
      "cell_type": "markdown",
      "metadata": {
        "id": "7975e577"
      },
      "source": [
        "The Elapse time for a single CPU is for 100 epochs:: \n",
        " Elapsed 230.794 seconds."
      ],
      "id": "7975e577"
    },
    {
      "cell_type": "code",
      "metadata": {
        "colab": {
          "base_uri": "https://localhost:8080/"
        },
        "id": "1f4f3f03",
        "outputId": "01ffe0d7-4725-4dd7-f8f0-6b71faf476a5"
      },
      "source": [
        "import time\n",
        "start = time.perf_counter()\n",
        "history = model.fit(predictors, label, epochs=100, verbose=1)\n",
        "elapsed = time.perf_counter() - start\n",
        "print('============================\\n Elapsed %.3f seconds.' % elapsed)"
      ],
      "id": "1f4f3f03",
      "execution_count": 22,
      "outputs": [
        {
          "output_type": "stream",
          "name": "stdout",
          "text": [
            "Epoch 1/100\n",
            "47/47 [==============================] - 1s 21ms/step - loss: 6.2476 - accuracy: 0.0552\n",
            "Epoch 2/100\n",
            "47/47 [==============================] - 1s 20ms/step - loss: 5.8537 - accuracy: 0.0585\n",
            "Epoch 3/100\n",
            "47/47 [==============================] - 1s 21ms/step - loss: 5.7601 - accuracy: 0.0578\n",
            "Epoch 4/100\n",
            "47/47 [==============================] - 1s 20ms/step - loss: 5.5926 - accuracy: 0.0632\n",
            "Epoch 5/100\n",
            "47/47 [==============================] - 1s 20ms/step - loss: 5.4405 - accuracy: 0.0791\n",
            "Epoch 6/100\n",
            "47/47 [==============================] - 1s 21ms/step - loss: 5.3015 - accuracy: 0.0751\n",
            "Epoch 7/100\n",
            "47/47 [==============================] - 1s 21ms/step - loss: 5.1810 - accuracy: 0.0811\n",
            "Epoch 8/100\n",
            "47/47 [==============================] - 1s 21ms/step - loss: 5.0729 - accuracy: 0.0818\n",
            "Epoch 9/100\n",
            "47/47 [==============================] - 1s 21ms/step - loss: 4.9701 - accuracy: 0.0891\n",
            "Epoch 10/100\n",
            "47/47 [==============================] - 1s 21ms/step - loss: 4.8093 - accuracy: 0.0884\n",
            "Epoch 11/100\n",
            "47/47 [==============================] - 1s 20ms/step - loss: 4.6554 - accuracy: 0.0951\n",
            "Epoch 12/100\n",
            "47/47 [==============================] - 1s 20ms/step - loss: 4.4787 - accuracy: 0.0951\n",
            "Epoch 13/100\n",
            "47/47 [==============================] - 1s 20ms/step - loss: 4.3340 - accuracy: 0.0951\n",
            "Epoch 14/100\n",
            "47/47 [==============================] - 1s 21ms/step - loss: 4.1805 - accuracy: 0.1057\n",
            "Epoch 15/100\n",
            "47/47 [==============================] - 1s 20ms/step - loss: 3.9709 - accuracy: 0.1217\n",
            "Epoch 16/100\n",
            "47/47 [==============================] - 1s 21ms/step - loss: 3.8107 - accuracy: 0.1310\n",
            "Epoch 17/100\n",
            "47/47 [==============================] - 1s 21ms/step - loss: 3.6531 - accuracy: 0.1376\n",
            "Epoch 18/100\n",
            "47/47 [==============================] - 1s 21ms/step - loss: 3.4870 - accuracy: 0.1503\n",
            "Epoch 19/100\n",
            "47/47 [==============================] - 1s 21ms/step - loss: 3.3207 - accuracy: 0.1775\n",
            "Epoch 20/100\n",
            "47/47 [==============================] - 1s 21ms/step - loss: 3.1529 - accuracy: 0.1855\n",
            "Epoch 21/100\n",
            "47/47 [==============================] - 1s 21ms/step - loss: 2.9639 - accuracy: 0.2334\n",
            "Epoch 22/100\n",
            "47/47 [==============================] - 1s 21ms/step - loss: 2.8075 - accuracy: 0.2666\n",
            "Epoch 23/100\n",
            "47/47 [==============================] - 1s 20ms/step - loss: 2.6679 - accuracy: 0.2806\n",
            "Epoch 24/100\n",
            "47/47 [==============================] - 1s 21ms/step - loss: 2.5697 - accuracy: 0.3198\n",
            "Epoch 25/100\n",
            "47/47 [==============================] - 1s 21ms/step - loss: 2.3526 - accuracy: 0.3777\n",
            "Epoch 26/100\n",
            "47/47 [==============================] - 1s 21ms/step - loss: 2.1488 - accuracy: 0.4275\n",
            "Epoch 27/100\n",
            "47/47 [==============================] - 1s 21ms/step - loss: 2.0138 - accuracy: 0.4714\n",
            "Epoch 28/100\n",
            "47/47 [==============================] - 1s 20ms/step - loss: 1.8900 - accuracy: 0.4914\n",
            "Epoch 29/100\n",
            "47/47 [==============================] - 1s 21ms/step - loss: 1.7221 - accuracy: 0.5359\n",
            "Epoch 30/100\n",
            "47/47 [==============================] - 1s 20ms/step - loss: 1.6284 - accuracy: 0.5658\n",
            "Epoch 31/100\n",
            "47/47 [==============================] - 1s 21ms/step - loss: 1.4694 - accuracy: 0.6057\n",
            "Epoch 32/100\n",
            "47/47 [==============================] - 1s 20ms/step - loss: 1.3386 - accuracy: 0.6662\n",
            "Epoch 33/100\n",
            "47/47 [==============================] - 1s 21ms/step - loss: 1.2407 - accuracy: 0.6802\n",
            "Epoch 34/100\n",
            "47/47 [==============================] - 1s 21ms/step - loss: 1.1446 - accuracy: 0.6981\n",
            "Epoch 35/100\n",
            "47/47 [==============================] - 1s 21ms/step - loss: 1.0552 - accuracy: 0.7274\n",
            "Epoch 36/100\n",
            "47/47 [==============================] - 1s 21ms/step - loss: 0.9455 - accuracy: 0.7640\n",
            "Epoch 37/100\n",
            "47/47 [==============================] - 1s 21ms/step - loss: 0.8879 - accuracy: 0.7766\n",
            "Epoch 38/100\n",
            "47/47 [==============================] - 1s 21ms/step - loss: 0.8302 - accuracy: 0.7866\n",
            "Epoch 39/100\n",
            "47/47 [==============================] - 1s 21ms/step - loss: 0.7779 - accuracy: 0.7932\n",
            "Epoch 40/100\n",
            "47/47 [==============================] - 1s 21ms/step - loss: 0.7126 - accuracy: 0.8238\n",
            "Epoch 41/100\n",
            "47/47 [==============================] - 1s 20ms/step - loss: 0.6837 - accuracy: 0.8258\n",
            "Epoch 42/100\n",
            "47/47 [==============================] - 1s 21ms/step - loss: 0.6240 - accuracy: 0.8404\n",
            "Epoch 43/100\n",
            "47/47 [==============================] - 1s 20ms/step - loss: 0.5987 - accuracy: 0.8431\n",
            "Epoch 44/100\n",
            "47/47 [==============================] - 1s 20ms/step - loss: 0.5747 - accuracy: 0.8564\n",
            "Epoch 45/100\n",
            "47/47 [==============================] - 1s 21ms/step - loss: 0.5360 - accuracy: 0.8644\n",
            "Epoch 46/100\n",
            "47/47 [==============================] - 1s 21ms/step - loss: 0.5370 - accuracy: 0.8650\n",
            "Epoch 47/100\n",
            "47/47 [==============================] - 1s 20ms/step - loss: 0.5227 - accuracy: 0.8610\n",
            "Epoch 48/100\n",
            "47/47 [==============================] - 1s 21ms/step - loss: 0.5686 - accuracy: 0.8491\n",
            "Epoch 49/100\n",
            "47/47 [==============================] - 1s 21ms/step - loss: 0.5712 - accuracy: 0.8444\n",
            "Epoch 50/100\n",
            "47/47 [==============================] - 1s 21ms/step - loss: 0.5453 - accuracy: 0.8537\n",
            "Epoch 51/100\n",
            "47/47 [==============================] - 1s 21ms/step - loss: 0.5412 - accuracy: 0.8497\n",
            "Epoch 52/100\n",
            "47/47 [==============================] - 1s 21ms/step - loss: 0.5035 - accuracy: 0.8597\n",
            "Epoch 53/100\n",
            "47/47 [==============================] - 1s 20ms/step - loss: 0.5033 - accuracy: 0.8590\n",
            "Epoch 54/100\n",
            "47/47 [==============================] - 1s 20ms/step - loss: 0.4651 - accuracy: 0.8810\n",
            "Epoch 55/100\n",
            "47/47 [==============================] - 1s 20ms/step - loss: 0.4035 - accuracy: 0.8890\n",
            "Epoch 56/100\n",
            "47/47 [==============================] - 1s 20ms/step - loss: 0.3582 - accuracy: 0.9023\n",
            "Epoch 57/100\n",
            "47/47 [==============================] - 1s 20ms/step - loss: 0.3347 - accuracy: 0.9003\n",
            "Epoch 58/100\n",
            "47/47 [==============================] - 1s 21ms/step - loss: 0.3103 - accuracy: 0.9062\n",
            "Epoch 59/100\n",
            "47/47 [==============================] - 1s 20ms/step - loss: 0.2907 - accuracy: 0.9142\n",
            "Epoch 60/100\n",
            "47/47 [==============================] - 1s 20ms/step - loss: 0.2879 - accuracy: 0.9122\n",
            "Epoch 61/100\n",
            "47/47 [==============================] - 1s 21ms/step - loss: 0.2735 - accuracy: 0.9169\n",
            "Epoch 62/100\n",
            "47/47 [==============================] - 1s 21ms/step - loss: 0.2728 - accuracy: 0.9162\n",
            "Epoch 63/100\n",
            "47/47 [==============================] - 1s 21ms/step - loss: 0.2703 - accuracy: 0.9109\n",
            "Epoch 64/100\n",
            "47/47 [==============================] - 1s 21ms/step - loss: 0.2629 - accuracy: 0.9136\n",
            "Epoch 65/100\n",
            "47/47 [==============================] - 1s 21ms/step - loss: 0.2620 - accuracy: 0.9149\n",
            "Epoch 66/100\n",
            "47/47 [==============================] - 1s 21ms/step - loss: 0.2528 - accuracy: 0.9156\n",
            "Epoch 67/100\n",
            "47/47 [==============================] - 1s 21ms/step - loss: 0.2542 - accuracy: 0.9169\n",
            "Epoch 68/100\n",
            "47/47 [==============================] - 1s 21ms/step - loss: 0.2533 - accuracy: 0.9122\n",
            "Epoch 69/100\n",
            "47/47 [==============================] - 1s 21ms/step - loss: 0.2464 - accuracy: 0.9182\n",
            "Epoch 70/100\n",
            "47/47 [==============================] - 1s 21ms/step - loss: 0.2444 - accuracy: 0.9176\n",
            "Epoch 71/100\n",
            "47/47 [==============================] - 1s 21ms/step - loss: 0.2458 - accuracy: 0.9142\n",
            "Epoch 72/100\n",
            "47/47 [==============================] - 1s 21ms/step - loss: 0.2471 - accuracy: 0.9176\n",
            "Epoch 73/100\n",
            "47/47 [==============================] - 1s 21ms/step - loss: 0.2475 - accuracy: 0.9129\n",
            "Epoch 74/100\n",
            "47/47 [==============================] - 1s 20ms/step - loss: 0.2423 - accuracy: 0.9136\n",
            "Epoch 75/100\n",
            "47/47 [==============================] - 1s 20ms/step - loss: 0.2816 - accuracy: 0.9102\n",
            "Epoch 76/100\n",
            "47/47 [==============================] - 1s 21ms/step - loss: 0.3676 - accuracy: 0.8850\n",
            "Epoch 77/100\n",
            "47/47 [==============================] - 1s 20ms/step - loss: 0.8830 - accuracy: 0.7307\n",
            "Epoch 78/100\n",
            "47/47 [==============================] - 1s 21ms/step - loss: 1.0030 - accuracy: 0.7015\n",
            "Epoch 79/100\n",
            "47/47 [==============================] - 1s 20ms/step - loss: 0.6678 - accuracy: 0.7919\n",
            "Epoch 80/100\n",
            "47/47 [==============================] - 1s 20ms/step - loss: 0.4512 - accuracy: 0.8624\n",
            "Epoch 81/100\n",
            "47/47 [==============================] - 1s 21ms/step - loss: 0.3008 - accuracy: 0.9036\n",
            "Epoch 82/100\n",
            "47/47 [==============================] - 1s 21ms/step - loss: 0.2432 - accuracy: 0.9116\n",
            "Epoch 83/100\n",
            "47/47 [==============================] - 1s 21ms/step - loss: 0.2311 - accuracy: 0.9136\n",
            "Epoch 84/100\n",
            "47/47 [==============================] - 1s 20ms/step - loss: 0.2224 - accuracy: 0.9149\n",
            "Epoch 85/100\n",
            "47/47 [==============================] - 1s 21ms/step - loss: 0.2217 - accuracy: 0.9189\n",
            "Epoch 86/100\n",
            "47/47 [==============================] - 1s 21ms/step - loss: 0.2186 - accuracy: 0.9182\n",
            "Epoch 87/100\n",
            "47/47 [==============================] - 1s 21ms/step - loss: 0.2155 - accuracy: 0.9169\n",
            "Epoch 88/100\n",
            "47/47 [==============================] - 1s 21ms/step - loss: 0.2152 - accuracy: 0.9162\n",
            "Epoch 89/100\n",
            "47/47 [==============================] - 1s 21ms/step - loss: 0.2157 - accuracy: 0.9169\n",
            "Epoch 90/100\n",
            "47/47 [==============================] - 1s 21ms/step - loss: 0.2154 - accuracy: 0.9209\n",
            "Epoch 91/100\n",
            "47/47 [==============================] - 1s 21ms/step - loss: 0.2088 - accuracy: 0.9162\n",
            "Epoch 92/100\n",
            "47/47 [==============================] - 1s 20ms/step - loss: 0.2105 - accuracy: 0.9136\n",
            "Epoch 93/100\n",
            "47/47 [==============================] - 1s 21ms/step - loss: 0.2086 - accuracy: 0.9189\n",
            "Epoch 94/100\n",
            "47/47 [==============================] - 1s 21ms/step - loss: 0.2050 - accuracy: 0.9176\n",
            "Epoch 95/100\n",
            "47/47 [==============================] - 1s 21ms/step - loss: 0.2081 - accuracy: 0.9149\n",
            "Epoch 96/100\n",
            "47/47 [==============================] - 1s 21ms/step - loss: 0.2069 - accuracy: 0.9202\n",
            "Epoch 97/100\n",
            "47/47 [==============================] - 1s 21ms/step - loss: 0.2090 - accuracy: 0.9162\n",
            "Epoch 98/100\n",
            "47/47 [==============================] - 1s 21ms/step - loss: 0.2058 - accuracy: 0.9142\n",
            "Epoch 99/100\n",
            "47/47 [==============================] - 1s 21ms/step - loss: 0.2081 - accuracy: 0.9182\n",
            "Epoch 100/100\n",
            "47/47 [==============================] - 1s 21ms/step - loss: 0.2058 - accuracy: 0.9156\n",
            "============================\n",
            " Elapsed 141.962 seconds.\n"
          ]
        }
      ]
    },
    {
      "cell_type": "code",
      "metadata": {
        "colab": {
          "base_uri": "https://localhost:8080/",
          "height": 545
        },
        "id": "b8f3a0c8",
        "outputId": "4d10ca61-25d0-4ec7-ed36-888c0e4a91f5"
      },
      "source": [
        "import matplotlib.pyplot as plt\n",
        "acc = history.history['accuracy']\n",
        "loss = history.history['loss']\n",
        "epochs = range(len(acc))\n",
        "plt.plot(epochs, acc, 'b', label='Training accuracy')\n",
        "plt.title('Training accuracy')\n",
        "plt.figure()\n",
        "plt.plot(epochs, loss, 'b', label='Training Loss')\n",
        "plt.title('Training loss')\n",
        "plt.legend()\n",
        "plt.show()"
      ],
      "id": "b8f3a0c8",
      "execution_count": 23,
      "outputs": [
        {
          "output_type": "display_data",
          "data": {
            "image/png": "[encoded data removed]",
            "text/plain": [
              "<Figure size 432x288 with 1 Axes>"
            ]
          },
          "metadata": {
            "needs_background": "light"
          }
        },
        {
          "output_type": "display_data",
          "data": {
            "image/png": "[encoded data removed]",
            "text/plain": [
              "<Figure size 432x288 with 1 Axes>"
            ]
          },
          "metadata": {
            "needs_background": "light"
          }
        }
      ]
    },
    {
      "cell_type": "markdown",
      "metadata": {
        "id": "2fc9de34"
      },
      "source": [
        "## 5) Test for the next generation. \n",
        "- 100 next words are generated this way."
      ],
      "id": "2fc9de34"
    },
    {
      "cell_type": "code",
      "metadata": {
        "id": "0d43bbb0"
      },
      "source": [
        "seed_text = \"First Servingman: A strange one as ever I looked on: I cannot get him!\"\n",
        "next_words = 100"
      ],
      "id": "0d43bbb0",
      "execution_count": 24,
      "outputs": []
    },
    {
      "cell_type": "markdown",
      "metadata": {
        "id": "cdcfa967"
      },
      "source": [
        "- The seed will be taken at first and tokenized and padded on the token list. \n",
        "- Model is then used to predict with the token list as input.\n",
        "- Then most probable word is added to seed text and this happens for the next 100 words."
      ],
      "id": "cdcfa967"
    },
    {
      "cell_type": "code",
      "metadata": {
        "colab": {
          "base_uri": "https://localhost:8080/"
        },
        "id": "94588bab",
        "outputId": "f6481931-3c3b-4fa2-936a-15d3ad4f62d5"
      },
      "source": [
        "for _ in range(next_words):\n",
        "    token_list = tokenizer.texts_to_sequences([seed_text])[0]\n",
        "    token_list = pad_sequences([token_list], maxlen=max_sequence_len-1, padding='pre')\n",
        "    p_x = model.predict(token_list, verbose=0)\n",
        "    predicted=np.argmax(p_x,axis=1)\n",
        "    \n",
        "    output_word = \"\"\n",
        "    for word, index in tokenizer.word_index.items():\n",
        "        if index == predicted:\n",
        "            output_word = word\n",
        "            break\n",
        "    seed_text += \" \" + output_word\n",
        "print(seed_text)"
      ],
      "id": "94588bab",
      "execution_count": 25,
      "outputs": [
        {
          "output_type": "stream",
          "name": "stdout",
          "text": [
            "First Servingman: A strange one as ever I looked on: I cannot get him! their liking mark me say a rightly heard it did he a heard which he a price away price price away away away ye price price price ye price price price ye price price price away away ye price price price ye price price price price away proverbs proverbs covetous covetous covetous covetous it like away proverbs say it like fathers covetous he a price price price away away away away he a price price price away away away away away say he a price price price price away answer'd he a price mark me them not will flatter it\n"
          ]
        }
      ]
    },
    {
      "cell_type": "markdown",
      "metadata": {
        "id": "3afa88f2"
      },
      "source": [
        "## 6) HW : Optimized Model Architecture\n",
        "- The output is not perfect as for training we took only a few lines of text. \n",
        "- Hence we can very well fine-tune it."
      ],
      "id": "3afa88f2"
    },
    {
      "cell_type": "markdown",
      "metadata": {
        "id": "eab5a9ea"
      },
      "source": [
        "- For each character the model looks up the embedding, runs the GRU one timestep with the embedding as input, and applies the dense layer to generate logits predicting the log-likelihood of the next character:"
      ],
      "id": "eab5a9ea"
    },
    {
      "cell_type": "markdown",
      "metadata": {
        "id": "30eaa662"
      },
      "source": [
        "- To generate more convincing text, you could try using more GRU layers and more neurons per layer, train for longer, and add some regularization (for example, you could set recurrent_dropout=0.3 in the GRU layers)."
      ],
      "id": "30eaa662"
    },
    {
      "cell_type": "markdown",
      "metadata": {
        "id": "ad8e3a06"
      },
      "source": [
        "![image.png](attachment:image.png)"
      ],
      "id": "ad8e3a06"
    },
    {
      "cell_type": "code",
      "metadata": {
        "id": "348f0dd7"
      },
      "source": [
        "model = Sequential()\n",
        "model.add(Embedding(total_words, 100, input_length=max_sequence_len-1))\n",
        "model.add(Bidirectional(GRU(150, return_sequences = True)))\n",
        "model.add(GRU(100))\n",
        "model.add(Dense(total_words/2, activation='relu' ))\n",
        "model.add(Dense(total_words, activation='softmax'))"
      ],
      "id": "348f0dd7",
      "execution_count": 26,
      "outputs": []
    },
    {
      "cell_type": "code",
      "metadata": {
        "id": "fc854d4b"
      },
      "source": [
        "model.compile(loss='categorical_crossentropy', optimizer='adam', metrics=['accuracy'])"
      ],
      "id": "fc854d4b",
      "execution_count": 27,
      "outputs": []
    },
    {
      "cell_type": "code",
      "metadata": {
        "colab": {
          "base_uri": "https://localhost:8080/"
        },
        "id": "9a0d9c6a",
        "outputId": "a4d3ec66-088c-44c6-cdff-a94b765163d7"
      },
      "source": [
        "import time\n",
        "start = time.perf_counter()\n",
        "history = model.fit(predictors, label, epochs=100, verbose=1)\n",
        "elapsed = time.perf_counter() - start\n",
        "print('============================\\n Elapsed %.3f seconds.' % elapsed)"
      ],
      "id": "9a0d9c6a",
      "execution_count": 28,
      "outputs": [
        {
          "output_type": "stream",
          "name": "stdout",
          "text": [
            "Epoch 1/100\n",
            "47/47 [==============================] - 5s 20ms/step - loss: 6.2640 - accuracy: 0.0419\n",
            "Epoch 2/100\n",
            "47/47 [==============================] - 1s 20ms/step - loss: 5.8620 - accuracy: 0.0585\n",
            "Epoch 3/100\n",
            "47/47 [==============================] - 1s 20ms/step - loss: 5.6846 - accuracy: 0.0632\n",
            "Epoch 4/100\n",
            "47/47 [==============================] - 1s 20ms/step - loss: 5.4855 - accuracy: 0.0751\n",
            "Epoch 5/100\n",
            "47/47 [==============================] - 1s 20ms/step - loss: 5.2737 - accuracy: 0.0805\n",
            "Epoch 6/100\n",
            "47/47 [==============================] - 1s 20ms/step - loss: 5.0737 - accuracy: 0.0844\n",
            "Epoch 7/100\n",
            "47/47 [==============================] - 1s 20ms/step - loss: 4.8486 - accuracy: 0.0891\n",
            "Epoch 8/100\n",
            "47/47 [==============================] - 1s 20ms/step - loss: 4.5627 - accuracy: 0.1031\n",
            "Epoch 9/100\n",
            "47/47 [==============================] - 1s 20ms/step - loss: 4.2411 - accuracy: 0.1137\n",
            "Epoch 10/100\n",
            "47/47 [==============================] - 1s 19ms/step - loss: 3.8670 - accuracy: 0.1443\n",
            "Epoch 11/100\n",
            "47/47 [==============================] - 1s 20ms/step - loss: 3.4828 - accuracy: 0.1842\n",
            "Epoch 12/100\n",
            "47/47 [==============================] - 1s 20ms/step - loss: 3.1241 - accuracy: 0.2267\n",
            "Epoch 13/100\n",
            "47/47 [==============================] - 1s 20ms/step - loss: 2.7734 - accuracy: 0.2852\n",
            "Epoch 14/100\n",
            "47/47 [==============================] - 1s 20ms/step - loss: 2.4384 - accuracy: 0.3418\n",
            "Epoch 15/100\n",
            "47/47 [==============================] - 1s 20ms/step - loss: 2.1190 - accuracy: 0.4242\n",
            "Epoch 16/100\n",
            "47/47 [==============================] - 1s 20ms/step - loss: 1.8465 - accuracy: 0.5053\n",
            "Epoch 17/100\n",
            "47/47 [==============================] - 1s 20ms/step - loss: 1.6009 - accuracy: 0.5691\n",
            "Epoch 18/100\n",
            "47/47 [==============================] - 1s 20ms/step - loss: 1.3959 - accuracy: 0.6223\n",
            "Epoch 19/100\n",
            "47/47 [==============================] - 1s 20ms/step - loss: 1.2174 - accuracy: 0.6742\n",
            "Epoch 20/100\n",
            "47/47 [==============================] - 1s 20ms/step - loss: 1.0350 - accuracy: 0.7394\n",
            "Epoch 21/100\n",
            "47/47 [==============================] - 1s 20ms/step - loss: 0.8942 - accuracy: 0.7733\n",
            "Epoch 22/100\n",
            "47/47 [==============================] - 1s 20ms/step - loss: 0.7838 - accuracy: 0.8059\n",
            "Epoch 23/100\n",
            "47/47 [==============================] - 1s 21ms/step - loss: 0.6785 - accuracy: 0.8331\n",
            "Epoch 24/100\n",
            "47/47 [==============================] - 1s 20ms/step - loss: 0.6119 - accuracy: 0.8570\n",
            "Epoch 25/100\n",
            "47/47 [==============================] - 1s 20ms/step - loss: 0.5368 - accuracy: 0.8617\n",
            "Epoch 26/100\n",
            "47/47 [==============================] - 1s 20ms/step - loss: 0.4664 - accuracy: 0.8836\n",
            "Epoch 27/100\n",
            "47/47 [==============================] - 1s 19ms/step - loss: 0.4198 - accuracy: 0.8996\n",
            "Epoch 28/100\n",
            "47/47 [==============================] - 1s 20ms/step - loss: 0.3856 - accuracy: 0.9069\n",
            "Epoch 29/100\n",
            "47/47 [==============================] - 1s 20ms/step - loss: 0.3626 - accuracy: 0.9016\n",
            "Epoch 30/100\n",
            "47/47 [==============================] - 1s 21ms/step - loss: 0.3321 - accuracy: 0.9116\n",
            "Epoch 31/100\n",
            "47/47 [==============================] - 1s 20ms/step - loss: 0.3124 - accuracy: 0.9102\n",
            "Epoch 32/100\n",
            "47/47 [==============================] - 1s 20ms/step - loss: 0.2973 - accuracy: 0.9129\n",
            "Epoch 33/100\n",
            "47/47 [==============================] - 1s 20ms/step - loss: 0.2895 - accuracy: 0.9136\n",
            "Epoch 34/100\n",
            "47/47 [==============================] - 1s 20ms/step - loss: 0.2769 - accuracy: 0.9156\n",
            "Epoch 35/100\n",
            "47/47 [==============================] - 1s 20ms/step - loss: 0.2759 - accuracy: 0.9176\n",
            "Epoch 36/100\n",
            "47/47 [==============================] - 1s 21ms/step - loss: 0.2603 - accuracy: 0.9215\n",
            "Epoch 37/100\n",
            "47/47 [==============================] - 1s 20ms/step - loss: 0.2545 - accuracy: 0.9149\n",
            "Epoch 38/100\n",
            "47/47 [==============================] - 1s 20ms/step - loss: 0.2494 - accuracy: 0.9162\n",
            "Epoch 39/100\n",
            "47/47 [==============================] - 1s 20ms/step - loss: 0.2470 - accuracy: 0.9149\n",
            "Epoch 40/100\n",
            "47/47 [==============================] - 1s 20ms/step - loss: 0.2411 - accuracy: 0.9162\n",
            "Epoch 41/100\n",
            "47/47 [==============================] - 1s 21ms/step - loss: 0.2427 - accuracy: 0.9136\n",
            "Epoch 42/100\n",
            "47/47 [==============================] - 1s 20ms/step - loss: 0.2373 - accuracy: 0.9182\n",
            "Epoch 43/100\n",
            "47/47 [==============================] - 1s 20ms/step - loss: 0.2340 - accuracy: 0.9122\n",
            "Epoch 44/100\n",
            "47/47 [==============================] - 1s 20ms/step - loss: 0.2288 - accuracy: 0.9169\n",
            "Epoch 45/100\n",
            "47/47 [==============================] - 1s 20ms/step - loss: 0.2283 - accuracy: 0.9149\n",
            "Epoch 46/100\n",
            "47/47 [==============================] - 1s 20ms/step - loss: 0.2264 - accuracy: 0.9162\n",
            "Epoch 47/100\n",
            "47/47 [==============================] - 1s 20ms/step - loss: 0.2259 - accuracy: 0.9169\n",
            "Epoch 48/100\n",
            "47/47 [==============================] - 1s 20ms/step - loss: 0.2178 - accuracy: 0.9182\n",
            "Epoch 49/100\n",
            "47/47 [==============================] - 1s 21ms/step - loss: 0.2246 - accuracy: 0.9122\n",
            "Epoch 50/100\n",
            "47/47 [==============================] - 1s 20ms/step - loss: 0.2159 - accuracy: 0.9176\n",
            "Epoch 51/100\n",
            "47/47 [==============================] - 1s 21ms/step - loss: 0.2151 - accuracy: 0.9209\n",
            "Epoch 52/100\n",
            "47/47 [==============================] - 1s 20ms/step - loss: 0.2160 - accuracy: 0.9142\n",
            "Epoch 53/100\n",
            "47/47 [==============================] - 1s 20ms/step - loss: 0.2147 - accuracy: 0.9169\n",
            "Epoch 54/100\n",
            "47/47 [==============================] - 1s 20ms/step - loss: 0.2171 - accuracy: 0.9142\n",
            "Epoch 55/100\n",
            "47/47 [==============================] - 1s 20ms/step - loss: 0.2149 - accuracy: 0.9169\n",
            "Epoch 56/100\n",
            "47/47 [==============================] - 1s 20ms/step - loss: 0.2093 - accuracy: 0.9182\n",
            "Epoch 57/100\n",
            "47/47 [==============================] - 1s 20ms/step - loss: 0.2127 - accuracy: 0.9195\n",
            "Epoch 58/100\n",
            "47/47 [==============================] - 1s 20ms/step - loss: 0.2132 - accuracy: 0.9176\n",
            "Epoch 59/100\n",
            "47/47 [==============================] - 1s 20ms/step - loss: 0.2146 - accuracy: 0.9162\n",
            "Epoch 60/100\n",
            "47/47 [==============================] - 1s 20ms/step - loss: 0.2093 - accuracy: 0.9195\n",
            "Epoch 61/100\n",
            "47/47 [==============================] - 1s 21ms/step - loss: 0.2678 - accuracy: 0.9043\n",
            "Epoch 62/100\n",
            "47/47 [==============================] - 1s 20ms/step - loss: 1.0274 - accuracy: 0.7207\n",
            "Epoch 63/100\n",
            "47/47 [==============================] - 1s 20ms/step - loss: 1.5122 - accuracy: 0.5811\n",
            "Epoch 64/100\n",
            "47/47 [==============================] - 1s 20ms/step - loss: 0.7999 - accuracy: 0.7460\n",
            "Epoch 65/100\n",
            "47/47 [==============================] - 1s 20ms/step - loss: 0.3873 - accuracy: 0.8697\n",
            "Epoch 66/100\n",
            "47/47 [==============================] - 1s 20ms/step - loss: 0.2641 - accuracy: 0.9056\n",
            "Epoch 67/100\n",
            "47/47 [==============================] - 1s 20ms/step - loss: 0.2197 - accuracy: 0.9156\n",
            "Epoch 68/100\n",
            "47/47 [==============================] - 1s 20ms/step - loss: 0.2054 - accuracy: 0.9229\n",
            "Epoch 69/100\n",
            "47/47 [==============================] - 1s 20ms/step - loss: 0.2016 - accuracy: 0.9182\n",
            "Epoch 70/100\n",
            "47/47 [==============================] - 1s 20ms/step - loss: 0.1982 - accuracy: 0.9195\n",
            "Epoch 71/100\n",
            "47/47 [==============================] - 1s 20ms/step - loss: 0.1984 - accuracy: 0.9182\n",
            "Epoch 72/100\n",
            "47/47 [==============================] - 1s 20ms/step - loss: 0.1970 - accuracy: 0.9142\n",
            "Epoch 73/100\n",
            "47/47 [==============================] - 1s 20ms/step - loss: 0.1950 - accuracy: 0.9176\n",
            "Epoch 74/100\n",
            "47/47 [==============================] - 1s 20ms/step - loss: 0.1947 - accuracy: 0.9149\n",
            "Epoch 75/100\n",
            "47/47 [==============================] - 1s 20ms/step - loss: 0.1905 - accuracy: 0.9189\n",
            "Epoch 76/100\n",
            "47/47 [==============================] - 1s 20ms/step - loss: 0.1947 - accuracy: 0.9176\n",
            "Epoch 77/100\n",
            "47/47 [==============================] - 1s 20ms/step - loss: 0.1922 - accuracy: 0.9149\n",
            "Epoch 78/100\n",
            "47/47 [==============================] - 1s 20ms/step - loss: 0.1948 - accuracy: 0.9176\n",
            "Epoch 79/100\n",
            "47/47 [==============================] - 1s 20ms/step - loss: 0.1931 - accuracy: 0.9162\n",
            "Epoch 80/100\n",
            "47/47 [==============================] - 1s 20ms/step - loss: 0.1922 - accuracy: 0.9156\n",
            "Epoch 81/100\n",
            "47/47 [==============================] - 1s 20ms/step - loss: 0.1903 - accuracy: 0.9176\n",
            "Epoch 82/100\n",
            "47/47 [==============================] - 1s 20ms/step - loss: 0.1887 - accuracy: 0.9149\n",
            "Epoch 83/100\n",
            "47/47 [==============================] - 1s 20ms/step - loss: 0.1901 - accuracy: 0.9162\n",
            "Epoch 84/100\n",
            "47/47 [==============================] - 1s 20ms/step - loss: 0.1872 - accuracy: 0.9162\n",
            "Epoch 85/100\n",
            "47/47 [==============================] - 1s 20ms/step - loss: 0.1894 - accuracy: 0.9149\n",
            "Epoch 86/100\n",
            "47/47 [==============================] - 1s 20ms/step - loss: 0.1885 - accuracy: 0.9182\n",
            "Epoch 87/100\n",
            "47/47 [==============================] - 1s 20ms/step - loss: 0.1885 - accuracy: 0.9182\n",
            "Epoch 88/100\n",
            "47/47 [==============================] - 1s 20ms/step - loss: 0.1897 - accuracy: 0.9156\n",
            "Epoch 89/100\n",
            "47/47 [==============================] - 1s 20ms/step - loss: 0.1879 - accuracy: 0.9189\n",
            "Epoch 90/100\n",
            "47/47 [==============================] - 1s 20ms/step - loss: 0.1882 - accuracy: 0.9162\n",
            "Epoch 91/100\n",
            "47/47 [==============================] - 1s 20ms/step - loss: 0.1870 - accuracy: 0.9129\n",
            "Epoch 92/100\n",
            "47/47 [==============================] - 1s 20ms/step - loss: 0.1864 - accuracy: 0.9209\n",
            "Epoch 93/100\n",
            "47/47 [==============================] - 1s 21ms/step - loss: 0.1904 - accuracy: 0.9169\n",
            "Epoch 94/100\n",
            "47/47 [==============================] - 1s 20ms/step - loss: 0.1882 - accuracy: 0.9162\n",
            "Epoch 95/100\n",
            "47/47 [==============================] - 1s 20ms/step - loss: 0.1895 - accuracy: 0.9162\n",
            "Epoch 96/100\n",
            "47/47 [==============================] - 1s 20ms/step - loss: 0.1837 - accuracy: 0.9202\n",
            "Epoch 97/100\n",
            "47/47 [==============================] - 1s 21ms/step - loss: 0.1879 - accuracy: 0.9182\n",
            "Epoch 98/100\n",
            "47/47 [==============================] - 1s 20ms/step - loss: 0.1845 - accuracy: 0.9169\n",
            "Epoch 99/100\n",
            "47/47 [==============================] - 1s 20ms/step - loss: 0.1862 - accuracy: 0.9169\n",
            "Epoch 100/100\n",
            "47/47 [==============================] - 1s 20ms/step - loss: 0.1931 - accuracy: 0.9176\n",
            "============================\n",
            " Elapsed 145.860 seconds.\n"
          ]
        }
      ]
    },
    {
      "cell_type": "code",
      "metadata": {
        "id": "e5e26815"
      },
      "source": [
        ""
      ],
      "id": "e5e26815",
      "execution_count": null,
      "outputs": []
    }
  ]
}