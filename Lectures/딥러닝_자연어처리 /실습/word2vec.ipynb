{
  "nbformat": 4,
  "nbformat_minor": 0,
  "metadata": {
    "colab": {
      "private_outputs": true,
      "provenance": [],
      "include_colab_link": true
    },
    "kernelspec": {
      "name": "python3",
      "display_name": "Python 3"
    },
    "language_info": {
      "name": "python"
    }
  },
  "cells": [
    {
      "cell_type": "markdown",
      "metadata": {
        "id": "view-in-github",
        "colab_type": "text"
      },
      "source": [
        "<a href=\"https://colab.research.google.com/github/hongsukyi/Lectures/blob/main/Lectures/%EB%94%A5%EB%9F%AC%EB%8B%9D_%EC%9E%90%EC%97%B0%EC%96%B4%EC%B2%98%EB%A6%AC%20/%EC%8B%A4%EC%8A%B5/word2vec.ipynb\" target=\"_parent\"><img src=\"https://colab.research.google.com/assets/colab-badge.svg\" alt=\"Open In Colab\"/></a>"
      ]
    },
    {
      "cell_type": "code",
      "execution_count": null,
      "metadata": {
        "id": "8q_hWBnkELPE"
      },
      "outputs": [],
      "source": [
        "import urllib.request\n",
        "import pandas as pd\n",
        "\n",
        "urllib.request.urlretrieve(\"https://raw.githubusercontent.com/e9t/nsmc/master/ratings.txt\", filename=\"ratings.txt\")"
      ]
    },
    {
      "cell_type": "code",
      "source": [
        "train_dataset = pd.read_table('ratings.txt')"
      ],
      "metadata": {
        "id": "TvIRPDjzEzzM"
      },
      "execution_count": null,
      "outputs": []
    },
    {
      "cell_type": "code",
      "source": [
        "train_dataset[:5]"
      ],
      "metadata": {
        "id": "xy_io8sBi8in"
      },
      "execution_count": null,
      "outputs": []
    },
    {
      "cell_type": "code",
      "source": [
        "print(len(train_dataset))"
      ],
      "metadata": {
        "id": "-BoTxamvHU10"
      },
      "execution_count": null,
      "outputs": []
    },
    {
      "cell_type": "markdown",
      "source": [
        "## 편의상 데이터 개수를 줄여주자.\n",
        "- 150,000개의 10%인 15,000개를 사용하자."
      ],
      "metadata": {
        "id": "GKz_SnAFjQ5g"
      }
    },
    {
      "cell_type": "code",
      "source": [
        "train_dataset = train_dataset[:15000]"
      ],
      "metadata": {
        "id": "NivfUjE7HVbg"
      },
      "execution_count": null,
      "outputs": []
    },
    {
      "cell_type": "code",
      "source": [
        "print(len(train_dataset))"
      ],
      "metadata": {
        "id": "sqhXEvBTjqGm"
      },
      "execution_count": null,
      "outputs": []
    },
    {
      "cell_type": "code",
      "source": [
        "# 결측치처리\n",
        "train_dataset.replace(\"\", float(\"NaN\"), inplace=True)\n",
        "train_dataset = train_dataset.dropna().reset_index(drop=True)\n",
        "\n",
        "# 중복 제거\n",
        "train_dataset = train_dataset.drop_duplicates(['document']).reset_index(drop=True)\n",
        "\n",
        "# 한글이 아닌 문자 제거\n",
        "train_dataset['document'] = train_dataset['document'].str.replace(\"[^ㄱ-ㅎㅏ-ㅣ가-힣 ]\",\"\")\n",
        "\n",
        "#길이가 짧은 데이터 제거\n",
        "train_dataset['document'] = train_dataset['document'].apply(lambda x: ' '.join([token for token in x.split() if len(token) > 2]))\n",
        "\n",
        "# 전체 길이가 10 이하이거나 전체 단어 개수가 5개 이하인 데이터를 필터링합니다.\n",
        "train_dataset = train_dataset[train_dataset.document.apply(lambda x: len(str(x)) > 10 and len(str(x).split()) > 5)].reset_index(drop=True)\n"
      ],
      "metadata": {
        "id": "HBTaCoQYES7r"
      },
      "execution_count": null,
      "outputs": []
    },
    {
      "cell_type": "code",
      "source": [
        "print(len(train_dataset))"
      ],
      "metadata": {
        "id": "qlMIZ9i6kKIj"
      },
      "execution_count": null,
      "outputs": []
    },
    {
      "cell_type": "code",
      "source": [
        "train_dataset[:5]"
      ],
      "metadata": {
        "id": "7cbhXzTbkNjL"
      },
      "execution_count": null,
      "outputs": []
    },
    {
      "cell_type": "code",
      "source": [
        "train_dataset.shape"
      ],
      "metadata": {
        "id": "HyYZ2zlmkNME"
      },
      "execution_count": null,
      "outputs": []
    },
    {
      "cell_type": "code",
      "source": [
        "!pip install konlpy\n",
        "from konlpy.tag import Okt"
      ],
      "metadata": {
        "id": "A6mHwj04GPqB"
      },
      "execution_count": null,
      "outputs": []
    },
    {
      "cell_type": "code",
      "source": [
        "# 불용어 정의\n",
        "stopwords = ['의','가','이','은','들','는','좀','잘','걍','과','도','를','으로','자','에','와','한','하다']\n",
        "\n",
        "train_dataset = list(train_dataset['document'])\n",
        "\n",
        "# 형태소 분석기 OKT를 사용한 토큰화 작업\n",
        "okt = Okt()\n",
        "\n",
        "tokenized_data = []\n",
        "\n",
        "for sentence in train_dataset:\n",
        "    tokenized_sentence = okt.morphs(sentence, stem=True) # 토큰화\n",
        "    stopwords_removed_sentence = [word for word in tokenized_sentence if not word in stopwords] # 불용어 제거\n",
        "    tokenized_data.append(stopwords_removed_sentence)\n"
      ],
      "metadata": {
        "id": "w85NkrSJE1j3"
      },
      "execution_count": null,
      "outputs": []
    },
    {
      "cell_type": "code",
      "source": [
        "len(tokenized_data)"
      ],
      "metadata": {
        "id": "x2VxRdwok1Xp"
      },
      "execution_count": null,
      "outputs": []
    },
    {
      "cell_type": "code",
      "source": [
        "print(tokenized_data[:5])"
      ],
      "metadata": {
        "id": "wE-MeTIzk-xE"
      },
      "execution_count": null,
      "outputs": []
    },
    {
      "cell_type": "code",
      "source": [
        "import matplotlib.pyplot as plt\n",
        "!pip install koreanize-matplotlib\n",
        "import koreanize_matplotlib"
      ],
      "metadata": {
        "id": "v3vJD438IAgz"
      },
      "execution_count": null,
      "outputs": []
    },
    {
      "cell_type": "code",
      "source": [
        "print('리뷰의 최대 길이 :',max(len(review) for review in tokenized_data))\n",
        "print('리뷰의 평균 길이 :',sum(map(len, tokenized_data))/len(tokenized_data))\n",
        "plt.hist([len(review) for review in tokenized_data], bins=50)\n",
        "plt.xlabel('샘플 길이(length of samples)')\n",
        "plt.ylabel('샘플 수(number of samples)')\n",
        "plt.show()"
      ],
      "metadata": {
        "id": "lYqh2VBmGLO3"
      },
      "execution_count": null,
      "outputs": []
    },
    {
      "cell_type": "code",
      "source": [
        "import gensim      # gensim은 파이썬에서 Word2Vec을 지원한다.\n",
        "gensim.__version__\n",
        "from gensim.models import Word2Vec"
      ],
      "metadata": {
        "id": "UWPffFPhmHxe"
      },
      "execution_count": null,
      "outputs": []
    },
    {
      "cell_type": "code",
      "source": [
        "embedding_dim = 100\n",
        "\n",
        "model = Word2Vec(\n",
        "    sentences = tokenized_data,  vector_size = embedding_dim,\n",
        "    window = 5, min_count = 5, workers = 4, sg = 0  )   # sg=0은 CBOW, sg=1은 Skip-gram"
      ],
      "metadata": {
        "id": "VjGR9bOGGqZk"
      },
      "execution_count": null,
      "outputs": []
    },
    {
      "cell_type": "code",
      "source": [
        "word_vectors = model.wv\n",
        "vocabs = list(word_vectors.key_to_index.keys())"
      ],
      "metadata": {
        "id": "nrm626FBGxIq"
      },
      "execution_count": null,
      "outputs": []
    },
    {
      "cell_type": "code",
      "source": [
        "for sim_word in model.wv.most_similar(\"배우\"):\n",
        "    print(sim_word)"
      ],
      "metadata": {
        "id": "KIUV7ibsIbGx"
      },
      "execution_count": null,
      "outputs": []
    },
    {
      "cell_type": "code",
      "source": [
        "print(model.wv.similarity('슬픔', '눈물'))"
      ],
      "metadata": {
        "id": "9-nPcLYCIeei"
      },
      "execution_count": null,
      "outputs": []
    },
    {
      "cell_type": "code",
      "source": [
        "import numpy as np\n",
        "from sklearn.manifold import TSNE"
      ],
      "metadata": {
        "id": "ottp4IveKt3_"
      },
      "execution_count": null,
      "outputs": []
    },
    {
      "cell_type": "code",
      "source": [
        "word_vector_list = [word_vectors[word] for word in vocabs]"
      ],
      "metadata": {
        "id": "G11TGM39JFfh"
      },
      "execution_count": null,
      "outputs": []
    },
    {
      "cell_type": "code",
      "source": [
        "tsne = TSNE(learning_rate = 100)\n",
        "word_vector_list = np.array(word_vector_list)\n",
        "transformed = tsne.fit_transform(word_vector_list)\n",
        "\n",
        "x_axis_tsne = transformed[:, 0]\n",
        "y_axis_tsne = transformed[:, 1]\n",
        "\n",
        "def plot_tsne_graph(vocabs, x_asix, y_asix):\n",
        "  plt.figure(figsize=(30, 30))\n",
        "  plt.scatter(x_asix, y_asix, marker = 'o')\n",
        "  for i, v in enumerate(vocabs):\n",
        "    plt.annotate(v, xy=(x_asix[i], y_asix[i]))\n",
        "\n",
        "plot_tsne_graph(vocabs, x_axis_tsne, y_axis_tsne)\n"
      ],
      "metadata": {
        "id": "Cx4mwzjwIrRU"
      },
      "execution_count": null,
      "outputs": []
    },
    {
      "cell_type": "code",
      "source": [],
      "metadata": {
        "id": "rDs3wq73xcWY"
      },
      "execution_count": null,
      "outputs": []
    }
  ]
}