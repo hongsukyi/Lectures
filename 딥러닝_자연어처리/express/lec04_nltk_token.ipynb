{
 "cells": [
  {
   "cell_type": "markdown",
   "id": "0cc632e9-5d6e-4945-8590-cd7dcc1edc41",
   "metadata": {},
   "source": [
    "## 1. 파이썬 라이브러리 NLTK를 이용한 토큰화 "
   ]
  },
  {
   "cell_type": "code",
   "execution_count": 1,
   "id": "2ebf5b26-9f02-4e9b-8429-e5bee1fba2f9",
   "metadata": {},
   "outputs": [
    {
     "name": "stdout",
     "output_type": "stream",
     "text": [
      "Requirement already satisfied: nltk in c:\\users\\admin\\anaconda3\\envs\\keras\\lib\\site-packages (3.9.1)\n",
      "Requirement already satisfied: click in c:\\users\\admin\\anaconda3\\envs\\keras\\lib\\site-packages (from nltk) (8.1.8)\n",
      "Requirement already satisfied: joblib in c:\\users\\admin\\anaconda3\\envs\\keras\\lib\\site-packages (from nltk) (1.4.2)\n",
      "Requirement already satisfied: regex>=2021.8.3 in c:\\users\\admin\\anaconda3\\envs\\keras\\lib\\site-packages (from nltk) (2024.11.6)\n",
      "Requirement already satisfied: tqdm in c:\\users\\admin\\anaconda3\\envs\\keras\\lib\\site-packages (from nltk) (4.67.1)\n",
      "Requirement already satisfied: colorama in c:\\users\\admin\\anaconda3\\envs\\keras\\lib\\site-packages (from click->nltk) (0.4.6)\n"
     ]
    }
   ],
   "source": [
    "!pip install nltk"
   ]
  },
  {
   "cell_type": "markdown",
   "id": "dc5d7a47-5475-4109-8e61-19e19eabd7e2",
   "metadata": {},
   "source": [
    "토큰화 "
   ]
  },
  {
   "cell_type": "code",
   "execution_count": 2,
   "id": "e3156da4-35e9-4512-8aea-ac23901ec07a",
   "metadata": {},
   "outputs": [
    {
     "name": "stderr",
     "output_type": "stream",
     "text": [
      "[nltk_data] Error loading punck_tab: Package 'punck_tab' not found in\n",
      "[nltk_data]     index\n"
     ]
    },
    {
     "data": {
      "text/plain": [
       "False"
      ]
     },
     "execution_count": 2,
     "metadata": {},
     "output_type": "execute_result"
    }
   ],
   "source": [
    "import nltk\n",
    "from nltk.tokenize import word_tokenize\n",
    "\n",
    "nltk.download('punck_tab')"
   ]
  },
  {
   "cell_type": "markdown",
   "id": "09ec87a7-f057-4964-81e6-d667454b0dfc",
   "metadata": {},
   "source": [
    "구두점 제거하기(정제)"
   ]
  },
  {
   "cell_type": "code",
   "execution_count": 3,
   "id": "5a982d69-9c23-46f0-94da-1849f27d71e1",
   "metadata": {},
   "outputs": [
    {
     "name": "stdout",
     "output_type": "stream",
     "text": [
      "['Hello', 'World', 'This', 'is', 'a', 'dog', '한글', '테스트']\n"
     ]
    }
   ],
   "source": [
    "tokens = word_tokenize(\"Hello World!, This is a dog. 한글 테스트!\")\n",
    "\n",
    "# 문자나 숫자인 경우에만 단어를 리스트에 추가한다. \n",
    "words = [word for word in tokens if word.isalpha()]\n",
    "print(words)"
   ]
  },
  {
   "cell_type": "markdown",
   "id": "b6ebd737-470d-43a6-9f65-3a1a773806fa",
   "metadata": {},
   "source": [
    "불용어 처리의 예제로 영어 불용어 단어 20개를 출력해보자"
   ]
  },
  {
   "cell_type": "code",
   "execution_count": 4,
   "id": "e2bf2aae-4b42-4693-9ca2-019a8bc192ad",
   "metadata": {},
   "outputs": [
    {
     "name": "stderr",
     "output_type": "stream",
     "text": [
      "[nltk_data] Downloading package stopwords to\n",
      "[nltk_data]     C:\\Users\\admin\\AppData\\Roaming\\nltk_data...\n",
      "[nltk_data]   Package stopwords is already up-to-date!\n"
     ]
    },
    {
     "data": {
      "text/plain": [
       "True"
      ]
     },
     "execution_count": 4,
     "metadata": {},
     "output_type": "execute_result"
    }
   ],
   "source": [
    "nltk.download('stopwords')"
   ]
  },
  {
   "cell_type": "code",
   "execution_count": 5,
   "id": "ffa8b8c3-4cb5-4fd0-9bcd-34dee96ad6d0",
   "metadata": {},
   "outputs": [
    {
     "name": "stdout",
     "output_type": "stream",
     "text": [
      "['a', 'about', 'above', 'after', 'again']\n"
     ]
    }
   ],
   "source": [
    "from nltk.corpus import stopwords\n",
    "print(stopwords.words('english')[:5])"
   ]
  },
  {
   "cell_type": "markdown",
   "id": "c220dcff-17e1-48af-961b-5cc16725bc71",
   "metadata": {},
   "source": [
    "단어 토큰화 및 문자 토큰화 "
   ]
  },
  {
   "cell_type": "code",
   "execution_count": 6,
   "id": "35138e60-99b2-47b8-83d6-e48f652da682",
   "metadata": {},
   "outputs": [
    {
     "name": "stdout",
     "output_type": "stream",
     "text": [
      "nltk 단어 토큰화: ['This', 'is', 'a', 'house', '.', 'This', 'is', 'a', 'dog']\n",
      "nltk 문장 토큰화: ['This is a house.', 'This is a dog']\n"
     ]
    }
   ],
   "source": [
    "from nltk.tokenize import word_tokenize, sent_tokenize \t\n",
    "\t\n",
    "text = \"This is a house. This is a dog\"\n",
    "print('nltk 단어 토큰화:',word_tokenize(text))\n",
    "print('nltk 문장 토큰화:',sent_tokenize(text))\n"
   ]
  }
 ],
 "metadata": {
  "kernelspec": {
   "display_name": "Python 3 (ipykernel)",
   "language": "python",
   "name": "python3"
  },
  "language_info": {
   "codemirror_mode": {
    "name": "ipython",
    "version": 3
   },
   "file_extension": ".py",
   "mimetype": "text/x-python",
   "name": "python",
   "nbconvert_exporter": "python",
   "pygments_lexer": "ipython3",
   "version": "3.12.9"
  }
 },
 "nbformat": 4,
 "nbformat_minor": 5
}
