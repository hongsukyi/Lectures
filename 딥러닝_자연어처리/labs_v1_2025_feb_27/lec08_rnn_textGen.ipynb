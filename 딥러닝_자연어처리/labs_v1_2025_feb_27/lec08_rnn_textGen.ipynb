{
 "cells": [
  {
   "cell_type": "markdown",
   "metadata": {
    "id": "-mwvomP9GHUz"
   },
   "source": [
    "# 1. RNN을 이용하여 텍스트 생성하기"
   ]
  },
  {
   "cell_type": "code",
   "execution_count": 1,
   "metadata": {
    "id": "S4uTNOaoD1bU"
   },
   "outputs": [],
   "source": [
    "import numpy as np\n",
    "from tensorflow.keras.preprocessing.text import Tokenizer\n",
    "from tensorflow.keras.preprocessing.sequence import pad_sequences\n",
    "from tensorflow.keras.utils import to_categorical"
   ]
  },
  {
   "cell_type": "code",
   "execution_count": 2,
   "metadata": {
    "id": "HAiu_PerD3Hf"
   },
   "outputs": [],
   "source": [
    "text = \"\"\"경마장에 있는 말이 뛰고 있다\\n\n",
    "그의 말이 법이다\\n\n",
    "가는 말이 고와야 오는 말이 곱다\\n\"\"\""
   ]
  },
  {
   "cell_type": "code",
   "execution_count": 3,
   "metadata": {
    "colab": {
     "base_uri": "https://localhost:8080/"
    },
    "id": "xdHAkPfHD75-",
    "outputId": "e59d58d7-ad36-41d7-ed17-9790db03ff36"
   },
   "outputs": [
    {
     "name": "stdout",
     "output_type": "stream",
     "text": [
      "단어 집합의 크기 : 12\n"
     ]
    }
   ],
   "source": [
    "tokenizer = Tokenizer()\n",
    "tokenizer.fit_on_texts([text])\n",
    "vocab_size = len(tokenizer.word_index) + 1\n",
    "print('단어 집합의 크기 : %d' % vocab_size)"
   ]
  },
  {
   "cell_type": "code",
   "execution_count": 4,
   "metadata": {
    "colab": {
     "base_uri": "https://localhost:8080/"
    },
    "id": "rjSPtvilD9hO",
    "outputId": "90991519-7dce-4f0e-b71c-d326409065a7"
   },
   "outputs": [
    {
     "name": "stdout",
     "output_type": "stream",
     "text": [
      "{'말이': 1, '경마장에': 2, '있는': 3, '뛰고': 4, '있다': 5, '그의': 6, '법이다': 7, '가는': 8, '고와야': 9, '오는': 10, '곱다': 11}\n"
     ]
    }
   ],
   "source": [
    "print(tokenizer.word_index)"
   ]
  },
  {
   "cell_type": "code",
   "execution_count": 5,
   "metadata": {
    "colab": {
     "base_uri": "https://localhost:8080/"
    },
    "id": "yxtpUv8fEJim",
    "outputId": "28be10d6-6e2d-4efd-b0fb-cd84a462322d"
   },
   "outputs": [
    {
     "name": "stdout",
     "output_type": "stream",
     "text": [
      "학습에 사용할 샘플의 개수: 11\n"
     ]
    }
   ],
   "source": [
    "sequences = list()\n",
    "for line in text.split('\\n'): # Wn을 기준으로 문장 토큰화\n",
    "    encoded = tokenizer.texts_to_sequences([line])[0]\n",
    "    for i in range(1, len(encoded)):\n",
    "        sequence = encoded[:i+1]\n",
    "        sequences.append(sequence)\n",
    "\n",
    "print('학습에 사용할 샘플의 개수: %d' % len(sequences))"
   ]
  },
  {
   "cell_type": "code",
   "execution_count": 6,
   "metadata": {
    "colab": {
     "base_uri": "https://localhost:8080/"
    },
    "id": "Sn3ScsVyEKbO",
    "outputId": "2a5c9f48-8edb-4862-e9d9-2ac9925a731b"
   },
   "outputs": [
    {
     "name": "stdout",
     "output_type": "stream",
     "text": [
      "[[2, 3], [2, 3, 1], [2, 3, 1, 4], [2, 3, 1, 4, 5], [6, 1], [6, 1, 7], [8, 1], [8, 1, 9], [8, 1, 9, 10], [8, 1, 9, 10, 1], [8, 1, 9, 10, 1, 11]]\n"
     ]
    }
   ],
   "source": [
    "print(sequences)"
   ]
  },
  {
   "cell_type": "code",
   "execution_count": 7,
   "metadata": {
    "colab": {
     "base_uri": "https://localhost:8080/"
    },
    "id": "2WQk_gFlELvO",
    "outputId": "2733fee2-e31e-4921-ed60-ef08742e0f91"
   },
   "outputs": [
    {
     "name": "stdout",
     "output_type": "stream",
     "text": [
      "샘플의 최대 길이 : 6\n"
     ]
    }
   ],
   "source": [
    "max_len = max(len(l) for l in sequences) # 모든 샘플에서 길이가 가장 긴 샘플의 길이 출력\n",
    "print('샘플의 최대 길이 : {}'.format(max_len))"
   ]
  },
  {
   "cell_type": "code",
   "execution_count": 8,
   "metadata": {
    "id": "D9KPYYerEMiO"
   },
   "outputs": [],
   "source": [
    "sequences = pad_sequences(sequences, maxlen=max_len, padding='pre')"
   ]
  },
  {
   "cell_type": "code",
   "execution_count": 9,
   "metadata": {
    "colab": {
     "base_uri": "https://localhost:8080/"
    },
    "id": "H9dK4VDuENZW",
    "outputId": "f7a97d49-4e66-4dbc-d8fb-cfc8f6eb8b64"
   },
   "outputs": [
    {
     "name": "stdout",
     "output_type": "stream",
     "text": [
      "[[ 0  0  0  0  2  3]\n",
      " [ 0  0  0  2  3  1]\n",
      " [ 0  0  2  3  1  4]\n",
      " [ 0  2  3  1  4  5]\n",
      " [ 0  0  0  0  6  1]\n",
      " [ 0  0  0  6  1  7]\n",
      " [ 0  0  0  0  8  1]\n",
      " [ 0  0  0  8  1  9]\n",
      " [ 0  0  8  1  9 10]\n",
      " [ 0  8  1  9 10  1]\n",
      " [ 8  1  9 10  1 11]]\n"
     ]
    }
   ],
   "source": [
    "print(sequences)"
   ]
  },
  {
   "cell_type": "code",
   "execution_count": 10,
   "metadata": {
    "id": "8Vu99bIZEOFG"
   },
   "outputs": [],
   "source": [
    "sequences = np.array(sequences)\n",
    "X = sequences[:,:-1]\n",
    "y = sequences[:,-1]"
   ]
  },
  {
   "cell_type": "code",
   "execution_count": 11,
   "metadata": {
    "colab": {
     "base_uri": "https://localhost:8080/"
    },
    "id": "U63gl8GMEPeG",
    "outputId": "8c95995e-d052-4c64-946b-1d1e6904f400"
   },
   "outputs": [
    {
     "name": "stdout",
     "output_type": "stream",
     "text": [
      "[[ 0  0  0  0  2]\n",
      " [ 0  0  0  2  3]\n",
      " [ 0  0  2  3  1]\n",
      " [ 0  2  3  1  4]\n",
      " [ 0  0  0  0  6]\n",
      " [ 0  0  0  6  1]\n",
      " [ 0  0  0  0  8]\n",
      " [ 0  0  0  8  1]\n",
      " [ 0  0  8  1  9]\n",
      " [ 0  8  1  9 10]\n",
      " [ 8  1  9 10  1]]\n"
     ]
    }
   ],
   "source": [
    "print(X)"
   ]
  },
  {
   "cell_type": "code",
   "execution_count": 12,
   "metadata": {
    "colab": {
     "base_uri": "https://localhost:8080/"
    },
    "id": "11m6JFDBEWTe",
    "outputId": "c5e476da-5d67-4792-d731-338a5c64848e"
   },
   "outputs": [
    {
     "name": "stdout",
     "output_type": "stream",
     "text": [
      "[ 3  1  4  5  1  7  1  9 10  1 11]\n"
     ]
    }
   ],
   "source": [
    "print(y) # 모든 샘플에 대한 레이블 출력"
   ]
  },
  {
   "cell_type": "code",
   "execution_count": 13,
   "metadata": {
    "id": "W3bLeTb1EXSe"
   },
   "outputs": [],
   "source": [
    "y = to_categorical(y, num_classes=vocab_size)"
   ]
  },
  {
   "cell_type": "code",
   "execution_count": 14,
   "metadata": {
    "colab": {
     "base_uri": "https://localhost:8080/"
    },
    "id": "rgaGRDAeEYY-",
    "outputId": "981c5f80-3afd-48ae-f675-2792a98de46e"
   },
   "outputs": [
    {
     "name": "stdout",
     "output_type": "stream",
     "text": [
      "[[0. 0. 0. 1. 0. 0. 0. 0. 0. 0. 0. 0.]\n",
      " [0. 1. 0. 0. 0. 0. 0. 0. 0. 0. 0. 0.]\n",
      " [0. 0. 0. 0. 1. 0. 0. 0. 0. 0. 0. 0.]\n",
      " [0. 0. 0. 0. 0. 1. 0. 0. 0. 0. 0. 0.]\n",
      " [0. 1. 0. 0. 0. 0. 0. 0. 0. 0. 0. 0.]\n",
      " [0. 0. 0. 0. 0. 0. 0. 1. 0. 0. 0. 0.]\n",
      " [0. 1. 0. 0. 0. 0. 0. 0. 0. 0. 0. 0.]\n",
      " [0. 0. 0. 0. 0. 0. 0. 0. 0. 1. 0. 0.]\n",
      " [0. 0. 0. 0. 0. 0. 0. 0. 0. 0. 1. 0.]\n",
      " [0. 1. 0. 0. 0. 0. 0. 0. 0. 0. 0. 0.]\n",
      " [0. 0. 0. 0. 0. 0. 0. 0. 0. 0. 0. 1.]]\n"
     ]
    }
   ],
   "source": [
    "print(y)"
   ]
  },
  {
   "cell_type": "code",
   "execution_count": 17,
   "metadata": {
    "id": "QbsqMkBKEZIe"
   },
   "outputs": [],
   "source": [
    "from tensorflow.keras.models import Sequential\n",
    "from tensorflow.keras.layers import Embedding, Dense, SimpleRNN,Flatten"
   ]
  },
  {
   "cell_type": "code",
   "execution_count": 18,
   "metadata": {
    "colab": {
     "base_uri": "https://localhost:8080/"
    },
    "id": "da3yM5cTEeNn",
    "outputId": "406e6edc-d0fd-4011-8615-da240c5a214c"
   },
   "outputs": [
    {
     "name": "stdout",
     "output_type": "stream",
     "text": [
      "Epoch 1/200\n",
      "1/1 - 3s - 3s/step - accuracy: 0.0000e+00 - loss: 2.5048\n",
      "Epoch 2/200\n",
      "1/1 - 0s - 34ms/step - accuracy: 0.0909 - loss: 2.4898\n",
      "Epoch 3/200\n",
      "1/1 - 0s - 62ms/step - accuracy: 0.0909 - loss: 2.4750\n",
      "Epoch 4/200\n",
      "1/1 - 0s - 36ms/step - accuracy: 0.2727 - loss: 2.4603\n",
      "Epoch 5/200\n",
      "1/1 - 0s - 32ms/step - accuracy: 0.2727 - loss: 2.4456\n",
      "Epoch 6/200\n",
      "1/1 - 0s - 32ms/step - accuracy: 0.3636 - loss: 2.4308\n",
      "Epoch 7/200\n",
      "1/1 - 0s - 58ms/step - accuracy: 0.3636 - loss: 2.4156\n",
      "Epoch 8/200\n",
      "1/1 - 0s - 34ms/step - accuracy: 0.3636 - loss: 2.4000\n",
      "Epoch 9/200\n",
      "1/1 - 0s - 57ms/step - accuracy: 0.3636 - loss: 2.3839\n",
      "Epoch 10/200\n",
      "1/1 - 0s - 32ms/step - accuracy: 0.3636 - loss: 2.3670\n",
      "Epoch 11/200\n",
      "1/1 - 0s - 58ms/step - accuracy: 0.3636 - loss: 2.3494\n",
      "Epoch 12/200\n",
      "1/1 - 0s - 33ms/step - accuracy: 0.3636 - loss: 2.3308\n",
      "Epoch 13/200\n",
      "1/1 - 0s - 32ms/step - accuracy: 0.3636 - loss: 2.3113\n",
      "Epoch 14/200\n",
      "1/1 - 0s - 58ms/step - accuracy: 0.3636 - loss: 2.2908\n",
      "Epoch 15/200\n",
      "1/1 - 0s - 32ms/step - accuracy: 0.3636 - loss: 2.2691\n",
      "Epoch 16/200\n",
      "1/1 - 0s - 32ms/step - accuracy: 0.3636 - loss: 2.2463\n",
      "Epoch 17/200\n",
      "1/1 - 0s - 57ms/step - accuracy: 0.3636 - loss: 2.2225\n",
      "Epoch 18/200\n",
      "1/1 - 0s - 61ms/step - accuracy: 0.3636 - loss: 2.1976\n",
      "Epoch 19/200\n",
      "1/1 - 0s - 40ms/step - accuracy: 0.3636 - loss: 2.1719\n",
      "Epoch 20/200\n",
      "1/1 - 0s - 37ms/step - accuracy: 0.3636 - loss: 2.1453\n",
      "Epoch 21/200\n",
      "1/1 - 0s - 33ms/step - accuracy: 0.3636 - loss: 2.1182\n",
      "Epoch 22/200\n",
      "1/1 - 0s - 33ms/step - accuracy: 0.3636 - loss: 2.0909\n",
      "Epoch 23/200\n",
      "1/1 - 0s - 32ms/step - accuracy: 0.3636 - loss: 2.0636\n",
      "Epoch 24/200\n",
      "1/1 - 0s - 59ms/step - accuracy: 0.3636 - loss: 2.0367\n",
      "Epoch 25/200\n",
      "1/1 - 0s - 62ms/step - accuracy: 0.3636 - loss: 2.0107\n",
      "Epoch 26/200\n",
      "1/1 - 0s - 55ms/step - accuracy: 0.3636 - loss: 1.9858\n",
      "Epoch 27/200\n",
      "1/1 - 0s - 33ms/step - accuracy: 0.3636 - loss: 1.9626\n",
      "Epoch 28/200\n",
      "1/1 - 0s - 57ms/step - accuracy: 0.3636 - loss: 1.9412\n",
      "Epoch 29/200\n",
      "1/1 - 0s - 58ms/step - accuracy: 0.3636 - loss: 1.9218\n",
      "Epoch 30/200\n",
      "1/1 - 0s - 57ms/step - accuracy: 0.3636 - loss: 1.9046\n",
      "Epoch 31/200\n",
      "1/1 - 0s - 59ms/step - accuracy: 0.3636 - loss: 1.8893\n",
      "Epoch 32/200\n",
      "1/1 - 0s - 33ms/step - accuracy: 0.3636 - loss: 1.8758\n",
      "Epoch 33/200\n",
      "1/1 - 0s - 32ms/step - accuracy: 0.3636 - loss: 1.8638\n",
      "Epoch 34/200\n",
      "1/1 - 0s - 58ms/step - accuracy: 0.3636 - loss: 1.8527\n",
      "Epoch 35/200\n",
      "1/1 - 0s - 32ms/step - accuracy: 0.3636 - loss: 1.8422\n",
      "Epoch 36/200\n",
      "1/1 - 0s - 32ms/step - accuracy: 0.3636 - loss: 1.8318\n",
      "Epoch 37/200\n",
      "1/1 - 0s - 59ms/step - accuracy: 0.3636 - loss: 1.8214\n",
      "Epoch 38/200\n",
      "1/1 - 0s - 33ms/step - accuracy: 0.3636 - loss: 1.8106\n",
      "Epoch 39/200\n",
      "1/1 - 0s - 35ms/step - accuracy: 0.3636 - loss: 1.7993\n",
      "Epoch 40/200\n",
      "1/1 - 0s - 59ms/step - accuracy: 0.3636 - loss: 1.7877\n",
      "Epoch 41/200\n",
      "1/1 - 0s - 54ms/step - accuracy: 0.3636 - loss: 1.7756\n",
      "Epoch 42/200\n",
      "1/1 - 0s - 59ms/step - accuracy: 0.3636 - loss: 1.7633\n",
      "Epoch 43/200\n",
      "1/1 - 0s - 57ms/step - accuracy: 0.3636 - loss: 1.7508\n",
      "Epoch 44/200\n",
      "1/1 - 0s - 59ms/step - accuracy: 0.3636 - loss: 1.7382\n",
      "Epoch 45/200\n",
      "1/1 - 0s - 37ms/step - accuracy: 0.3636 - loss: 1.7256\n",
      "Epoch 46/200\n",
      "1/1 - 0s - 53ms/step - accuracy: 0.3636 - loss: 1.7129\n",
      "Epoch 47/200\n",
      "1/1 - 0s - 58ms/step - accuracy: 0.4545 - loss: 1.7002\n",
      "Epoch 48/200\n",
      "1/1 - 0s - 34ms/step - accuracy: 0.4545 - loss: 1.6873\n",
      "Epoch 49/200\n",
      "1/1 - 0s - 58ms/step - accuracy: 0.4545 - loss: 1.6743\n",
      "Epoch 50/200\n",
      "1/1 - 0s - 59ms/step - accuracy: 0.4545 - loss: 1.6609\n",
      "Epoch 51/200\n",
      "1/1 - 0s - 33ms/step - accuracy: 0.4545 - loss: 1.6472\n",
      "Epoch 52/200\n",
      "1/1 - 0s - 58ms/step - accuracy: 0.4545 - loss: 1.6329\n",
      "Epoch 53/200\n",
      "1/1 - 0s - 59ms/step - accuracy: 0.4545 - loss: 1.6180\n",
      "Epoch 54/200\n",
      "1/1 - 0s - 32ms/step - accuracy: 0.4545 - loss: 1.6025\n",
      "Epoch 55/200\n",
      "1/1 - 0s - 58ms/step - accuracy: 0.4545 - loss: 1.5864\n",
      "Epoch 56/200\n",
      "1/1 - 0s - 33ms/step - accuracy: 0.4545 - loss: 1.5695\n",
      "Epoch 57/200\n",
      "1/1 - 0s - 33ms/step - accuracy: 0.5455 - loss: 1.5520\n",
      "Epoch 58/200\n",
      "1/1 - 0s - 36ms/step - accuracy: 0.5455 - loss: 1.5338\n",
      "Epoch 59/200\n",
      "1/1 - 0s - 59ms/step - accuracy: 0.5455 - loss: 1.5151\n",
      "Epoch 60/200\n",
      "1/1 - 0s - 54ms/step - accuracy: 0.5455 - loss: 1.4957\n",
      "Epoch 61/200\n",
      "1/1 - 0s - 59ms/step - accuracy: 0.5455 - loss: 1.4759\n",
      "Epoch 62/200\n",
      "1/1 - 0s - 34ms/step - accuracy: 0.5455 - loss: 1.4555\n",
      "Epoch 63/200\n",
      "1/1 - 0s - 57ms/step - accuracy: 0.5455 - loss: 1.4347\n",
      "Epoch 64/200\n",
      "1/1 - 0s - 58ms/step - accuracy: 0.5455 - loss: 1.4135\n",
      "Epoch 65/200\n",
      "1/1 - 0s - 40ms/step - accuracy: 0.5455 - loss: 1.3919\n",
      "Epoch 66/200\n",
      "1/1 - 0s - 50ms/step - accuracy: 0.5455 - loss: 1.3700\n",
      "Epoch 67/200\n",
      "1/1 - 0s - 58ms/step - accuracy: 0.5455 - loss: 1.3478\n",
      "Epoch 68/200\n",
      "1/1 - 0s - 59ms/step - accuracy: 0.5455 - loss: 1.3254\n",
      "Epoch 69/200\n",
      "1/1 - 0s - 33ms/step - accuracy: 0.5455 - loss: 1.3028\n",
      "Epoch 70/200\n",
      "1/1 - 0s - 32ms/step - accuracy: 0.5455 - loss: 1.2801\n",
      "Epoch 71/200\n",
      "1/1 - 0s - 33ms/step - accuracy: 0.6364 - loss: 1.2573\n",
      "Epoch 72/200\n",
      "1/1 - 0s - 32ms/step - accuracy: 0.6364 - loss: 1.2345\n",
      "Epoch 73/200\n",
      "1/1 - 0s - 33ms/step - accuracy: 0.6364 - loss: 1.2117\n",
      "Epoch 74/200\n",
      "1/1 - 0s - 59ms/step - accuracy: 0.6364 - loss: 1.1891\n",
      "Epoch 75/200\n",
      "1/1 - 0s - 57ms/step - accuracy: 0.6364 - loss: 1.1665\n",
      "Epoch 76/200\n",
      "1/1 - 0s - 32ms/step - accuracy: 0.6364 - loss: 1.1441\n",
      "Epoch 77/200\n",
      "1/1 - 0s - 59ms/step - accuracy: 0.6364 - loss: 1.1220\n",
      "Epoch 78/200\n",
      "1/1 - 0s - 36ms/step - accuracy: 0.6364 - loss: 1.1001\n",
      "Epoch 79/200\n",
      "1/1 - 0s - 59ms/step - accuracy: 0.6364 - loss: 1.0784\n",
      "Epoch 80/200\n",
      "1/1 - 0s - 55ms/step - accuracy: 0.6364 - loss: 1.0570\n",
      "Epoch 81/200\n",
      "1/1 - 0s - 32ms/step - accuracy: 0.6364 - loss: 1.0359\n",
      "Epoch 82/200\n",
      "1/1 - 0s - 33ms/step - accuracy: 0.6364 - loss: 1.0151\n",
      "Epoch 83/200\n",
      "1/1 - 0s - 58ms/step - accuracy: 0.6364 - loss: 0.9947\n",
      "Epoch 84/200\n",
      "1/1 - 0s - 33ms/step - accuracy: 0.6364 - loss: 0.9745\n",
      "Epoch 85/200\n",
      "1/1 - 0s - 58ms/step - accuracy: 0.6364 - loss: 0.9547\n",
      "Epoch 86/200\n",
      "1/1 - 0s - 32ms/step - accuracy: 0.6364 - loss: 0.9352\n",
      "Epoch 87/200\n",
      "1/1 - 0s - 56ms/step - accuracy: 0.6364 - loss: 0.9161\n",
      "Epoch 88/200\n",
      "1/1 - 0s - 58ms/step - accuracy: 0.6364 - loss: 0.8972\n",
      "Epoch 89/200\n",
      "1/1 - 0s - 58ms/step - accuracy: 0.6364 - loss: 0.8787\n",
      "Epoch 90/200\n",
      "1/1 - 0s - 32ms/step - accuracy: 0.6364 - loss: 0.8605\n",
      "Epoch 91/200\n",
      "1/1 - 0s - 32ms/step - accuracy: 0.6364 - loss: 0.8427\n",
      "Epoch 92/200\n",
      "1/1 - 0s - 33ms/step - accuracy: 0.7273 - loss: 0.8252\n",
      "Epoch 93/200\n",
      "1/1 - 0s - 59ms/step - accuracy: 0.7273 - loss: 0.8080\n",
      "Epoch 94/200\n",
      "1/1 - 0s - 32ms/step - accuracy: 0.7273 - loss: 0.7911\n",
      "Epoch 95/200\n",
      "1/1 - 0s - 66ms/step - accuracy: 0.8182 - loss: 0.7745\n",
      "Epoch 96/200\n",
      "1/1 - 0s - 33ms/step - accuracy: 0.8182 - loss: 0.7582\n",
      "Epoch 97/200\n",
      "1/1 - 0s - 58ms/step - accuracy: 0.8182 - loss: 0.7423\n",
      "Epoch 98/200\n",
      "1/1 - 0s - 61ms/step - accuracy: 0.8182 - loss: 0.7266\n",
      "Epoch 99/200\n",
      "1/1 - 0s - 40ms/step - accuracy: 0.8182 - loss: 0.7113\n",
      "Epoch 100/200\n",
      "1/1 - 0s - 37ms/step - accuracy: 0.8182 - loss: 0.6962\n",
      "Epoch 101/200\n",
      "1/1 - 0s - 60ms/step - accuracy: 0.8182 - loss: 0.6814\n",
      "Epoch 102/200\n",
      "1/1 - 0s - 35ms/step - accuracy: 0.9091 - loss: 0.6669\n",
      "Epoch 103/200\n",
      "1/1 - 0s - 34ms/step - accuracy: 0.9091 - loss: 0.6527\n",
      "Epoch 104/200\n",
      "1/1 - 0s - 57ms/step - accuracy: 0.9091 - loss: 0.6387\n",
      "Epoch 105/200\n",
      "1/1 - 0s - 33ms/step - accuracy: 1.0000 - loss: 0.6251\n",
      "Epoch 106/200\n",
      "1/1 - 0s - 32ms/step - accuracy: 1.0000 - loss: 0.6116\n",
      "Epoch 107/200\n",
      "1/1 - 0s - 32ms/step - accuracy: 1.0000 - loss: 0.5985\n",
      "Epoch 108/200\n",
      "1/1 - 0s - 59ms/step - accuracy: 1.0000 - loss: 0.5855\n",
      "Epoch 109/200\n",
      "1/1 - 0s - 34ms/step - accuracy: 1.0000 - loss: 0.5729\n",
      "Epoch 110/200\n",
      "1/1 - 0s - 62ms/step - accuracy: 1.0000 - loss: 0.5605\n",
      "Epoch 111/200\n",
      "1/1 - 0s - 57ms/step - accuracy: 1.0000 - loss: 0.5483\n",
      "Epoch 112/200\n",
      "1/1 - 0s - 58ms/step - accuracy: 1.0000 - loss: 0.5363\n",
      "Epoch 113/200\n",
      "1/1 - 0s - 32ms/step - accuracy: 1.0000 - loss: 0.5246\n",
      "Epoch 114/200\n",
      "1/1 - 0s - 32ms/step - accuracy: 1.0000 - loss: 0.5131\n",
      "Epoch 115/200\n",
      "1/1 - 0s - 58ms/step - accuracy: 1.0000 - loss: 0.5019\n",
      "Epoch 116/200\n",
      "1/1 - 0s - 32ms/step - accuracy: 1.0000 - loss: 0.4908\n",
      "Epoch 117/200\n",
      "1/1 - 0s - 59ms/step - accuracy: 1.0000 - loss: 0.4800\n",
      "Epoch 118/200\n",
      "1/1 - 0s - 33ms/step - accuracy: 1.0000 - loss: 0.4694\n",
      "Epoch 119/200\n",
      "1/1 - 0s - 62ms/step - accuracy: 1.0000 - loss: 0.4590\n",
      "Epoch 120/200\n",
      "1/1 - 0s - 53ms/step - accuracy: 1.0000 - loss: 0.4488\n",
      "Epoch 121/200\n",
      "1/1 - 0s - 57ms/step - accuracy: 1.0000 - loss: 0.4389\n",
      "Epoch 122/200\n",
      "1/1 - 0s - 33ms/step - accuracy: 1.0000 - loss: 0.4291\n",
      "Epoch 123/200\n",
      "1/1 - 0s - 58ms/step - accuracy: 1.0000 - loss: 0.4195\n",
      "Epoch 124/200\n",
      "1/1 - 0s - 32ms/step - accuracy: 1.0000 - loss: 0.4101\n",
      "Epoch 125/200\n",
      "1/1 - 0s - 33ms/step - accuracy: 1.0000 - loss: 0.4009\n",
      "Epoch 126/200\n",
      "1/1 - 0s - 32ms/step - accuracy: 1.0000 - loss: 0.3918\n",
      "Epoch 127/200\n",
      "1/1 - 0s - 33ms/step - accuracy: 1.0000 - loss: 0.3830\n",
      "Epoch 128/200\n",
      "1/1 - 0s - 33ms/step - accuracy: 1.0000 - loss: 0.3743\n",
      "Epoch 129/200\n",
      "1/1 - 0s - 59ms/step - accuracy: 1.0000 - loss: 0.3657\n",
      "Epoch 130/200\n",
      "1/1 - 0s - 59ms/step - accuracy: 1.0000 - loss: 0.3574\n",
      "Epoch 131/200\n",
      "1/1 - 0s - 34ms/step - accuracy: 1.0000 - loss: 0.3492\n",
      "Epoch 132/200\n",
      "1/1 - 0s - 33ms/step - accuracy: 1.0000 - loss: 0.3411\n",
      "Epoch 133/200\n",
      "1/1 - 0s - 58ms/step - accuracy: 1.0000 - loss: 0.3332\n",
      "Epoch 134/200\n",
      "1/1 - 0s - 60ms/step - accuracy: 1.0000 - loss: 0.3255\n",
      "Epoch 135/200\n",
      "1/1 - 0s - 57ms/step - accuracy: 1.0000 - loss: 0.3179\n",
      "Epoch 136/200\n",
      "1/1 - 0s - 57ms/step - accuracy: 1.0000 - loss: 0.3104\n",
      "Epoch 137/200\n",
      "1/1 - 0s - 33ms/step - accuracy: 1.0000 - loss: 0.3031\n",
      "Epoch 138/200\n",
      "1/1 - 0s - 33ms/step - accuracy: 1.0000 - loss: 0.2959\n",
      "Epoch 139/200\n",
      "1/1 - 0s - 33ms/step - accuracy: 1.0000 - loss: 0.2888\n",
      "Epoch 140/200\n",
      "1/1 - 0s - 64ms/step - accuracy: 1.0000 - loss: 0.2819\n",
      "Epoch 141/200\n",
      "1/1 - 0s - 54ms/step - accuracy: 1.0000 - loss: 0.2751\n",
      "Epoch 142/200\n",
      "1/1 - 0s - 56ms/step - accuracy: 1.0000 - loss: 0.2685\n",
      "Epoch 143/200\n",
      "1/1 - 0s - 59ms/step - accuracy: 1.0000 - loss: 0.2619\n",
      "Epoch 144/200\n",
      "1/1 - 0s - 33ms/step - accuracy: 1.0000 - loss: 0.2555\n",
      "Epoch 145/200\n",
      "1/1 - 0s - 32ms/step - accuracy: 1.0000 - loss: 0.2493\n",
      "Epoch 146/200\n",
      "1/1 - 0s - 33ms/step - accuracy: 1.0000 - loss: 0.2431\n",
      "Epoch 147/200\n",
      "1/1 - 0s - 58ms/step - accuracy: 1.0000 - loss: 0.2371\n",
      "Epoch 148/200\n",
      "1/1 - 0s - 32ms/step - accuracy: 1.0000 - loss: 0.2312\n",
      "Epoch 149/200\n",
      "1/1 - 0s - 58ms/step - accuracy: 1.0000 - loss: 0.2255\n",
      "Epoch 150/200\n",
      "1/1 - 0s - 58ms/step - accuracy: 1.0000 - loss: 0.2198\n",
      "Epoch 151/200\n",
      "1/1 - 0s - 34ms/step - accuracy: 1.0000 - loss: 0.2143\n",
      "Epoch 152/200\n",
      "1/1 - 0s - 58ms/step - accuracy: 1.0000 - loss: 0.2090\n",
      "Epoch 153/200\n",
      "1/1 - 0s - 59ms/step - accuracy: 1.0000 - loss: 0.2037\n",
      "Epoch 154/200\n",
      "1/1 - 0s - 59ms/step - accuracy: 1.0000 - loss: 0.1986\n",
      "Epoch 155/200\n",
      "1/1 - 0s - 58ms/step - accuracy: 1.0000 - loss: 0.1936\n",
      "Epoch 156/200\n",
      "1/1 - 0s - 35ms/step - accuracy: 1.0000 - loss: 0.1887\n",
      "Epoch 157/200\n",
      "1/1 - 0s - 60ms/step - accuracy: 1.0000 - loss: 0.1839\n",
      "Epoch 158/200\n",
      "1/1 - 0s - 61ms/step - accuracy: 1.0000 - loss: 0.1793\n",
      "Epoch 159/200\n",
      "1/1 - 0s - 73ms/step - accuracy: 1.0000 - loss: 0.1748\n",
      "Epoch 160/200\n",
      "1/1 - 0s - 119ms/step - accuracy: 1.0000 - loss: 0.1704\n",
      "Epoch 161/200\n",
      "1/1 - 0s - 57ms/step - accuracy: 1.0000 - loss: 0.1661\n",
      "Epoch 162/200\n",
      "1/1 - 0s - 35ms/step - accuracy: 1.0000 - loss: 0.1619\n",
      "Epoch 163/200\n",
      "1/1 - 0s - 61ms/step - accuracy: 1.0000 - loss: 0.1579\n",
      "Epoch 164/200\n",
      "1/1 - 0s - 58ms/step - accuracy: 1.0000 - loss: 0.1539\n",
      "Epoch 165/200\n",
      "1/1 - 0s - 47ms/step - accuracy: 1.0000 - loss: 0.1501\n",
      "Epoch 166/200\n",
      "1/1 - 0s - 37ms/step - accuracy: 1.0000 - loss: 0.1464\n",
      "Epoch 167/200\n",
      "1/1 - 0s - 58ms/step - accuracy: 1.0000 - loss: 0.1428\n",
      "Epoch 168/200\n",
      "1/1 - 0s - 59ms/step - accuracy: 1.0000 - loss: 0.1393\n",
      "Epoch 169/200\n",
      "1/1 - 0s - 34ms/step - accuracy: 1.0000 - loss: 0.1359\n",
      "Epoch 170/200\n",
      "1/1 - 0s - 58ms/step - accuracy: 1.0000 - loss: 0.1326\n",
      "Epoch 171/200\n",
      "1/1 - 0s - 37ms/step - accuracy: 1.0000 - loss: 0.1294\n",
      "Epoch 172/200\n",
      "1/1 - 0s - 58ms/step - accuracy: 1.0000 - loss: 0.1263\n",
      "Epoch 173/200\n",
      "1/1 - 0s - 58ms/step - accuracy: 1.0000 - loss: 0.1233\n",
      "Epoch 174/200\n",
      "1/1 - 0s - 33ms/step - accuracy: 1.0000 - loss: 0.1204\n",
      "Epoch 175/200\n",
      "1/1 - 0s - 62ms/step - accuracy: 1.0000 - loss: 0.1175\n",
      "Epoch 176/200\n",
      "1/1 - 0s - 41ms/step - accuracy: 1.0000 - loss: 0.1148\n",
      "Epoch 177/200\n",
      "1/1 - 0s - 56ms/step - accuracy: 1.0000 - loss: 0.1121\n",
      "Epoch 178/200\n",
      "1/1 - 0s - 36ms/step - accuracy: 1.0000 - loss: 0.1096\n",
      "Epoch 179/200\n",
      "1/1 - 0s - 36ms/step - accuracy: 1.0000 - loss: 0.1071\n",
      "Epoch 180/200\n",
      "1/1 - 0s - 39ms/step - accuracy: 1.0000 - loss: 0.1046\n",
      "Epoch 181/200\n",
      "1/1 - 0s - 34ms/step - accuracy: 1.0000 - loss: 0.1023\n",
      "Epoch 182/200\n",
      "1/1 - 0s - 33ms/step - accuracy: 1.0000 - loss: 0.1000\n",
      "Epoch 183/200\n",
      "1/1 - 0s - 33ms/step - accuracy: 1.0000 - loss: 0.0978\n",
      "Epoch 184/200\n",
      "1/1 - 0s - 59ms/step - accuracy: 1.0000 - loss: 0.0957\n",
      "Epoch 185/200\n",
      "1/1 - 0s - 40ms/step - accuracy: 1.0000 - loss: 0.0936\n",
      "Epoch 186/200\n",
      "1/1 - 0s - 36ms/step - accuracy: 1.0000 - loss: 0.0916\n",
      "Epoch 187/200\n",
      "1/1 - 0s - 54ms/step - accuracy: 1.0000 - loss: 0.0897\n",
      "Epoch 188/200\n",
      "1/1 - 0s - 34ms/step - accuracy: 1.0000 - loss: 0.0878\n",
      "Epoch 189/200\n",
      "1/1 - 0s - 58ms/step - accuracy: 1.0000 - loss: 0.0860\n",
      "Epoch 190/200\n",
      "1/1 - 0s - 58ms/step - accuracy: 1.0000 - loss: 0.0843\n",
      "Epoch 191/200\n",
      "1/1 - 0s - 33ms/step - accuracy: 1.0000 - loss: 0.0826\n",
      "Epoch 192/200\n",
      "1/1 - 0s - 34ms/step - accuracy: 1.0000 - loss: 0.0809\n",
      "Epoch 193/200\n",
      "1/1 - 0s - 66ms/step - accuracy: 1.0000 - loss: 0.0793\n",
      "Epoch 194/200\n",
      "1/1 - 0s - 53ms/step - accuracy: 1.0000 - loss: 0.0777\n",
      "Epoch 195/200\n",
      "1/1 - 0s - 54ms/step - accuracy: 1.0000 - loss: 0.0762\n",
      "Epoch 196/200\n",
      "1/1 - 0s - 134ms/step - accuracy: 1.0000 - loss: 0.0748\n",
      "Epoch 197/200\n",
      "1/1 - 0s - 47ms/step - accuracy: 1.0000 - loss: 0.0734\n",
      "Epoch 198/200\n",
      "1/1 - 0s - 58ms/step - accuracy: 1.0000 - loss: 0.0720\n",
      "Epoch 199/200\n",
      "1/1 - 0s - 58ms/step - accuracy: 1.0000 - loss: 0.0706\n",
      "Epoch 200/200\n",
      "1/1 - 0s - 57ms/step - accuracy: 1.0000 - loss: 0.0693\n"
     ]
    }
   ],
   "source": [
    "embedding_dim = 10\n",
    "hidden_units = 32\n",
    "\n",
    "model = Sequential()\n",
    "model.add(Embedding(vocab_size, embedding_dim))\n",
    "model.add(SimpleRNN(hidden_units))\n",
    "model.add(Dense(vocab_size, activation='softmax'))\n",
    "model.compile(loss='categorical_crossentropy', optimizer='adam', metrics=['accuracy'])\n",
    "history=model.fit(X, y, epochs=200, verbose=2)"
   ]
  },
  {
   "cell_type": "code",
   "execution_count": 19,
   "metadata": {
    "id": "VXh1lVWfOenO"
   },
   "outputs": [],
   "source": [
    "import matplotlib.pyplot as plt"
   ]
  },
  {
   "cell_type": "code",
   "execution_count": 21,
   "metadata": {
    "colab": {
     "base_uri": "https://localhost:8080/",
     "height": 472
    },
    "id": "IghPIZySOw-x",
    "outputId": "ac5f7d23-5f68-460c-8291-d6fb18b24a35"
   },
   "outputs": [
    {
     "data": {
      "image/png": "[encoded data removed]",
      "text/plain": [
       "<Figure size 640x480 with 1 Axes>"
      ]
     },
     "metadata": {},
     "output_type": "display_data"
    }
   ],
   "source": [
    "# 훈련 손실 그래프\n",
    "plt.plot(history.history['loss'])\n",
    "plt.title('Model Loss')\n",
    "plt.xlabel('Epoch')\n",
    "plt.ylabel('Loss')\n",
    "plt.legend(['train'], loc='upper right')\n",
    "plt.show()"
   ]
  },
  {
   "cell_type": "code",
   "execution_count": 22,
   "metadata": {
    "colab": {
     "base_uri": "https://localhost:8080/",
     "height": 472
    },
    "id": "u_i7w-4VO7wZ",
    "outputId": "6f69a3fe-6a70-4a9b-d54d-0142f16adcfd"
   },
   "outputs": [
    {
     "data": {
      "image/png": "[encoded data removed]",
      "text/plain": [
       "<Figure size 640x480 with 1 Axes>"
      ]
     },
     "metadata": {},
     "output_type": "display_data"
    }
   ],
   "source": [
    "# 훈련 정확도 그래프\n",
    "plt.plot(history.history['accuracy'])\n",
    "plt.title('Model Accuracy')\n",
    "plt.xlabel('Epoch')\n",
    "plt.ylabel('Accuracy')\n",
    "plt.legend(['train'], loc='lower right')\n",
    "plt.show()"
   ]
  },
  {
   "cell_type": "code",
   "execution_count": 27,
   "metadata": {
    "id": "t96dpxgNEl4v"
   },
   "outputs": [],
   "source": [
    "def sentence_generation(model, tokenizer, current_word, n):\n",
    "    init_word = current_word\n",
    "    sentence = ''\n",
    "    for _ in range(n):\n",
    "        encoded = tokenizer.texts_to_sequences([current_word])[0]\n",
    "        encoded = pad_sequences([encoded], maxlen=5, padding='pre')\n",
    "        result = model.predict(encoded, verbose=0)\n",
    "        result = np.argmax(result, axis=1)\n",
    "        for word, index in tokenizer.word_index.items():\n",
    "            if index == result:\n",
    "                break\n",
    "        current_word = current_word + ' '  + word\n",
    "        sentence = sentence + ' ' + word\n",
    "    sentence = init_word + sentence\n",
    "    return sentence"
   ]
  },
  {
   "cell_type": "code",
   "execution_count": 24,
   "metadata": {
    "colab": {
     "base_uri": "https://localhost:8080/"
    },
    "id": "jJjBZ6PxE0EX",
    "outputId": "14433a83-e7aa-4b1b-a7c2-06446524721d"
   },
   "outputs": [
    {
     "name": "stdout",
     "output_type": "stream",
     "text": [
      "경마장에 있는 말이 뛰고 있다\n"
     ]
    }
   ],
   "source": [
    "print(sentence_generation(model, tokenizer, '경마장에', 4))"
   ]
  },
  {
   "cell_type": "code",
   "execution_count": 25,
   "metadata": {
    "colab": {
     "base_uri": "https://localhost:8080/"
    },
    "id": "AOfI9YuUFVv2",
    "outputId": "18a180c2-b0d9-4f3e-bb74-09ce80d598fc"
   },
   "outputs": [
    {
     "name": "stdout",
     "output_type": "stream",
     "text": [
      "그의 말이 법이다\n"
     ]
    }
   ],
   "source": [
    "print(sentence_generation(model, tokenizer, '그의', 2))"
   ]
  },
  {
   "cell_type": "code",
   "execution_count": 26,
   "metadata": {
    "colab": {
     "base_uri": "https://localhost:8080/"
    },
    "id": "Gl9zEMmzFh9u",
    "outputId": "e77319d8-1aad-49ef-d8ff-ebe3c3329023"
   },
   "outputs": [
    {
     "name": "stdout",
     "output_type": "stream",
     "text": [
      "가는 말이 고와야 오는 말이 곱다\n"
     ]
    }
   ],
   "source": [
    "print(sentence_generation(model, tokenizer, '가는', 5))"
   ]
  }
 ],
 "metadata": {
  "accelerator": "GPU",
  "colab": {
   "machine_shape": "hm",
   "provenance": []
  },
  "kernelspec": {
   "display_name": "Python 3 (ipykernel)",
   "language": "python",
   "name": "python3"
  },
  "language_info": {
   "codemirror_mode": {
    "name": "ipython",
    "version": 3
   },
   "file_extension": ".py",
   "mimetype": "text/x-python",
   "name": "python",
   "nbconvert_exporter": "python",
   "pygments_lexer": "ipython3",
   "version": "3.12.9"
  }
 },
 "nbformat": 4,
 "nbformat_minor": 4
}
