{
  "nbformat": 4,
  "nbformat_minor": 0,
  "metadata": {
    "colab": {
      "provenance": [],
      "machine_shape": "hm",
      "include_colab_link": true
    },
    "kernelspec": {
      "name": "python3",
      "display_name": "Python 3"
    },
    "language_info": {
      "name": "python"
    },
    "accelerator": "GPU"
  },
  "cells": [
    {
      "cell_type": "markdown",
      "metadata": {
        "id": "view-in-github",
        "colab_type": "text"
      },
      "source": [
        "<a href=\"https://colab.research.google.com/github/hongsukyi/Lectures/blob/main/text_classification_using_neural_networks.ipynb\" target=\"_parent\"><img src=\"https://colab.research.google.com/assets/colab-badge.svg\" alt=\"Open In Colab\"/></a>"
      ]
    },
    {
      "cell_type": "markdown",
      "metadata": {
        "id": "jRihwEAul2G4"
      },
      "source": [
        "# 1. 케라스의 texts_to_matrix() 이해하기"
      ]
    },
    {
      "cell_type": "code",
      "metadata": {
        "id": "SDmt4RWFloBe"
      },
      "source": [
        "import numpy as np\n",
        "from tensorflow.keras.preprocessing.text import Tokenizer"
      ],
      "execution_count": 1,
      "outputs": []
    },
    {
      "cell_type": "code",
      "metadata": {
        "id": "n8IfjC9glrZC"
      },
      "source": [
        "texts = ['먹고 싶은 사과', '먹고 싶은 바나나', '길고 노란 바나나 바나나', '저는 과일이 좋아요']"
      ],
      "execution_count": 2,
      "outputs": []
    },
    {
      "cell_type": "code",
      "metadata": {
        "colab": {
          "base_uri": "https://localhost:8080/"
        },
        "id": "Y4xqIcCqlsB4",
        "outputId": "5f80954f-d936-441c-b029-0aec6e45f8cc"
      },
      "source": [
        "tokenizer = Tokenizer()\n",
        "tokenizer.fit_on_texts(texts)\n",
        "print(tokenizer.word_index)"
      ],
      "execution_count": 3,
      "outputs": [
        {
          "output_type": "stream",
          "name": "stdout",
          "text": [
            "{'바나나': 1, '먹고': 2, '싶은': 3, '사과': 4, '길고': 5, '노란': 6, '저는': 7, '과일이': 8, '좋아요': 9}\n"
          ]
        }
      ]
    },
    {
      "cell_type": "code",
      "metadata": {
        "colab": {
          "base_uri": "https://localhost:8080/"
        },
        "id": "QRjr1wNeltIp",
        "outputId": "09a589f0-49fd-4db4-f27c-62611f8792ed"
      },
      "source": [
        "print(tokenizer.texts_to_matrix(texts, mode = 'count'))"
      ],
      "execution_count": 4,
      "outputs": [
        {
          "output_type": "stream",
          "name": "stdout",
          "text": [
            "[[0. 0. 1. 1. 1. 0. 0. 0. 0. 0.]\n",
            " [0. 1. 1. 1. 0. 0. 0. 0. 0. 0.]\n",
            " [0. 2. 0. 0. 0. 1. 1. 0. 0. 0.]\n",
            " [0. 0. 0. 0. 0. 0. 0. 1. 1. 1.]]\n"
          ]
        }
      ]
    },
    {
      "cell_type": "code",
      "metadata": {
        "colab": {
          "base_uri": "https://localhost:8080/"
        },
        "id": "_Ep-O1wXlwLx",
        "outputId": "e32787d4-2ab0-4b4a-cf1c-6da039748042"
      },
      "source": [
        "print(tokenizer.texts_to_matrix(texts, mode = 'binary'))"
      ],
      "execution_count": 5,
      "outputs": [
        {
          "output_type": "stream",
          "name": "stdout",
          "text": [
            "[[0. 0. 1. 1. 1. 0. 0. 0. 0. 0.]\n",
            " [0. 1. 1. 1. 0. 0. 0. 0. 0. 0.]\n",
            " [0. 1. 0. 0. 0. 1. 1. 0. 0. 0.]\n",
            " [0. 0. 0. 0. 0. 0. 0. 1. 1. 1.]]\n"
          ]
        }
      ]
    },
    {
      "cell_type": "code",
      "metadata": {
        "colab": {
          "base_uri": "https://localhost:8080/"
        },
        "id": "dR6BSbn0lyFo",
        "outputId": "8e674ef4-1885-4868-b689-acab4776076e"
      },
      "source": [
        "print(tokenizer.texts_to_matrix(texts, mode = 'tfidf').round(2))"
      ],
      "execution_count": 6,
      "outputs": [
        {
          "output_type": "stream",
          "name": "stdout",
          "text": [
            "[[0.   0.   0.85 0.85 1.1  0.   0.   0.   0.   0.  ]\n",
            " [0.   0.85 0.85 0.85 0.   0.   0.   0.   0.   0.  ]\n",
            " [0.   1.43 0.   0.   0.   1.1  1.1  0.   0.   0.  ]\n",
            " [0.   0.   0.   0.   0.   0.   0.   1.1  1.1  1.1 ]]\n"
          ]
        }
      ]
    },
    {
      "cell_type": "code",
      "metadata": {
        "colab": {
          "base_uri": "https://localhost:8080/"
        },
        "id": "u7eb55H7lziw",
        "outputId": "2f40a53c-baec-4e98-c8d4-a6178432df4a"
      },
      "source": [
        "print(tokenizer.texts_to_matrix(texts, mode = 'freq').round(2))"
      ],
      "execution_count": 7,
      "outputs": [
        {
          "output_type": "stream",
          "name": "stdout",
          "text": [
            "[[0.   0.   0.33 0.33 0.33 0.   0.   0.   0.   0.  ]\n",
            " [0.   0.33 0.33 0.33 0.   0.   0.   0.   0.   0.  ]\n",
            " [0.   0.5  0.   0.   0.   0.25 0.25 0.   0.   0.  ]\n",
            " [0.   0.   0.   0.   0.   0.   0.   0.33 0.33 0.33]]\n"
          ]
        }
      ]
    },
    {
      "cell_type": "markdown",
      "metadata": {
        "id": "wscv65Sal4yZ"
      },
      "source": [
        "# 2. 20개 뉴스 그룹(Twenty Newsgroups) 데이터에 대한 이해"
      ]
    },
    {
      "cell_type": "code",
      "metadata": {
        "id": "Eg6dEr7El0jg"
      },
      "source": [
        "import pandas as pd\n",
        "from sklearn.datasets import fetch_20newsgroups\n",
        "import matplotlib.pyplot as plt\n",
        "from tensorflow.keras.preprocessing.text import Tokenizer\n",
        "from tensorflow.keras.utils import to_categorical"
      ],
      "execution_count": null,
      "outputs": []
    },
    {
      "cell_type": "code",
      "metadata": {
        "colab": {
          "base_uri": "https://localhost:8080/"
        },
        "id": "6coNjlIZl6Kp",
        "outputId": "b3d7e9e4-6222-4a8a-92c0-278b2c7ce76b"
      },
      "source": [
        "newsdata = fetch_20newsgroups(subset = 'train')"
      ],
      "execution_count": null,
      "outputs": [
        {
          "output_type": "stream",
          "name": "stderr",
          "text": [
            "Downloading 20news dataset. This may take a few minutes.\n",
            "Downloading dataset from https://ndownloader.figshare.com/files/5975967 (14 MB)\n"
          ]
        }
      ]
    },
    {
      "cell_type": "code",
      "metadata": {
        "colab": {
          "base_uri": "https://localhost:8080/"
        },
        "id": "2aQCOofUl8AA",
        "outputId": "d5e40159-ae00-437e-9fb0-da9a6be114fc"
      },
      "source": [
        "print(newsdata.keys())"
      ],
      "execution_count": null,
      "outputs": [
        {
          "output_type": "stream",
          "name": "stdout",
          "text": [
            "dict_keys(['data', 'filenames', 'target_names', 'target', 'DESCR'])\n"
          ]
        }
      ]
    },
    {
      "cell_type": "code",
      "metadata": {
        "colab": {
          "base_uri": "https://localhost:8080/"
        },
        "id": "7LOnxn3tl9U4",
        "outputId": "8d064636-881e-4ade-bca8-0bfbb8487a6e"
      },
      "source": [
        "print('훈련용 샘플의 개수 : {}'.format(len(newsdata.data)))"
      ],
      "execution_count": null,
      "outputs": [
        {
          "output_type": "stream",
          "name": "stdout",
          "text": [
            "훈련용 샘플의 개수 : 11314\n"
          ]
        }
      ]
    },
    {
      "cell_type": "code",
      "metadata": {
        "colab": {
          "base_uri": "https://localhost:8080/"
        },
        "id": "lhIq8hApl-FI",
        "outputId": "1ddb7e8f-0000-47e7-a033-3b92310219a5"
      },
      "source": [
        "print('총 주제의 개수 : {}'.format(len(newsdata.target_names)))\n",
        "print(newsdata.target_names)"
      ],
      "execution_count": null,
      "outputs": [
        {
          "output_type": "stream",
          "name": "stdout",
          "text": [
            "총 주제의 개수 : 20\n",
            "['alt.atheism', 'comp.graphics', 'comp.os.ms-windows.misc', 'comp.sys.ibm.pc.hardware', 'comp.sys.mac.hardware', 'comp.windows.x', 'misc.forsale', 'rec.autos', 'rec.motorcycles', 'rec.sport.baseball', 'rec.sport.hockey', 'sci.crypt', 'sci.electronics', 'sci.med', 'sci.space', 'soc.religion.christian', 'talk.politics.guns', 'talk.politics.mideast', 'talk.politics.misc', 'talk.religion.misc']\n"
          ]
        }
      ]
    },
    {
      "cell_type": "code",
      "metadata": {
        "colab": {
          "base_uri": "https://localhost:8080/"
        },
        "id": "QpJVaLazl_LR",
        "outputId": "438b9a57-d78e-413d-9805-3630b0b4d47f"
      },
      "source": [
        "print('첫번째 샘플의 레이블 : {}'.format(newsdata.target[0]))"
      ],
      "execution_count": null,
      "outputs": [
        {
          "output_type": "stream",
          "name": "stdout",
          "text": [
            "첫번째 샘플의 레이블 : 7\n"
          ]
        }
      ]
    },
    {
      "cell_type": "code",
      "metadata": {
        "colab": {
          "base_uri": "https://localhost:8080/"
        },
        "id": "nEdK41f2l__w",
        "outputId": "eb84553b-a6c4-45cd-a22a-943d3426e7a5"
      },
      "source": [
        "print('7번 레이블이 의미하는 주제 : {}'.format(newsdata.target_names[7]))"
      ],
      "execution_count": null,
      "outputs": [
        {
          "output_type": "stream",
          "name": "stdout",
          "text": [
            "7번 레이블이 의미하는 주제 : rec.autos\n"
          ]
        }
      ]
    },
    {
      "cell_type": "code",
      "metadata": {
        "id": "9BEMpwlxmAzI"
      },
      "source": [
        "print(newsdata.data[0]) # 첫번째 샘플 출력"
      ],
      "execution_count": null,
      "outputs": []
    },
    {
      "cell_type": "code",
      "metadata": {
        "colab": {
          "base_uri": "https://localhost:8080/",
          "height": 204
        },
        "id": "lrDvtkNrmDe4",
        "outputId": "e54e93b3-7b74-4225-ec9c-77f6b4456264"
      },
      "source": [
        "data = pd.DataFrame(newsdata.data, columns = ['email'])\n",
        "data['target'] = pd.Series(newsdata.target)\n",
        "data[:5]"
      ],
      "execution_count": null,
      "outputs": [
        {
          "output_type": "execute_result",
          "data": {
            "text/html": [
              "<div>\n",
              "<style scoped>\n",
              "    .dataframe tbody tr th:only-of-type {\n",
              "        vertical-align: middle;\n",
              "    }\n",
              "\n",
              "    .dataframe tbody tr th {\n",
              "        vertical-align: top;\n",
              "    }\n",
              "\n",
              "    .dataframe thead th {\n",
              "        text-align: right;\n",
              "    }\n",
              "</style>\n",
              "<table border=\"1\" class=\"dataframe\">\n",
              "  <thead>\n",
              "    <tr style=\"text-align: right;\">\n",
              "      <th></th>\n",
              "      <th>email</th>\n",
              "      <th>target</th>\n",
              "    </tr>\n",
              "  </thead>\n",
              "  <tbody>\n",
              "    <tr>\n",
              "      <th>0</th>\n",
              "      <td>From: lerxst@wam.umd.edu (where's my thing)\\nS...</td>\n",
              "      <td>7</td>\n",
              "    </tr>\n",
              "    <tr>\n",
              "      <th>1</th>\n",
              "      <td>From: guykuo@carson.u.washington.edu (Guy Kuo)...</td>\n",
              "      <td>4</td>\n",
              "    </tr>\n",
              "    <tr>\n",
              "      <th>2</th>\n",
              "      <td>From: twillis@ec.ecn.purdue.edu (Thomas E Will...</td>\n",
              "      <td>4</td>\n",
              "    </tr>\n",
              "    <tr>\n",
              "      <th>3</th>\n",
              "      <td>From: jgreen@amber (Joe Green)\\nSubject: Re: W...</td>\n",
              "      <td>1</td>\n",
              "    </tr>\n",
              "    <tr>\n",
              "      <th>4</th>\n",
              "      <td>From: jcm@head-cfa.harvard.edu (Jonathan McDow...</td>\n",
              "      <td>14</td>\n",
              "    </tr>\n",
              "  </tbody>\n",
              "</table>\n",
              "</div>"
            ],
            "text/plain": [
              "                                               email  target\n",
              "0  From: lerxst@wam.umd.edu (where's my thing)\\nS...       7\n",
              "1  From: guykuo@carson.u.washington.edu (Guy Kuo)...       4\n",
              "2  From: twillis@ec.ecn.purdue.edu (Thomas E Will...       4\n",
              "3  From: jgreen@amber (Joe Green)\\nSubject: Re: W...       1\n",
              "4  From: jcm@head-cfa.harvard.edu (Jonathan McDow...      14"
            ]
          },
          "metadata": {},
          "execution_count": 15
        }
      ]
    },
    {
      "cell_type": "code",
      "metadata": {
        "colab": {
          "base_uri": "https://localhost:8080/"
        },
        "id": "hZ1eV-fcmFsY",
        "outputId": "f5301e53-f002-4049-be67-32e5343230d6"
      },
      "source": [
        "data.info()"
      ],
      "execution_count": null,
      "outputs": [
        {
          "output_type": "stream",
          "name": "stdout",
          "text": [
            "<class 'pandas.core.frame.DataFrame'>\n",
            "RangeIndex: 11314 entries, 0 to 11313\n",
            "Data columns (total 2 columns):\n",
            " #   Column  Non-Null Count  Dtype \n",
            "---  ------  --------------  ----- \n",
            " 0   email   11314 non-null  object\n",
            " 1   target  11314 non-null  int64 \n",
            "dtypes: int64(1), object(1)\n",
            "memory usage: 176.9+ KB\n"
          ]
        }
      ]
    },
    {
      "cell_type": "code",
      "metadata": {
        "colab": {
          "base_uri": "https://localhost:8080/"
        },
        "id": "eoA78baHmQZw",
        "outputId": "db27efcd-8b45-4375-ff8b-29a3ea6b8a29"
      },
      "source": [
        "data.isnull().values.any()"
      ],
      "execution_count": null,
      "outputs": [
        {
          "output_type": "execute_result",
          "data": {
            "text/plain": [
              "False"
            ]
          },
          "metadata": {},
          "execution_count": 17
        }
      ]
    },
    {
      "cell_type": "code",
      "metadata": {
        "colab": {
          "base_uri": "https://localhost:8080/"
        },
        "id": "NW-2JTh4mRk4",
        "outputId": "ef5e6140-4819-4d48-f2a6-d78cd08181a5"
      },
      "source": [
        "print('중복을 제외한 샘플의 수 : {}'.format(data['email'].nunique()))\n",
        "print('중복을 제외한 주제의 수 : {}'.format(data['target'].nunique()))"
      ],
      "execution_count": null,
      "outputs": [
        {
          "output_type": "stream",
          "name": "stdout",
          "text": [
            "중복을 제외한 샘플의 수 : 11314\n",
            "중복을 제외한 주제의 수 : 20\n"
          ]
        }
      ]
    },
    {
      "cell_type": "code",
      "metadata": {
        "colab": {
          "base_uri": "https://localhost:8080/",
          "height": 285
        },
        "id": "THFp6zpfmSxw",
        "outputId": "fd6b56d4-fde1-44a7-9773-74af5a9d3dfe"
      },
      "source": [
        "data['target'].value_counts().plot(kind='bar')"
      ],
      "execution_count": null,
      "outputs": [
        {
          "output_type": "execute_result",
          "data": {
            "text/plain": [
              "<matplotlib.axes._subplots.AxesSubplot at 0x7f28cc54e410>"
            ]
          },
          "metadata": {},
          "execution_count": 19
        },
        {
          "output_type": "display_data",
          "data": {
            "image/png": "[encoded data removed]",
            "text/plain": [
              "<Figure size 432x288 with 1 Axes>"
            ]
          },
          "metadata": {
            "needs_background": "light"
          }
        }
      ]
    },
    {
      "cell_type": "code",
      "metadata": {
        "colab": {
          "base_uri": "https://localhost:8080/"
        },
        "id": "p_-xDbD4mUHQ",
        "outputId": "35a02fa9-5671-4075-bdff-923ffcbcea0b"
      },
      "source": [
        "print(data.groupby('target').size().reset_index(name='count'))"
      ],
      "execution_count": null,
      "outputs": [
        {
          "output_type": "stream",
          "name": "stdout",
          "text": [
            "    target  count\n",
            "0        0    480\n",
            "1        1    584\n",
            "2        2    591\n",
            "3        3    590\n",
            "4        4    578\n",
            "5        5    593\n",
            "6        6    585\n",
            "7        7    594\n",
            "8        8    598\n",
            "9        9    597\n",
            "10      10    600\n",
            "11      11    595\n",
            "12      12    591\n",
            "13      13    594\n",
            "14      14    593\n",
            "15      15    599\n",
            "16      16    546\n",
            "17      17    564\n",
            "18      18    465\n",
            "19      19    377\n"
          ]
        }
      ]
    },
    {
      "cell_type": "code",
      "metadata": {
        "id": "xkNdFO_DmVEY"
      },
      "source": [
        "newsdata_test = fetch_20newsgroups(subset='test', shuffle=True)\n",
        "train_email = data['email']\n",
        "train_label = data['target']\n",
        "test_email = newsdata_test.data\n",
        "test_label = newsdata_test.target"
      ],
      "execution_count": null,
      "outputs": []
    },
    {
      "cell_type": "code",
      "metadata": {
        "id": "Fv2-ajxPmY-Q"
      },
      "source": [
        "max_words = 10000\n",
        "num_classes = 20"
      ],
      "execution_count": null,
      "outputs": []
    },
    {
      "cell_type": "code",
      "metadata": {
        "id": "q7IAke3umtVx"
      },
      "source": [
        "def prepare_data(train_data, test_data, mode): # 전처리 함수\n",
        "    tokenizer = Tokenizer(num_words = max_words) # max_words 개수만큼의 단어만 사용한다.\n",
        "    tokenizer.fit_on_texts(train_data)\n",
        "    X_train = tokenizer.texts_to_matrix(train_data, mode=mode) # 샘플 수 × max_words 크기의 행렬 생성\n",
        "    X_test = tokenizer.texts_to_matrix(test_data, mode=mode) # 샘플 수 × max_words 크기의 행렬 생성\n",
        "    return X_train, X_test, tokenizer.index_word"
      ],
      "execution_count": null,
      "outputs": []
    },
    {
      "cell_type": "code",
      "metadata": {
        "id": "DUWZIIR6muPB"
      },
      "source": [
        "X_train, X_test, index_to_word = prepare_data(train_email, test_email, 'binary') # binary 모드로 변환\n",
        "y_train = to_categorical(train_label, num_classes) # 원-핫 인코딩\n",
        "y_test = to_categorical(test_label, num_classes) # 원-핫 인코딩"
      ],
      "execution_count": null,
      "outputs": []
    },
    {
      "cell_type": "code",
      "metadata": {
        "colab": {
          "base_uri": "https://localhost:8080/"
        },
        "id": "gy8kIG1Bmu_J",
        "outputId": "d55c5222-fca1-4e76-c1d7-10d7ef89017f"
      },
      "source": [
        "print('훈련 샘플 본문의 크기 : {}'.format(X_train.shape))\n",
        "print('훈련 샘플 레이블의 크기 : {}'.format(y_train.shape))\n",
        "print('테스트 샘플 본문의 크기 : {}'.format(X_test.shape))\n",
        "print('테스트 샘플 레이블의 크기 : {}'.format(y_test.shape))"
      ],
      "execution_count": null,
      "outputs": [
        {
          "output_type": "stream",
          "name": "stdout",
          "text": [
            "훈련 샘플 본문의 크기 : (11314, 10000)\n",
            "훈련 샘플 레이블의 크기 : (11314, 20)\n",
            "테스트 샘플 본문의 크기 : (7532, 10000)\n",
            "테스트 샘플 레이블의 크기 : (7532, 20)\n"
          ]
        }
      ]
    },
    {
      "cell_type": "code",
      "metadata": {
        "colab": {
          "base_uri": "https://localhost:8080/"
        },
        "id": "b5Uiq9WlmvuZ",
        "outputId": "fcd6fef4-569c-4392-a57a-991cbd7684b8"
      },
      "source": [
        "print('빈도수 상위 1번 단어 : {}'.format(index_to_word[1]))\n",
        "print('빈도수 상위 9999번 단어 : {}'.format(index_to_word[9999]))"
      ],
      "execution_count": null,
      "outputs": [
        {
          "output_type": "stream",
          "name": "stdout",
          "text": [
            "빈도수 상위 1번 단어 : the\n",
            "빈도수 상위 9999번 단어 : mic\n"
          ]
        }
      ]
    },
    {
      "cell_type": "markdown",
      "metadata": {
        "id": "OQcE2khZmzoN"
      },
      "source": [
        "# 3. 다층 퍼셉트론(Multilayer Perceptron, MLP)을 사용하여 텍스트 분류하기"
      ]
    },
    {
      "cell_type": "code",
      "metadata": {
        "id": "KBExjIhSmwp5"
      },
      "source": [
        "from tensorflow.keras.models import Sequential\n",
        "from tensorflow.keras.layers import Dense, Dropout"
      ],
      "execution_count": null,
      "outputs": []
    },
    {
      "cell_type": "code",
      "metadata": {
        "id": "vO5FJGfsm015"
      },
      "source": [
        "def fit_and_evaluate(X_train, y_train, X_test, y_test):\n",
        "    model = Sequential()\n",
        "    model.add(Dense(256, input_shape=(max_words,), activation='relu'))\n",
        "    model.add(Dropout(0.5))\n",
        "    model.add(Dense(128, activation='relu'))\n",
        "    model.add(Dropout(0.5))\n",
        "    model.add(Dense(num_classes, activation='softmax'))\n",
        "\n",
        "    model.compile(loss='categorical_crossentropy', optimizer='adam', metrics=['accuracy'])\n",
        "    model.fit(X_train, y_train, batch_size=128, epochs=5, verbose=1, validation_split=0.1)\n",
        "    score = model.evaluate(X_test, y_test, batch_size=128, verbose=0)\n",
        "    return score[1]"
      ],
      "execution_count": null,
      "outputs": []
    },
    {
      "cell_type": "code",
      "metadata": {
        "colab": {
          "base_uri": "https://localhost:8080/"
        },
        "id": "fqrlMT29m13x",
        "outputId": "8b38194a-6fab-4b0a-af0e-2fe78938cdba"
      },
      "source": [
        "modes = ['binary', 'count', 'tfidf', 'freq'] # 4개의 모드를 리스트에 저장.\n",
        "\n",
        "for mode in modes: # 4개의 모드에 대해서 각각 아래의 작업을 반복한다.\n",
        "    X_train, X_test, _ = prepare_data(train_email, test_email, mode) # 모드에 따라서 데이터를 전처리\n",
        "    score = fit_and_evaluate(X_train, y_train, X_test, y_test) # 모델을 훈련하고 평가.\n",
        "    print(mode+' 모드의 테스트 정확도:', score)"
      ],
      "execution_count": null,
      "outputs": [
        {
          "output_type": "stream",
          "name": "stdout",
          "text": [
            "Epoch 1/5\n",
            "80/80 [==============================] - 2s 7ms/step - loss: 2.3107 - accuracy: 0.3273 - val_loss: 0.9903 - val_accuracy: 0.8383\n",
            "Epoch 2/5\n",
            "80/80 [==============================] - 0s 4ms/step - loss: 0.8792 - accuracy: 0.7617 - val_loss: 0.4629 - val_accuracy: 0.8843\n",
            "Epoch 3/5\n",
            "80/80 [==============================] - 0s 4ms/step - loss: 0.4274 - accuracy: 0.8861 - val_loss: 0.3539 - val_accuracy: 0.9019\n",
            "Epoch 4/5\n",
            "80/80 [==============================] - 0s 4ms/step - loss: 0.2592 - accuracy: 0.9336 - val_loss: 0.3102 - val_accuracy: 0.9108\n",
            "Epoch 5/5\n",
            "80/80 [==============================] - 0s 4ms/step - loss: 0.1724 - accuracy: 0.9573 - val_loss: 0.2954 - val_accuracy: 0.9117\n",
            "binary 모드의 테스트 정확도: 0.8304567337036133\n",
            "Epoch 1/5\n",
            "80/80 [==============================] - 1s 6ms/step - loss: 2.7635 - accuracy: 0.2408 - val_loss: 1.5770 - val_accuracy: 0.7544\n",
            "Epoch 2/5\n",
            "80/80 [==============================] - 0s 4ms/step - loss: 1.4413 - accuracy: 0.6395 - val_loss: 0.7206 - val_accuracy: 0.8410\n",
            "Epoch 3/5\n",
            "80/80 [==============================] - 0s 4ms/step - loss: 0.7817 - accuracy: 0.8058 - val_loss: 0.4982 - val_accuracy: 0.8746\n",
            "Epoch 4/5\n",
            "80/80 [==============================] - 0s 4ms/step - loss: 0.5384 - accuracy: 0.8701 - val_loss: 0.4565 - val_accuracy: 0.8807\n",
            "Epoch 5/5\n",
            "80/80 [==============================] - 0s 4ms/step - loss: 0.3510 - accuracy: 0.9179 - val_loss: 0.3994 - val_accuracy: 0.8905\n",
            "count 모드의 테스트 정확도: 0.8212957978248596\n",
            "Epoch 1/5\n",
            "80/80 [==============================] - 1s 6ms/step - loss: 2.2375 - accuracy: 0.3591 - val_loss: 0.7761 - val_accuracy: 0.8410\n",
            "Epoch 2/5\n",
            "80/80 [==============================] - 0s 5ms/step - loss: 0.8478 - accuracy: 0.7712 - val_loss: 0.4191 - val_accuracy: 0.8878\n",
            "Epoch 3/5\n",
            "80/80 [==============================] - 0s 4ms/step - loss: 0.4799 - accuracy: 0.8813 - val_loss: 0.3386 - val_accuracy: 0.9125\n",
            "Epoch 4/5\n",
            "80/80 [==============================] - 0s 4ms/step - loss: 0.3213 - accuracy: 0.9269 - val_loss: 0.3198 - val_accuracy: 0.9214\n",
            "Epoch 5/5\n",
            "80/80 [==============================] - 0s 4ms/step - loss: 0.2123 - accuracy: 0.9505 - val_loss: 0.2952 - val_accuracy: 0.9214\n",
            "tfidf 모드의 테스트 정확도: 0.8317843675613403\n",
            "Epoch 1/5\n",
            "80/80 [==============================] - 1s 6ms/step - loss: 2.9780 - accuracy: 0.0851 - val_loss: 2.9375 - val_accuracy: 0.1555\n",
            "Epoch 2/5\n",
            "80/80 [==============================] - 0s 4ms/step - loss: 2.7328 - accuracy: 0.2105 - val_loss: 2.3930 - val_accuracy: 0.3781\n",
            "Epoch 3/5\n",
            "80/80 [==============================] - 0s 4ms/step - loss: 2.1540 - accuracy: 0.3420 - val_loss: 1.8326 - val_accuracy: 0.5954\n",
            "Epoch 4/5\n",
            "80/80 [==============================] - 0s 4ms/step - loss: 1.6992 - accuracy: 0.4710 - val_loss: 1.4299 - val_accuracy: 0.6661\n",
            "Epoch 5/5\n",
            "80/80 [==============================] - 0s 4ms/step - loss: 1.3432 - accuracy: 0.5907 - val_loss: 1.1159 - val_accuracy: 0.7420\n",
            "freq 모드의 테스트 정확도: 0.6861391663551331\n"
          ]
        }
      ]
    }
  ]
}
