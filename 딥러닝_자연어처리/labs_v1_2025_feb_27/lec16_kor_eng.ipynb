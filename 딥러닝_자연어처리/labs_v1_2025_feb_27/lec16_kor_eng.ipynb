{
 "cells": [
  {
   "cell_type": "markdown",
   "metadata": {
    "id": "s7PoBGAZSxR_"
   },
   "source": [
    "#### 한글-영어 신경망기계번역: Seq2Seq"
   ]
  },
  {
   "cell_type": "code",
   "execution_count": 30,
   "metadata": {
    "id": "fI48JDlzSxSF"
   },
   "outputs": [],
   "source": [
    "import pandas as pd\n",
    "import matplotlib.pyplot as plt\n",
    "import numpy as np\n",
    "import string\n",
    "import re"
   ]
  },
  {
   "cell_type": "code",
   "execution_count": 31,
   "metadata": {
    "id": "MhVUT-dhSxSG"
   },
   "outputs": [],
   "source": [
    "from tensorflow.keras.models import Sequential\n",
    "from tensorflow.keras.layers import Dense, LSTM, Embedding, RepeatVector\n",
    "from tensorflow.keras.preprocessing.text import Tokenizer\n",
    "from tensorflow.keras.preprocessing.sequence import pad_sequences"
   ]
  },
  {
   "cell_type": "markdown",
   "metadata": {
    "id": "j74nzWZESxSH"
   },
   "source": [
    "### Read Data"
   ]
  },
  {
   "cell_type": "code",
   "execution_count": 32,
   "metadata": {},
   "outputs": [],
   "source": [
    "import pandas as pd\n",
    "file_path =\"https://raw.githubusercontent.com/hongsukyi/Lectures/main/data/kor_eng.txt\"\n",
    "df=pd.read_csv(file_path, names=['eng','kor','cc'], sep=\"\\t\")"
   ]
  },
  {
   "cell_type": "code",
   "execution_count": 33,
   "metadata": {},
   "outputs": [
    {
     "data": {
      "text/html": [
       "<div>\n",
       "<style scoped>\n",
       "    .dataframe tbody tr th:only-of-type {\n",
       "        vertical-align: middle;\n",
       "    }\n",
       "\n",
       "    .dataframe tbody tr th {\n",
       "        vertical-align: top;\n",
       "    }\n",
       "\n",
       "    .dataframe thead th {\n",
       "        text-align: right;\n",
       "    }\n",
       "</style>\n",
       "<table border=\"1\" class=\"dataframe\">\n",
       "  <thead>\n",
       "    <tr style=\"text-align: right;\">\n",
       "      <th></th>\n",
       "      <th>eng</th>\n",
       "      <th>kor</th>\n",
       "      <th>cc</th>\n",
       "    </tr>\n",
       "  </thead>\n",
       "  <tbody>\n",
       "    <tr>\n",
       "      <th>3435</th>\n",
       "      <td>Tom turned off his computer.</td>\n",
       "      <td>톰은 자기 컴퓨터를 껐어.</td>\n",
       "      <td>CC-BY 2.0 (France) Attribution: tatoeba.org #2...</td>\n",
       "    </tr>\n",
       "    <tr>\n",
       "      <th>3459</th>\n",
       "      <td>Why are you walking so fast?</td>\n",
       "      <td>왜 그렇게 빨리 걸어?</td>\n",
       "      <td>CC-BY 2.0 (France) Attribution: tatoeba.org #7...</td>\n",
       "    </tr>\n",
       "    <tr>\n",
       "      <th>2778</th>\n",
       "      <td>Tom doesn't like to lose.</td>\n",
       "      <td>톰은 지기 싫어한다.</td>\n",
       "      <td>CC-BY 2.0 (France) Attribution: tatoeba.org #3...</td>\n",
       "    </tr>\n",
       "    <tr>\n",
       "      <th>5521</th>\n",
       "      <td>My favorite city in the whole world is Boston.</td>\n",
       "      <td>내가 세상에서 가장 좋아하는 도시는 보스턴이야.</td>\n",
       "      <td>CC-BY 2.0 (France) Attribution: tatoeba.org #8...</td>\n",
       "    </tr>\n",
       "    <tr>\n",
       "      <th>2280</th>\n",
       "      <td>Fog hung over the lake.</td>\n",
       "      <td>호수 위로 안개가 꼈다.</td>\n",
       "      <td>CC-BY 2.0 (France) Attribution: tatoeba.org #9...</td>\n",
       "    </tr>\n",
       "  </tbody>\n",
       "</table>\n",
       "</div>"
      ],
      "text/plain": [
       "                                                 eng  \\\n",
       "3435                    Tom turned off his computer.   \n",
       "3459                    Why are you walking so fast?   \n",
       "2778                       Tom doesn't like to lose.   \n",
       "5521  My favorite city in the whole world is Boston.   \n",
       "2280                         Fog hung over the lake.   \n",
       "\n",
       "                             kor  \\\n",
       "3435              톰은 자기 컴퓨터를 껐어.   \n",
       "3459                왜 그렇게 빨리 걸어?   \n",
       "2778                 톰은 지기 싫어한다.   \n",
       "5521  내가 세상에서 가장 좋아하는 도시는 보스턴이야.   \n",
       "2280               호수 위로 안개가 꼈다.   \n",
       "\n",
       "                                                     cc  \n",
       "3435  CC-BY 2.0 (France) Attribution: tatoeba.org #2...  \n",
       "3459  CC-BY 2.0 (France) Attribution: tatoeba.org #7...  \n",
       "2778  CC-BY 2.0 (France) Attribution: tatoeba.org #3...  \n",
       "5521  CC-BY 2.0 (France) Attribution: tatoeba.org #8...  \n",
       "2280  CC-BY 2.0 (France) Attribution: tatoeba.org #9...  "
      ]
     },
     "execution_count": 33,
     "metadata": {},
     "output_type": "execute_result"
    }
   ],
   "source": [
    "df.sample(5)"
   ]
  },
  {
   "cell_type": "code",
   "execution_count": 35,
   "metadata": {},
   "outputs": [
    {
     "data": {
      "text/html": [
       "<div>\n",
       "<style scoped>\n",
       "    .dataframe tbody tr th:only-of-type {\n",
       "        vertical-align: middle;\n",
       "    }\n",
       "\n",
       "    .dataframe tbody tr th {\n",
       "        vertical-align: top;\n",
       "    }\n",
       "\n",
       "    .dataframe thead th {\n",
       "        text-align: right;\n",
       "    }\n",
       "</style>\n",
       "<table border=\"1\" class=\"dataframe\">\n",
       "  <thead>\n",
       "    <tr style=\"text-align: right;\">\n",
       "      <th></th>\n",
       "      <th>eng</th>\n",
       "      <th>kor</th>\n",
       "    </tr>\n",
       "  </thead>\n",
       "  <tbody>\n",
       "    <tr>\n",
       "      <th>1373</th>\n",
       "      <td>My brother is out.</td>\n",
       "      <td>남동생이 나갔다.</td>\n",
       "    </tr>\n",
       "    <tr>\n",
       "      <th>1237</th>\n",
       "      <td>Water the plants.</td>\n",
       "      <td>식물에 물을 주세요.</td>\n",
       "    </tr>\n",
       "    <tr>\n",
       "      <th>858</th>\n",
       "      <td>It's very good.</td>\n",
       "      <td>아주 좋다.</td>\n",
       "    </tr>\n",
       "    <tr>\n",
       "      <th>2299</th>\n",
       "      <td>I don't like your name.</td>\n",
       "      <td>나는 네 이름이 마음에 들지 않는다.</td>\n",
       "    </tr>\n",
       "    <tr>\n",
       "      <th>1762</th>\n",
       "      <td>Now I've had enough.</td>\n",
       "      <td>이제 충분히 했습니다.</td>\n",
       "    </tr>\n",
       "  </tbody>\n",
       "</table>\n",
       "</div>"
      ],
      "text/plain": [
       "                          eng                   kor\n",
       "1373       My brother is out.             남동생이 나갔다.\n",
       "1237        Water the plants.           식물에 물을 주세요.\n",
       "858           It's very good.                아주 좋다.\n",
       "2299  I don't like your name.  나는 네 이름이 마음에 들지 않는다.\n",
       "1762     Now I've had enough.          이제 충분히 했습니다."
      ]
     },
     "execution_count": 35,
     "metadata": {},
     "output_type": "execute_result"
    }
   ],
   "source": [
    "df=df[['eng','kor']]\n",
    "df.sample(5)"
   ]
  },
  {
   "cell_type": "code",
   "execution_count": 6,
   "metadata": {},
   "outputs": [],
   "source": [
    "# 한글과 영어에 사용하자. \n",
    "kor_eng = df.to_numpy()"
   ]
  },
  {
   "cell_type": "code",
   "execution_count": 7,
   "metadata": {},
   "outputs": [
    {
     "name": "stdout",
     "output_type": "stream",
     "text": [
      "텍스트 kor-eng 데이터 크기 : 5890\n",
      "텍스트 데이터의 shape : (5890, 2)\n",
      "[['Go.' '가.']\n",
      " ['Hi.' '안녕.']\n",
      " ['Run!' '뛰어!']\n",
      " ['Run.' '뛰어.']\n",
      " ['Who?' '누구?']]\n"
     ]
    }
   ],
   "source": [
    "print('텍스트 kor-eng 데이터 크기 :',len(kor_eng))\n",
    "print('텍스트 데이터의 shape :', kor_eng.shape)\n",
    "print(kor_eng[:5])"
   ]
  },
  {
   "cell_type": "markdown",
   "metadata": {
    "id": "szR5NytlSxSK"
   },
   "source": [
    "- 마침표를 제거와 소문자"
   ]
  },
  {
   "cell_type": "code",
   "execution_count": 8,
   "metadata": {
    "id": "QjDOELwySxSL"
   },
   "outputs": [],
   "source": [
    "# 한글과 영어 문장에서 마침표를 제거하자.\n",
    "kor_eng[:,0] = [s.translate(str.maketrans('', '', string.punctuation)) for s in kor_eng[:,0]]\n",
    "kor_eng[:,1] = [s.translate(str.maketrans('', '', string.punctuation)) for s in kor_eng[:,1]]"
   ]
  },
  {
   "cell_type": "code",
   "execution_count": 9,
   "metadata": {
    "id": "30j_0BxDSxSM",
    "scrolled": true
   },
   "outputs": [],
   "source": [
    "for i in range(len(kor_eng)):\n",
    "    kor_eng[i,0] = kor_eng[i,0].lower()\n",
    "    kor_eng[i,1] = kor_eng[i,1].lower()"
   ]
  },
  {
   "cell_type": "markdown",
   "metadata": {
    "id": "l7Vd7lMtSxSM"
   },
   "source": [
    "- 정수인코딩\n",
    "- 패딩 "
   ]
  },
  {
   "cell_type": "code",
   "execution_count": 10,
   "metadata": {
    "id": "iCNwigXRSxSN"
   },
   "outputs": [],
   "source": [
    "eng_l = []; kor_l = []\n",
    "for i in kor_eng[:,0]:\n",
    "    eng_l.append(len(i.split()))\n",
    "for i in kor_eng[:,1]:\n",
    "    kor_l.append(len(i.split()))"
   ]
  },
  {
   "cell_type": "code",
   "execution_count": 11,
   "metadata": {
    "id": "Tg1mjcAqSxSN",
    "scrolled": true
   },
   "outputs": [
    {
     "data": {
      "text/plain": [
       "<Axes: ylabel='Frequency'>"
      ]
     },
     "execution_count": 11,
     "metadata": {},
     "output_type": "execute_result"
    },
    {
     "data": {
      "image/png": "[encoded data removed]",
      "text/plain": [
       "<Figure size 640x480 with 1 Axes>"
      ]
     },
     "metadata": {},
     "output_type": "display_data"
    }
   ],
   "source": [
    "# 데이터 시각화를 위해 텍스트를 데이터 프레임을 변환한다.\n",
    "df = pd.DataFrame({'eng':eng_l, 'kor':kor_l})\n",
    "df.plot.hist(bins = 200, range=[0, 30])"
   ]
  },
  {
   "cell_type": "markdown",
   "metadata": {
    "id": "dMkp_ef4SxSO"
   },
   "source": [
    "한국어 문장의 최대 길이는 15이고 영어는 20이다."
   ]
  },
  {
   "cell_type": "markdown",
   "metadata": {
    "id": "9iNCxYvWSxSO"
   },
   "source": [
    "- 문장을 정수인코딩\n",
    "- 길이를 동일하게 패딩(padding)"
   ]
  },
  {
   "cell_type": "code",
   "execution_count": 12,
   "metadata": {
    "id": "tXfeSqPGSxSP"
   },
   "outputs": [],
   "source": [
    "# function to build a tokenizer\n",
    "def tokenization(lines):\n",
    "    tokenizer = Tokenizer()\n",
    "    tokenizer.fit_on_texts(lines)\n",
    "    return tokenizer"
   ]
  },
  {
   "cell_type": "code",
   "execution_count": 13,
   "metadata": {
    "colab": {
     "base_uri": "https://localhost:8080/"
    },
    "id": "6er_RV0VSxSP",
    "outputId": "087f8ec3-b4f8-4186-e187-331fa7f305f5"
   },
   "outputs": [
    {
     "name": "stdout",
     "output_type": "stream",
     "text": [
      "영어 어휘 크기: 3189 이다.\n"
     ]
    }
   ],
   "source": [
    "# prepare english tokenizer\n",
    "# 우선 영어를 먼저 토큰화\n",
    "eng_tokenizer = tokenization(kor_eng[:, 0])\n",
    "eng_vocab_size = len(eng_tokenizer.word_index) + 1\n",
    "eng_length = 20\n",
    "print('영어 어휘 크기: %d 이다.' % eng_vocab_size)"
   ]
  },
  {
   "cell_type": "code",
   "execution_count": 14,
   "metadata": {
    "colab": {
     "base_uri": "https://localhost:8080/"
    },
    "id": "8cYC88IpSxSP",
    "outputId": "a0d3975a-1520-4927-f7f5-8ddf189ec508"
   },
   "outputs": [
    {
     "name": "stdout",
     "output_type": "stream",
     "text": [
      "한글 토큰 개수는 : 7949\n"
     ]
    }
   ],
   "source": [
    "# prepare Korean tokenizer\n",
    "# 한글 토큰\n",
    "kor_tokenizer = tokenization(kor_eng[:, 1])\n",
    "kor_vocab_size = len(kor_tokenizer.word_index) + 1\n",
    "\n",
    "kor_length = 20\n",
    "print('한글 토큰 개수는 : %d' % kor_vocab_size)"
   ]
  },
  {
   "cell_type": "markdown",
   "metadata": {
    "id": "hQPZGWIDSxSQ"
   },
   "source": [
    "- 데이터를 훈련 세트와 테스트 세트"
   ]
  },
  {
   "cell_type": "code",
   "execution_count": 15,
   "metadata": {
    "id": "d1DDCUT8SxSQ"
   },
   "outputs": [],
   "source": [
    "from sklearn.model_selection import train_test_split\n",
    "train, test = train_test_split(kor_eng, test_size=0.2)"
   ]
  },
  {
   "cell_type": "code",
   "execution_count": 16,
   "metadata": {
    "id": "70yQRflHSxSQ"
   },
   "outputs": [],
   "source": [
    "def encode_sequences(tokenizer, length, lines):\n",
    "    seq = tokenizer.texts_to_sequences(lines)\n",
    "    seq = pad_sequences(seq, maxlen=length, padding='post')\n",
    "    return seq"
   ]
  },
  {
   "cell_type": "code",
   "execution_count": 17,
   "metadata": {
    "id": "dCm12autSxSR"
   },
   "outputs": [],
   "source": [
    "trainX = encode_sequences(kor_tokenizer, kor_length, train[:, 1])\n",
    "trainY = encode_sequences(eng_tokenizer, eng_length, train[:, 0])"
   ]
  },
  {
   "cell_type": "code",
   "execution_count": 18,
   "metadata": {
    "id": "yA5UGwukSxSR"
   },
   "outputs": [],
   "source": [
    "testX = encode_sequences(kor_tokenizer, kor_length, test[:, 1])\n",
    "testY = encode_sequences(eng_tokenizer, eng_length, test[:, 0])"
   ]
  },
  {
   "cell_type": "code",
   "execution_count": 19,
   "metadata": {
    "colab": {
     "base_uri": "https://localhost:8080/"
    },
    "id": "hr1aFXpjSxSS",
    "outputId": "94d33d49-f984-4d1c-821a-da6ed726e678"
   },
   "outputs": [
    {
     "name": "stdout",
     "output_type": "stream",
     "text": [
      "훈련용 인코더 테이터 크기:  (4712, 20)\n",
      "훈련용 디코더 데이터 크기:  (4712, 20)\n",
      "테스트 인코더 테이터 크기:  (1178, 20)\n",
      "테스트 디코더 데이터 크기:  (1178, 20)\n"
     ]
    }
   ],
   "source": [
    "print('훈련용 인코더 테이터 크기: ', trainX.shape)\n",
    "print('훈련용 디코더 데이터 크기: ', trainY.shape)\n",
    "print('테스트 인코더 테이터 크기: ', testX.shape)\n",
    "print('테스트 디코더 데이터 크기: ', testY.shape)"
   ]
  },
  {
   "cell_type": "markdown",
   "metadata": {
    "id": "KXsfWY18SxSS"
   },
   "source": [
    "- Seq2Seq 모델로 인코더에 LSTM층, 디코더에 LSTM 층"
   ]
  },
  {
   "cell_type": "code",
   "execution_count": 20,
   "metadata": {
    "id": "zRdIJuYZGLoB"
   },
   "outputs": [],
   "source": [
    "num_hiddens = 64"
   ]
  },
  {
   "cell_type": "code",
   "execution_count": 21,
   "metadata": {
    "id": "81MdRJ_9SxST"
   },
   "outputs": [],
   "source": [
    "def build_model(in_vocab, out_vocab, in_timesteps, out_timesteps, units):\n",
    "    model = Sequential()\n",
    "    model.add(Embedding(in_vocab, units))\n",
    "    model.add(LSTM(num_hiddens))\n",
    "    model.add(RepeatVector(out_timesteps))\n",
    "    model.add(LSTM(num_hiddens, return_sequences=True))\n",
    "    model.add(Dense(out_vocab, activation='softmax'))\n",
    "    return model"
   ]
  },
  {
   "cell_type": "code",
   "execution_count": 22,
   "metadata": {
    "colab": {
     "base_uri": "https://localhost:8080/"
    },
    "id": "aBTKJy_5G1cj",
    "outputId": "b95d026c-2817-4f14-f304-d6f9c9802949"
   },
   "outputs": [
    {
     "name": "stdout",
     "output_type": "stream",
     "text": [
      "kor_vocab_size:  7949\n",
      "eng_vocab_size:  3189\n",
      "kor_length:  20\n",
      "eng_length:  20\n",
      "히든 스테이트 뉴런:  64\n"
     ]
    }
   ],
   "source": [
    "# 파라미터 개수 확인\n",
    "print('kor_vocab_size: ', kor_vocab_size)\n",
    "print('eng_vocab_size: ', eng_vocab_size)\n",
    "print('kor_length: ', kor_length)\n",
    "print('eng_length: ', eng_length)\n",
    "print('히든 스테이트 뉴런: ', num_hiddens)"
   ]
  },
  {
   "cell_type": "code",
   "execution_count": 23,
   "metadata": {
    "colab": {
     "base_uri": "https://localhost:8080/"
    },
    "id": "Fd0lrP7nSxST",
    "outputId": "1b59fe51-38dc-4153-9599-36391361022b"
   },
   "outputs": [],
   "source": [
    "model = build_model(kor_vocab_size, eng_vocab_size, kor_length, eng_length, num_hiddens)\n",
    "model.compile(optimizer='adam', loss='sparse_categorical_crossentropy',metrics=['acc'])"
   ]
  },
  {
   "cell_type": "code",
   "execution_count": 24,
   "metadata": {
    "colab": {
     "base_uri": "https://localhost:8080/"
    },
    "id": "Ylvw2-gOSxSU",
    "outputId": "33b10980-65a0-4dd4-d743-b8207bfdbc1b",
    "scrolled": true
   },
   "outputs": [
    {
     "name": "stdout",
     "output_type": "stream",
     "text": [
      "Epoch 1/20\n",
      "\u001b[1m236/236\u001b[0m \u001b[32m━━━━━━━━━━━━━━━━━━━━\u001b[0m\u001b[37m\u001b[0m \u001b[1m14s\u001b[0m 34ms/step - acc: 0.7097 - loss: 4.3546 - val_acc: 0.7221 - val_loss: 2.0203\n",
      "Epoch 2/20\n",
      "\u001b[1m236/236\u001b[0m \u001b[32m━━━━━━━━━━━━━━━━━━━━\u001b[0m\u001b[37m\u001b[0m \u001b[1m7s\u001b[0m 31ms/step - acc: 0.7322 - loss: 1.9130 - val_acc: 0.7314 - val_loss: 1.9499\n",
      "Epoch 3/20\n",
      "\u001b[1m236/236\u001b[0m \u001b[32m━━━━━━━━━━━━━━━━━━━━\u001b[0m\u001b[37m\u001b[0m \u001b[1m7s\u001b[0m 30ms/step - acc: 0.7423 - loss: 1.8343 - val_acc: 0.7350 - val_loss: 1.9304\n",
      "Epoch 4/20\n",
      "\u001b[1m236/236\u001b[0m \u001b[32m━━━━━━━━━━━━━━━━━━━━\u001b[0m\u001b[37m\u001b[0m \u001b[1m7s\u001b[0m 30ms/step - acc: 0.7421 - loss: 1.8151 - val_acc: 0.7337 - val_loss: 1.9207\n",
      "Epoch 5/20\n",
      "\u001b[1m236/236\u001b[0m \u001b[32m━━━━━━━━━━━━━━━━━━━━\u001b[0m\u001b[37m\u001b[0m \u001b[1m7s\u001b[0m 30ms/step - acc: 0.7446 - loss: 1.7798 - val_acc: 0.7350 - val_loss: 1.9166\n",
      "Epoch 6/20\n",
      "\u001b[1m236/236\u001b[0m \u001b[32m━━━━━━━━━━━━━━━━━━━━\u001b[0m\u001b[37m\u001b[0m \u001b[1m7s\u001b[0m 30ms/step - acc: 0.7442 - loss: 1.7853 - val_acc: 0.7350 - val_loss: 1.9166\n",
      "Epoch 7/20\n",
      "\u001b[1m236/236\u001b[0m \u001b[32m━━━━━━━━━━━━━━━━━━━━\u001b[0m\u001b[37m\u001b[0m \u001b[1m7s\u001b[0m 30ms/step - acc: 0.7468 - loss: 1.7558 - val_acc: 0.7350 - val_loss: 1.9164\n",
      "Epoch 8/20\n",
      "\u001b[1m236/236\u001b[0m \u001b[32m━━━━━━━━━━━━━━━━━━━━\u001b[0m\u001b[37m\u001b[0m \u001b[1m7s\u001b[0m 30ms/step - acc: 0.7429 - loss: 1.7805 - val_acc: 0.7350 - val_loss: 1.9178\n",
      "Epoch 9/20\n",
      "\u001b[1m236/236\u001b[0m \u001b[32m━━━━━━━━━━━━━━━━━━━━\u001b[0m\u001b[37m\u001b[0m \u001b[1m7s\u001b[0m 30ms/step - acc: 0.7465 - loss: 1.7487 - val_acc: 0.7336 - val_loss: 1.9166\n",
      "Epoch 10/20\n",
      "\u001b[1m236/236\u001b[0m \u001b[32m━━━━━━━━━━━━━━━━━━━━\u001b[0m\u001b[37m\u001b[0m \u001b[1m7s\u001b[0m 30ms/step - acc: 0.7477 - loss: 1.7282 - val_acc: 0.7350 - val_loss: 1.9168\n",
      "Epoch 11/20\n",
      "\u001b[1m236/236\u001b[0m \u001b[32m━━━━━━━━━━━━━━━━━━━━\u001b[0m\u001b[37m\u001b[0m \u001b[1m7s\u001b[0m 30ms/step - acc: 0.7440 - loss: 1.7532 - val_acc: 0.7350 - val_loss: 1.9232\n",
      "Epoch 12/20\n",
      "\u001b[1m236/236\u001b[0m \u001b[32m━━━━━━━━━━━━━━━━━━━━\u001b[0m\u001b[37m\u001b[0m \u001b[1m7s\u001b[0m 30ms/step - acc: 0.7453 - loss: 1.7536 - val_acc: 0.7350 - val_loss: 1.9218\n",
      "Epoch 13/20\n",
      "\u001b[1m236/236\u001b[0m \u001b[32m━━━━━━━━━━━━━━━━━━━━\u001b[0m\u001b[37m\u001b[0m \u001b[1m7s\u001b[0m 30ms/step - acc: 0.7462 - loss: 1.7283 - val_acc: 0.7350 - val_loss: 1.9281\n",
      "Epoch 14/20\n",
      "\u001b[1m236/236\u001b[0m \u001b[32m━━━━━━━━━━━━━━━━━━━━\u001b[0m\u001b[37m\u001b[0m \u001b[1m7s\u001b[0m 31ms/step - acc: 0.7438 - loss: 1.7547 - val_acc: 0.7350 - val_loss: 1.9295\n",
      "Epoch 15/20\n",
      "\u001b[1m236/236\u001b[0m \u001b[32m━━━━━━━━━━━━━━━━━━━━\u001b[0m\u001b[37m\u001b[0m \u001b[1m7s\u001b[0m 30ms/step - acc: 0.7410 - loss: 1.7652 - val_acc: 0.7336 - val_loss: 1.9272\n",
      "Epoch 16/20\n",
      "\u001b[1m236/236\u001b[0m \u001b[32m━━━━━━━━━━━━━━━━━━━━\u001b[0m\u001b[37m\u001b[0m \u001b[1m7s\u001b[0m 31ms/step - acc: 0.7447 - loss: 1.7297 - val_acc: 0.7350 - val_loss: 1.9264\n",
      "Epoch 17/20\n",
      "\u001b[1m236/236\u001b[0m \u001b[32m━━━━━━━━━━━━━━━━━━━━\u001b[0m\u001b[37m\u001b[0m \u001b[1m7s\u001b[0m 30ms/step - acc: 0.7454 - loss: 1.7265 - val_acc: 0.7336 - val_loss: 1.9308\n",
      "Epoch 18/20\n",
      "\u001b[1m236/236\u001b[0m \u001b[32m━━━━━━━━━━━━━━━━━━━━\u001b[0m\u001b[37m\u001b[0m \u001b[1m7s\u001b[0m 31ms/step - acc: 0.7442 - loss: 1.7247 - val_acc: 0.7350 - val_loss: 1.9367\n",
      "Epoch 19/20\n",
      "\u001b[1m236/236\u001b[0m \u001b[32m━━━━━━━━━━━━━━━━━━━━\u001b[0m\u001b[37m\u001b[0m \u001b[1m7s\u001b[0m 30ms/step - acc: 0.7428 - loss: 1.7341 - val_acc: 0.7350 - val_loss: 1.9377\n",
      "Epoch 20/20\n",
      "\u001b[1m236/236\u001b[0m \u001b[32m━━━━━━━━━━━━━━━━━━━━\u001b[0m\u001b[37m\u001b[0m \u001b[1m7s\u001b[0m 30ms/step - acc: 0.7444 - loss: 1.7291 - val_acc: 0.7350 - val_loss: 1.9473\n"
     ]
    }
   ],
   "source": [
    "history = model.fit(trainX, trainY.reshape(trainY.shape[0], trainY.shape[1], 1),\n",
    "          epochs=20, batch_size=16,\n",
    "          validation_split = 0.2,  verbose=1)"
   ]
  },
  {
   "cell_type": "code",
   "execution_count": 25,
   "metadata": {
    "colab": {
     "base_uri": "https://localhost:8080/"
    },
    "id": "pwVoeJw2SxSU",
    "outputId": "ae406e7e-be60-43a0-8655-842e9a86657c"
   },
   "outputs": [
    {
     "data": {
      "text/plain": [
       "dict_keys(['acc', 'loss', 'val_acc', 'val_loss'])"
      ]
     },
     "execution_count": 25,
     "metadata": {},
     "output_type": "execute_result"
    }
   ],
   "source": [
    "history_dict = history.history\n",
    "history_dict.keys()"
   ]
  },
  {
   "cell_type": "code",
   "execution_count": 26,
   "metadata": {
    "colab": {
     "base_uri": "https://localhost:8080/",
     "height": 430
    },
    "id": "iU7lrkuRSxSU",
    "outputId": "bf242bd9-7ffc-4103-f6f1-758a0ac5728f",
    "scrolled": true
   },
   "outputs": [
    {
     "data": {
      "image/png": "[encoded data removed]",
      "text/plain": [
       "<Figure size 640x480 with 1 Axes>"
      ]
     },
     "metadata": {},
     "output_type": "display_data"
    }
   ],
   "source": [
    "plt.plot(history.history['loss'],'bo')\n",
    "plt.plot(history.history['val_loss'],'r')\n",
    "plt.legend(['train','validation'])\n",
    "plt.show()"
   ]
  },
  {
   "cell_type": "code",
   "execution_count": 27,
   "metadata": {
    "colab": {
     "base_uri": "https://localhost:8080/",
     "height": 430
    },
    "id": "PvGRU6xsSxSV",
    "outputId": "cef98016-09d3-4831-ec3d-358f17e01adc"
   },
   "outputs": [
    {
     "data": {
      "image/png": "[encoded data removed]",
      "text/plain": [
       "<Figure size 640x480 with 1 Axes>"
      ]
     },
     "metadata": {},
     "output_type": "display_data"
    }
   ],
   "source": [
    "plt.plot(history.history['acc'],'bo')\n",
    "plt.plot(history.history['val_acc'],'r')\n",
    "plt.legend(['train','validation'])\n",
    "plt.show()"
   ]
  },
  {
   "cell_type": "code",
   "execution_count": 28,
   "metadata": {
    "id": "aGvTrG8nSxSV"
   },
   "outputs": [
    {
     "data": {
      "text/html": [
       "<pre style=\"white-space:pre;overflow-x:auto;line-height:normal;font-family:Menlo,'DejaVu Sans Mono',consolas,'Courier New',monospace\"><span style=\"font-weight: bold\">Model: \"sequential\"</span>\n",
       "</pre>\n"
      ],
      "text/plain": [
       "\u001b[1mModel: \"sequential\"\u001b[0m\n"
      ]
     },
     "metadata": {},
     "output_type": "display_data"
    },
    {
     "data": {
      "text/html": [
       "<pre style=\"white-space:pre;overflow-x:auto;line-height:normal;font-family:Menlo,'DejaVu Sans Mono',consolas,'Courier New',monospace\">┏━━━━━━━━━━━━━━━━━━━━━━━━━━━━━━━━━━━━━━┳━━━━━━━━━━━━━━━━━━━━━━━━━━━━━┳━━━━━━━━━━━━━━━━━┓\n",
       "┃<span style=\"font-weight: bold\"> Layer (type)                         </span>┃<span style=\"font-weight: bold\"> Output Shape                </span>┃<span style=\"font-weight: bold\">         Param # </span>┃\n",
       "┡━━━━━━━━━━━━━━━━━━━━━━━━━━━━━━━━━━━━━━╇━━━━━━━━━━━━━━━━━━━━━━━━━━━━━╇━━━━━━━━━━━━━━━━━┩\n",
       "│ embedding (<span style=\"color: #0087ff; text-decoration-color: #0087ff\">Embedding</span>)                │ (<span style=\"color: #00d7ff; text-decoration-color: #00d7ff\">None</span>, <span style=\"color: #00af00; text-decoration-color: #00af00\">20</span>, <span style=\"color: #00af00; text-decoration-color: #00af00\">64</span>)              │         <span style=\"color: #00af00; text-decoration-color: #00af00\">508,736</span> │\n",
       "├──────────────────────────────────────┼─────────────────────────────┼─────────────────┤\n",
       "│ lstm (<span style=\"color: #0087ff; text-decoration-color: #0087ff\">LSTM</span>)                          │ (<span style=\"color: #00d7ff; text-decoration-color: #00d7ff\">None</span>, <span style=\"color: #00af00; text-decoration-color: #00af00\">64</span>)                  │          <span style=\"color: #00af00; text-decoration-color: #00af00\">33,024</span> │\n",
       "├──────────────────────────────────────┼─────────────────────────────┼─────────────────┤\n",
       "│ repeat_vector (<span style=\"color: #0087ff; text-decoration-color: #0087ff\">RepeatVector</span>)         │ (<span style=\"color: #00d7ff; text-decoration-color: #00d7ff\">None</span>, <span style=\"color: #00af00; text-decoration-color: #00af00\">20</span>, <span style=\"color: #00af00; text-decoration-color: #00af00\">64</span>)              │               <span style=\"color: #00af00; text-decoration-color: #00af00\">0</span> │\n",
       "├──────────────────────────────────────┼─────────────────────────────┼─────────────────┤\n",
       "│ lstm_1 (<span style=\"color: #0087ff; text-decoration-color: #0087ff\">LSTM</span>)                        │ (<span style=\"color: #00d7ff; text-decoration-color: #00d7ff\">None</span>, <span style=\"color: #00af00; text-decoration-color: #00af00\">20</span>, <span style=\"color: #00af00; text-decoration-color: #00af00\">64</span>)              │          <span style=\"color: #00af00; text-decoration-color: #00af00\">33,024</span> │\n",
       "├──────────────────────────────────────┼─────────────────────────────┼─────────────────┤\n",
       "│ dense (<span style=\"color: #0087ff; text-decoration-color: #0087ff\">Dense</span>)                        │ (<span style=\"color: #00d7ff; text-decoration-color: #00d7ff\">None</span>, <span style=\"color: #00af00; text-decoration-color: #00af00\">20</span>, <span style=\"color: #00af00; text-decoration-color: #00af00\">3189</span>)            │         <span style=\"color: #00af00; text-decoration-color: #00af00\">207,285</span> │\n",
       "└──────────────────────────────────────┴─────────────────────────────┴─────────────────┘\n",
       "</pre>\n"
      ],
      "text/plain": [
       "┏━━━━━━━━━━━━━━━━━━━━━━━━━━━━━━━━━━━━━━┳━━━━━━━━━━━━━━━━━━━━━━━━━━━━━┳━━━━━━━━━━━━━━━━━┓\n",
       "┃\u001b[1m \u001b[0m\u001b[1mLayer (type)                        \u001b[0m\u001b[1m \u001b[0m┃\u001b[1m \u001b[0m\u001b[1mOutput Shape               \u001b[0m\u001b[1m \u001b[0m┃\u001b[1m \u001b[0m\u001b[1m        Param #\u001b[0m\u001b[1m \u001b[0m┃\n",
       "┡━━━━━━━━━━━━━━━━━━━━━━━━━━━━━━━━━━━━━━╇━━━━━━━━━━━━━━━━━━━━━━━━━━━━━╇━━━━━━━━━━━━━━━━━┩\n",
       "│ embedding (\u001b[38;5;33mEmbedding\u001b[0m)                │ (\u001b[38;5;45mNone\u001b[0m, \u001b[38;5;34m20\u001b[0m, \u001b[38;5;34m64\u001b[0m)              │         \u001b[38;5;34m508,736\u001b[0m │\n",
       "├──────────────────────────────────────┼─────────────────────────────┼─────────────────┤\n",
       "│ lstm (\u001b[38;5;33mLSTM\u001b[0m)                          │ (\u001b[38;5;45mNone\u001b[0m, \u001b[38;5;34m64\u001b[0m)                  │          \u001b[38;5;34m33,024\u001b[0m │\n",
       "├──────────────────────────────────────┼─────────────────────────────┼─────────────────┤\n",
       "│ repeat_vector (\u001b[38;5;33mRepeatVector\u001b[0m)         │ (\u001b[38;5;45mNone\u001b[0m, \u001b[38;5;34m20\u001b[0m, \u001b[38;5;34m64\u001b[0m)              │               \u001b[38;5;34m0\u001b[0m │\n",
       "├──────────────────────────────────────┼─────────────────────────────┼─────────────────┤\n",
       "│ lstm_1 (\u001b[38;5;33mLSTM\u001b[0m)                        │ (\u001b[38;5;45mNone\u001b[0m, \u001b[38;5;34m20\u001b[0m, \u001b[38;5;34m64\u001b[0m)              │          \u001b[38;5;34m33,024\u001b[0m │\n",
       "├──────────────────────────────────────┼─────────────────────────────┼─────────────────┤\n",
       "│ dense (\u001b[38;5;33mDense\u001b[0m)                        │ (\u001b[38;5;45mNone\u001b[0m, \u001b[38;5;34m20\u001b[0m, \u001b[38;5;34m3189\u001b[0m)            │         \u001b[38;5;34m207,285\u001b[0m │\n",
       "└──────────────────────────────────────┴─────────────────────────────┴─────────────────┘\n"
      ]
     },
     "metadata": {},
     "output_type": "display_data"
    },
    {
     "data": {
      "text/html": [
       "<pre style=\"white-space:pre;overflow-x:auto;line-height:normal;font-family:Menlo,'DejaVu Sans Mono',consolas,'Courier New',monospace\"><span style=\"font-weight: bold\"> Total params: </span><span style=\"color: #00af00; text-decoration-color: #00af00\">2,346,209</span> (8.95 MB)\n",
       "</pre>\n"
      ],
      "text/plain": [
       "\u001b[1m Total params: \u001b[0m\u001b[38;5;34m2,346,209\u001b[0m (8.95 MB)\n"
      ]
     },
     "metadata": {},
     "output_type": "display_data"
    },
    {
     "data": {
      "text/html": [
       "<pre style=\"white-space:pre;overflow-x:auto;line-height:normal;font-family:Menlo,'DejaVu Sans Mono',consolas,'Courier New',monospace\"><span style=\"font-weight: bold\"> Trainable params: </span><span style=\"color: #00af00; text-decoration-color: #00af00\">782,069</span> (2.98 MB)\n",
       "</pre>\n"
      ],
      "text/plain": [
       "\u001b[1m Trainable params: \u001b[0m\u001b[38;5;34m782,069\u001b[0m (2.98 MB)\n"
      ]
     },
     "metadata": {},
     "output_type": "display_data"
    },
    {
     "data": {
      "text/html": [
       "<pre style=\"white-space:pre;overflow-x:auto;line-height:normal;font-family:Menlo,'DejaVu Sans Mono',consolas,'Courier New',monospace\"><span style=\"font-weight: bold\"> Non-trainable params: </span><span style=\"color: #00af00; text-decoration-color: #00af00\">0</span> (0.00 B)\n",
       "</pre>\n"
      ],
      "text/plain": [
       "\u001b[1m Non-trainable params: \u001b[0m\u001b[38;5;34m0\u001b[0m (0.00 B)\n"
      ]
     },
     "metadata": {},
     "output_type": "display_data"
    },
    {
     "data": {
      "text/html": [
       "<pre style=\"white-space:pre;overflow-x:auto;line-height:normal;font-family:Menlo,'DejaVu Sans Mono',consolas,'Courier New',monospace\"><span style=\"font-weight: bold\"> Optimizer params: </span><span style=\"color: #00af00; text-decoration-color: #00af00\">1,564,140</span> (5.97 MB)\n",
       "</pre>\n"
      ],
      "text/plain": [
       "\u001b[1m Optimizer params: \u001b[0m\u001b[38;5;34m1,564,140\u001b[0m (5.97 MB)\n"
      ]
     },
     "metadata": {},
     "output_type": "display_data"
    }
   ],
   "source": [
    "model.summary()"
   ]
  },
  {
   "cell_type": "code",
   "execution_count": null,
   "metadata": {},
   "outputs": [],
   "source": []
  }
 ],
 "metadata": {
  "accelerator": "GPU",
  "colab": {
   "gpuType": "T4",
   "provenance": []
  },
  "kernelspec": {
   "display_name": "Python 3 (ipykernel)",
   "language": "python",
   "name": "python3"
  },
  "language_info": {
   "codemirror_mode": {
    "name": "ipython",
    "version": 3
   },
   "file_extension": ".py",
   "mimetype": "text/x-python",
   "name": "python",
   "nbconvert_exporter": "python",
   "pygments_lexer": "ipython3",
   "version": "3.12.9"
  }
 },
 "nbformat": 4,
 "nbformat_minor": 4
}
