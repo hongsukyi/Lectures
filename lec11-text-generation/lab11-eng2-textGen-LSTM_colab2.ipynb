{
  "nbformat": 4,
  "nbformat_minor": 5,
  "metadata": {
    "kernelspec": {
      "display_name": "tf-cpu",
      "language": "python",
      "name": "tf-cpu"
    },
    "language_info": {
      "codemirror_mode": {
        "name": "ipython",
        "version": 3
      },
      "file_extension": ".py",
      "mimetype": "text/x-python",
      "name": "python",
      "nbconvert_exporter": "python",
      "pygments_lexer": "ipython3",
      "version": "3.8.0"
    },
    "colab": {
      "name": "lab11-eng2-textGen-LSTM.ipynb",
      "provenance": []
    }
  },
  "cells": [
    {
      "cell_type": "markdown",
      "metadata": {
        "id": "e8a17e33"
      },
      "source": [
        "# Lab 10.Eng2 \n",
        "## Text Generation through Bidirectional LSTM model"
      ],
      "id": "e8a17e33"
    },
    {
      "cell_type": "markdown",
      "metadata": {
        "id": "ca244fe9"
      },
      "source": [
        "<table class=\"tfo-notebook-buttons\" align=\"left\">\n",
        "   <td>\n",
        "    <a target=\"_blank\" href=\"https://colab.research.google.com/github.com/hongsukyi/rnn-nlp-lectures/blob/main/lec11-text-generation/lab11-eng2-textGen-LSTM.ipynb\"><img src=\"https://www.tensorflow.org/images/colab_logo_32px.png\" />Run in Google Colab</a>\n",
        "  </td>\n",
        "</table>\n",
        "\n"
      ],
      "id": "ca244fe9"
    },
    {
      "cell_type": "code",
      "metadata": {
        "colab": {
          "base_uri": "https://localhost:8080/",
          "height": 136
        },
        "id": "L4bSC4vzWFoF",
        "outputId": "91bb397c-aa7e-47cb-9e5c-c90b348fb375"
      },
      "source": [
        " https://colab.research.google.com/github.com/hongsukyi/rnn-nlp-lectures/blob/main/lec11-text-generation/lab11-eng2-textGen-LSTM.ipynb"
      ],
      "id": "L4bSC4vzWFoF",
      "execution_count": 25,
      "outputs": [
        {
          "output_type": "error",
          "ename": "SyntaxError",
          "evalue": "ignored",
          "traceback": [
            "\u001b[0;36m  File \u001b[0;32m\"<ipython-input-25-29c5510c73e1>\"\u001b[0;36m, line \u001b[0;32m1\u001b[0m\n\u001b[0;31m    https://colab.research.google.com/github.com/hongsukyi/rnn-nlp-lectures/blob/main/lec11-text-generation/lab11-eng2-textGen-LSTM.ipynb\u001b[0m\n\u001b[0m           ^\u001b[0m\n\u001b[0;31mSyntaxError\u001b[0m\u001b[0;31m:\u001b[0m invalid syntax\n"
          ]
        }
      ]
    },
    {
      "cell_type": "markdown",
      "metadata": {
        "id": "a023672e"
      },
      "source": [
        "## 1) Bidirectional LSTMs"
      ],
      "id": "a023672e"
    },
    {
      "cell_type": "markdown",
      "metadata": {
        "id": "044ddb3c"
      },
      "source": [
        "Bidirectional LSTMs are an extension of traditional LSTMs that can improve model performance on sequence classification problems. \n",
        "\n",
        "They train the model forward and backward on the same input (so for 1 layer LSTM we get 2 hidden and cell states)\n",
        "- First from left to right on the input sequence and the second in reversed order of the input sequence. "
      ],
      "id": "044ddb3c"
    },
    {
      "cell_type": "code",
      "metadata": {
        "colab": {
          "base_uri": "https://localhost:8080/",
          "height": 136
        },
        "id": "QK8rahS5TCcv",
        "outputId": "a9b52222-4921-4ca9-b688-dff4d3000ee4"
      },
      "source": [
        "https://github.com/hongsukyi/rnn-nlp-lectures/blob/main/lec11-text-generation/lab11-eng2-textGen-LSTM.ipynb"
      ],
      "id": "QK8rahS5TCcv",
      "execution_count": 18,
      "outputs": [
        {
          "output_type": "error",
          "ename": "SyntaxError",
          "evalue": "ignored",
          "traceback": [
            "\u001b[0;36m  File \u001b[0;32m\"<ipython-input-18-6a410b0b5f55>\"\u001b[0;36m, line \u001b[0;32m1\u001b[0m\n\u001b[0;31m    https://github.com/hongsukyi/rnn-nlp-lectures/blob/main/lec11-text-generation/lab11-eng2-textGen-LSTM.ipynb\u001b[0m\n\u001b[0m           ^\u001b[0m\n\u001b[0;31mSyntaxError\u001b[0m\u001b[0;31m:\u001b[0m invalid syntax\n"
          ]
        }
      ]
    },
    {
      "cell_type": "markdown",
      "metadata": {
        "id": "36a3508d"
      },
      "source": [
        "### Now let’s see how to implement this model in text generation.\n",
        "\n",
        "Import the following libraries:"
      ],
      "id": "36a3508d"
    },
    {
      "cell_type": "code",
      "metadata": {
        "id": "345b0dc6"
      },
      "source": [
        "import numpy as np\n",
        "import tensorflow as tf\n",
        "\n",
        "from tensorflow.keras.preprocessing.sequence import pad_sequences\n",
        "from tensorflow.keras.layers import Embedding, LSTM, Dense, GRU, Bidirectional\n",
        "from tensorflow.keras.preprocessing.text import Tokenizer\n",
        "from tensorflow.keras.models import Sequential\n",
        "from tensorflow.keras.optimizers import Adam\n",
        "from tensorflow.keras import regularizers\n",
        "from tensorflow.keras.utils import to_categorical, plot_model"
      ],
      "id": "345b0dc6",
      "execution_count": 11,
      "outputs": []
    },
    {
      "cell_type": "markdown",
      "metadata": {
        "id": "83d027d4"
      },
      "source": [
        "## 2) Text pre-processing"
      ],
      "id": "83d027d4"
    },
    {
      "cell_type": "markdown",
      "metadata": {
        "id": "8ec36854"
      },
      "source": [
        "- In this, the whole text is cleaned and converted to lower case and the whole corpus of sentences are joined. \n",
        "- Words are then tokenized"
      ],
      "id": "8ec36854"
    },
    {
      "cell_type": "code",
      "metadata": {
        "colab": {
          "base_uri": "https://localhost:8080/",
          "height": 191
        },
        "id": "1f06d90f",
        "outputId": "359a84f4-6705-4ad7-ed66-05e7222a9b74"
      },
      "source": [
        "tokenizer = Tokenizer()\n",
        "data = open('./tiny-shakespeare.txt').read()"
      ],
      "id": "1f06d90f",
      "execution_count": 12,
      "outputs": [
        {
          "output_type": "error",
          "ename": "FileNotFoundError",
          "evalue": "ignored",
          "traceback": [
            "\u001b[0;31m---------------------------------------------------------------------------\u001b[0m",
            "\u001b[0;31mFileNotFoundError\u001b[0m                         Traceback (most recent call last)",
            "\u001b[0;32m<ipython-input-12-fd9ff8401680>\u001b[0m in \u001b[0;36m<module>\u001b[0;34m()\u001b[0m\n\u001b[1;32m      1\u001b[0m \u001b[0mtokenizer\u001b[0m \u001b[0;34m=\u001b[0m \u001b[0mTokenizer\u001b[0m\u001b[0;34m(\u001b[0m\u001b[0;34m)\u001b[0m\u001b[0;34m\u001b[0m\u001b[0;34m\u001b[0m\u001b[0m\n\u001b[0;32m----> 2\u001b[0;31m \u001b[0mdata\u001b[0m \u001b[0;34m=\u001b[0m \u001b[0mopen\u001b[0m\u001b[0;34m(\u001b[0m\u001b[0;34m'./tiny-shakespeare.txt'\u001b[0m\u001b[0;34m)\u001b[0m\u001b[0;34m.\u001b[0m\u001b[0mread\u001b[0m\u001b[0;34m(\u001b[0m\u001b[0;34m)\u001b[0m\u001b[0;34m\u001b[0m\u001b[0;34m\u001b[0m\u001b[0m\n\u001b[0m",
            "\u001b[0;31mFileNotFoundError\u001b[0m: [Errno 2] No such file or directory: './tiny-shakespeare.txt'"
          ]
        }
      ]
    },
    {
      "cell_type": "code",
      "metadata": {
        "id": "ea835146",
        "outputId": "be68cbde-0228-4f1c-85b0-07fdfca59611"
      },
      "source": [
        "len(data)"
      ],
      "id": "ea835146",
      "execution_count": null,
      "outputs": [
        {
          "data": {
            "text/plain": [
              "1115394"
            ]
          },
          "execution_count": 3,
          "metadata": {},
          "output_type": "execute_result"
        }
      ]
    },
    {
      "cell_type": "code",
      "metadata": {
        "id": "f128de71"
      },
      "source": [
        "data=data[:10000]"
      ],
      "id": "f128de71",
      "execution_count": null,
      "outputs": []
    },
    {
      "cell_type": "code",
      "metadata": {
        "id": "0e9af69c",
        "outputId": "65cf71b7-14ce-4c43-8ad2-5d713d12fa94"
      },
      "source": [
        "corpus = data.lower().split(\"\\n\")\n",
        "tokenizer.fit_on_texts(corpus)\n",
        "print(tokenizer.word_index)"
      ],
      "id": "0e9af69c",
      "execution_count": null,
      "outputs": [
        {
          "name": "stdout",
          "output_type": "stream",
          "text": [
            "{'the': 1, 'you': 2, 'and': 3, 'to': 4, 'citizen': 5, 'first': 6, 'that': 7, 'they': 8, 'of': 9, 'it': 10, 'what': 11, 'i': 12, 'for': 13, 'menenius': 14, 'your': 15, 'a': 16, 'with': 17, 'in': 18, 'all': 19, 'are': 20, 'is': 21, 'their': 22, 'not': 23, 'he': 24, 'we': 25, 'but': 26, 'as': 27, 'this': 28, 'us': 29, 'have': 30, 'our': 31, 'me': 32, 'good': 33, 'would': 34, 'well': 35, 'make': 36, 'belly': 37, 'marcius': 38, 'him': 39, 'be': 40, 'one': 41, 'them': 42, 'his': 43, 'say': 44, 'which': 45, \"o'\": 46, 'who': 47, 'my': 48, 'speak': 49, 'at': 50, 'if': 51, 'did': 52, 'was': 53, 'must': 54, 'do': 55, 'will': 56, 'no': 57, 'second': 58, 'against': 59, 'like': 60, 'know': 61, 'more': 62, 'these': 63, 'other': 64, 'where': 65, 'sir': 66, 'most': 67, 'answer': 68, 'from': 69, 'hear': 70, 'let': 71, 'done': 72, 'poor': 73, 'on': 74, 'an': 75, 'gods': 76, 'even': 77, 'city': 78, 'strong': 79, 'shall': 80, 'friends': 81, 'yourselves': 82, 'tell': 83, 'yet': 84, 'body': 85, 'then': 86, 'receive': 87, \"what's\": 88, 'hang': 89, 'resolved': 90, 'than': 91, 'corn': 92, 'own': 93, 'patricians': 94, 'were': 95, 'think': 96, 'could': 97, 'give': 98, 'being': 99, 'proud': 100, 'hath': 101, 'though': 102, 'can': 103, 'cannot': 104, 'way': 105, 'side': 106, 'why': 107, 'so': 108, 'matter': 109, \"'em\": 110, 'care': 111, 'may': 112, 'by': 113, 'up': 114, 'or': 115, 'members': 116, 'thus': 117, \"answer'd\": 118, 'heart': 119, 'should': 120, \"'\": 121, 'upon': 122, 'great': 123, 'toe': 124, 'noble': 125, 'proceed': 126, 'any': 127, 'famish': 128, 'caius': 129, 'people': 130, \"know't\": 131, \"we'll\": 132, 'away': 133, 'word': 134, 'citizens': 135, 'wholesome': 136, 'too': 137, 'revenge': 138, 'ere': 139, 'hunger': 140, \"he's\": 141, 'very': 142, 'country': 143, 'content': 144, 'nay': 145, 'unto': 146, 'soft': 147, 'men': 148, 'please': 149, 'virtue': 150, 'help': 151, 'here': 152, 'capitol': 153, 'come': 154, 'comes': 155, 'worthy': 156, 'honest': 157, 'enough': 158, 'rest': 159, 'bats': 160, 'clubs': 161, 'senate': 162, 'now': 163, 'arms': 164, 'dearth': 165, 'state': 166, 'whose': 167, 'ever': 168, 'when': 169, 'curse': 170, \"ne'er\": 171, 'store': 172, 'grain': 173, 'daily': 174, 'rich': 175, 'eat': 176, \"there's\": 177, 'accused': 178, 'tale': 179, \"'t\": 180, 'little': 181, \"i'll\": 182, 'deliver': 183, 'only': 184, \"i'\": 185, 'see': 186, 'appetite': 187, 'common': 188, 'whole': 189, 'made': 190, 'smile': 191, 'look': 192, 'mutinous': 193, 'senators': 194, 'such': 195, \"belly's\": 196, \"you'll\": 197, 'small': 198, 'live': 199, 'through': 200, 'blood': 201, 'once': 202, 'says': 203, 'out': 204, 'rome': 205, 'find': 206, 'thou': 207, 'nor': 208, 'fire': 209, 'deserves': 210, 'hate': 211, 'ye': 212, 'granted': 213, 'before': 214, 'further': 215, 'rather': 216, 'die': 217, 'chief': 218, 'enemy': 219, 'kill': 220, 'price': 221, \"is't\": 222, 'verdict': 223, 'talking': 224, \"on't\": 225, 'accounted': 226, 'authority': 227, 'surfeits': 228, 'relieve': 229, 'yield': 230, 'superfluity': 231, 'while': 232, 'might': 233, 'guess': 234, 'relieved': 235, 'humanely': 236, 'dear': 237, 'leanness': 238, 'afflicts': 239, 'object': 240, 'misery': 241, 'inventory': 242, 'particularise': 243, 'abundance': 244, 'sufferance': 245, 'gain': 246, 'pikes': 247, 'become': 248, 'rakes': 249, 'bread': 250, 'thirst': 251, 'especially': 252, 'dog': 253, 'commonalty': 254, 'consider': 255, 'services': 256, 'has': 257, 'report': 258, 'fort': 259, 'pays': 260, 'himself': 261, 'maliciously': 262, 'famously': 263, 'end': 264, 'conscienced': 265, 'mother': 266, 'partly': 267, 'till': 268, 'altitude': 269, 'nature': 270, 'account': 271, 'vice': 272, 'covetous': 273, 'need': 274, 'barren': 275, 'accusations': 276, 'faults': 277, 'surplus': 278, 'tire': 279, 'repetition': 280, 'shouts': 281, 'risen': 282, 'stay': 283, 'prating': 284, 'agrippa': 285, 'always': 286, 'loved': 287, \"work's\": 288, 'countrymen': 289, 'hand': 290, 'go': 291, 'pray': 292, 'business': 293, 'unknown': 294, 'had': 295, 'inkling': 296, 'fortnight': 297, 'intend': 298, 'show': 299, 'deeds': 300, 'suitors': 301, 'breaths': 302, 'masters': 303, 'mine': 304, 'neighbours': 305, 'undo': 306, 'undone': 307, 'already': 308, 'charitable': 309, 'wants': 310, 'suffering': 311, 'strike': 312, 'heaven': 313, 'staves': 314, 'lift': 315, 'roman': 316, 'course': 317, 'takes': 318, 'cracking': 319, 'ten': 320, 'thousand': 321, 'curbs': 322, 'link': 323, 'asunder': 324, 'appear': 325, 'impediment': 326, 'knees': 327, 'alack': 328, 'transported': 329, 'calamity': 330, 'thither': 331, 'attends': 332, 'slander': 333, 'helms': 334, 'fathers': 335, 'enemies': 336, 'true': 337, 'indeed': 338, 'cared': 339, 'suffer': 340, 'houses': 341, 'crammed': 342, 'edicts': 343, 'usury': 344, 'support': 345, 'usurers': 346, 'repeal': 347, 'act': 348, 'established': 349, 'provide': 350, 'piercing': 351, 'statutes': 352, 'chain': 353, 'restrain': 354, 'wars': 355, 'love': 356, 'bear': 357, 'either': 358, 'confess': 359, 'wondrous': 360, 'malicious': 361, 'folly': 362, 'pretty': 363, 'heard': 364, 'since': 365, 'serves': 366, 'purpose': 367, 'venture': 368, 'stale': 369, 'fob': 370, 'off': 371, 'disgrace': 372, 'there': 373, 'time': 374, \"body's\": 375, \"rebell'd\": 376, 'gulf': 377, 'remain': 378, 'midst': 379, 'idle': 380, 'unactive': 381, 'still': 382, 'cupboarding': 383, 'viand': 384, 'never': 385, 'bearing': 386, 'labour': 387, 'instruments': 388, 'devise': 389, 'instruct': 390, 'walk': 391, 'feel': 392, 'mutually': 393, 'participate': 394, 'minister': 395, 'affection': 396, 'kind': 397, 'came': 398, 'lungs': 399, 'tauntingly': 400, 'replied': 401, 'discontented': 402, 'parts': 403, 'envied': 404, 'receipt': 405, 'fitly': 406, 'malign': 407, 'kingly': 408, 'crowned': 409, 'head': 410, 'vigilant': 411, 'eye': 412, 'counsellor': 413, 'arm': 414, 'soldier': 415, 'steed': 416, 'leg': 417, 'tongue': 418, 'trumpeter': 419, 'muniments': 420, 'petty': 421, 'helps': 422, 'fabric': 423, \"'fore\": 424, 'fellow': 425, 'speaks': 426, 'cormorant': 427, \"restrain'd\": 428, 'sink': 429, 'former': 430, 'agents': 431, 'complain': 432, 'bestow': 433, 'patience': 434, 'awhile': 435, \"ye're\": 436, 'long': 437, 'about': 438, 'note': 439, 'friend': 440, 'grave': 441, 'deliberate': 442, 'rash': 443, 'accusers': 444, \"'true\": 445, 'incorporate': 446, 'quoth': 447, \"'that\": 448, 'general': 449, 'food': 450, 'fit': 451, 'because': 452, 'am': 453, 'house': 454, 'shop': 455, 'remember': 456, 'send': 457, 'rivers': 458, 'court': 459, 'seat': 460, 'brain': 461, 'cranks': 462, 'offices': 463, 'man': 464, 'strongest': 465, 'nerves': 466, 'inferior': 467, 'veins': 468, 'natural': 469, 'competency': 470, 'whereby': 471, 'mark': 472, 'ay': 473, \"'though\": 474, 'each': 475, 'audit': 476, 'back': 477, 'flour': 478, 'leave': 479, 'bran': 480, \"to't\": 481, 'how': 482, 'apply': 483, 'examine': 484, 'counsels': 485, 'cares': 486, 'digest': 487, 'things': 488, 'rightly': 489, 'touching': 490, 'weal': 491, 'public': 492, 'benefit': 493, 'proceeds': 494, 'assembly': 495, 'lowest': 496, 'basest': 497, 'poorest': 498, 'wise': 499, 'rebellion': 500, \"go'st\": 501, 'foremost': 502, 'rascal': 503, 'art': 504, 'worst': 505, 'run': 506, \"lead'st\": 507, 'win': 508, 'some': 509, 'vantage': 510, 'ready': 511, 'stiff': 512, 'her': 513, 'rats': 514, 'point': 515, 'battle': 516, 'bale': 517, 'hail': 518, 'thanks': 519, 'dissentious': 520, 'rogues': 521, 'rubbing': 522, 'itch': 523, 'opinion': 524, 'scabs': 525, 'words': 526, 'thee': 527, 'flatter': 528, 'beneath': 529, 'abhorring': 530, 'curs': 531, 'peace': 532, 'war': 533, 'affrights': 534, 'makes': 535, 'trusts': 536, 'lions': 537, 'finds': 538, 'hares': 539, 'foxes': 540, 'geese': 541, 'surer': 542, 'coal': 543, 'ice': 544, 'hailstone': 545, 'sun': 546, 'offence': 547, 'subdues': 548, 'justice': 549, 'greatness': 550, 'affections': 551, 'sick': 552, \"man's\": 553, 'desires': 554, 'increase': 555, 'evil': 556, 'depends': 557, 'favours': 558, 'swims': 559, 'fins': 560, 'lead': 561, 'hews': 562, 'down': 563, 'oaks': 564, 'rushes': 565, 'trust': 566, 'every': 567, 'minute': 568, 'change': 569, 'mind': 570, 'call': 571, 'vile': 572, 'garland': 573, 'several': 574, 'places': 575, 'cry': 576, 'under': 577, 'keep': 578, 'awe': 579, 'else': 580, 'feed': 581, 'another': 582, 'seeking': 583, 'rates': 584, 'whereof': 585, 'stored': 586, \"they'll\": 587, 'sit': 588, 'presume': 589, \"who's\": 590, 'rise': 591, 'thrives': 592, 'declines': 593, 'factions': 594, 'conjectural': 595, 'marriages': 596, 'making': 597, 'parties': 598, 'feebling': 599, 'stand': 600, 'liking': 601, 'below': 602, 'cobbled': 603, 'shoes': 604, 'nobility': 605, 'lay': 606, 'aside': 607, 'ruth': 608, 'use': 609, 'sword': 610, 'quarry': 611, 'thousands': 612, \"quarter'd\": 613, 'slaves': 614, 'high': 615, 'pick': 616, 'lance': 617, 'almost': 618, 'thoroughly': 619, 'persuaded': 620, 'abundantly': 621, 'lack': 622, 'discretion': 623, 'passing': 624, 'cowardly': 625, 'beseech': 626, 'troop': 627, 'dissolved': 628, 'said': 629, 'hungry': 630, \"sigh'd\": 631, 'forth': 632, 'proverbs': 633, 'broke': 634, 'stone': 635, 'walls': 636, 'dogs': 637, 'meat': 638, 'mouths': 639, 'sent': 640, 'shreds': 641, 'vented': 642, 'complainings': 643, 'petition': 644, 'strange': 645, 'break': 646, 'generosity': 647, 'bold': 648, 'power': 649, 'pale': 650, 'threw': 651, 'caps': 652, 'horns': 653, 'moon': 654, 'shouting': 655, 'emulation': 656, 'five': 657, 'tribunes': 658, 'defend': 659, 'vulgar': 660, 'wisdoms': 661, 'choice': 662, \"one's\": 663, 'junius': 664, 'brutus': 665, 'sicinius': 666, 'velutus': 667, \"'sdeath\": 668, 'rabble': 669, \"unroof'd\": 670, \"prevail'd\": 671}\n"
          ]
        }
      ]
    },
    {
      "cell_type": "code",
      "metadata": {
        "id": "63e0da8f",
        "outputId": "7e2f79c3-cc7a-4f69-efbd-e9b54c30b0b7"
      },
      "source": [
        "print(corpus[:15])"
      ],
      "id": "63e0da8f",
      "execution_count": null,
      "outputs": [
        {
          "name": "stdout",
          "output_type": "stream",
          "text": [
            "['first citizen:', 'before we proceed any further, hear me speak.', '', 'all:', 'speak, speak.', '', 'first citizen:', 'you are all resolved rather to die than to famish?', '', 'all:', 'resolved. resolved.', '', 'first citizen:', 'first, you know caius marcius is chief enemy to the people.', '']\n"
          ]
        }
      ]
    },
    {
      "cell_type": "code",
      "metadata": {
        "scrolled": true,
        "id": "ff1e36c3",
        "outputId": "5c85ec7f-63be-4dfc-f93c-2449a03cb6c1"
      },
      "source": [
        "total_words = len(tokenizer.word_index) + 1\n",
        "print('total_words=',total_words)"
      ],
      "id": "ff1e36c3",
      "execution_count": null,
      "outputs": [
        {
          "name": "stdout",
          "output_type": "stream",
          "text": [
            "total_words= 672\n"
          ]
        }
      ]
    },
    {
      "cell_type": "markdown",
      "metadata": {
        "id": "d2d66888"
      },
      "source": [
        "## 3) Creating Sequences\n",
        "\n",
        "For each word, an n-gram sequence is made and input sequences are updated. It happens in the iteration for the next word and so on.\n",
        "\n",
        "- For example, in the sentence below first 'He’ was extracted out then, ‘He was ’ was extracted, and then ‘He was walking ’ was extracted, and so on."
      ],
      "id": "d2d66888"
    },
    {
      "cell_type": "markdown",
      "metadata": {
        "id": "9f36ef11"
      },
      "source": [
        "![image.png](attachment:image.png)"
      ],
      "id": "9f36ef11"
    },
    {
      "cell_type": "markdown",
      "metadata": {
        "id": "7b0d9f70"
      },
      "source": [
        "![image.png](attachment:image.png)"
      ],
      "id": "7b0d9f70"
    },
    {
      "cell_type": "code",
      "metadata": {
        "id": "92e5a746"
      },
      "source": [
        "# create input sequences using list of tokens\n",
        "input_sequences = []\n",
        "for line in corpus:\n",
        "    token_list = tokenizer.texts_to_sequences([line])[0]\n",
        "    for i in range(1, len(token_list)):\n",
        "        n_gram_sequence = token_list[:i+1]\n",
        "        input_sequences.append(n_gram_sequence)        "
      ],
      "id": "92e5a746",
      "execution_count": null,
      "outputs": []
    },
    {
      "cell_type": "markdown",
      "metadata": {
        "id": "892649c1"
      },
      "source": [
        "### Padding sequences"
      ],
      "id": "892649c1"
    },
    {
      "cell_type": "markdown",
      "metadata": {
        "id": "a701d433"
      },
      "source": [
        "- The maximum length of the sentence is extracted and then the rest of the sentences are pre-padded as per the longest sentence."
      ],
      "id": "a701d433"
    },
    {
      "cell_type": "code",
      "metadata": {
        "id": "7e2455d8"
      },
      "source": [
        "# pad sequences \n",
        "max_sequence_len = max([len(x) for x in input_sequences])\n",
        "input_sequences = np.array(pad_sequences(input_sequences, \n",
        "                                         maxlen=max_sequence_len, \n",
        "                                         padding='pre'))"
      ],
      "id": "7e2455d8",
      "execution_count": null,
      "outputs": []
    },
    {
      "cell_type": "code",
      "metadata": {
        "id": "0355b373",
        "outputId": "6a3b2038-3a75-45b5-c120-6e3261134103"
      },
      "source": [
        "print('max_len', max_sequence_len)\n",
        "print('total-words',total_words)"
      ],
      "id": "0355b373",
      "execution_count": null,
      "outputs": [
        {
          "name": "stdout",
          "output_type": "stream",
          "text": [
            "max_len 12\n",
            "total-words 672\n"
          ]
        }
      ]
    },
    {
      "cell_type": "markdown",
      "metadata": {
        "id": "19fe6515"
      },
      "source": [
        "### Label\n",
        "Extract the last word of sequence and convert it to categorical from numerical."
      ],
      "id": "19fe6515"
    },
    {
      "cell_type": "code",
      "metadata": {
        "id": "a3e227ab"
      },
      "source": [
        "# create predictors and label\n",
        "predictors, label = input_sequences[:,:-1],input_sequences[:,-1]\n",
        "\n",
        "label = to_categorical(label, num_classes=total_words)"
      ],
      "id": "a3e227ab",
      "execution_count": null,
      "outputs": []
    },
    {
      "cell_type": "markdown",
      "metadata": {
        "id": "54a12be2"
      },
      "source": [
        "## 4) Bidirectional LSTM Model\n",
        "- Let’s make a sequential model now with the first layer as the word embedding layer.\n",
        "- __'return_sequence'__ is marked as __True__ so that the word generation keeps in consideration, previous and even the words coming ahead in the sequence.\n",
        "\n",
        "- The output layer has softmax so as to get the probability of the word to be predicted next."
      ],
      "id": "54a12be2"
    },
    {
      "cell_type": "code",
      "metadata": {
        "id": "58bfe130"
      },
      "source": [
        "model = Sequential()\n",
        "model.add(Embedding(total_words, 100, input_length=max_sequence_len-1))\n",
        "model.add(Bidirectional(LSTM(150, return_sequences = True)))\n",
        "model.add(LSTM(100))\n",
        "model.add(Dense(total_words/2, activation='relu' ))\n",
        "model.add(Dense(total_words, activation='softmax'))"
      ],
      "id": "58bfe130",
      "execution_count": null,
      "outputs": []
    },
    {
      "cell_type": "code",
      "metadata": {
        "scrolled": true,
        "id": "9c90ffd6",
        "outputId": "d9cf6034-ef45-4b6d-ae86-32c65884a6b9"
      },
      "source": [
        "print(model.summary())"
      ],
      "id": "9c90ffd6",
      "execution_count": null,
      "outputs": [
        {
          "name": "stdout",
          "output_type": "stream",
          "text": [
            "Model: \"sequential_3\"\n",
            "_________________________________________________________________\n",
            " Layer (type)                Output Shape              Param #   \n",
            "=================================================================\n",
            " embedding_3 (Embedding)     (None, 11, 100)           67200     \n",
            "                                                                 \n",
            " bidirectional_1 (Bidirectio  (None, 11, 300)          226800    \n",
            " nal)                                                            \n",
            "                                                                 \n",
            " gru_3 (GRU)                 (None, 100)               120600    \n",
            "                                                                 \n",
            " dense_4 (Dense)             (None, 336)               33936     \n",
            "                                                                 \n",
            " dense_5 (Dense)             (None, 672)               226464    \n",
            "                                                                 \n",
            "=================================================================\n",
            "Total params: 675,000\n",
            "Trainable params: 675,000\n",
            "Non-trainable params: 0\n",
            "_________________________________________________________________\n",
            "None\n"
          ]
        }
      ]
    },
    {
      "cell_type": "code",
      "metadata": {
        "id": "c9e29573",
        "outputId": "f7109ab8-0d8b-486b-b3cb-dee6d2d446d1"
      },
      "source": [
        "plot_model(model, './fig_lab10_eng2.png', show_shapes=True)"
      ],
      "id": "c9e29573",
      "execution_count": null,
      "outputs": [
        {
          "data": {
            "image/png": "[encoded data removed]",
            "text/plain": [
              "<IPython.core.display.Image object>"
            ]
          },
          "execution_count": 15,
          "metadata": {},
          "output_type": "execute_result"
        }
      ]
    },
    {
      "cell_type": "code",
      "metadata": {
        "id": "8a1d54ed"
      },
      "source": [
        "model.compile(loss='categorical_crossentropy', \n",
        "              optimizer='adam', \n",
        "              metrics=['accuracy'])"
      ],
      "id": "8a1d54ed",
      "execution_count": null,
      "outputs": []
    },
    {
      "cell_type": "code",
      "metadata": {
        "id": "e80393de"
      },
      "source": [
        "import time\n",
        "start = time.perf_counter()"
      ],
      "id": "e80393de",
      "execution_count": null,
      "outputs": []
    },
    {
      "cell_type": "markdown",
      "metadata": {
        "id": "7975e577"
      },
      "source": [
        "The Elapse time for a single CPU is for 100 epochs:: \n",
        " Elapsed 230.794 seconds."
      ],
      "id": "7975e577"
    },
    {
      "cell_type": "code",
      "metadata": {
        "id": "1f4f3f03",
        "outputId": "ec6fec23-268a-4ba6-8e9a-e47bc0dacd69"
      },
      "source": [
        "import time\n",
        "start = time.perf_counter()\n",
        "history = model.fit(predictors, label, epochs=100, verbose=1)\n",
        "elapsed = time.perf_counter() - start\n",
        "print('============================\\n Elapsed %.3f seconds.' % elapsed)"
      ],
      "id": "1f4f3f03",
      "execution_count": null,
      "outputs": [
        {
          "name": "stdout",
          "output_type": "stream",
          "text": [
            "Epoch 1/100\n",
            "47/47 [==============================] - 7s 44ms/step - loss: 6.2330 - accuracy: 0.0512\n",
            "Epoch 2/100\n",
            "47/47 [==============================] - 2s 44ms/step - loss: 5.8633 - accuracy: 0.0585\n",
            "Epoch 3/100\n",
            "47/47 [==============================] - 2s 47ms/step - loss: 5.7500 - accuracy: 0.0585\n",
            "Epoch 4/100\n",
            "47/47 [==============================] - 2s 46ms/step - loss: 5.5735 - accuracy: 0.0725\n",
            "Epoch 5/100\n",
            "47/47 [==============================] - 2s 47ms/step - loss: 5.4031 - accuracy: 0.0778\n",
            "Epoch 6/100\n",
            "47/47 [==============================] - 2s 47ms/step - loss: 5.2759 - accuracy: 0.0818\n",
            "Epoch 7/100\n",
            "47/47 [==============================] - 2s 47ms/step - loss: 5.1476 - accuracy: 0.0824\n",
            "Epoch 8/100\n",
            "47/47 [==============================] - 2s 47ms/step - loss: 5.0442 - accuracy: 0.0811\n",
            "Epoch 9/100\n",
            "47/47 [==============================] - 2s 47ms/step - loss: 4.9610 - accuracy: 0.0851\n",
            "Epoch 10/100\n",
            "47/47 [==============================] - 2s 47ms/step - loss: 4.8580 - accuracy: 0.0951\n",
            "Epoch 11/100\n",
            "47/47 [==============================] - 2s 48ms/step - loss: 4.7274 - accuracy: 0.0938\n",
            "Epoch 12/100\n",
            "47/47 [==============================] - 2s 47ms/step - loss: 4.6011 - accuracy: 0.0891\n",
            "Epoch 13/100\n",
            "47/47 [==============================] - 2s 47ms/step - loss: 4.4456 - accuracy: 0.1090\n",
            "Epoch 14/100\n",
            "47/47 [==============================] - 2s 47ms/step - loss: 4.2631 - accuracy: 0.1104\n",
            "Epoch 15/100\n",
            "47/47 [==============================] - 2s 47ms/step - loss: 4.0730 - accuracy: 0.1124\n",
            "Epoch 16/100\n",
            "47/47 [==============================] - 2s 48ms/step - loss: 3.9109 - accuracy: 0.1203\n",
            "Epoch 17/100\n",
            "47/47 [==============================] - 2s 49ms/step - loss: 3.7755 - accuracy: 0.1316\n",
            "Epoch 18/100\n",
            "47/47 [==============================] - 2s 51ms/step - loss: 3.6361 - accuracy: 0.1423\n",
            "Epoch 19/100\n",
            "47/47 [==============================] - 2s 48ms/step - loss: 3.4635 - accuracy: 0.1576\n",
            "Epoch 20/100\n",
            "47/47 [==============================] - 2s 48ms/step - loss: 3.3569 - accuracy: 0.1715\n",
            "Epoch 21/100\n",
            "47/47 [==============================] - 2s 48ms/step - loss: 3.1605 - accuracy: 0.2001\n",
            "Epoch 22/100\n",
            "47/47 [==============================] - 2s 48ms/step - loss: 3.0623 - accuracy: 0.2068\n",
            "Epoch 23/100\n",
            "47/47 [==============================] - 2s 47ms/step - loss: 2.9354 - accuracy: 0.2314\n",
            "Epoch 24/100\n",
            "47/47 [==============================] - 2s 48ms/step - loss: 2.7497 - accuracy: 0.2660\n",
            "Epoch 25/100\n",
            "47/47 [==============================] - 2s 48ms/step - loss: 2.6494 - accuracy: 0.2733\n",
            "Epoch 26/100\n",
            "47/47 [==============================] - 2s 48ms/step - loss: 2.5065 - accuracy: 0.3052\n",
            "Epoch 27/100\n",
            "47/47 [==============================] - 2s 48ms/step - loss: 2.3867 - accuracy: 0.3364\n",
            "Epoch 28/100\n",
            "47/47 [==============================] - 2s 47ms/step - loss: 2.2475 - accuracy: 0.3763\n",
            "Epoch 29/100\n",
            "47/47 [==============================] - 2s 47ms/step - loss: 2.1311 - accuracy: 0.3930\n",
            "Epoch 30/100\n",
            "47/47 [==============================] - 2s 47ms/step - loss: 2.0153 - accuracy: 0.4202\n",
            "Epoch 31/100\n",
            "47/47 [==============================] - 2s 47ms/step - loss: 1.9208 - accuracy: 0.4661\n",
            "Epoch 32/100\n",
            "47/47 [==============================] - 2s 48ms/step - loss: 1.8256 - accuracy: 0.4934\n",
            "Epoch 33/100\n",
            "47/47 [==============================] - 2s 48ms/step - loss: 1.7546 - accuracy: 0.5106\n",
            "Epoch 34/100\n",
            "47/47 [==============================] - 2s 47ms/step - loss: 1.6415 - accuracy: 0.5312\n",
            "Epoch 35/100\n",
            "47/47 [==============================] - 2s 47ms/step - loss: 1.5238 - accuracy: 0.5851\n",
            "Epoch 36/100\n",
            "47/47 [==============================] - 2s 48ms/step - loss: 1.3850 - accuracy: 0.6210\n",
            "Epoch 37/100\n",
            "47/47 [==============================] - 2s 48ms/step - loss: 1.2860 - accuracy: 0.6463\n",
            "Epoch 38/100\n",
            "47/47 [==============================] - 2s 47ms/step - loss: 1.1947 - accuracy: 0.6656\n",
            "Epoch 39/100\n",
            "47/47 [==============================] - 2s 48ms/step - loss: 1.1708 - accuracy: 0.6842\n",
            "Epoch 40/100\n",
            "47/47 [==============================] - 2s 48ms/step - loss: 1.0932 - accuracy: 0.7015\n",
            "Epoch 41/100\n",
            "47/47 [==============================] - 2s 47ms/step - loss: 1.0150 - accuracy: 0.7247\n",
            "Epoch 42/100\n",
            "47/47 [==============================] - 2s 47ms/step - loss: 0.9473 - accuracy: 0.7453\n",
            "Epoch 43/100\n",
            "47/47 [==============================] - 2s 47ms/step - loss: 0.8750 - accuracy: 0.7686\n",
            "Epoch 44/100\n",
            "47/47 [==============================] - 2s 47ms/step - loss: 0.8473 - accuracy: 0.7753\n",
            "Epoch 45/100\n",
            "47/47 [==============================] - 2s 47ms/step - loss: 0.7954 - accuracy: 0.7886\n",
            "Epoch 46/100\n",
            "47/47 [==============================] - 2s 48ms/step - loss: 0.7463 - accuracy: 0.8085\n",
            "Epoch 47/100\n",
            "47/47 [==============================] - 2s 47ms/step - loss: 0.7334 - accuracy: 0.7985\n",
            "Epoch 48/100\n",
            "47/47 [==============================] - 2s 48ms/step - loss: 0.7322 - accuracy: 0.7959\n",
            "Epoch 49/100\n",
            "47/47 [==============================] - 2s 48ms/step - loss: 0.7030 - accuracy: 0.8005\n",
            "Epoch 50/100\n",
            "47/47 [==============================] - 2s 47ms/step - loss: 0.6293 - accuracy: 0.8291\n",
            "Epoch 51/100\n",
            "47/47 [==============================] - 2s 47ms/step - loss: 0.5890 - accuracy: 0.8391\n",
            "Epoch 52/100\n",
            "47/47 [==============================] - 2s 48ms/step - loss: 0.5674 - accuracy: 0.8484\n",
            "Epoch 53/100\n",
            "47/47 [==============================] - 2s 47ms/step - loss: 0.5341 - accuracy: 0.8491\n",
            "Epoch 54/100\n",
            "47/47 [==============================] - 2s 47ms/step - loss: 0.5070 - accuracy: 0.8597\n",
            "Epoch 55/100\n",
            "47/47 [==============================] - 2s 47ms/step - loss: 0.4857 - accuracy: 0.8617\n",
            "Epoch 56/100\n",
            "47/47 [==============================] - 2s 47ms/step - loss: 0.5011 - accuracy: 0.8617\n",
            "Epoch 57/100\n",
            "47/47 [==============================] - 2s 48ms/step - loss: 0.4801 - accuracy: 0.8677\n",
            "Epoch 58/100\n",
            "47/47 [==============================] - 2s 48ms/step - loss: 0.4776 - accuracy: 0.8670\n",
            "Epoch 59/100\n",
            "47/47 [==============================] - 2s 48ms/step - loss: 0.4338 - accuracy: 0.8790\n",
            "Epoch 60/100\n",
            "47/47 [==============================] - 2s 48ms/step - loss: 0.4214 - accuracy: 0.8803\n",
            "Epoch 61/100\n",
            "47/47 [==============================] - 2s 48ms/step - loss: 0.3754 - accuracy: 0.8910\n",
            "Epoch 62/100\n",
            "47/47 [==============================] - 2s 48ms/step - loss: 0.3617 - accuracy: 0.8963\n",
            "Epoch 63/100\n",
            "47/47 [==============================] - 2s 48ms/step - loss: 0.3416 - accuracy: 0.9003\n",
            "Epoch 64/100\n",
            "47/47 [==============================] - 2s 48ms/step - loss: 0.3350 - accuracy: 0.8989\n",
            "Epoch 65/100\n",
            "47/47 [==============================] - 2s 48ms/step - loss: 0.3248 - accuracy: 0.8963\n",
            "Epoch 66/100\n",
            "47/47 [==============================] - 2s 48ms/step - loss: 0.3181 - accuracy: 0.8996\n",
            "Epoch 67/100\n",
            "47/47 [==============================] - 2s 49ms/step - loss: 0.3227 - accuracy: 0.8956\n",
            "Epoch 68/100\n",
            "47/47 [==============================] - 2s 49ms/step - loss: 0.3252 - accuracy: 0.9009\n",
            "Epoch 69/100\n",
            "47/47 [==============================] - 2s 49ms/step - loss: 0.3234 - accuracy: 0.8983\n",
            "Epoch 70/100\n",
            "47/47 [==============================] - 2s 48ms/step - loss: 0.3220 - accuracy: 0.9009\n",
            "Epoch 71/100\n",
            "47/47 [==============================] - 2s 48ms/step - loss: 0.2973 - accuracy: 0.9069\n",
            "Epoch 72/100\n",
            "47/47 [==============================] - 2s 47ms/step - loss: 0.3076 - accuracy: 0.9016\n",
            "Epoch 73/100\n",
            "47/47 [==============================] - 2s 48ms/step - loss: 0.2932 - accuracy: 0.9069\n",
            "Epoch 74/100\n",
            "47/47 [==============================] - 2s 47ms/step - loss: 0.2756 - accuracy: 0.9109\n",
            "Epoch 75/100\n",
            "47/47 [==============================] - 2s 47ms/step - loss: 0.2843 - accuracy: 0.9109\n",
            "Epoch 76/100\n",
            "47/47 [==============================] - 2s 47ms/step - loss: 0.3813 - accuracy: 0.8856\n",
            "Epoch 77/100\n",
            "47/47 [==============================] - 2s 48ms/step - loss: 0.6732 - accuracy: 0.8025\n",
            "Epoch 78/100\n",
            "47/47 [==============================] - 2s 47ms/step - loss: 0.9730 - accuracy: 0.7181\n",
            "Epoch 79/100\n",
            "47/47 [==============================] - 2s 47ms/step - loss: 0.8528 - accuracy: 0.7453\n",
            "Epoch 80/100\n",
            "47/47 [==============================] - 2s 48ms/step - loss: 0.5600 - accuracy: 0.8191\n",
            "Epoch 81/100\n",
            "47/47 [==============================] - 2s 47ms/step - loss: 0.3783 - accuracy: 0.8790\n",
            "Epoch 82/100\n"
          ]
        },
        {
          "name": "stdout",
          "output_type": "stream",
          "text": [
            "47/47 [==============================] - 2s 47ms/step - loss: 0.3097 - accuracy: 0.9043\n",
            "Epoch 83/100\n",
            "47/47 [==============================] - 2s 48ms/step - loss: 0.2712 - accuracy: 0.9089\n",
            "Epoch 84/100\n",
            "47/47 [==============================] - 2s 47ms/step - loss: 0.2516 - accuracy: 0.9116\n",
            "Epoch 85/100\n",
            "47/47 [==============================] - 2s 48ms/step - loss: 0.2416 - accuracy: 0.9136\n",
            "Epoch 86/100\n",
            "47/47 [==============================] - 2s 48ms/step - loss: 0.2370 - accuracy: 0.9189\n",
            "Epoch 87/100\n",
            "47/47 [==============================] - 2s 49ms/step - loss: 0.2322 - accuracy: 0.9195\n",
            "Epoch 88/100\n",
            "47/47 [==============================] - 2s 48ms/step - loss: 0.2337 - accuracy: 0.9149\n",
            "Epoch 89/100\n",
            "47/47 [==============================] - 2s 49ms/step - loss: 0.2333 - accuracy: 0.9162\n",
            "Epoch 90/100\n",
            "47/47 [==============================] - 2s 48ms/step - loss: 0.2244 - accuracy: 0.9169\n",
            "Epoch 91/100\n",
            "47/47 [==============================] - 2s 48ms/step - loss: 0.2267 - accuracy: 0.9176\n",
            "Epoch 92/100\n",
            "47/47 [==============================] - 2s 49ms/step - loss: 0.2229 - accuracy: 0.9162\n",
            "Epoch 93/100\n",
            "47/47 [==============================] - 2s 48ms/step - loss: 0.2203 - accuracy: 0.9176\n",
            "Epoch 94/100\n",
            "47/47 [==============================] - 2s 48ms/step - loss: 0.2206 - accuracy: 0.9182\n",
            "Epoch 95/100\n",
            "47/47 [==============================] - 2s 48ms/step - loss: 0.2212 - accuracy: 0.9169\n",
            "Epoch 96/100\n",
            "47/47 [==============================] - 2s 48ms/step - loss: 0.2178 - accuracy: 0.9182\n",
            "Epoch 97/100\n",
            "47/47 [==============================] - 2s 47ms/step - loss: 0.2163 - accuracy: 0.9169\n",
            "Epoch 98/100\n",
            "47/47 [==============================] - 2s 48ms/step - loss: 0.2152 - accuracy: 0.9142\n",
            "Epoch 99/100\n",
            "47/47 [==============================] - 2s 48ms/step - loss: 0.2143 - accuracy: 0.9176\n",
            "Epoch 100/100\n",
            "47/47 [==============================] - 2s 48ms/step - loss: 0.2117 - accuracy: 0.9169\n",
            "============================\n",
            " Elapsed 230.794 seconds.\n"
          ]
        }
      ]
    },
    {
      "cell_type": "code",
      "metadata": {
        "id": "b8f3a0c8",
        "outputId": "7cb965e6-4c9e-4eb2-dff5-52df2202d086"
      },
      "source": [
        "import matplotlib.pyplot as plt\n",
        "acc = history.history['accuracy']\n",
        "loss = history.history['loss']\n",
        "epochs = range(len(acc))\n",
        "plt.plot(epochs, acc, 'b', label='Training accuracy')\n",
        "plt.title('Training accuracy')\n",
        "plt.figure()\n",
        "plt.plot(epochs, loss, 'b', label='Training Loss')\n",
        "plt.title('Training loss')\n",
        "plt.legend()\n",
        "plt.show()"
      ],
      "id": "b8f3a0c8",
      "execution_count": null,
      "outputs": [
        {
          "data": {
            "image/png": "[encoded data removed]",
            "text/plain": [
              "<Figure size 432x288 with 1 Axes>"
            ]
          },
          "metadata": {
            "needs_background": "light"
          },
          "output_type": "display_data"
        },
        {
          "data": {
            "image/png": "[encoded data removed]",
            "text/plain": [
              "<Figure size 432x288 with 1 Axes>"
            ]
          },
          "metadata": {
            "needs_background": "light"
          },
          "output_type": "display_data"
        }
      ]
    },
    {
      "cell_type": "markdown",
      "metadata": {
        "id": "2fc9de34"
      },
      "source": [
        "## 5) Test for the next generation. \n",
        "- 100 next words are generated this way."
      ],
      "id": "2fc9de34"
    },
    {
      "cell_type": "code",
      "metadata": {
        "id": "0d43bbb0"
      },
      "source": [
        "seed_text = \"First Servingman: A strange one as ever I looked on: I cannot get him!\"\n",
        "next_words = 100"
      ],
      "id": "0d43bbb0",
      "execution_count": null,
      "outputs": []
    },
    {
      "cell_type": "markdown",
      "metadata": {
        "id": "cdcfa967"
      },
      "source": [
        "- The seed will be taken at first and tokenized and padded on the token list. \n",
        "- Model is then used to predict with the token list as input.\n",
        "- Then most probable word is added to seed text and this happens for the next 100 words."
      ],
      "id": "cdcfa967"
    },
    {
      "cell_type": "code",
      "metadata": {
        "id": "94588bab",
        "outputId": "67d3e5eb-2e5f-4d82-975e-ac47874a504d"
      },
      "source": [
        "for _ in range(next_words):\n",
        "    token_list = tokenizer.texts_to_sequences([seed_text])[0]\n",
        "    token_list = pad_sequences([token_list], maxlen=max_sequence_len-1, padding='pre')\n",
        "    p_x = model.predict(token_list, verbose=0)\n",
        "    predicted=np.argmax(p_x,axis=1)\n",
        "    \n",
        "    output_word = \"\"\n",
        "    for word, index in tokenizer.word_index.items():\n",
        "        if index == predicted:\n",
        "            output_word = word\n",
        "            break\n",
        "    seed_text += \" \" + output_word\n",
        "print(seed_text)"
      ],
      "id": "94588bab",
      "execution_count": null,
      "outputs": [
        {
          "name": "stdout",
          "output_type": "stream",
          "text": [
            "First Servingman: A strange one as ever I looked on: I cannot get him! in pray you account remember you gods you you barren of all the rest were so mark me say he fathers fathers fathers fathers fathers fathers did venture pray you say there's which you to't own belly of man man which he remember remember please please please can which our own price please ye caps please ye price ye caps please ye caps please please ye trust ye 't please please ye 't please please ye 't please please ye 't please please ye 't please please ye 't please please ye 't please please ye 't please please ye\n"
          ]
        }
      ]
    },
    {
      "cell_type": "markdown",
      "metadata": {
        "id": "3afa88f2"
      },
      "source": [
        "## 6) HW : Optimized Model Architecture\n",
        "- The output is not perfect as for training we took only a few lines of text. \n",
        "- Hence we can very well fine-tune it."
      ],
      "id": "3afa88f2"
    },
    {
      "cell_type": "markdown",
      "metadata": {
        "id": "eab5a9ea"
      },
      "source": [
        "- For each character the model looks up the embedding, runs the GRU one timestep with the embedding as input, and applies the dense layer to generate logits predicting the log-likelihood of the next character:"
      ],
      "id": "eab5a9ea"
    },
    {
      "cell_type": "markdown",
      "metadata": {
        "id": "30eaa662"
      },
      "source": [
        "- To generate more convincing text, you could try using more GRU layers and more neurons per layer, train for longer, and add some regularization (for example, you could set recurrent_dropout=0.3 in the GRU layers)."
      ],
      "id": "30eaa662"
    },
    {
      "cell_type": "markdown",
      "metadata": {
        "id": "ad8e3a06"
      },
      "source": [
        "![image.png](attachment:image.png)"
      ],
      "id": "ad8e3a06"
    },
    {
      "cell_type": "code",
      "metadata": {
        "id": "348f0dd7"
      },
      "source": [
        "model = Sequential()\n",
        "model.add(Embedding(total_words, 100, input_length=max_sequence_len-1))\n",
        "model.add(Bidirectional(GRU(150, return_sequences = True)))\n",
        "model.add(GRU(100))\n",
        "model.add(Dense(total_words/2, activation='relu' ))\n",
        "model.add(Dense(total_words, activation='softmax'))"
      ],
      "id": "348f0dd7",
      "execution_count": null,
      "outputs": []
    },
    {
      "cell_type": "code",
      "metadata": {
        "id": "fc854d4b"
      },
      "source": [
        "model.compile(loss='categorical_crossentropy', optimizer='adam', metrics=['accuracy'])"
      ],
      "id": "fc854d4b",
      "execution_count": null,
      "outputs": []
    },
    {
      "cell_type": "code",
      "metadata": {
        "id": "9a0d9c6a",
        "outputId": "a1b749e3-cd35-4073-97c1-716817f16530"
      },
      "source": [
        "import time\n",
        "start = time.perf_counter()\n",
        "history = model.fit(predictors, label, epochs=100, verbose=1)\n",
        "elapsed = time.perf_counter() - start\n",
        "print('============================\\n Elapsed %.3f seconds.' % elapsed)"
      ],
      "id": "9a0d9c6a",
      "execution_count": null,
      "outputs": [
        {
          "name": "stdout",
          "output_type": "stream",
          "text": [
            "Epoch 1/100\n",
            "47/47 [==============================] - 6s 39ms/step - loss: 6.2408 - accuracy: 0.0512\n",
            "Epoch 2/100\n",
            "47/47 [==============================] - 2s 39ms/step - loss: 5.8674 - accuracy: 0.0585\n",
            "Epoch 3/100\n",
            "47/47 [==============================] - 2s 39ms/step - loss: 5.6603 - accuracy: 0.0705\n",
            "Epoch 4/100\n",
            "47/47 [==============================] - 2s 39ms/step - loss: 5.4505 - accuracy: 0.0751\n",
            "Epoch 5/100\n",
            "47/47 [==============================] - 2s 39ms/step - loss: 5.2189 - accuracy: 0.0805\n",
            "Epoch 6/100\n",
            "47/47 [==============================] - 2s 39ms/step - loss: 4.9744 - accuracy: 0.0891\n",
            "Epoch 7/100\n",
            "47/47 [==============================] - 2s 39ms/step - loss: 4.7066 - accuracy: 0.0891\n",
            "Epoch 8/100\n",
            "47/47 [==============================] - 2s 39ms/step - loss: 4.3996 - accuracy: 0.1104\n",
            "Epoch 9/100\n",
            "47/47 [==============================] - 2s 39ms/step - loss: 4.0485 - accuracy: 0.1237\n",
            "Epoch 10/100\n",
            "47/47 [==============================] - 2s 39ms/step - loss: 3.7119 - accuracy: 0.1596\n",
            "Epoch 11/100\n",
            "47/47 [==============================] - 2s 39ms/step - loss: 3.4177 - accuracy: 0.1769\n",
            "Epoch 12/100\n",
            "47/47 [==============================] - 2s 40ms/step - loss: 3.1196 - accuracy: 0.2194\n",
            "Epoch 13/100\n",
            "47/47 [==============================] - 2s 39ms/step - loss: 2.7803 - accuracy: 0.2779\n",
            "Epoch 14/100\n",
            "47/47 [==============================] - 2s 39ms/step - loss: 2.5038 - accuracy: 0.3205\n",
            "Epoch 15/100\n",
            "47/47 [==============================] - 2s 39ms/step - loss: 2.2115 - accuracy: 0.4069\n",
            "Epoch 16/100\n",
            "47/47 [==============================] - 2s 39ms/step - loss: 1.9367 - accuracy: 0.4781\n",
            "Epoch 17/100\n",
            "47/47 [==============================] - 2s 39ms/step - loss: 1.7276 - accuracy: 0.5080\n",
            "Epoch 18/100\n",
            "47/47 [==============================] - 2s 39ms/step - loss: 1.5295 - accuracy: 0.5771\n",
            "Epoch 19/100\n",
            "47/47 [==============================] - 2s 39ms/step - loss: 1.3564 - accuracy: 0.6203\n",
            "Epoch 20/100\n",
            "47/47 [==============================] - 2s 40ms/step - loss: 1.1736 - accuracy: 0.6895\n",
            "Epoch 21/100\n",
            "47/47 [==============================] - 2s 39ms/step - loss: 1.0177 - accuracy: 0.7174\n",
            "Epoch 22/100\n",
            "47/47 [==============================] - 2s 40ms/step - loss: 0.9090 - accuracy: 0.7547\n",
            "Epoch 23/100\n",
            "47/47 [==============================] - 2s 40ms/step - loss: 0.7887 - accuracy: 0.7886\n",
            "Epoch 24/100\n",
            "47/47 [==============================] - 2s 40ms/step - loss: 0.6967 - accuracy: 0.8238\n",
            "Epoch 25/100\n",
            "47/47 [==============================] - 2s 39ms/step - loss: 0.6513 - accuracy: 0.8331\n",
            "Epoch 26/100\n",
            "47/47 [==============================] - 2s 39ms/step - loss: 0.5701 - accuracy: 0.8491\n",
            "Epoch 27/100\n",
            "47/47 [==============================] - 2s 40ms/step - loss: 0.5003 - accuracy: 0.8710\n",
            "Epoch 28/100\n",
            "47/47 [==============================] - 2s 39ms/step - loss: 0.4593 - accuracy: 0.8823\n",
            "Epoch 29/100\n",
            "47/47 [==============================] - 2s 39ms/step - loss: 0.4191 - accuracy: 0.8969\n",
            "Epoch 30/100\n",
            "47/47 [==============================] - 2s 39ms/step - loss: 0.3803 - accuracy: 0.8989\n",
            "Epoch 31/100\n",
            "47/47 [==============================] - 2s 40ms/step - loss: 0.3466 - accuracy: 0.9082\n",
            "Epoch 32/100\n",
            "47/47 [==============================] - 2s 39ms/step - loss: 0.3268 - accuracy: 0.9122\n",
            "Epoch 33/100\n",
            "47/47 [==============================] - 2s 39ms/step - loss: 0.3153 - accuracy: 0.9142\n",
            "Epoch 34/100\n",
            "47/47 [==============================] - 2s 40ms/step - loss: 0.3001 - accuracy: 0.9129\n",
            "Epoch 35/100\n",
            "47/47 [==============================] - 2s 39ms/step - loss: 0.2887 - accuracy: 0.9142\n",
            "Epoch 36/100\n",
            "47/47 [==============================] - 2s 39ms/step - loss: 0.2808 - accuracy: 0.9156\n",
            "Epoch 37/100\n",
            "47/47 [==============================] - 2s 39ms/step - loss: 0.2749 - accuracy: 0.9169\n",
            "Epoch 38/100\n",
            "47/47 [==============================] - 2s 40ms/step - loss: 0.2661 - accuracy: 0.9102\n",
            "Epoch 39/100\n",
            "47/47 [==============================] - 2s 40ms/step - loss: 0.2602 - accuracy: 0.9122\n",
            "Epoch 40/100\n",
            "47/47 [==============================] - 2s 40ms/step - loss: 0.2560 - accuracy: 0.9182\n",
            "Epoch 41/100\n",
            "47/47 [==============================] - 2s 40ms/step - loss: 0.2449 - accuracy: 0.9182\n",
            "Epoch 42/100\n",
            "47/47 [==============================] - 2s 40ms/step - loss: 0.2447 - accuracy: 0.9156\n",
            "Epoch 43/100\n",
            "47/47 [==============================] - 2s 40ms/step - loss: 0.2427 - accuracy: 0.9176\n",
            "Epoch 44/100\n",
            "47/47 [==============================] - 2s 40ms/step - loss: 0.2368 - accuracy: 0.9169\n",
            "Epoch 45/100\n",
            "47/47 [==============================] - 2s 40ms/step - loss: 0.2289 - accuracy: 0.9222\n",
            "Epoch 46/100\n",
            "47/47 [==============================] - 2s 40ms/step - loss: 0.2298 - accuracy: 0.9136\n",
            "Epoch 47/100\n",
            "47/47 [==============================] - 2s 40ms/step - loss: 0.2244 - accuracy: 0.9182\n",
            "Epoch 48/100\n",
            "47/47 [==============================] - 2s 42ms/step - loss: 0.2314 - accuracy: 0.9162\n",
            "Epoch 49/100\n",
            "47/47 [==============================] - 2s 42ms/step - loss: 0.2241 - accuracy: 0.9142\n",
            "Epoch 50/100\n",
            "47/47 [==============================] - 2s 42ms/step - loss: 0.2206 - accuracy: 0.9202\n",
            "Epoch 51/100\n",
            "47/47 [==============================] - 2s 40ms/step - loss: 0.2223 - accuracy: 0.9169\n",
            "Epoch 52/100\n",
            "47/47 [==============================] - 2s 41ms/step - loss: 0.2170 - accuracy: 0.9195\n",
            "Epoch 53/100\n",
            "47/47 [==============================] - 2s 41ms/step - loss: 0.2194 - accuracy: 0.9195\n",
            "Epoch 54/100\n",
            "47/47 [==============================] - 2s 40ms/step - loss: 0.2179 - accuracy: 0.9162\n",
            "Epoch 55/100\n",
            "47/47 [==============================] - 2s 40ms/step - loss: 0.2153 - accuracy: 0.9195\n",
            "Epoch 56/100\n",
            "47/47 [==============================] - 2s 40ms/step - loss: 0.2114 - accuracy: 0.9162\n",
            "Epoch 57/100\n",
            "47/47 [==============================] - 2s 40ms/step - loss: 0.2267 - accuracy: 0.9142\n",
            "Epoch 58/100\n",
            "47/47 [==============================] - 2s 40ms/step - loss: 0.2449 - accuracy: 0.9076\n",
            "Epoch 59/100\n",
            "47/47 [==============================] - 2s 39ms/step - loss: 0.5672 - accuracy: 0.8218\n",
            "Epoch 60/100\n",
            "47/47 [==============================] - 2s 40ms/step - loss: 1.2899 - accuracy: 0.6297\n",
            "Epoch 61/100\n",
            "47/47 [==============================] - 2s 39ms/step - loss: 0.9915 - accuracy: 0.6908\n",
            "Epoch 62/100\n",
            "47/47 [==============================] - 2s 39ms/step - loss: 0.5162 - accuracy: 0.8291\n",
            "Epoch 63/100\n",
            "47/47 [==============================] - 2s 40ms/step - loss: 0.3222 - accuracy: 0.8883\n",
            "Epoch 64/100\n",
            "47/47 [==============================] - 2s 40ms/step - loss: 0.2519 - accuracy: 0.9116\n",
            "Epoch 65/100\n",
            "47/47 [==============================] - 2s 39ms/step - loss: 0.2148 - accuracy: 0.9129\n",
            "Epoch 66/100\n",
            "47/47 [==============================] - 2s 39ms/step - loss: 0.2078 - accuracy: 0.9162\n",
            "Epoch 67/100\n",
            "47/47 [==============================] - 2s 40ms/step - loss: 0.2051 - accuracy: 0.9182\n",
            "Epoch 68/100\n",
            "47/47 [==============================] - 2s 39ms/step - loss: 0.2035 - accuracy: 0.9189\n",
            "Epoch 69/100\n",
            "47/47 [==============================] - 2s 39ms/step - loss: 0.2058 - accuracy: 0.9176\n",
            "Epoch 70/100\n",
            "47/47 [==============================] - 2s 39ms/step - loss: 0.2018 - accuracy: 0.9176\n",
            "Epoch 71/100\n",
            "47/47 [==============================] - 2s 40ms/step - loss: 0.1987 - accuracy: 0.9182\n",
            "Epoch 72/100\n",
            "47/47 [==============================] - 2s 40ms/step - loss: 0.2031 - accuracy: 0.9176\n",
            "Epoch 73/100\n",
            "47/47 [==============================] - 2s 40ms/step - loss: 0.1980 - accuracy: 0.9156\n",
            "Epoch 74/100\n",
            "47/47 [==============================] - 2s 39ms/step - loss: 0.1993 - accuracy: 0.9149\n",
            "Epoch 75/100\n",
            "47/47 [==============================] - 2s 40ms/step - loss: 0.1958 - accuracy: 0.9189\n",
            "Epoch 76/100\n",
            "47/47 [==============================] - 2s 39ms/step - loss: 0.1981 - accuracy: 0.9156\n",
            "Epoch 77/100\n",
            "47/47 [==============================] - 2s 39ms/step - loss: 0.1971 - accuracy: 0.9202\n",
            "Epoch 78/100\n",
            "47/47 [==============================] - 2s 40ms/step - loss: 0.1951 - accuracy: 0.9195\n",
            "Epoch 79/100\n",
            "47/47 [==============================] - 2s 39ms/step - loss: 0.1925 - accuracy: 0.9169\n",
            "Epoch 80/100\n",
            "47/47 [==============================] - 2s 39ms/step - loss: 0.1975 - accuracy: 0.9162\n",
            "Epoch 81/100\n",
            "47/47 [==============================] - 2s 39ms/step - loss: 0.1937 - accuracy: 0.9156\n",
            "Epoch 82/100\n"
          ]
        },
        {
          "name": "stdout",
          "output_type": "stream",
          "text": [
            "47/47 [==============================] - 2s 40ms/step - loss: 0.1933 - accuracy: 0.9182\n",
            "Epoch 83/100\n",
            "47/47 [==============================] - 2s 39ms/step - loss: 0.1935 - accuracy: 0.9202\n",
            "Epoch 84/100\n",
            "47/47 [==============================] - 2s 39ms/step - loss: 0.1911 - accuracy: 0.9162\n",
            "Epoch 85/100\n",
            "47/47 [==============================] - 2s 40ms/step - loss: 0.1936 - accuracy: 0.9176\n",
            "Epoch 86/100\n",
            "47/47 [==============================] - 2s 40ms/step - loss: 0.1964 - accuracy: 0.9149\n",
            "Epoch 87/100\n",
            "47/47 [==============================] - 2s 39ms/step - loss: 0.1903 - accuracy: 0.9182\n",
            "Epoch 88/100\n",
            "47/47 [==============================] - 2s 39ms/step - loss: 0.1884 - accuracy: 0.9189\n",
            "Epoch 89/100\n",
            "47/47 [==============================] - 2s 40ms/step - loss: 0.1926 - accuracy: 0.9136\n",
            "Epoch 90/100\n",
            "47/47 [==============================] - 2s 40ms/step - loss: 0.1885 - accuracy: 0.9202\n",
            "Epoch 91/100\n",
            "47/47 [==============================] - 2s 39ms/step - loss: 0.1884 - accuracy: 0.9136\n",
            "Epoch 92/100\n",
            "47/47 [==============================] - 2s 39ms/step - loss: 0.1875 - accuracy: 0.9202\n",
            "Epoch 93/100\n",
            "47/47 [==============================] - 2s 39ms/step - loss: 0.1877 - accuracy: 0.9169\n",
            "Epoch 94/100\n",
            "47/47 [==============================] - 2s 39ms/step - loss: 0.1879 - accuracy: 0.9189\n",
            "Epoch 95/100\n",
            "47/47 [==============================] - 2s 39ms/step - loss: 0.1905 - accuracy: 0.9229\n",
            "Epoch 96/100\n",
            "47/47 [==============================] - 2s 39ms/step - loss: 0.1891 - accuracy: 0.9176\n",
            "Epoch 97/100\n",
            "47/47 [==============================] - 2s 40ms/step - loss: 0.1896 - accuracy: 0.9189\n",
            "Epoch 98/100\n",
            "47/47 [==============================] - 2s 39ms/step - loss: 0.1893 - accuracy: 0.9176\n",
            "Epoch 99/100\n",
            "47/47 [==============================] - 2s 39ms/step - loss: 0.1866 - accuracy: 0.9169\n",
            "Epoch 100/100\n",
            "47/47 [==============================] - 2s 39ms/step - loss: 0.1851 - accuracy: 0.9202\n",
            "============================\n",
            " Elapsed 190.578 seconds.\n"
          ]
        }
      ]
    },
    {
      "cell_type": "code",
      "metadata": {
        "id": "e5e26815"
      },
      "source": [
        ""
      ],
      "id": "e5e26815",
      "execution_count": null,
      "outputs": []
    }
  ]
}