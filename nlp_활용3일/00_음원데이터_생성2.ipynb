{
  "cells": [
    {
      "cell_type": "code",
      "execution_count": 3,
      "id": "da3287cd-7fa3-44af-bb64-2cd51981d3f6",
      "metadata": {
        "colab": {
          "base_uri": "https://localhost:8080/"
        },
        "id": "da3287cd-7fa3-44af-bb64-2cd51981d3f6",
        "outputId": "2fd5c0f8-c4b9-4837-d378-87738221e195"
      },
      "outputs": [
        {
          "output_type": "stream",
          "name": "stdout",
          "text": [
            "Requirement already satisfied: gtts in /usr/local/lib/python3.12/dist-packages (2.5.4)\n",
            "Requirement already satisfied: requests<3,>=2.27 in /usr/local/lib/python3.12/dist-packages (from gtts) (2.32.4)\n",
            "Requirement already satisfied: click<8.2,>=7.1 in /usr/local/lib/python3.12/dist-packages (from gtts) (8.1.8)\n",
            "Requirement already satisfied: charset_normalizer<4,>=2 in /usr/local/lib/python3.12/dist-packages (from requests<3,>=2.27->gtts) (3.4.3)\n",
            "Requirement already satisfied: idna<4,>=2.5 in /usr/local/lib/python3.12/dist-packages (from requests<3,>=2.27->gtts) (3.10)\n",
            "Requirement already satisfied: urllib3<3,>=1.21.1 in /usr/local/lib/python3.12/dist-packages (from requests<3,>=2.27->gtts) (2.5.0)\n",
            "Requirement already satisfied: certifi>=2017.4.17 in /usr/local/lib/python3.12/dist-packages (from requests<3,>=2.27->gtts) (2025.8.3)\n"
          ]
        }
      ],
      "source": [
        "!pip install gtts"
      ]
    },
    {
      "cell_type": "code",
      "source": [
        "from gtts import gTTS\n",
        "import zipfile\n",
        "import os"
      ],
      "metadata": {
        "id": "9KBFKQYxX7ak"
      },
      "id": "9KBFKQYxX7ak",
      "execution_count": 4,
      "outputs": []
    },
    {
      "cell_type": "code",
      "execution_count": 6,
      "id": "c56fc377-cf9e-4a5f-ba24-06453e11343e",
      "metadata": {
        "colab": {
          "base_uri": "https://localhost:8080/"
        },
        "id": "c56fc377-cf9e-4a5f-ba24-06453e11343e",
        "outputId": "990af437-eb00-4839-da22-c6cf30f599da"
      },
      "outputs": [
        {
          "output_type": "stream",
          "name": "stdout",
          "text": [
            "음성 파일 및 ZIP 생성 완료. 'emergency_calls_audio.zip' 을 다운로드하여 활용하세요.\n"
          ]
        }
      ],
      "source": [
        "from gtts import gTTS\n",
        "import zipfile\n",
        "import os\n",
        "\n",
        "scripts = [\n",
        "    \"여보세요, 강도가 우리 집에 들어왔습니다. 제발 빨리 경찰을 보내주세요.\",\n",
        "    \"길거리에서 칼부림이 났어요, 사람이 피를 흘리고 있어요, 긴급히 경찰이 필요합니다.\",\n",
        "    \"저희 동네에서 차량이 연쇄적으로 부딪혀 사고가 났어요, 부상자가 있습니다.\",\n",
        "    \"편의점에서 강도가 돈을 빼앗고 도망쳤어요, CCTV를 확인해 주세요.\",\n",
        "    \"주택가에서 화재가 발생했습니다, 불길이 번지고 있어요, 긴급히 출동해 주세요.\",\n",
        "    \"밤에 도로에서 폭주족이 위험하게 운전하고 있어요, 빨리 단속해 주세요.\",\n",
        "    \"집 앞에서 누군가 문을 부수려고 하고 있어요, 무서워서 숨었습니다, 도와주세요.\",\n",
        "    \"공원에서 폭력 사건이 발생했어요, 사람들이 싸우고 있어요.\",\n",
        "    \"음주운전 의심 차량이 고속도로에서 위험하게 운전 중입니다.\",\n",
        "    \"아파트 옆집에서 비명이 들려요, 무슨 일이 일어난 것 같습니다.\"\n",
        "]\n",
        "\n",
        "output_folder = \"emergency_calls\"\n",
        "os.makedirs(output_folder, exist_ok=True)\n",
        "\n",
        "generated_files = []\n",
        "for idx, text in enumerate(scripts):\n",
        "    tts = gTTS(text=text, lang='ko')\n",
        "    file_path = f\"{output_folder}/emergency_call_{idx+1}.mp3\"\n",
        "    tts.save(file_path)\n",
        "    generated_files.append(file_path)\n",
        "\n",
        "with zipfile.ZipFile(\"./emergency_calls_audio2.zip\", 'w') as zipf:\n",
        "    for file in generated_files:\n",
        "        zipf.write(file, os.path.basename(file))\n",
        "\n",
        "print(\"음성 파일 및 ZIP 생성 완료. 'emergency_calls_audio.zip' 을 다운로드하여 활용하세요.\")\n"
      ]
    },
    {
      "cell_type": "code",
      "source": [],
      "metadata": {
        "id": "dZ_F6Yl6X6b7"
      },
      "id": "dZ_F6Yl6X6b7",
      "execution_count": null,
      "outputs": []
    },
    {
      "cell_type": "code",
      "execution_count": 5,
      "id": "c96faf1c-9228-4a1a-ab80-727d6d798f7d",
      "metadata": {
        "colab": {
          "base_uri": "https://localhost:8080/"
        },
        "id": "c96faf1c-9228-4a1a-ab80-727d6d798f7d",
        "outputId": "b6855217-1256-450d-b979-49cb714c04ef"
      },
      "outputs": [
        {
          "output_type": "stream",
          "name": "stdout",
          "text": [
            "모든 음성 파일 생성 완료\n",
            "음성 파일 및 ZIP 생성 완료. 'call.zip' 을 다운로드하여 활용하세요.\n"
          ]
        }
      ],
      "source": [
        "from gtts import gTTS\n",
        "import os\n",
        "\n",
        "# 저장할 폴더 생성\n",
        "output_folder = \"./call\"\n",
        "os.makedirs(output_folder, exist_ok=True)\n",
        "\n",
        "#sound.txt 파일에서 신고 스크립트 읽기\n",
        "with open(\"./sound.txt\", \"r\", encoding=\"utf-8\") as f:\n",
        "    scripts = [line.strip() for line in f if line.strip()]\n",
        "\n",
        "### 수정 1\n",
        "generated_calls= []\n",
        "\n",
        "# TTS로 음성(mp3) 파일 일괄 생성\n",
        "for idx, text in enumerate(scripts):\n",
        "    tts = gTTS(text=text, lang='ko')\n",
        "    file_path = os.path.join(output_folder, f\"emergency_call_{idx+1}.mp3\")\n",
        "    tts.save(file_path)\n",
        "    ### 수정 2\n",
        "    generated_calls.append(file_path)\n",
        "    #print(f\"{file_path} 생성 완료\")\n",
        "\n",
        "print(\"모든 음성 파일 생성 완료\")\n",
        "\n",
        "### 수정 3\n",
        "with zipfile.ZipFile(\"./call.zip\", 'w') as zipf:\n",
        "    for file in generated_calls:\n",
        "        zipf.write(file, os.path.basename(file))\n",
        "\n",
        "print(\"음성 파일 및 ZIP 생성 완료. 'call.zip' 을 다운로드하여 활용하세요.\")"
      ]
    },
    {
      "cell_type": "code",
      "source": [
        "with zipfile.ZipFile(\"./call.zip\", 'w') as zipf:\n",
        "    for file in generated_calls:\n",
        "        zipf.write(file, os.path.basename(file))\n",
        "\n",
        "print(\"음성 파일 및 ZIP 생성 완료. 'call.zip' 을 다운로드하여 활용하세요.\")"
      ],
      "metadata": {
        "colab": {
          "base_uri": "https://localhost:8080/"
        },
        "id": "30-jdOntYOsq",
        "outputId": "7e2f143c-52fe-48da-d3a5-ae903205d837"
      },
      "id": "30-jdOntYOsq",
      "execution_count": 5,
      "outputs": [
        {
          "output_type": "stream",
          "name": "stdout",
          "text": [
            "음성 파일 및 ZIP 생성 완료. 'call.zip' 을 다운로드하여 활용하세요.\n"
          ]
        }
      ]
    },
    {
      "cell_type": "code",
      "execution_count": null,
      "id": "7c7463ed-678b-4e7d-9b07-33216547f445",
      "metadata": {
        "id": "7c7463ed-678b-4e7d-9b07-33216547f445"
      },
      "outputs": [],
      "source": []
    }
  ],
  "metadata": {
    "kernelspec": {
      "display_name": "Python 3",
      "name": "python3"
    },
    "language_info": {
      "codemirror_mode": {
        "name": "ipython",
        "version": 3
      },
      "file_extension": ".py",
      "mimetype": "text/x-python",
      "name": "python",
      "nbconvert_exporter": "python",
      "pygments_lexer": "ipython3",
      "version": "3.9.23"
    },
    "colab": {
      "provenance": []
    }
  },
  "nbformat": 4,
  "nbformat_minor": 5
}