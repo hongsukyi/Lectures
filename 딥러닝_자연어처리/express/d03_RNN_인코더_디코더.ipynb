{
 "cells": [
  {
   "cell_type": "markdown",
   "metadata": {
    "id": "_IatqtWk_c3A"
   },
   "source": [
    "# Sequence-to-Seqeunce\n",
    "\n",
    "* https://wikidocs.net/24996"
   ]
  },
  {
   "cell_type": "markdown",
   "metadata": {
    "id": "VgLvc6qn_u1a"
   },
   "source": [
    "* Sequence-to-sequence(Seq2Seq)는 입력된 시퀀스로부터 다른 도메인의 시퀀스를 출력하는 모델\n",
    "* 예를 들어, 한국어 도메인을 가지는 문장을 입력해 중국어 도메인에 해당하는 문장을 얻을 수 있음\n",
    "* Seq2Seq는 다른 특별한 기술을 이용하는 것이 아닌 지금까지 배운 RNN 기술들을 조합해 만들며, encoder와 decoder로 구성"
   ]
  },
  {
   "cell_type": "markdown",
   "metadata": {
    "id": "c9R3B2xOHI9a"
   },
   "source": [
    "# 기계 번역 데이터"
   ]
  },
  {
   "cell_type": "markdown",
   "metadata": {
    "id": "-SapxBVjHNYB"
   },
   "source": [
    "* 일반적인 자연어 처리의 경우, 입력 시퀀스와 출력 시퀀스의 길이가 동일함\n",
    "* Seq2Seq는 입력 시퀀스와 출력 시퀀스의 길이가 다를 수 있다고 가정\n",
    "* Seq2Seq에는 인코더의 입력, 디코더의 입력, 디코더의 출력에 해당하는 데이터가 필요\n",
    "\n"
   ]
  },
  {
   "cell_type": "markdown",
   "metadata": {
    "id": "EcRSvvCxIEpo"
   },
   "source": [
    "* 데이터는 영어 문장과 그에 해당하는 프랑스어 문장이 존재하는 기계 번역 데이터를 사용\n",
    "* url 주소에서 데이터를 받아오고, 필요없는 열(lic)은 제거\n",
    "\n"
   ]
  },
  {
   "cell_type": "code",
   "execution_count": null,
   "metadata": {
    "id": "iwmLeOAuM4Y-"
   },
   "outputs": [],
   "source": []
  },
  {
   "cell_type": "markdown",
   "metadata": {
    "id": "WDoEpzFPDzMc"
   },
   "source": [
    "* http://www.manythings.org/anki/fra-eng.zip"
   ]
  },
  {
   "cell_type": "code",
   "execution_count": null,
   "metadata": {
    "id": "0WgfErMNM0lm"
   },
   "outputs": [],
   "source": []
  },
  {
   "cell_type": "code",
   "execution_count": null,
   "metadata": {
    "id": "TJyvXEu8M05W"
   },
   "outputs": [],
   "source": []
  },
  {
   "cell_type": "markdown",
   "metadata": {
    "id": "ps4YN9SOOHle"
   },
   "source": [
    "*   데이터를 모두 사용할 경우 많은 시간이 소요되기 때문에, 일부 데이터만 사용\n",
    "*   목표 데이터에는 시작과 끝을 나타내는 토큰이 포함되어야 함\n",
    "*   여기서는 '\\t'와 '\\n'을 각각 시작과 끝을 나타내는 토큰으로 사용"
   ]
  },
  {
   "cell_type": "code",
   "execution_count": null,
   "metadata": {
    "id": "a2VkcWatNMMG"
   },
   "outputs": [],
   "source": []
  },
  {
   "cell_type": "markdown",
   "metadata": {
    "id": "F2DHfeeSOsAo"
   },
   "source": [
    "\n",
    "\n",
    "*   해당 예제에서는 글자 단위로 예측, 따라서 글자 집합을 구축해주어야 함\n",
    "*   구축한 다음, 정렬해 인덱스를 부여해 글자에 해당하는 사전을 만듬\n",
    "*   사전은 글자를 모델에 투입하도록 변환하거나 예측시 반환되는 인덱스들을 글자로 변환할 때 사용\n",
    "\n"
   ]
  },
  {
   "cell_type": "code",
   "execution_count": null,
   "metadata": {
    "id": "T18GljqANlT1"
   },
   "outputs": [],
   "source": []
  },
  {
   "cell_type": "code",
   "execution_count": null,
   "metadata": {
    "id": "HCIiItcXNoEh"
   },
   "outputs": [],
   "source": []
  },
  {
   "cell_type": "markdown",
   "metadata": {
    "id": "Flh0swsdPOhc"
   },
   "source": [
    "*   인코더에 입력될 입력 데이터를 구성\n",
    "*   문장의 글자 하나씩을 사전을 이용해 인덱스로 변환해 리스트에 넣음\n",
    "\n"
   ]
  },
  {
   "cell_type": "code",
   "execution_count": null,
   "metadata": {
    "id": "rgtp58H-NpBm"
   },
   "outputs": [],
   "source": []
  },
  {
   "cell_type": "markdown",
   "metadata": {
    "id": "agsrqdb7PQP5"
   },
   "source": [
    "\n",
    "\n",
    "*   디코더에 입력될 입력 데이터를 구성\n",
    "*   인코더 입력 데이터 처리와 동일하나, 목표 데이터에 해당하는 사전을 사용해주어야 함\n",
    "\n"
   ]
  },
  {
   "cell_type": "code",
   "execution_count": null,
   "metadata": {
    "id": "Ge1w7o54NqVA"
   },
   "outputs": [],
   "source": []
  },
  {
   "cell_type": "markdown",
   "metadata": {
    "id": "XOCf-xuEPSm1"
   },
   "source": [
    "\n",
    "*   디코더의 출력과 비교할 목표 데이터를 구성\n",
    "*   디코더의 입력 데이터를 구성할 때와 동일하나, 시작 토큰을 제외해주어야 함\n",
    "\n"
   ]
  },
  {
   "cell_type": "code",
   "execution_count": null,
   "metadata": {
    "id": "KogHdxHsNrl2"
   },
   "outputs": [],
   "source": []
  },
  {
   "cell_type": "markdown",
   "metadata": {
    "id": "5a5A0lzdPWad"
   },
   "source": [
    "\n",
    "\n",
    "* 각각의 데이터를 동일한 길이로 맞춰줌\n",
    "* 길이를 맞춰줄 때는 해당 데이터의 최대 길이로 맞춰줌\n",
    "* 원 핫 인코딩을 통해 원 핫 벡터로 변환\n",
    "\n"
   ]
  },
  {
   "cell_type": "code",
   "execution_count": null,
   "metadata": {
    "id": "8BAyplv9Nuan"
   },
   "outputs": [],
   "source": []
  },
  {
   "cell_type": "code",
   "execution_count": null,
   "metadata": {
    "id": "urrwjhZhNvse"
   },
   "outputs": [],
   "source": []
  },
  {
   "cell_type": "markdown",
   "metadata": {
    "id": "Xc68H8R9EXrK"
   },
   "source": [
    "## 인코더(Encoder)"
   ]
  },
  {
   "cell_type": "markdown",
   "metadata": {
    "id": "L6Jtuq5QGHdm"
   },
   "source": [
    "![encoder.png](data:image/png;base64,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)"
   ]
  },
  {
   "cell_type": "markdown",
   "metadata": {
    "id": "fQYNntGgExi5"
   },
   "source": [
    "\n",
    "\n",
    "* encoder는 입력 문장을 받는 여러 개의 RNN cell\n",
    "* 입력은 단어 토큰화로 단어 단위로 쪼개지고, 이는 각 시점의 encoder 입력이 됌\n",
    "* encoder는 모든 단어를 입력받고 마지막 시점의 은닉 상태를 decoder RNN cell의 첫번째 은닉 상태로 넘겨주며,\n",
    "이를 컨텍스트 벡터(context vector)라고 함\n",
    "* encoder는 입력 시퀀스를 컨텍스트 벡터라는 고정 길이 벡터로 압축하고자 함\n",
    "\n"
   ]
  },
  {
   "cell_type": "markdown",
   "metadata": {
    "id": "2nWXvDTvBcxh"
   },
   "source": [
    "## 인코더 모델 구성"
   ]
  },
  {
   "cell_type": "markdown",
   "metadata": {
    "id": "XmoZbTM68l3n"
   },
   "source": [
    "\n",
    "\n",
    "*   encoder의 구성은 일반 lstm 모델과 동일\n",
    "*   lstm 안의 return_state는 은닉 상태를 반환해줘 seq2seq 모델을 구성할 때 필요함\n",
    "\n"
   ]
  },
  {
   "cell_type": "code",
   "execution_count": null,
   "metadata": {
    "id": "puPexCSJEZb_"
   },
   "outputs": [],
   "source": []
  },
  {
   "cell_type": "markdown",
   "metadata": {
    "id": "rjbam2VaEa4q"
   },
   "source": [
    "## 디코더(Decoder)"
   ]
  },
  {
   "cell_type": "markdown",
   "metadata": {
    "id": "i5xvLcDgF_u3"
   },
   "source": [
    "![decoder.png](data:image/png;base64,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)"
   ]
  },
  {
   "cell_type": "markdown",
   "metadata": {
    "id": "5qqw7uAtF09D"
   },
   "source": [
    "* decoder는 encoder와 마찬가지로 여러 개의 RNN cell로 이루어짐\n",
    "* decoder의 처음 입력은 시작을 나타내는 토큰을 입력하며, 이 토큰 다음에 등장할 단어를 예측\n",
    "* 처음 셀에서 단어를 예측한 결과는 다시 다음 시점의 decoder 입력으로 사용\n",
    "* 위 과정을 반복해, 끝을 나타내는 토큰이 예측될 때까지 반복\n",
    "* 요약하자면 decoder는 encoder에서 넘겨받은 컨텍스트 벡터를 활용해 시퀀스를 만들어 냄\n",
    "\n"
   ]
  },
  {
   "cell_type": "markdown",
   "metadata": {
    "id": "8unfQ0tBBPWZ"
   },
   "source": [
    "### 교사 강요(Teacher Forcing)\n"
   ]
  },
  {
   "cell_type": "markdown",
   "metadata": {
    "id": "jTuXNNhmBXml"
   },
   "source": [
    "* 앞서 설명한 seq2seq 모델을 잘 살펴보면 디코더의 입력이 필요하지 않음을 알 수 있음\n",
    "* 예측이 잘못됐을 경우, 잘못된 예측이 다음 시점으로 입력돼 연쇄적으로 잘못된 예측을 함\n",
    "* 이를 해결하기 위해 디코더의 다음 시점의 입력으로 이전 시점의 출력이 아닌, 정답을 주어 이를 방지함\n",
    "\n",
    "\n",
    "\n"
   ]
  },
  {
   "cell_type": "markdown",
   "metadata": {
    "id": "iEjNhInwBYJQ"
   },
   "source": [
    "## 디코더 모델 구성"
   ]
  },
  {
   "cell_type": "markdown",
   "metadata": {
    "id": "FH1CNOj99iG5"
   },
   "source": [
    "\n",
    "\n",
    "*   모델의 구성은 encoder과 거의 유사함\n",
    "*   lstm의 return_sequences는 출력을 시퀀스로 반환할 때 사용\n",
    "*   decoder_lstm을 사용할 때는 initial_state를 인코더의 은닉 상태로 설정\n",
    "*   마지막으로 Dense layer와 softmax를 통과해 예측 글자에 해당하는 인덱스를 반환\n",
    "\n"
   ]
  },
  {
   "cell_type": "code",
   "execution_count": null,
   "metadata": {
    "id": "Xuv70KtuEbu6"
   },
   "outputs": [],
   "source": []
  },
  {
   "cell_type": "markdown",
   "metadata": {
    "id": "QleDp9A7PjHk"
   },
   "source": [
    "## Seq2Seq 모델"
   ]
  },
  {
   "cell_type": "markdown",
   "metadata": {
    "id": "b7x6_ifRPoec"
   },
   "source": [
    "\n",
    "\n",
    "*   앞서 구성한 encoder와 decoder를 결합해 seq2seq model을 구성\n",
    "*   구성한 모델과 준비한 데이터를 사용해 기계 번역 학습\n",
    "\n"
   ]
  },
  {
   "cell_type": "code",
   "execution_count": null,
   "metadata": {
    "id": "5Pty9yEAPlmb"
   },
   "outputs": [],
   "source": []
  },
  {
   "cell_type": "code",
   "execution_count": null,
   "metadata": {
    "id": "QwWT2xjrZmoj"
   },
   "outputs": [],
   "source": []
  },
  {
   "cell_type": "markdown",
   "metadata": {
    "id": "QyDzPgiMaf5_"
   },
   "source": [
    "## 예측"
   ]
  },
  {
   "cell_type": "markdown",
   "metadata": {
    "id": "GZbbHaDm_aRX"
   },
   "source": [
    "\n",
    "\n",
    "*   일반 모델과는 다르게, seq2seq 모델은 모델 예측 프로세스가 다름\n",
    "*   예측할 때는 인덱스 하나씩을 예측하게 되며, 예측한 인덱스를 저장하고 이를 다시 입력으로 사용해 종료 토큰이 나올때까지 반복\n",
    "*   마지막으로 예측한 인덱스들을 사전을 통해 글자들로 변환해 최종 예측을 얻음\n",
    "\n"
   ]
  },
  {
   "cell_type": "code",
   "execution_count": null,
   "metadata": {
    "id": "4i6nyNCbamz_"
   },
   "outputs": [],
   "source": []
  },
  {
   "cell_type": "code",
   "execution_count": null,
   "metadata": {
    "id": "YvQNB_ljairY"
   },
   "outputs": [],
   "source": []
  },
  {
   "cell_type": "code",
   "execution_count": null,
   "metadata": {
    "id": "asYLEiiRap-Y"
   },
   "outputs": [],
   "source": []
  },
  {
   "cell_type": "code",
   "execution_count": null,
   "metadata": {
    "id": "nfpLBKbzajev"
   },
   "outputs": [],
   "source": []
  },
  {
   "cell_type": "code",
   "execution_count": null,
   "metadata": {
    "id": "IEwOVfYZaokX"
   },
   "outputs": [],
   "source": []
  },
  {
   "cell_type": "markdown",
   "metadata": {
    "id": "aWvb8olj_6DN"
   },
   "source": [
    "# Attention Mechanism\n",
    "\n",
    "* https://wikidocs.net/22893\n",
    "* https://wikidocs.net/48920\n"
   ]
  },
  {
   "cell_type": "markdown",
   "metadata": {
    "id": "c3_o8SnJ_7i0"
   },
   "source": [
    "* seq2seq 모델의 문제점\n",
    "  + 하나의 고정 길이 벡터에 모든 정보를 압축해 정보 손실 발생\n",
    "  + RNN의 문제점인 기울기 소실 문제가 똑같이 발생\n",
    "* seq2seq 문제 개선을 위해 Attention Mechanism이 탄생\n",
    "\n"
   ]
  },
  {
   "cell_type": "markdown",
   "metadata": {
    "id": "kkrszocaIMgk"
   },
   "source": [
    "* Attention Mechanism은 디코더가 예측하는 시점마다 인코더의 전체 입력 문장을 다시 한번 참조\n",
    "* 이때 전체 입력 문장을 단순히 참조하지 않고, **예측할 단어와 연관이 있는 단어를 집중(Attention)**해서 참조"
   ]
  },
  {
   "cell_type": "markdown",
   "metadata": {
    "id": "8mE8cK9ZIme-"
   },
   "source": [
    "## Attention Mechanism 종류"
   ]
  },
  {
   "cell_type": "markdown",
   "metadata": {
    "id": "v9qGhZFoqav6"
   },
   "source": [
    "* attention mechanism에는 스코어 계산 방식의 차이에 따라 다양한 종류가 존재\n",
    "\n"
   ]
  },
  {
   "cell_type": "markdown",
   "metadata": {
    "id": "xMgyQdwOI75i"
   },
   "source": [
    "이 름                 | 스 코 어&nbsp;&nbsp;&nbsp;&nbsp;&nbsp;&nbsp;&nbsp;&nbsp;&nbsp;&nbsp;&nbsp;&nbsp;&nbsp;&nbsp;&nbsp;&nbsp;&nbsp;&nbsp;&nbsp;&nbsp;&nbsp;&nbsp;&nbsp;&nbsp;&nbsp;&nbsp;&nbsp;&nbsp;&nbsp;&nbsp;&nbsp;&nbsp;&nbsp;&nbsp;&nbsp;&nbsp;&nbsp;&nbsp;&nbsp;&nbsp;&nbsp;&nbsp;&nbsp;&nbsp;&nbsp;&nbsp;&nbsp;&nbsp;&nbsp;&nbsp;&nbsp;&nbsp;&nbsp;&nbsp;&nbsp;&nbsp;&nbsp;&nbsp;&nbsp;&nbsp;&nbsp;&nbsp;&nbsp;&nbsp;                 \n",
    "----------------------|-----------------------\n",
    "dot|$score(s_t, h_i) = s_t^Th_i$\n",
    "scaled dot|$score(s_t, h_i) = \\frac{s_t^Th_i}{\\sqrt n}$\n",
    "general|$score(s_t, h_i) = s_t^TW_ah_i$\n",
    "concat|$score(s_t, h_i) = W_a^Ttanh(W_b[s_t;h_i])$\n",
    "location-base|$a_t = softmax(W_as_t)$"
   ]
  },
  {
   "cell_type": "markdown",
   "metadata": {
    "id": "oL2wrixdqboQ"
   },
   "source": [
    "  + $s_t$ : querys(t 시점에서의 디코더 셀의 은닉 상태)\n",
    "  + $h_i$ : keys(모든 시점의 인코더 셀 은닉 상태)\n",
    "  + $W_a, W_b$ : 학습 가능한 가중치 행렬\n",
    "\n"
   ]
  },
  {
   "cell_type": "markdown",
   "metadata": {
    "id": "qTILo0WuIub1"
   },
   "source": [
    "## Attention Mechanism 과정"
   ]
  },
  {
   "cell_type": "markdown",
   "metadata": {
    "id": "swVCCTreIysk"
   },
   "source": [
    "* Attention Mechanism 중 가장 기초적인 dot-product attention을 예제로 적용 과정을 학습\n",
    "* Attention Mechanism 과정\n",
    "  1. attention score 계산\n",
    "  2. 소프트맥스 함수를 통한 attention distribution 계산\n",
    "  3. 각 인코더의 어텐션 가중치와 은닉 상태를 가중합하여 어텐션 값 계산\n",
    "  4. 어텐션 값과 디코더의 t 시점의 은닉 상태를 연결\n",
    "  5. 출력층 연산의 입력이 되는 $\\tilde{s}_t$ 계산\n",
    "\n"
   ]
  },
  {
   "cell_type": "markdown",
   "metadata": {
    "id": "CZsHB1gMp8KH"
   },
   "source": [
    "![dotproductattention1_final.png](data:image/png;base64,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)"
   ]
  },
  {
   "cell_type": "markdown",
   "metadata": {
    "id": "Gk8s2ESIpE8G"
   },
   "source": [
    "### Attention score 계산"
   ]
  },
  {
   "cell_type": "markdown",
   "metadata": {
    "id": "mKubRza9qCHb"
   },
   "source": [
    "![dotproductattention2_final.png](data:image/png;base64,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)"
   ]
  },
  {
   "cell_type": "markdown",
   "metadata": {
    "id": "_f-W7CK8qGn5"
   },
   "source": [
    "\n",
    "\n",
    "*   t 시점 디코더의 은닉 상태를 $s_t$로 지정\n",
    "*   인코더의 각 시점의 은닉 상태는 $h_n$으로 지정\n",
    "*   여기서는 dot-product attention이므로 $s_t$와 $h_n$들을 각각 내적해 각각의 attention score를 계산\n",
    "*   이를 정리하면 attention scores = $e^t = [s_t^Th_1, s_t^Th_2, ... , s_t^Th_n$]\n",
    "\n"
   ]
  },
  {
   "cell_type": "markdown",
   "metadata": {
    "id": "OPM6gjyFpIH3"
   },
   "source": [
    "### 소프트 맥스 함수를 통한 attention distribution 계산"
   ]
  },
  {
   "cell_type": "markdown",
   "metadata": {
    "id": "yCEUiWu3sJ4U"
   },
   "source": [
    "![dotproductattention3_final.png](data:image/png;base64,iVBORw0KGgoAAAANSUhEUgAAAoQAAAFJCAYAAAACKTy4AAAAAXNSR0IArs4c6QAAAARnQU1BAACxjwv8YQUAAAAJcEhZcwAADsMAAA7DAcdvqGQAAEwNSURBVHhe7Z0J2CVFebZHxA2MxrgQs7hviTEhagSJa4xrXEYUEZdookYx+ZW4a1QEJKJECYuAoBJcUH+iiEgUMRciJkjI5TAQQxBU3EBhZOQnMAgz1D/P+c7LVFe/fXo5y3e6676v67m+c7qrurverq56vqruPmsCAAAAAGQNhhAAAAAgczCEAAAAAJmDIQQAAADIHAwhAAAAQOZgCAEAAAAyB0MIAAAAkDn5GsIbbgjhkktCOPvsEL74xRCOPz6EQw8NYb/9Qnj721f05jeHsPfeK+sBAAAABkp+hvBb31oxfvvsE8JBB60YwS98IYRvfCOEb387hMsvD2HDhhVdffU4EwAAAMBwycsQygweeGAI5523MkIIAAAAAJkZQk39Mv0LAAAAUABDCAAAAJA5GEIAAACAzMEQAgAAAGQOhhAAAAAgczCEAAAAAJmzeobw4otD+MxnQvjYx8rSunmAIQQAAAAosTqG8KyzQvjbv135FRBPWj8PMIQAAAAAJVbHEL7//dvM39//fVl6gfQ8wBACAAAAlFgdQyjTJzOoKeNFgiEEAAAAKLE6hlBGcJ5Tw1VgCAEAAABKrN5DJcceG8K++87vARIPDCEAAABAidWdMq4SD5UAAAAALAwMIQAAAEDmrI4h1FPEMn1VuvLKccIZgyEEAAAAKNHOEJ522sorY+z1MLG6vipm3iYwBkMIAAAAUKK5ITz5ZH961yRT1waZy/Tl1HrQZJ5gCAEAAABKNDeEGgWUaZOJm/bn5pQ2NoKx5mkKMYQAAAAAJZobQvt1EY3sTYtMn7albdpUsUYYzRRyDyEAAADAwmhuCGUEZ2UIbbQxnWauWj4rMIQAAAAAJZobQj00opE9TRnrfkKZtlhtRvUwhAAAAABLQ/t7CKvUxsTFU8aGDKdtiyljAAAAgIWxOoYwfqhEI47xtvV5XmAIAQAAAEo0N4SzRtPO6WtnZAbn+T5CDCEAAABAifaGUFO79qqZaR8wkfnTyKLU9cXWbcAQAgAAAJRoZwjt3r9Y++4731G9WYIhBAAAACjR3BBqFC82gZretSnfuvv+NJqotGYcZSyVp0rzGi3EEAIAAACUaG4IjzhixfzJ3BkyeGYKJ/1SiUye0tiDJ/a9Sm0eUGkDhhAAAACgRHNDmJo6o2p5jEb8PvOZ8Zet6IESuw/RU5ufwWsDhhAAAACgRHtDmD5IounjtqN6MohKn957qGVtttMWDCEAAABAieaGUCN8Mn4ygHaPny2T2jDNaOM0YAgBAAAASjQ3hPH9gqn0kEgTbKr4LW9Zyaf7EuOpYts+hhAAAABgYTQ3hEIjgzaKJ8nAycg1xXttjad5vcYGQwgAAABQop0hnBaN/MlQ2kigvb4m1rQvu54EhhAAAACgRLUhTJ8MtgdBqtRmVE/GT4ZQ+RYJhhAAAACgRLUhfP/7V0ybPUBiJq5Kbcydmct5TQ1XgSEEAAAAKFFtCHW/n6Z27Z2AszSE/FIJTMNDHjKdYPis2dq0TSMAgMxYnZZPps8zlaZ5TSVjCIeBTN2ZZ3YThjAPZOq8899EGEIAyJDmLZ+N6qWjd3p1jJa3+XUR75dK9CoaSZ/5pRKYBIYQ6sAQAgC0onnLZ6N66ehdl18q8dD9hDKEMpjzAkM4DDCEUAeGEACgFfUtnz1cUqdZ3PdnppN7CGESGEKoA0MIANCK+pYv/nm6KmmUsA32lHGseD/TjjZWgSEcBhhCqANDCADQivqWT1O5Mmg2NSzjFhu5LuZt0kMlerKZXyqBSWAIoQ4MIQBAK5q3fFUPlXShyhDKdM5rulhgCIcBhhDqwBACALQir5bv858P4V/+ZfwFeguGEOrAEAIAtKJ5y6dpXHtZtTe612XqWK+XsWnneYwMXnddCJdeGsIZZ4Rw6KEhvPnNIVxxxXgl9BYMIdSBIQQAaEXzlk/vB/SMoKmtIdTrZdJtaCq56v7Biy7aNuWb6hOfCOH441d0+OEhHHBACPvss6IDD1y57/G880K44YbxxqDXYAihDgwhAEArmrd8dt+f7vOzUb1YbR4EiZ8o1rsH7YEVM4UeVYbwhBO2mcGPfCSE970vhLe+dWVb+quRwS98YSX/li3jjUGvwRBCHRhCAIBWNG/5bERP5m9azFzqHYeGtmumcBbTxzJ/GzaEcP75K/cNyii+850ry6DfYAihDgwhAEArmrd8Mmm6f1Cje9NiL7tOzaUZxVmYTo8TT+ShkiGAIYQ6MIQAAK1o3vLp94dtlFB/498hbvv7w6edtrIdbTNGU8e8hxDqwBBCHRhCAIBWNG/5bPSuSlWjehpZ1LpU9sSyTKG+y2TaCCSGECaBIYQ6MIQAAK1o3vLZi6mrVHXfn9Z5BnKSZBDnAYZwGGAIoQ4MIQBAK9q3fBq9k2FrOoqHIYRZgyGEOjCEAACtaNfyaZQwNm26F7Dt/YOrCYZwGGAIoQ4MIQBAK5q3fLrXLx3F0zSxPmsUcBIaTZzFq2SmBUM4DDCEUAeGEACgFc1bPntVjEYFZQBtWtdeKj1plNCeTrY0ddPITBnDJDCEUAeGEACgFc1bPjNx9tlMmy2fZOLMTNooIYYQpgFDCHVgCAEAWtG85YtfJm2GUCN+ZuImTQmnU8b6rPxV4rUzK6hjmkZDBUNYxDv3bTREVC7v/DfRUGMCADCB5i2fjJqMn94VqN8flkHUZy3T9zboQZR4lHFR9NEQeh1WEw25U8MQFqGelCEmAACtaNfy2b2AsWQK2xq7qp+umzcYwmGAISxCPSlDTAAAWtG+5ZOJ6/qTdYamjG2UcV7Twx4YwmGAISxCPSlDTAAAWtG85dNrZzwDqJ+a0/I2xs5+9cRGGPU51qT7EacBQzgMMIRFqCdliAkAQCuat3xm4NJp3qrlk7A8VZrXVDKGcBhgCItQT8oQEwCAVtS3fDaaZw+Q6L2D+m7qYuJstLFKXaahm4AhHAYYwiLUkzLEBACgFfUtnwyamb4qySy2wV47k04za9m8RgcFhnAYYAiL6FxPoyGicnnnv4mGGhMAgAnUt3warZMp1EMgMn960jgezZPajujZyGJq/qqWz4pZG8LNm0P40IdCeNazQnjYw1bMxiwVd9pd5G0ToRzkXQ9t5G2zrdQmPP3pIRx2WAjXXz9uNAAAlpOtLV9DZmHWbKq4ylzatHQfDKHM4O67h7Drrn5ngBBC0i67hPCMZ2AKAWCpaW4IZ/GUse5HlOGrUx9+qeSoo0J4xCP8DgAhhGLJFB588LjxAABYPqYfIWwzcqg0Sl/1gIp02mnjxHNglobwqU/1G36EEPL0xCeOGw8AgOWj3hDO4yljyzevqeEqZmkIf//3/UYfIYSqBACwpNQbQk0Hm+mr0qyeMp43szSEXmOPEEKTBACwpNQbwnk8ZSwzqHw2Qqj7ELVt7WNev1IiMIRoWp1xxsr5/8EP/PUITRIAwJIy/T2EQoawzWhfvC3l1WeTTOG8wBCiaXTQQZx7NJ0AAJaU5oYwRQZQTx6///3VRrGK2BDak8f6a6OQffgtY6+xR8PWCSeURwb1XcvjZQhVCQBgSWlvCGXiNG1sD5mY2hhCM5EylGYCNVI474dNMIRoGmEI0bQCAFhSmhnC9D5Ck0yhzGHbV8XYPYMmGUGBIUSL0Pr145O4ldTMpXh5hPKlaErZTKPdayi07CUvGX8ZE+8zXWfHZPvQeku7cePKtu076pcAAJaUakNoU8J6zUxs3iQbHZzGuJn507ZsijgeLZwHGEIkMxWP8sXmSpgZk8yQxd/rRggtj23X7juUkbM0MpdS/N0+p/vUdmy9PsfHi/onAIAlpdoQmmEzaZpXBlFGcV4jedrevEYHBYYQeaZOio1XrNjweXk9QxibP0nf0zTeMZhEPCpo+0i3i/onAIAlpd4Q6m9q0toaQpnIeb5OpikYQiTJ/BnxMm/0TSbRzJxn5DxDmKaRkdNIYVUaG0WMiQ2hTSnH20D9FADAklJtCNPfHdZ0rpbJ2LU1hLrPUOltKtjyV2leo4QYQhTLjJg+z3KEsI0h1Od05E+kI4Q6vnS7qH8CAFhSJj9UIgOnB0DSh0lMmkJugj1VbKOEGEK0WpKxis2WsO8iNXexWfPMnkxkPLLopZlkCFMjqs/Cjilen+4L9U8AAEvKZEMYIzPnvW7GRg4nvZg6nTLWZ5m+Kk3a1jRgCJEUExvAdF06cueZvXi6V5/bGkJbb2idkCGU+ROWThLpMaP+CABgSWluCGPiF1KbZOSaEhvC2CjOGwwhQmg1BQCwpHQzhEY8pdzEEFZNP2vUUevmDYYQIbSaAgBYUqYzhG1IH1LxpCnpeYIhRAitpgAAlpTFGEKNJJrp04uu9csmdp+gRhbj6eemD6p0YZaG8ClP8Rt8hBDy9IQnjBsPAIDlYzGGUD97J7On6eKqB0biNPNilobw4INDeMQj/IYfIYRi7bJLCAccMG48AACWj8UYQhsBnHSfoIyiPcHch5+uu/76EJ7+dEwhQmiyZAaf/OQQrr123HgAACwfizGETV9k3faF122ZpSEUMoXveU8IT3yi3xEghPKWpok1MogZBIAlB0PYU9atWxdOOumk8TcwiEsR4lGEeAAA+CzWEOopYt0rWCV7JQ2GsJa1a9eGnXfeefwNDOJShHgUIR4AAD6LNYRNhSGciEY51qxZMxKjHdsgLkWIRxHiAQBQzWIMod5BKFPYVPP69ZKBGEKNcljHxmjHNohLEeJRhHgAAFSzGEO4LJxzTgjve18Il1wyXtA/4lEOE6MdxCWFeBQhHgAAk8nLEIqzzw7hoINCeOMbQzj00JVX4Zx+egjnnhvC974XwoYNK9q4cZxhuYhHOUyMdhCXFOJRhHgAAEwmP0NoXHddCOefv2IGTzwxhGOOWRk9fPvbV/TWt267p3EJp5mtU4MixKUI8ShCPAAAfGgZewodmw9xKUI8ihAPAAAfWsaeQsfmQ1yKEI8ixAMAwIeWsafQsfkQlyLEowjxAADwoWXsKXRsPsSlCPEoQjwAAHxoGXsKHZsPcSlCPIoQDwAAH1rGnkLH5kNcihCPIsQDAMCHlrGn0LH5EJcixKMI8QAA8KFl7Cl0bD7EpQjxKEI8AAB8aBl7Ch2bD3EpQjyKEA8AAB9axp5Cx+ZDXIoQjyLEAwDAh5axp9Cx+RCXIsSjCPEAAPChZewpdGw+xKUI8ShCPAAAfGgZewodmw9xKUI8ihAPAAAfWsaeQsfmQ1yKEI8ixAMAwIeWsafQsfkQlyLEowjxAADwoWXsKXRsPsSlCPEoQjwAAHxoGXsKHZsPcSlCPIoQDwAAH1rGnkLH5kNcihCPIsQDAMCHlrGn0LH5EJcixKMI8QAA8KFl7Cl0bD7EpQjxKEI8AAB8aBl7Ch2bD3EpQjyKEA8AAB9axp5Cx+ZDXIoQjyLEAwDAh5axp9Cx+RCXIsSjCPEAAPChZewpdGw+xKUI8ShCPAAAfGgZewodmw9xKUI8ihAPAAAfWsaeQsfmQ1yKEI8ixAMAwIeWsafQsfkQlyLEowjxAADwoWXsKXRsPsSlCPEoQjwAAHxoGXvEjTdtDsde+pWw57n/ENYc+6Sw5sNPCrv/x0Hh8O+dOlqXK8SlzBlXXhD2ueAjYc0/PC6s+djTwsO/9obw1+cfE770s2+NU+QF8QAAmAyGsCd8/9qfhYf862vCHU7dK6z5/NqCfuWLe4UHfPXV4cJrfjxOnQ/Epcg1N24KL/rPQ8IdtpZ9u88/243J2nPeEzbe8L/jHMOGeAAANAND2ANkeu74xReE7T+/e6lDM6mzU6d3wdU/GOcaPsSliMzPvU7/q3C7U/Z0Y2HS+p2+9NJw5S+vHuccJsQDAKA5GMIe8Mgz3xy2P7na9JhkfjRalss0KXEpste5Hwi3+cIebgxS3XZruj87+93jnMOEeAAANAdDuOR86sdnhR1Peb7biXm6wxdfEI77wb+Ocw8X4lLk9CvO2xqPySNhqRSTky775ngLw4J4AAC0A0O45IwelHA6r0l6xjeHP9JBXIq88ryj3DLXSffXDRHiAQDQDgzhknO/0/d2O65JuvdXXjnOPVyIS5EHnv5qt8x1uv9XXz3ewrAgHgAA7cAQLjm3OaXZPVCxlGfoEJciXeIhDTUmxAMAoB0YwiXnXl/5K7fjmqR7fOXl49zDhbgU6TJiKg111JR4AAC0A0O45Dzv3IPdjmuSnvLv+49zh3DuueeGH/3oR+Nvw2HauFx55ZUjDYWXr/ugW+Y6xffMXXPNNWHjxo3jb/1mFvEQmzZtGn8CABg2GMIlR0/Gtnla8vanPD8c9p1TwnHHHRd23XXX0c90XXjhheOtDYcucfngJaeGk046KaxduzZsv/324Ywzzhhvrf/oFzd2/GLzp64lvZ/xE5d+LXzpS18KL3rRi8Jtb3vbcNZZZ4232G+6xkNPr69bty68/e1vD/e73/3CKaecMt4iAMCwwRD2gD84Y5+wXYP37Ul3+vTzwl12uuvNv9kqqXOTQVTHf/bZZ4fvf//7o9GgvtM4Loc8Pvzq7r8f7nKXuxTicvDBB4fTTz99ZACGMIr6tLP3b/ReRunWhz0x3OMFjwy//uu/XojJxz/+8XDBBRcMYqSwbTzu9dJHj0xgHA/VDwCAHMAQ9gD99FqT0Y5bff454c673b/QodXpXve6V9h5553D4x73uNEo0ate9aqw7777hqOOOmpkDjSKJoMgE7lsNI7L2/443O03isanSjJIv/d7vzeKx0tf+tLwlre8ZWQcZagtFpdffvn4CJYL/fzaXf7lz2tNkNbf/m2PCXfd6W5uDEy3v/3tw4Me9KDwp3/6p6NYqF4ce+yxo38sZKKXfcq9bTzucMc7unHQaLLi8JSnPCX8zd/8TTjkkENGI4eqC0wpA8BQwBD2BP302n2+8spw2y88r9Sh3foLzw13//JfhnW/+N5oZGefffYZdWLqzH71V3919F0dujr2hz/84SMTqOnBtONrIpkE5X/Uox416iC13Te84Q3hgAMOGJkmTcnKOMlALsIwNI2LRkR1nBYXlUPHLuMnA5iOHjbRb/3Wb43iaXHQSKzMghlpTdUv2jTp59ee/O/7VRplTbM/9ht/F3503YZRXdFxW3kUE8VDo2RN64fSKb0ZaMVA/0zIMC2DaWwTD40SP/3pT7+5bKor6QiqJ9UDXQ8vf/nLR9fBpz71qdG9u0O6RxUAhg+GsEds2nJDOOCiE8OuZ74p3PKza8N2//yssMuZbwz7/s+nR7/bGqPRC3VSGtmo4sYbbxwZN3VeMjAydIcffvhoJEid2/Of//xRR69tqNPzOsMmUqeqbWhbz33uc0fGQfuQedI+NS2nY9CxdBlxaRMXmRTdWykT42Hx0CiYjk0dvAy1Rk/NLMlke+WskoyFTLT2K8Nh5VesZR4U+4svvnim0/j6xY3dzzko3PaEFePzG1uN8dO/+e7RPXIpir+NFMfI0CheMncyeTJ7OnarEzKQXnlTLYNpbBMPHZvKpn+ghM6LjlP/7Gi0WKPoWqcyeeWNpbqifxpU7zXarBFWne8hPugFAP0GQ9hD1DlZh6NOahK6Z3CWaFRJpkmdmjp0mab3vOc9o85Onb0Mj4yoDEZb42QyA6WO1EyEpupsytJMlEbg4o61TVyUfxrMTCu+Fgcdn45Tnb+OW2VoappMMk/Kpxjq4RcZc21XJkVl0kMfTY1zm3jI9Ghksy2qD/rnQwZa50bHqvMlw9TVNMp8qz7JMOu4ZdBnMU3fJh6KscpTh+qBzLzKr+PVKLTOm0ad68quMitGumb0T4dNRateMxUNAIsGQ9hD1OFYp5KO6iwjMm0yDTJhMnNmHGSebMRJ5ZARsindtpL53GGHHW7+/mu/9msjUyGzKrOmjtbM1KIfmFDnrv1q/zIiMncqv8yezqUZaBmEuEx1kuFQPsVPJtTu/7TyPuYxj7k57WrWk1mZRvtHoatpXI3rRsek8y6zrZFRjbprpLjJLQoalVeMVE9Uj0888cRRORddfwEgDzCEPSMe5TDVjXb0DTNQGn3TdKYMjkZPzEjYCJxGlJrc41Uldbj2AIk6anW82odMhvYpA2tT2RoJWgQaqdP+zDzrWKzcGkmSmehqnO9+97vfXFaNSNl9nzJqVs7VQiZHI2N2vlVmnQ/dn6lz1HS0uco0fuADHyilXe3rRmXW9SyjJ8NnU9E6/vRYU8lQagRd51JGU0ZbxpOpaADoCoawZ8SjHKY+jBLOm6c97WmluMgAaQpPZkrGwsxU22lck03najvquLVdGSuZF5kYdew2lb2IJ5HNRGmfGoGSabb7/HbaaSe3DE0ks2H3fGpbiqGNtMqwycSshvGQWZ6FaTTtuOOOI0Ol8il2On/6J2QZTJX+AVFZNdIrQ6t6pn8IVM66kWStVzq1Fcqn/DL92t6i/rEBgP6BIewp1vhDkTZx0YiYzI0ZKpvK1UiNPUSijrXJiE2VZK7s3jh10DJYMm32Kht11DaVPcuHSgw7DhlUm7bXfrV/u+9T5lbl7DLaqlFW/UNiBlnbTF/Ts8inbatMo8yUjtMrQ5V03jWdv4ymUftXvdHIoE1Fa8SwyVS0yqXzpXpuU9G6DuZR/wCgP+Aoeoo17lBknnGx6Vx1xDJyZqxsVE6GT8ZPHW6TjrlKyi/zYtOedm+gDKu90kYdeJMpXttmG2Q2tH0zVTINMkRmkjV62KV8Ktek1/To4Yx53x9nx6J9mTnW1LlibKaxTdnMNOo2Bo3GqT5oqt9M/mqgGOoWAB2Hzp0Msc5bkzcFqOwaAde51vnRuVFZFjHiDQCrC46ip1gDDkWWLS7qSG1aVyMxNmol82CjczJJMhZtHyox2cMlMiZmtmTgZHQsjRmuWY/WyfTIfJhB1j71sJBGrGRCNDradirX7gOUMZFJU3nMENu0fNcRVdtHHbqPdVamUUZMZVkG06hy2VS0zLhNRcvk192XqnpmU9GqXzofOu+KEwD0HxxFT7FGGor0PS72OhuZLDMj9mCJRnrMaKkDbzLiU6Um74bU1KiOZRavQLFyaZt6mMOeNpbJsoeEZALb3t9p93Xaa3psNFXb137MdFkZLN8ssDLpPGkkTaNxMsM6Dpn8NlPwVabRzO+i7v3T6LDOveKn6X8dj8rSxNTL/OsfEp0DHb/iz1Q0QH/AUfQUa4ShSI5x0RShGRON/MjQyZyoQ7d42Ktt2o7WmWzUzqayZSC9d0PqnsFp76+zp8y1PY0IzvI1PfZZxtqOX/FS3MwAz9J8zdI0Kq3yKK+2oW3ZdPsiTKNGl20qWiOmqgM6F03KoDQ2Fa28Om7Fe5H3lwLAZHAUPcUaWihCXIpUxUOmbRHvhrTRO5v6lUmVkTETZmam672DymdTuypH+poem473jm+SNCVsI6gyMRq1k5HRcWuaVMZoWuNrpKZRo2van0bnZKLajASvlmmUiVd90qigRpm1b40WNp2KVl1TeW0qWqOUTEUDLBZ6zp5ijSkUIS5FZhUPG7XTqI49bKKO38yXTfvO4t2QZsQ0iqdRQe1DRk/7lLGRGetibjQaZfuRSdLx2wNBupdTpqTLNLzKq3vrbORUpsZMr2IlozSLhzJUZk2By/jOwjTKMGt614yuYisTNotbBFJ07IqFzJ7io+NWvOtuEZCZVH2QuZTJ1DmT6VRM53GcADlDz9lTrMGEIsSlyGrGQwbMRu/Uict0yHzIEMg4qZO36d+29w6a7B5CGRx79Y2Mkk0F20MoepBCpszy1eG9pseOW8Zv1q/psVE8Hec006iTTGObkVKNkOo4F2EaVV79o6EYaD8akW0zFa20iqXyqtxMRQN0g56zp1iDCEWIS5G+xUOGpu7dkDIqXaaBYym/tqWpVZkJjRTKQMn0aErYHkZp8kCEvaYnftJaRsyOVyNcbZ5KNpnRtSfHbaRUpseMWZepdh2vTJPMskbcZHQ1Gmvm3DsWT5NMo4ztLB4m0TYUW/1DofOj/SgeGon2jimWbllQ/GSIZbx1W4RGKWc11Q8wNOg5e4o1elCEuBQZejxkGGxUzAyZjEP6bkgZiC6mzCSjZNPCMnoyJmbQbHRPxkXHMgmtlxmzh3+0DU2Fzuo1PSqvTbPLTHd9Tc+sTKPKorjJxNlxqdwyZrMwjTLFOu82Fa3yt5mKlpm1qWidEx0TU9GQK/ScPcUaNihCXIoQjyIWD3X8MkoyPGbMNKonE6npXJtinfbdkNqOjfDJsJgh0oiXjfJ505t2z6aMrtLaQz8yona/Zpfjsyl25dd2zNhq+9qPjYw2uT/TTKPyyRhrFM5GRbWPpg8jzcs0atpf5ZFh1z8IOjadjyb/GGhqX+XQ8eh+UI3K6t7Vrg8/AfQBeoqeYg0XFCEuRYhHkS7xsKeA694NKVPT5aEUk+6H0wihmTWbJrapbBkkGTAdSzyKZaOkZnBtml3HphEwM7dNDZpJRs2OR2XUSJqZNY2m2cM9k5ApU7pZmUa791LHIROr0UHd69nWqClmGtFVvGwqWtvWMXn7j6Vj0VS0YmJT0TKeTEVD36Gn6CnWOEER4lKEeBRZVDxkUMyk2fSwRppkIGRoZNTMFMlg2HG1kU0Va4pU29J2zbTJFNq9hjJMZla81/TY9LpG6GR0mpiiVBp1s6fDZfg02mr3FMrIynxVGSbPNOp4tC0Z0qajoBqV1TFMaxr1D4BGJpVPx6OyaCpahrTuWLRe6XR+lU/5bSp6Xq/8AZgV9BQ9xRogKEJcihCPIsscDxkme7JZZs2miWXyzCCZYWs72meS+VR+3Qso06LtyoCZeZN50f5lZi+55JKbp9Y17aqRNDNrMl0yorN4TY+2aaOgZmBlEmM0rS5TqeOT2TUTO0vTqO03eTrZpqJ1vDoOjRTqvDSdita+NSKpfxA0Qqn9MhUNywA9RU+xBgaKEJcixKPIkOJh9xlqGlmjcDIoejhCJkdmx+41lAHq8oock0yMjf7J/GgqWvvQvszEffnLXw6nnnrqSFomszPL1/TYfZgyYNqvPcgjw2omblamUelsqtz2qe1pu3WmUcZOo50yeoqBYiUD2MQ4y1Bqel8x1j4VRxnP1BwDzAt6ip5ijQgUIS5FiEeR3OMhM2NTxpqilenQ6KCZNxkve5J4Hu+G1GjckUceGY4++uhwzDHHhA984APua3q6TKNrnzJUNvKp/WnKNn5Nz6WXXjoagdSIoI3AKq2OU/ttWuYuptGmopVGplZl1rFqv3VmVetlqjV1rXOlcqkMKhNT0TAr6Cl6ijUUUIS4FCEeRYhHezQKKZMjUzWvd0NqdEz5tS2ZHpmst73tbeFNb3rTyGy9613vGn1/7WtfG17xilcUnrRua1zNsMr4eq/pkdE67bTTwsknnzwz06g4aWpcRk5GXKOI6cifbhlQjLVPpbWp6CbmWPuxqWhNv9tU9LSv9YG8oGXsKdYQQBHiUoR4FCEe88eeetZ0p8yVRiFlUmwKVyZMJkkmpsl9d1WSqbN7Effaa6/wwhe+MPzFX/zFyDC+7GUvCy95yUvCs5/97PCkJz0p/PEf//Eofd1IXCqZPzOq8Wt6Dj300HDEEUeMRvoOOuig8I53vGNkLDXCqmNqOsJpDwbVmUabitZop0ZUtS8Z2iZT0Zqq18iptq9jl6nXbQZMRUMKLWNPsYsdihCXIsSjCPFYTmRO7AEWjW7JRMq8aFrVRufs9TltTZ3JzN0f/dEfhcc+9rEj8/bMZz4zPPWpTw3Petazwp/8yZ+ERz7ykaPRzt/+7d+e+jU9r3zlK8NrXvOa8MY3vjG87nWvGxnVPffcc6amUcZOD/9oGtymovUQkk1F15VBMVF5bSpao6S6H1VT0ZAftIw9xS5oKEJcihCPIsRjGCzq3ZB3u9vdwj3vec+RaXrEIx4x0mMe85jRVO5DHvKQ8IAHPCDc/e53d/NOkr2m59GPfvRoFHOPPfYYjUDKmMqg7rbbbuGBD3xgqxFUmUaNGqrsMncyhzLXn/vc58IJJ5wwMnsyk9qPylNnSGUmZXBlYGUyNcorEyrzyVT0MKFl7Cl20UIR4lKEeBQhHvmiaVeZSBlIjabJRM763ZC3vOUtR1O097jHPcJ973vf8OAHPzj8zu/8TrjPfe4zMqZdtrvTTjuNtvGwhz1sZPhkSDWS+Qd/8Acjw3anO93JzecpNY3vfve7w4EHHhj233//0UimRiC1vskT4UqjtMqjaWxNZ2vEctJT2LDc0DL2FLsooQhxKUI8ihAPaIMe9LCp7Hm9G3KHHXYYmbrf/M3fHElG6853vvNouZd+kpRXx3L/+99/NMKov9rmr/zKr7jpPZlp1DTyi1/84tG9mLo/8znPec5oql0mtK6sMr4ahdRopAy3TUXLkMPyQsvYU+zCgyLEpQjxKEI8YJ7YuyE1lT3Pd0Pq3r873OEOI+Olz7e+9a3ddFXabrvtRiZUxyBpalrb8dJ6svdDarRS917KKMoYy4DWGVmZSZVfI7Iy1oqPRmw1FR3/JCMsHlrGnmIXFxQhLkWIRxHiAcuGplhtKnte74bUVLYexrnNbW4z+uylqZLSy+Rp320e6NH9lxpN/N3f/d2RAdS9mE2mzGU2VV7dC2pT0TLYTEXPH1rGnmIXDxQhLkWIRxHiAUNABlIjajKR83o3pIzgLW5xC3ddlZSnzdS5prLvete7jnTHO97RTRNLhlIjkboHUlPRmsJXDKp+JxvaQcvYU+wCgSLEpQjxKEI8IEfs3ZB66GOe74achzQqebvb3a7WaCqdTUXrdUU2Fa17QPk1l2bQMvYUuwigCHEpQjyKEA+AZujdkPYzh/N6N+Ss1GQkU1PROmZNRevpcpVJU9F6+hxWoGXsKVbJoQhxKUI8ihAPgPlg74a0nzmUgZzHuyHnIT1g89CHPnR0jBo11VS0fmknt19zoWXsKVaRoQhxKUI8ihAPgOXB3g0p8zXp3ZAykG1enTNL3epWtwr3vve9wxOe8ITw13/91yOTq2n3IU5F0zL2FKusUIS4FCEeRYgHQL+pezekprH1Im895azX69g1Py/pCWxNm8swajpdD/lolLSPv+ZCy9hTrDJCEeJShHgUIR4AeVH1bsh3vOMdN78XUtPYeh/jjjvueHMbMQvp3kaNMOqdkfrlmsc//vGj37fWcSzjOxdpGXuKVTgoQlyKEI8ixAMA6kjfDXn00UeH17/+9WHPPfcc/c60fopQr8rRex2nGYWUQVwmaBlnzJZrNoRNZ38qXH3Mn4eNBz0h/PydDw0/f8cfLre2HuNV73l8uProF4VN//aJsOXqn45LMzuISxli4kNcYJ5c/cufhXN/dmL49HdeH4654MXhsPPWLr10nJ+86LXhnJ9+Ovzi+svGJZkd1964MZx35RfD//3Om8Kx//WScPj63d3jWCbpGI/9rz8Pn/nOG8K3rjg5XHPDhnFpZkeXuLz3rD8Lr//k48Lz9/3D8Kg97h3u//C7hLve8/ZhhzvcKtzyVtuFW9ximyF84C53dbcxjaaJC4ZwhqgTu+qA3cLP3/UIv9Pog/bbdaRNX//o1p5587hk00FcyhATH+IC82LLTZvDN35yfDjy/D3DEeuf43amy64j1j83HH3+XuHMHx8bNt90w7hk0yHDc9T5zw8fXL+Hu88+6Mj1z9t6Xp8X/vOKz47O8yyYd1zefvKfhgO+8mR33azUNi4Ywhmw+crvh18cscdKR+Z1ED3UVfs/Mmw85Flh8+X/My5le4hLGWLiQ1xgnlx1/Y/Dxy989dYOfk+34+ybZFSOv/BV4YrrvjcuYXsUk0/+z2sGExNJZv9jF+5NXBI1jQuGcErUkY1GBPowrdVSG975sK1l26VTh0ZcyhATH+IC80QdvEbVvI6y7zpqa7kuv/aicUmbo5ho9Oiw9c92t9tnHX7e7qNRvS6mMPe4YAinRKMaQ+zITBu2lk2jHG2nvohLGWLiQ1xgXmiaTCODXgc5FH302y9rPX2sEbAhmh7T4ec9ezQi1nb6OPe4YAin4Ob7nZxOYEhSGa/96gfHpa6HuJQhJj7EBeaJ7hkc0tSfJ00ff+1Hx4xLXM/KvXHDjomkuPz7ZZ8Yl7oe4oIh7IyehMyhI7tZ++0atmz8ybj01RCXMsTEh7jAPNHTxLp3yusUh6ajLtgrbNj0g3HJq9FTszIE3jaGKD1QoXpQB3FZAUPYEY1s9PpJyLbab5dw3Rn1/4USlzLExIe4wDzRq2X6+jRxW+n+sH+77GPjklejUbA+P03cVirrOT/9zLj01RCXFTCEHdE70txGf8D6xWG7j0tfDXEpQ0x8iAvME71n0OsMh6rj//uV45JXo/fpeXmHrE9c+Dfj0ldDXFbAEHZk9MJcp8EfsvTi3TqISxli4kNcYJ705aXTs9KHLnjhuOTV6OXKXt4hSy9proO4rIAh7MiQn4qcpDqISxli4kNcYJ54neDQVUcffoFkHqqDuKyAIeyI19DnoDq8PDloEl76HFSHlycHwWLwOsChqw4vTw6qw8uTg1IwhB3xGvocVIeXJwdNwkufg+rw8uQgWAxeBzh01eHlyUF1eHlyUAqGsCNeQ5+D6vDy5KBJeOlzUB1enhwEi8HrAIeuOrw8OagOL08OSsEQdsRr6HNQHV6eHDQJL30OqsPLk4NgMXgd4NBVh5cnB9Xh5clBKRjCjngNfQ6qw8uTgybhpc9BdXh5chAsBq8DHLrq8PLkoDq8PDkoBUPYEa+hz0F1eHly0CS89DmoDi9PDoLF4HWAQ1cdXp4cVIeXJwelYAg74jX0OagOL08OmoSXPgfV4eXJQbAYvA5w6KrDy5OD6vDy5KAUDGFHvIY+B9Xh5clBk/DS56A6vDw5CBaD1wEOXXV4eXJQHV6eHJSCIeyI19DnoDq8PDloEl76HFSHlycHwWLwOsChqw4vTw6qw8uTg1IwhB3xGvocVIeXJwdNwkufg+rw8uQgWAxeBzh01eHlyUF1eHlyUAqGsCNeQ5+D6vDy5KBJeOlzUB1enhwEi8HrAIeuOrw8OagOL08OSsEQdsRr6HNQHV6eHDQJL30OqsPLk4NgMXgd4NBVh5cnB9Xh5clBKRjCjngNfQ6qw8uTgybhpc9BdXh5chAsBq8DHLrq8PLkoDq8PDkoBUPYEa+hz0F1eHly0CS89DmoDi9PDoLF4HWAQ1cdXp4cVIeXJwelYAg74jX0OagOL08OmoSXPgfV4eXJQbAYvA5w6KrDy5OD6vDy5KAUDGFHvIY+B9Xh5clBk/DS56A6vDw5CBaD1wE2ldh4/WWV62L++eK3hcuvvWj8rcimG//fKI+2FX+PZeuq9tdGdXh5mkrlFCpr1boYLbeypVhZFY/4eyxb5+2vrerw8jSVjtM7r7Yu5swfHxu+d/U5429llCeuS+n2bF3V/toqBUPYEa+hb6pN3/z0aBv6W7XO2LzhB6PlVfzywq+Fqz/8l+NvK9/j7cXrvP21VR1enqbSsYtrT31f5Trjxh+eXyhbisqq7Rhp2eN13v7aahJe+qayMqq86bq4DOKma38xWq4645HWJW+bRlqPuqgOL09TqaxWXm9djOKU1p8Y5VEsjHR7tq5qf20Fi8HrAJtKVJmUeLk6aJkh+64OX6jTt2WS8pg5UBpbHhspb39tVYeXp6kmGcJ0eVqW9VeeOkqjv/FyxcTi4sVRePtrqzq8PE1lZUiX2zm376oT3rlPy6fvFpM0Xoa3vy5KwRB2xGvom8pMX5VJiZdbJ26yzklGwZaZafA6ybgjTPfXRXV4eZqqyhBavGy5ypuaGTNB8TKLp2JSFUeR7q+LJuGlb6oqQ2jLY+OWlrGqngkzTfFySy/6aggVg3i5yhGf36p46rvFxIuX8PbXRbAYvA6wqURqaqwDT81erEmG0AxCbACUTsukdH9dVIeXp6mqDIyVOTUvsSYZQm1PxDHTMsVDpPvrojq8PE1l5y9dLiYde50htDpjyy2GVo/iPF2VgiHsiNfQN1VVR22GSJ1WvDyWGZk4TdzJibgDVCdmZindXxfV4eVpqipDaOWKl6WaZAi9mAnL00dDaHVo0rFX1TNhMYnXKR4Wk74aQpHGKlZVPPXdrhXJllsMtQxD2C+8DrCphGfQjHikJ9YkQ6hOXMuFLbdlZgDiPF0Uc9ZZZ4WXvvSl4eKLLx4vmY8htOVCn+N1pkmGUOU2E2TLLa2YZKqayvBiIrw8TaXjjo89Xi7SMpsmGUJh5beYWpysLsV5uioFQ9gRr6FvqqqO2pZP6nisI/cMoTpx5bXOzgxR1f66yKi6sLw8TVVlCG153FGnMiMTL0vLbyYnjoeYpSH04uKlb6oqA2NlE/HyWFXnXWh7sfmx/aSxmkYxs46L6rl3nWiZSMtsmmQIhZXfri/Fx2I16bpsI5gt8+jkhWfQzPAZqQGqM4RmAtTZW1ot0zpvf20Vc8YZZ4Q1a9aE7bff/ub4eHmaqsrASGZejKr1qTmyclss9NfSar2YpSH0YiK8PE2lMngGzeJlqGze+ipDqM9CdcnSahsYwiXEa+ibqqqjlqxjEtZZe+utw5Ksk1MnbubJ0mobsTGyPF1lVF1YXp6msmP3DJrKYahcVevjZXG5lcc6dKXVdzsPszSEXly89E1VZWAki5fwzEpVPRNx+bUPbUvbiOtSnKeLYmYdFx2rV2Y7fiM9t1Xx1Hehz0Llt7TahuqMt78ugtkyj05eTDJoNtIn1FnbcjM2VYZQn80E2WhPvCzO00WKQ5UUHy9PU00yhCYzMyJeXmcI9VlYTGwftizO00VePCSrM16eplIZ7Nx6srKL2BQ2MYSKhbZto8jxsjhPV6VgCDviNfRNVdVRx1LnI9QRxcut41JnZcviTjw2QfY3XhZvq4u8i0qyC8vL01RmcCYZNCPt0OsMYRwPoXXx5zhfF3kxkRQXL31TVRmYWFb21LDEZY6XC20vrjfKG5sgfY7zdJEXD9O0cdHxTjJoVnYRn9+qeNp1pc9m/iwu8bI4T1d58UCzk7VF7zjliW4n2ESizqCZ+YtNThNDaGbSOnot0+e6/TWRF49YXp6mamIIJTNAsflpYgi1XX2P04l5GkJp7Vo/T1PpmCVvncliF9eLJobQ4qbtWzoM4RLiNfRNVdVRp4o7qXSZOjZblnbi1lkKrYuNkeXpKu+CMunC8vI0lY5f1Bk0r3OuM4T6Liwu+m7nYZ6GUPLSN1WVgUllsYvrRVU9E7Y9i6VQHNK6NI28WMTy8jSV1XFvnckrS1U842vN4qbtp3GK83SVFws0W6ktevNnHu92gk0kUoOmDjzuvD3j08QQmhEQ+qxlWjcLQxhjI6cWj3Xr1rl5mqrKwKjMcXnN8FrZpCaG0GInbL1I99dFhhcT4eVpKpXBM2jx+bSyxeWviqe+C/tuWD2L69K0SsEQdsRr6JuqqqNWxxWbE68Tso4r7vjTjs/MgfLre2qMppFRdWF5eZrKjjs1aCpzXF7FxMpm0ncRL0vLbbGzTt7OQ7q/LjK8uHjpm6rKwOjY4/NpZUvTiDidJNIYWD1L69I0ipl1XHS8nkGL64VX76vimcbPsLrhXYtdBbNlHp28R2zkjNTgNDGE9j02DLExmkYxikscD+HlaSqv/Dru2MgZZl5MTQyhfY8Nkpi1IUxjIrw8TaVjTvFildaJpoZQ37UP+57WpWmUgiHsiNfQN5V1wjHqkMwQxaR5reOKDVLaidt36wi9jrGrjKoLy8vTVF75tczKbFQZAREvS8tt362Tt/Ng36eR4cXFS99Udi5jVH6vDsV1QrI06XkXsSESad2x79MoZtZxUQxSvFil5bA0cfklq2Px97ieYQiXl3l08n1VHV6eHFSHlycHpWAIO+I19DmoDi9PDpqElz4H1eHlyUGwGLwOcOiqw8uTg+rw8uSgFAxhR7yGPgfV4eXJQZPw0uegOrw8OQgWg9cBDl11eHlyUB1enhyUgiHsiNfQ56A6vDw5aBJe+hxUh5cnB8Fi8DrAoasOL08OqsPLk4NSMIQd8Rr6HFSHlycHTcJLn4Pq8PLkIFgMXgc4dNXh5clBdXh5clAKhrAjXkOfg+rw8uSgSXjpc1AdXp4cBIvB6wCHrjq8PDmoDi9PDkrBEHbEa+hzUB1enhw0CS99DqrDy5ODYDF4HeDQVYeXJwfV4eXJQSkYwo54DX0OqsPLk4Mm4aXPQXV4eXIQLAavAxy66vDy5KA6vDw5KAVD2BGvoc9BdXh5ctAkvPQ5qA4vTw6CxeB1gENXHV6eHFSHlycHpWAIO+I19DmoDi9PDpqElz4H1eHlyUGwGLwOcOiqw8uTg+rw8uSgFAxhR7yGPgfV4eXJQZPw0uegOrw8OQgWg9cBDl11eHlyUB1enhyUgiHsiNfQ56A6vDw5aBJe+hxUh5cnB8Fi8DrAoasOL08OqsPLk4NSMIQd8Rr6HFSHlycHTcJLn4Pq8PLkIFgMXgc4dNXh5clBdXh5clAKhrAjXkOfg+rw8uSgSXjpc1AdXp4cBIvB6wCHrjq8PDmoDi9PDkrBEHbEa+hzUB1enhw0CS99DqrDy5ODYDF4HeDQVYeXJwfV4eXJQSkYwo54DX0OqsPLk4Mm4aXPQXV4eXIQLAavAxy66vDy5KA6vDw5KAVD2BGvoc9BdXh5ctAkvPQ5qA4vTw6CxeB1gENXHYev393NN3TVQVxWwBB25OfvfKjb2A9ddRCXMsTEh7jAPDnmghe7neBQdfQFLxiXvJrcYiJ96IIXjktfDXFZAUPYkav+/nFuYz9kXXXgY8elr4a4lCEmPsQF5sknL3qt2xEOVf/0368Yl7yaT3/n9W7eIetjF756XPpqiMsKGMKOXH3UC9wGf8j6xaH1Q+/EpQwx8SEuME/O+emnwxHrn+t2hkPT4ec9J3z9Jx8dl7yab13x+fDBTGIiHXn+nuHsyz45Ln01xGUFDGFHNn3jY+Gqd/2R2+gPUVftv2u47l+PHJe+GuJShpj4EBeYJ7+4/rJw1PnPdzvEoUnl/Nm1F49LXs01N2zYagae525jiDpqq/HZsOkH49JXQ1xWwBB2ZMvVPw0/329Xt+Efoq7af7ew+Wf1DQ5xKUNMfIgLzJuv/eiYcOT6YXf0R67fM5z+w8PGJa7nP6/47GiEyNvWkCST/PWffGRc6nqIC4ZwKjZ9/aNbG/lHuo3/kHTVAbuFa//l4HGp6yEuZYiJD3GBebL5phvCP/33X7kd41D04W//Rbhhy6ZxievZctPm8LEL9w6HnzfsJ2uP+/bLR+e/KcQFQzgdWzaHjYc8K2x458PcTmAo2vgPTw033fjLcaEbQFzKEBMf4gJz5orrvjeaIvM6x75L5frxNReMS9ocxeSD6/dwtzkEafr38msvGpe2ObnHBUM4JZsv/59BT3tdtbVsN/7w/HFpm0NcyhATH+IC80ad4Ee//ZeD6exVDo0MdjGDhsyPRsSGNE2q2wM++u2XdTKDRs5xwRDOAHVoGw955qCmvnQD/MaDnzxVR0ZcyhATH+IC80bTZLqn8Ojz9+rttKCOW/eA6Z7BNtPEVWia9N8u+/jIMPR5qvSI9c/ZapKfF8788bGtpomryDUuGMJZsWVzuPb0w8PP99sl/LzH019X7fvw0YjGtae+dzZTXMSlDDHxIS6wADQC9I3Ljg/H/ffLezNiqOPUvV9n/uTDjZ4mboueyP7m5SeE4y98VTjqgv48ma1j1THLvDV5mrgtucUFQzhjNv/8h6NXS/zikGeMbiT3OoxllI5Vx6wOeR5PQhKXMouIydde8aDw8efdx13XVX2uK/OIh2necYH+sW7dunDSSSeNv4EgJmWWJSYYwp7CRVWGmJRZu3Zt2HnnncffgHjAIqG+lSEmZZYlJhjCnsJFVYaYFJFBXrNmzUgYZeIBi4X6VoaYlFmmmGAIewgXVRliUkYG2WKCUSYesFiob2WISZlligmGsIdwUZUhJkVig2zK2SgTD1gk1LcyxKTMssUEQ9gzuKjKEJMysUE25WyUiQcsEupbGWJSZtligiHsGVxUZYhJNRYPWIF4wCKhvpUhJmWWJSaclZ7CRVWGmJQhJkWIBywS6lsZYlJmWWLCWekpXFRliEkZYlKEeMAiob6VISZlliUmnJWewkVVhpiUISZFiAcsEupbGWJSZlliwlnpKVxUZYhJGWJShHjAIqG+lSEmZZYlJpyVnsJFVYaYlCEmRYhHXnzgjB+G+x/4H2H7150Z1uzztcFK5VM53/PVH4Qbt9w0Ln01xKUMMcEQdkaB3PfL3w/3PuCbYbu/9QM/NN1r/2+GN5z83bDpxi3jKJQhLmWISRliAvPmSUedH3Z401nuuRiqVN7d/vFbpY4+hriUISYrYAg7oAA++KBzw+3e+HU30EPWjm8+a+t/F+e4nRpxKceFmBCTWJOuH5gdGu3JrYM33X5rHdv3S98fR6IIcSnHhZhsiwmGsAMa2cixMzOpU9vnc5eMo7EN4lKOCzEhJqmqrh+YHZoS82Kfi+5zwDnjSBQhLuW4EJNtMcEQdkDTXF5gc9I99jt7HI1tEJdyXIgJMfHkXT8wO4Z+H1idVH4P4lKOCzHZFhMMYQdyueepTinEZUUxxGRFMcRkRTA/vHjnJg8vXW5K8dLkJgND2AEvoDkqxUuTo2K89Tkqxlufo2B+ePHOTR5eutyU4qXJTQaGsANeQHNUipcmR8V463NUjLc+R8H88OI9C3Xd9neuuC685nMXl5bb9s6+9Gp3/TTy8NJNKx23yuetq5N3TPH2NvzvDaX10yrFSzOtpolJXV2ZZ0wwhB3wAjoLVVWEOlVVPtve4V//cTj5gg2l9dMqxUszC3WNi8rsldu2N49GWIrx1s9C84rJIuqKt34WqipbnVRulT9dbtt79GHr3PXTCuaHF+9ZqOu2q67XrttrIg8v3bSqun6ayDumabbXRClemmk1TRlWs65gCDvgBXQWqqoIdaqqfF2311QpXppZqGs5qgzCIuPirZ+FiElZVWWrk8qt8qfLu26vqWB+ePGehbpuu+r66rq9JvLw0k2rquunibxjmmZ7TZTipZlW05RhNesKhrADXkBnoaqKUKeqytd1e02V4qWZhbqWo6pDX2RcvPWzEDEpq6psdVK5Vf50edftNRXMDy/ese653zdH51zor77rXP9o4/Xh2l9uGU3LabRcf/V9/9MuHeUTX73oqtFfrdPosZbHy/Y8/tulZZLqWbpfobT6rPU6hvU/+d/RPuP96lhsmY6xSb308NLF0rHrWIWOX8t0bPExf/zcn46Ow8qv49YxxWmUz4txVfnj/Wq5pOXCjkEzOsL2q+VejLV8klK8NLG8mNTVlTYx0fI2dcX+atmsY4Ih7IAX0FTxSbEGQtiJ1XpLo2VabyfYLnyvMdBnLau6gLzKoMorWSWVhDUqVduqU4qXJpZ3MeiY7FhVPjU2lsaOT9+9uHgxrmo4vbhou/pbFZcujbAU461PlZZjmph4daVNTLROqorJLOqKtz6Vd26FxUHrLY0dg45Rnakdnx2zF5OqcnixUixsvbBG2JZVNdx1gvnhxTuW6o7VBV07+m71R8t0zal+qJNVXYnPv+qDPiu/6oLy66+WKb3Sapm2pbqhZdqW8tl+lFbfhT4rj77bMSif7Vef7Vj0WettG5Pk4aWLpf3Z9aZjVTm0TPHQMu3bjk/L7Pqw41MaxUKx8WJcVX5da/quz1qvfeqzrdd3y2f7rYqx0kxSipcmlhcT7V/71jKvrrSJSVU5qmJlf+cREwxhB7yAxtJJSRsIfRaqMDpZOlF2MnUCddLiE6x0ukiU1v5KSmPL7EQrj5ZXVQatl/TZKqnS6LPyV12MdUrx0sTyLgY7Jh2Pyiy0LD4+Ly5ejC2PlU+xUL6quCiP/toxxHGp2pb2V6cYb30srxxdY6L1aV3Z7R9Xyts0JloneTHRvmZRV7z1sbyY6LNQWe14rPwqhx27lUnSse5x3LbYSNqWrUvLoeVerJQuPgbLZ/utarjrBPPDi3csnc8Yfdc5jM+jnXNLr7/Cltly5UmxehOnS7cpiXh9fAzpcluWpqmSh5cuVor2Y8eg9fG+7bjSctlyLYvR9zidJPQ3zW/f4/V2DLZ927fli9NMUoqXJlaK7VvS+vh4JTuOeJkds5bF6HtVOeL8koj/Wjp9tu1Xbcu+V8nAEHbAC2gsnZQULbe/Unyi7CSmJ8++p1haS2ffqypDXFHifPbZ25Z9n6QUL00sbTdG39P9iTi9/U3L5cXYymrprNxW9ji/7Vd/7XO63tuWfZ+kGG99LG0zJT0eYZ9tuR1jvFzfUz67/kq3HJKXP14XH0O8X1uWppmkGG99LO0/Rcvtr2THa+njY7c0+qzyp6THbd9tG3F+KU4v4vXpttI0kwTzw4t3LP3DoXMXL7Pzrc/peY3Pv+VTWvsn1/KZtCz+p8b+4dIy+6dY34U+x/Uv3paWK3/8T439o2JpquThpYtl+0uXxWW2fdvx6m/6j5T9U2f5TFXlV/n0z54+a5txvPU3Pgbbb1WM9X2SUrw0sbyYpHGw45XsWJvGpG1dsb/ziAmGsANeQGPppFhliRXnjU+m0uqzlsWVTBeJTqoqkyqV5ZW8C6iqMmh9vA/bhn2uuhjrlOKlieVdDOkxxdux5fqbxsWLscqsdWnDWRUXbVd/02PQ56ptWZpJivHWx/LK0TUmXl1pGxOtk7yY6K+2NW1d8dbH8mIixXm1Xx2jPtvx6q+V38qkEcI0JpJXjqpYxbGIj8HWKY46Zi3T9zjNJMH88OIdS+dX59TQuTRpfXzOpfj8Wz79tXolY2hY2jid6pW2afVSWB5Lq/XxMdhy/dUyobyql1bfJsnDSxdL14Qdn7A46K/WpzHSZ/1VnrhcWu/FuKr8Mkt2q4auJyu3rY+PwfZry4X+KsbavpZPUoqXJpYXkzQOdrySHWvTmFgeYeVQ/qpY2V/bjz7bMXnbahMTDGEHvICmshModGK0TNj6+GTqROqzltnJVEWwDksXvy4UQ8uqLiDLr79Wsazy2j6UztJ62zKjUKcUL00s72JIj0nYZ1uuv5YvjosXY21TKJ116LYNob8WF33W36q4pNtq0ghLMd76VGk5pomJV1faxETrpKqYzKKueOtTdbl+9FflsOOz89Xm+tE2RByrOBZCfy2t1qUNtz5bmkmC+eHFewiyNtSu90ny8NINQXYNeutSpXhphqAuMcEQdsAL6FCkDs1uIK5TipdmCGrTCEsx3vqhqGtd8dYPRTKaMpLeulQwP7x491mG/oHRPyJemlQeXrq+Sv+MGTI+uva8dKlSvDR91bQxwRB2wAtonyWzY2i0RAbIS5cqxUvTZxltGmEpxlvfZ82irnjr+ywbVRRd/3GA2eLFOzd5eOlyU4qXJjcZGMIOeAHNUSlemhwV463PUTHe+hwF88OLd27y8NLlphQvTW4yMIQd8AKao1K8NDkqxlufo2K89TkK5ocX79zk4aXLTSlemtxkYAg74AU0R6V4aXJUjLc+R8V463MUzI/tX3emG/NctN3f+vWLuJTjQky2xQRD2IF77d/svqkh6zf3PXscjW0Ql3JciAkx8eRdPzA77vfuc9y456J7br3GPIhLOS7EZFtMMIQdeN3nLwk7vvksN7g56PZby773id8ZR2MbxKUcF2JCTFJVXT8wO979lUvDDm/Ks47tuLXcbzj5u+NIFCEu5bgQk20xwRB2YNONW8L9Dzwny05NnZmeLL3m+s3jaGyDuJTjQkyISaxJ1w/Mjhu33BQeeci3RvH2zsNQpQ7+99/3n6PyexCXclyIybaYYAg7ok7t/3z24nCP/c52gz1EaZpLIxuTOjPiUoaYlCEmMG/U0f3dqd8L9zngnMHfJ6b7wDT1p9Eez/TEEJcyxGQFDCEAAABA5mAIAQAAADIHQwgAAACQORhCAAAAgMzBEAIAAACsEuvWrQsnnXTS+NvqgSHsKctSgZYJYlKGmJQhJrAoqGtliEmZtWvXhp133nn8bfXAEPaUZalAywQxKUNMyhATWBTUtTLEpIgM8po1a0ZabaOMIewhy1SBlgViUoaYlCEmsCioa2WISRkZZIvJahtlDGEPWaYKtCwQkzLEpAwxgUVBXStDTIrEBtm0mkYZQ9gzlq0CLQPEpAwxKUNMYFFQ18oQkzKxQTatplHGEPaMZatAywAxKUNMyhATWBTUtTLEpBqLx2qDIewpy1KBlgliUoaYlCEmsCioa2WISZlliQlnpadwUZUhJmWISRliAouCulaGmJRZlphwVnoKF1UZYlKGmJQhJrAoqGtliEmZZYkJZ6WncFGVISZliEkZYgKLgrpWhpiUWZaYcFZ6ChdVGWJShpiUISawKKhrZYhJmWWJCWelp3BRlSEmZYhJGWICi4K6VoaYlFmWmHBWegoXVRliUoaYlCEmsCioa2WISZlliQlnpadwUZUhJmWISRliAouCulaGmJRZlphwVnoKF1UZYlKGmJQhJrAoqGtliEmZZYkJZ6WncFGVISZliEkZYgKLgrpWhpiUWZaYcFZ6ChdVGWJShpiUISawKKhrZYhJmWWJCWelp3BRlSEmZYhJGWICi4K6VoaYlDnuuONGWm04Kz1lWSrQMkFMyhCTMsQEFgV1rQwxWV4whAAAAACZgyEEAAAAyBwMIQAAAEDmYAgBAAAAMgdDCAAAAHPjve99L08WN+C+971v2HvvvcffFg9nCACy48lPfnL41Kc+Nf4GAAAYwp5ChwbQHa4fAIAiGMKeQocGOaI6r7o/LbO8fmZ1TLC8fPe73x1N580bplVhNaH29RQMIeQIhhAWjYygZwZ1r5f96kZal2y5Keass866eblXb6qW9xmVOY2hymhxWM375uaB6oNXNn3XPxeGPmuZobS639KIY6QYzhsMYU9RRZlVh9Yn7AIyxTGwiym+iJQ+vjiH1tBOIo5D38rtdZpxByxZQ6vPkxpZkcZCiutOvD8p3p46snS9Nc5VxwT9x85tXBcMa2eMuBNXnrhuWfsjrG7aNlWPrC7FWH2Lt9tnVJ7YECp2qfEZUlntfAudfzvf8bkXVh8M1TmLgz7H7cki4oMh7Clph5YL8QUSN7TCGnBrYHUB6XucR41SDnFTGeOORnHoS7kndZoqQ9wRizit8BrZOI/VG4tH2oCn31Vn4u+qV3Hn5h0T9Bc7/5Oul6pzrroRtzdG3F5r23F9nYS1YU3TLyuKqV0z8WdDy4ZyDaXtT0x6Lr22yoxfVV2aJ/5Rw9ITNzA5E19gunjiC8gutvgCjC+4nOhbudPzZngdcV0jG3824uvHu5a0TJ2U8P6JiLfpHRP0H53TqnoozKzFdUHLvOtM15/VIaufUlqvDEsTt2d9JjWEVv5YqUnsM3EZrR0R+j6prUrbaX1fZGzKLSX0Aq8TywGvMbELLL2Y0otNpGmGjBqROE59KredOymu5575UpqqRlafvcY0vn6s409l65U/btSF1ts+vWOC4aDzP6lDtjZJ6BrzTFxVe63tpsu1rUn76yOKkZUp/pwDOp/WfqjccVsV1x1R1T+pjiwiZhjCnlLVwAwZ76KIO2YM4TbiRkj0udw651bX9Tc1X5MaWa8OiPj6qbuWtP04liKud94xwbDQuY7bHl1LcZ2L64M+x/VJny2v0sTXYXpdenV1COj6ieOnz3G507j0GZU1Pv9pW6Nzbuh7fM7j+hCnU3wWUTeGWfsyoK4TGyK6UOKLRJ/jhji+mIR3EaVphkhabjNIfSl32jnE5yztWERdI5uu17a03q4f/fXqiaH9TTKE3jHB8FEdMKVtcbwurRuqW7ZOdTMHvGtkUoz6jrVBUtyWiLjcadujtNbWWTtuStugeVBsBaE3qMLlZgiFGg67QOxiso45vphEaoxEmmaomOmRzBD1qdw63vj4Y6wOKI1haSXP4MX1RnFIr584XlK8TnknGULhHRMArKDrKb2OYfnAEAIAAMDckBnM4R/xvoMhBAAAgJnDyHm/wBACAAAAZA6GEAAAACBzMIQAAAAAWRPC/wcCmQ3lh1FQ7gAAAABJRU5ErkJggg==)"
   ]
  },
  {
   "cell_type": "markdown",
   "metadata": {
    "id": "VohrMcy8sLjH"
   },
   "source": [
    "\n",
    "\n",
    "*   $e^t = [s_t^Th_1, s_t^Th_2, ... , s_t^Th_n$]에 softmax를 적용해 각각의 확률값을 계산\n",
    "*   내적이 크다면 확률값이 높아질 것이고, 작다면 확률값이 낮아짐\n",
    "*   결국 확률값을 구하는 것은 예측할 단어와 연관이 있는 단어를 찾는 것\n",
    "*   시점 t의 어텐션 분포를 $a^t$이라고 하면, 다음과 같은 식이 성립함\n",
    "$$ a^t = softmax(e^t) $$\n",
    "\n"
   ]
  },
  {
   "cell_type": "markdown",
   "metadata": {
    "id": "7__vtckPpMAC"
   },
   "source": [
    "### 각 인코더의 어텐션 가중치와 은닉 상태를 가중합해 어텐션 값 계산"
   ]
  },
  {
   "cell_type": "markdown",
   "metadata": {
    "id": "TK4yfEIQuXpK"
   },
   "source": [
    "![dotproductattention4_final.png](data:image/png;base64,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)"
   ]
  },
  {
   "cell_type": "markdown",
   "metadata": {
    "id": "-86bwD_2ur0Z"
   },
   "source": [
    "\n",
    "\n",
    "*   각 인코더의 은닉 상태와 어텐션 가중치들을 곱하고 어텐션 값을 계산\n",
    "*   어텐션 값에 대한 수식은 $a_t = \\sum^N_{i=1}{a^t_ih_i}$\n",
    "\n"
   ]
  },
  {
   "cell_type": "markdown",
   "metadata": {
    "id": "Q_acjI-epQPv"
   },
   "source": [
    "### 어텐션 값과 디코더의 t 시점의 은닉 상태를 연결"
   ]
  },
  {
   "cell_type": "markdown",
   "metadata": {
    "id": "IpJ0EUmsuaDX"
   },
   "source": [
    "![dotproductattention5_final_final.png](data:image/png;base64,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)"
   ]
  },
  {
   "cell_type": "markdown",
   "metadata": {
    "id": "_C0rA4JRusR0"
   },
   "source": [
    "\n",
    "\n",
    "*   어텐션 값 $a_t$를 구했다면 $s_t$와 연결해 예측 연산에 사용할 $v_t$를 계산함\n",
    "*   $v_t$는 기존과는 다르게 인코더의 정보를 가지고 있어 좀 더 좋은 성능의 예측을 수행할 수 있음\n",
    "\n"
   ]
  },
  {
   "cell_type": "markdown",
   "metadata": {
    "id": "1R_2m-DuJ7-E"
   },
   "source": [
    "## Attention Mechanism 모델"
   ]
  },
  {
   "cell_type": "markdown",
   "metadata": {
    "id": "fbbdF6YXkdF9"
   },
   "source": [
    "### 인코더(Encoder))"
   ]
  },
  {
   "cell_type": "markdown",
   "metadata": {
    "id": "3GH8IwyfkXKj"
   },
   "source": [
    "\n",
    "\n",
    "*   인코더는 seq2seq에서 작성한 것과 동일\n",
    "\n"
   ]
  },
  {
   "cell_type": "code",
   "execution_count": null,
   "metadata": {
    "id": "8w_12MxSuoHF"
   },
   "outputs": [],
   "source": []
  },
  {
   "cell_type": "markdown",
   "metadata": {
    "id": "Y6kIEuiokezL"
   },
   "source": [
    "### 디코더(Decoder)"
   ]
  },
  {
   "cell_type": "markdown",
   "metadata": {
    "id": "JDROkM8Ikn1k"
   },
   "source": [
    "\n",
    "\n",
    "*   디코더에서는 seq2seq와는 다르게 attention layer를 추가함\n",
    "*   S_는 은닉 상태와 디코더의 최종 출력을 연결한 결과, 연결할 때 형상을 맞춰주기 위해 축을 추가함\n",
    "*   attention layer는 디코더의 은닉 상태와 인코더 은닉 상태 전체를 받아 컨텍스트 벡터를 생성함\n",
    "*   이 때 attention layer는 앞서 설명한 과정 중 1~3번째를 수행, 나머지는 사용자가 연결해주어야 함\n",
    "*   마지막으로 생성한 컨텍스트 벡터와 디코더의 은닉 상태 전체를 이어 softmax layer에 투입, 인덱스를 예측함\n",
    "\n"
   ]
  },
  {
   "cell_type": "code",
   "execution_count": null,
   "metadata": {
    "id": "YcHrP_31vI7w"
   },
   "outputs": [],
   "source": []
  },
  {
   "cell_type": "markdown",
   "metadata": {
    "id": "L5i84VCLkhzz"
   },
   "source": [
    "### 모델 구성 및 학습"
   ]
  },
  {
   "cell_type": "markdown",
   "metadata": {
    "id": "tRjWvXBnlUdE"
   },
   "source": [
    "\n",
    "\n",
    "*   구성하는 방법은 seq2seq와 동일함\n",
    "*   attention mechanism을 활용해 학습 시간이 절반 가량 준 것을 확인할 수 있음\n",
    "\n"
   ]
  },
  {
   "cell_type": "code",
   "execution_count": null,
   "metadata": {
    "id": "-88uJ1MgvLY-"
   },
   "outputs": [],
   "source": []
  },
  {
   "cell_type": "code",
   "execution_count": null,
   "metadata": {
    "id": "zh46pKQOvqEv"
   },
   "outputs": [],
   "source": []
  },
  {
   "cell_type": "markdown",
   "metadata": {
    "id": "-huw5tCP3hWM"
   },
   "source": [
    "### 예측\n"
   ]
  },
  {
   "cell_type": "markdown",
   "metadata": {
    "id": "FqAhmptVjjvm"
   },
   "source": [
    "\n",
    "\n",
    "*   예측도 seq2seq와 동일하나, 추가된 모델 구조를 반영해주어야 함(attention layer)\n",
    "*   encoder와 decoder를 분리해주었기 때문에 디코더에서 인코더의 은닉 상태(estate_h)와 최종 은닉 상태(encoder_outputs)를 따로 입력받아야 함\n",
    "*   나머지는 seq2seq에서 작성한 부분과 동일함\n",
    "\n",
    "\n",
    "\n",
    "\n",
    "\n"
   ]
  },
  {
   "cell_type": "code",
   "execution_count": null,
   "metadata": {
    "id": "CmuxPEnK3iiI"
   },
   "outputs": [],
   "source": []
  },
  {
   "cell_type": "code",
   "execution_count": null,
   "metadata": {
    "id": "RaHcXQy33kE5"
   },
   "outputs": [],
   "source": []
  },
  {
   "cell_type": "code",
   "execution_count": null,
   "metadata": {
    "id": "ewcvf5WQ3lPK"
   },
   "outputs": [],
   "source": []
  },
  {
   "cell_type": "code",
   "execution_count": null,
   "metadata": {
    "id": "_ltuo4QB3nlL"
   },
   "outputs": [],
   "source": []
  },
  {
   "cell_type": "markdown",
   "metadata": {
    "id": "rH3XLoj3kJU0"
   },
   "source": [
    "\n",
    "\n",
    "*   seq2seq와 동일한 문장을 번역\n",
    "*   seq2seq에 비해 좀 더 나은 성능을 보여줌\n",
    "\n"
   ]
  },
  {
   "cell_type": "code",
   "execution_count": null,
   "metadata": {
    "id": "g73IOlKD3ppK"
   },
   "outputs": [],
   "source": []
  }
 ],
 "metadata": {
  "accelerator": "GPU",
  "colab": {
   "provenance": []
  },
  "kernelspec": {
   "display_name": "Python 3 (ipykernel)",
   "language": "python",
   "name": "python3"
  },
  "language_info": {
   "codemirror_mode": {
    "name": "ipython",
    "version": 3
   },
   "file_extension": ".py",
   "mimetype": "text/x-python",
   "name": "python",
   "nbconvert_exporter": "python",
   "pygments_lexer": "ipython3",
   "version": "3.12.9"
  }
 },
 "nbformat": 4,
 "nbformat_minor": 4
}
