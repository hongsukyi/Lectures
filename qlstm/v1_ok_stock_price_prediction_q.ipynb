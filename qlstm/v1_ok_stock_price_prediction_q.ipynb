{
 "cells": [
  {
   "cell_type": "code",
   "execution_count": 1,
   "metadata": {},
   "outputs": [],
   "source": [
    "import pandas as pd\n",
    "\n",
    "import time\n",
    "import numpy as np\n",
    "import math\n",
    "import matplotlib.pyplot as plt\n",
    "\n",
    "import torch\n",
    "from torch.utils.data import DataLoader\n",
    "from torch import nn\n",
    "\n",
    "from datetime import datetime\n",
    "\n",
    "# Replace this to use Noisy QLSTM\n",
    "# from QLSTM_Noisy import SequenceDataset\n",
    "from QLSTM import SequenceDataset"
   ]
  },
  {
   "cell_type": "code",
   "execution_count": 2,
   "metadata": {},
   "outputs": [],
   "source": [
    "df = pd.read_csv('./AAPL_2022-01-01_2023-01-01.csv')"
   ]
  },
  {
   "cell_type": "code",
   "execution_count": 3,
   "metadata": {},
   "outputs": [
    {
     "data": {
      "text/html": [
       "<div>\n",
       "<style scoped>\n",
       "    .dataframe tbody tr th:only-of-type {\n",
       "        vertical-align: middle;\n",
       "    }\n",
       "\n",
       "    .dataframe tbody tr th {\n",
       "        vertical-align: top;\n",
       "    }\n",
       "\n",
       "    .dataframe thead th {\n",
       "        text-align: right;\n",
       "    }\n",
       "</style>\n",
       "<table border=\"1\" class=\"dataframe\">\n",
       "  <thead>\n",
       "    <tr style=\"text-align: right;\">\n",
       "      <th></th>\n",
       "      <th>Date</th>\n",
       "      <th>Open</th>\n",
       "      <th>High</th>\n",
       "      <th>Low</th>\n",
       "      <th>Close</th>\n",
       "      <th>Adj Close</th>\n",
       "      <th>Volume</th>\n",
       "    </tr>\n",
       "  </thead>\n",
       "  <tbody>\n",
       "    <tr>\n",
       "      <th>0</th>\n",
       "      <td>2022-01-03</td>\n",
       "      <td>177.830002</td>\n",
       "      <td>182.880005</td>\n",
       "      <td>177.710007</td>\n",
       "      <td>182.009995</td>\n",
       "      <td>179.724533</td>\n",
       "      <td>104487900</td>\n",
       "    </tr>\n",
       "    <tr>\n",
       "      <th>1</th>\n",
       "      <td>2022-01-04</td>\n",
       "      <td>182.630005</td>\n",
       "      <td>182.940002</td>\n",
       "      <td>179.119995</td>\n",
       "      <td>179.699997</td>\n",
       "      <td>177.443542</td>\n",
       "      <td>99310400</td>\n",
       "    </tr>\n",
       "    <tr>\n",
       "      <th>2</th>\n",
       "      <td>2022-01-05</td>\n",
       "      <td>179.610001</td>\n",
       "      <td>180.169998</td>\n",
       "      <td>174.639999</td>\n",
       "      <td>174.919998</td>\n",
       "      <td>172.723587</td>\n",
       "      <td>94537600</td>\n",
       "    </tr>\n",
       "    <tr>\n",
       "      <th>3</th>\n",
       "      <td>2022-01-06</td>\n",
       "      <td>172.699997</td>\n",
       "      <td>175.300003</td>\n",
       "      <td>171.639999</td>\n",
       "      <td>172.000000</td>\n",
       "      <td>169.840256</td>\n",
       "      <td>96904000</td>\n",
       "    </tr>\n",
       "    <tr>\n",
       "      <th>4</th>\n",
       "      <td>2022-01-07</td>\n",
       "      <td>172.889999</td>\n",
       "      <td>174.139999</td>\n",
       "      <td>171.029999</td>\n",
       "      <td>172.169998</td>\n",
       "      <td>170.008102</td>\n",
       "      <td>86709100</td>\n",
       "    </tr>\n",
       "  </tbody>\n",
       "</table>\n",
       "</div>"
      ],
      "text/plain": [
       "         Date        Open        High         Low       Close   Adj Close  \\\n",
       "0  2022-01-03  177.830002  182.880005  177.710007  182.009995  179.724533   \n",
       "1  2022-01-04  182.630005  182.940002  179.119995  179.699997  177.443542   \n",
       "2  2022-01-05  179.610001  180.169998  174.639999  174.919998  172.723587   \n",
       "3  2022-01-06  172.699997  175.300003  171.639999  172.000000  169.840256   \n",
       "4  2022-01-07  172.889999  174.139999  171.029999  172.169998  170.008102   \n",
       "\n",
       "      Volume  \n",
       "0  104487900  \n",
       "1   99310400  \n",
       "2   94537600  \n",
       "3   96904000  \n",
       "4   86709100  "
      ]
     },
     "execution_count": 3,
     "metadata": {},
     "output_type": "execute_result"
    }
   ],
   "source": [
    "df.head()"
   ]
  },
  {
   "cell_type": "code",
   "execution_count": 4,
   "metadata": {},
   "outputs": [
    {
     "name": "stdout",
     "output_type": "stream",
     "text": [
      "<class 'pandas.core.frame.DataFrame'>\n",
      "RangeIndex: 251 entries, 0 to 250\n",
      "Data columns (total 7 columns):\n",
      " #   Column     Non-Null Count  Dtype  \n",
      "---  ------     --------------  -----  \n",
      " 0   Date       251 non-null    object \n",
      " 1   Open       251 non-null    float64\n",
      " 2   High       251 non-null    float64\n",
      " 3   Low        251 non-null    float64\n",
      " 4   Close      251 non-null    float64\n",
      " 5   Adj Close  251 non-null    float64\n",
      " 6   Volume     251 non-null    int64  \n",
      "dtypes: float64(5), int64(1), object(1)\n",
      "memory usage: 13.9+ KB\n"
     ]
    }
   ],
   "source": [
    "df.info()"
   ]
  },
  {
   "cell_type": "code",
   "execution_count": 5,
   "metadata": {},
   "outputs": [],
   "source": [
    "df=df[:36]"
   ]
  },
  {
   "cell_type": "code",
   "execution_count": 6,
   "metadata": {},
   "outputs": [],
   "source": [
    "columns = ['Open', 'High', 'Low', 'Close']"
   ]
  },
  {
   "cell_type": "code",
   "execution_count": 7,
   "metadata": {
    "scrolled": true
   },
   "outputs": [
    {
     "data": {
      "text/html": [
       "<div>\n",
       "<style scoped>\n",
       "    .dataframe tbody tr th:only-of-type {\n",
       "        vertical-align: middle;\n",
       "    }\n",
       "\n",
       "    .dataframe tbody tr th {\n",
       "        vertical-align: top;\n",
       "    }\n",
       "\n",
       "    .dataframe thead th {\n",
       "        text-align: right;\n",
       "    }\n",
       "</style>\n",
       "<table border=\"1\" class=\"dataframe\">\n",
       "  <thead>\n",
       "    <tr style=\"text-align: right;\">\n",
       "      <th></th>\n",
       "      <th>Open</th>\n",
       "      <th>High</th>\n",
       "      <th>Low</th>\n",
       "      <th>Close</th>\n",
       "    </tr>\n",
       "  </thead>\n",
       "  <tbody>\n",
       "    <tr>\n",
       "      <th>0</th>\n",
       "      <td>177.830002</td>\n",
       "      <td>182.880005</td>\n",
       "      <td>177.710007</td>\n",
       "      <td>182.009995</td>\n",
       "    </tr>\n",
       "    <tr>\n",
       "      <th>1</th>\n",
       "      <td>182.630005</td>\n",
       "      <td>182.940002</td>\n",
       "      <td>179.119995</td>\n",
       "      <td>179.699997</td>\n",
       "    </tr>\n",
       "    <tr>\n",
       "      <th>2</th>\n",
       "      <td>179.610001</td>\n",
       "      <td>180.169998</td>\n",
       "      <td>174.639999</td>\n",
       "      <td>174.919998</td>\n",
       "    </tr>\n",
       "    <tr>\n",
       "      <th>3</th>\n",
       "      <td>172.699997</td>\n",
       "      <td>175.300003</td>\n",
       "      <td>171.639999</td>\n",
       "      <td>172.000000</td>\n",
       "    </tr>\n",
       "    <tr>\n",
       "      <th>4</th>\n",
       "      <td>172.889999</td>\n",
       "      <td>174.139999</td>\n",
       "      <td>171.029999</td>\n",
       "      <td>172.169998</td>\n",
       "    </tr>\n",
       "  </tbody>\n",
       "</table>\n",
       "</div>"
      ],
      "text/plain": [
       "         Open        High         Low       Close\n",
       "0  177.830002  182.880005  177.710007  182.009995\n",
       "1  182.630005  182.940002  179.119995  179.699997\n",
       "2  179.610001  180.169998  174.639999  174.919998\n",
       "3  172.699997  175.300003  171.639999  172.000000\n",
       "4  172.889999  174.139999  171.029999  172.169998"
      ]
     },
     "execution_count": 7,
     "metadata": {},
     "output_type": "execute_result"
    }
   ],
   "source": [
    "data = df[columns]\n",
    "data.head()"
   ]
  },
  {
   "cell_type": "code",
   "execution_count": 8,
   "metadata": {},
   "outputs": [
    {
     "data": {
      "text/html": [
       "<div>\n",
       "<style scoped>\n",
       "    .dataframe tbody tr th:only-of-type {\n",
       "        vertical-align: middle;\n",
       "    }\n",
       "\n",
       "    .dataframe tbody tr th {\n",
       "        vertical-align: top;\n",
       "    }\n",
       "\n",
       "    .dataframe thead th {\n",
       "        text-align: right;\n",
       "    }\n",
       "</style>\n",
       "<table border=\"1\" class=\"dataframe\">\n",
       "  <thead>\n",
       "    <tr style=\"text-align: right;\">\n",
       "      <th></th>\n",
       "      <th>Open</th>\n",
       "      <th>High</th>\n",
       "      <th>Low</th>\n",
       "      <th>Close</th>\n",
       "    </tr>\n",
       "  </thead>\n",
       "  <tbody>\n",
       "    <tr>\n",
       "      <th>0</th>\n",
       "      <td>177.830002</td>\n",
       "      <td>182.880005</td>\n",
       "      <td>177.710007</td>\n",
       "      <td>182.009995</td>\n",
       "    </tr>\n",
       "    <tr>\n",
       "      <th>1</th>\n",
       "      <td>182.630005</td>\n",
       "      <td>182.940002</td>\n",
       "      <td>179.119995</td>\n",
       "      <td>179.699997</td>\n",
       "    </tr>\n",
       "    <tr>\n",
       "      <th>2</th>\n",
       "      <td>179.610001</td>\n",
       "      <td>180.169998</td>\n",
       "      <td>174.639999</td>\n",
       "      <td>174.919998</td>\n",
       "    </tr>\n",
       "    <tr>\n",
       "      <th>3</th>\n",
       "      <td>172.699997</td>\n",
       "      <td>175.300003</td>\n",
       "      <td>171.639999</td>\n",
       "      <td>172.000000</td>\n",
       "    </tr>\n",
       "    <tr>\n",
       "      <th>4</th>\n",
       "      <td>172.889999</td>\n",
       "      <td>174.139999</td>\n",
       "      <td>171.029999</td>\n",
       "      <td>172.169998</td>\n",
       "    </tr>\n",
       "  </tbody>\n",
       "</table>\n",
       "</div>"
      ],
      "text/plain": [
       "         Open        High         Low       Close\n",
       "0  177.830002  182.880005  177.710007  182.009995\n",
       "1  182.630005  182.940002  179.119995  179.699997\n",
       "2  179.610001  180.169998  174.639999  174.919998\n",
       "3  172.699997  175.300003  171.639999  172.000000\n",
       "4  172.889999  174.139999  171.029999  172.169998"
      ]
     },
     "execution_count": 8,
     "metadata": {},
     "output_type": "execute_result"
    }
   ],
   "source": [
    "data.head()"
   ]
  },
  {
   "cell_type": "code",
   "execution_count": 9,
   "metadata": {},
   "outputs": [],
   "source": [
    "dataset = data.values"
   ]
  },
  {
   "cell_type": "code",
   "execution_count": 10,
   "metadata": {},
   "outputs": [
    {
     "data": {
      "text/plain": [
       "array([[177.83000183, 182.88000488, 177.71000671, 182.00999451],\n",
       "       [182.63000488, 182.94000244, 179.11999512, 179.69999695],\n",
       "       [179.61000061, 180.16999817, 174.63999939, 174.91999817],\n",
       "       [172.69999695, 175.30000305, 171.63999939, 172.        ],\n",
       "       [172.88999939, 174.13999939, 171.02999878, 172.16999817],\n",
       "       [169.08000183, 172.5       , 168.16999817, 172.19000244],\n",
       "       [172.32000732, 175.17999268, 170.82000732, 175.08000183],\n",
       "       [176.11999512, 177.17999268, 174.82000732, 175.52999878],\n",
       "       [175.77999878, 176.61999512, 171.78999329, 172.19000244],\n",
       "       [171.33999634, 173.77999878, 171.08999634, 173.07000732],\n",
       "       [171.50999451, 172.53999329, 169.41000366, 169.80000305],\n",
       "       [170.        , 171.08000183, 165.94000244, 166.22999573],\n",
       "       [166.97999573, 169.67999268, 164.17999268, 164.50999451],\n",
       "       [164.41999817, 166.33000183, 162.30000305, 162.41000366],\n",
       "       [160.02000427, 162.30000305, 154.69999695, 161.61999512],\n",
       "       [158.97999573, 162.75999451, 157.02000427, 159.77999878],\n",
       "       [163.5       , 164.38999939, 157.82000732, 159.69000244],\n",
       "       [162.44999695, 163.83999634, 158.27999878, 159.22000122],\n",
       "       [165.71000671, 170.3500061 , 162.80000305, 170.33000183],\n",
       "       [170.16000366, 175.        , 169.50999451, 174.77999878],\n",
       "       [174.00999451, 174.83999634, 172.30999756, 174.61000061],\n",
       "       [174.75      , 175.88000488, 173.33000183, 175.83999634],\n",
       "       [174.47999573, 176.24000549, 172.11999512, 172.8999939 ],\n",
       "       [171.67999268, 174.1000061 , 170.67999268, 172.38999939],\n",
       "       [172.86000061, 173.94999695, 170.94999695, 171.66000366],\n",
       "       [171.72999573, 175.3500061 , 171.42999268, 174.83000183],\n",
       "       [176.05000305, 176.6499939 , 174.8999939 , 176.27999878],\n",
       "       [174.13999939, 175.47999573, 171.55000305, 172.11999512],\n",
       "       [172.33000183, 173.08000183, 168.03999329, 168.63999939],\n",
       "       [167.36999512, 169.58000183, 166.55999756, 168.88000488],\n",
       "       [170.97000122, 172.94999695, 170.25      , 172.78999329],\n",
       "       [171.8500061 , 173.33999634, 170.05000305, 172.55000305],\n",
       "       [171.02999878, 171.91000366, 168.47000122, 168.88000488],\n",
       "       [169.82000732, 170.53999329, 166.19000244, 167.30000305],\n",
       "       [164.97999573, 166.69000244, 162.1499939 , 164.32000732],\n",
       "       [165.53999329, 166.1499939 , 159.75      , 160.07000732]])"
      ]
     },
     "execution_count": 10,
     "metadata": {},
     "output_type": "execute_result"
    }
   ],
   "source": [
    "dataset"
   ]
  },
  {
   "cell_type": "code",
   "execution_count": 11,
   "metadata": {},
   "outputs": [],
   "source": [
    "# Splitting the data into train and test\n",
    "size = int(len(df) * 0.7)\n",
    "df_train = dataset[:size].copy()\n",
    "df_test = dataset[size:].copy()"
   ]
  },
  {
   "cell_type": "code",
   "execution_count": 12,
   "metadata": {},
   "outputs": [],
   "source": [
    "# Select the features\n",
    "df_train = pd.DataFrame(df_train, columns=columns)\n",
    "df_test = pd.DataFrame(df_test, columns=columns)\n",
    "\n",
    "features = df_train.columns\n",
    "target = 'Close'"
   ]
  },
  {
   "cell_type": "code",
   "execution_count": 13,
   "metadata": {},
   "outputs": [],
   "source": [
    "def normalize(a, min_a=None, max_a=None):\n",
    "    if min_a is None:\n",
    "        min_a, max_a = np.min(a, axis=0), np.max(a, axis=0)\n",
    "    return (a - min_a) / (max_a - min_a + 0.0001), min_a, max_a"
   ]
  },
  {
   "cell_type": "code",
   "execution_count": 14,
   "metadata": {},
   "outputs": [],
   "source": [
    "# Normalizing the data\n",
    "df_train, min_train, max_train = normalize(df_train)\n",
    "df_test, _, _ = normalize(df_test, min_train, max_train)"
   ]
  },
  {
   "cell_type": "code",
   "execution_count": 15,
   "metadata": {},
   "outputs": [
    {
     "name": "stdout",
     "output_type": "stream",
     "text": [
      "Features shape: torch.Size([1, 3, 4])\n",
      "Target shape: torch.Size([1])\n"
     ]
    }
   ],
   "source": [
    "torch.manual_seed(101)\n",
    "\n",
    "batch_size = 1\n",
    "sequence_length = 3\n",
    "\n",
    "train_dataset = SequenceDataset(\n",
    "    df_train,\n",
    "    target=target,\n",
    "    features=features,\n",
    "    sequence_length=sequence_length\n",
    ")\n",
    "test_dataset = SequenceDataset(\n",
    "    df_test,\n",
    "    target=target,\n",
    "    features=features,\n",
    "    sequence_length=sequence_length\n",
    ")\n",
    "\n",
    "train_loader = DataLoader(train_dataset, batch_size=batch_size, shuffle=True)\n",
    "test_loader = DataLoader(test_dataset, batch_size=batch_size, shuffle=False)\n",
    "\n",
    "X, y = next(iter(train_loader))\n",
    "\n",
    "print(\"Features shape:\", X.shape)\n",
    "print(\"Target shape:\", y.shape)"
   ]
  },
  {
   "cell_type": "code",
   "execution_count": 16,
   "metadata": {},
   "outputs": [],
   "source": [
    "def train_model(data_loader, model, loss_function, optimizer):\n",
    "    num_batches = len(data_loader)\n",
    "    total_loss = 0\n",
    "    model.train()\n",
    "    \n",
    "    for X, y in data_loader:\n",
    "        output = model(X)\n",
    "        loss = loss_function(output, y)\n",
    "\n",
    "        optimizer.zero_grad()\n",
    "        loss.backward()\n",
    "        optimizer.step()\n",
    "\n",
    "        total_loss += loss.item()\n",
    "\n",
    "    avg_loss = total_loss / num_batches\n",
    "    print(f\"Train loss: {avg_loss}\")\n",
    "    return avg_loss\n",
    "\n",
    "\n",
    "def test_model(data_loader, model, loss_function): \n",
    "    num_batches = len(data_loader)\n",
    "    total_loss = 0\n",
    "\n",
    "    model.eval()\n",
    "    with torch.no_grad():\n",
    "        for X, y in data_loader:\n",
    "            output = model(X)\n",
    "            total_loss += loss_function(output, y).item()\n",
    "\n",
    "    avg_loss = total_loss / num_batches\n",
    "    print(f\"Test loss: {avg_loss}\")\n",
    "    return avg_loss\n",
    "\n",
    "def predict(data_loader, model):\n",
    "    \"\"\"Just like `test_loop` function but keep track of the outputs instead of the loss\n",
    "    function.\n",
    "    \"\"\"\n",
    "    output = torch.tensor([])\n",
    "    model.eval()\n",
    "    with torch.no_grad():\n",
    "        for X, _ in data_loader:\n",
    "            y_star = model(X)\n",
    "            output = torch.cat((output, y_star), 0)\n",
    "    \n",
    "    return output"
   ]
  },
  {
   "cell_type": "code",
   "execution_count": 17,
   "metadata": {},
   "outputs": [
    {
     "name": "stdout",
     "output_type": "stream",
     "text": [
      "weight_shapes = (n_qlayers, n_vrotations, n_qubits) = (1, 3, 7)\n"
     ]
    }
   ],
   "source": [
    "from QLSTM import QShallowRegressionLSTM\n",
    "\n",
    "learning_rate = 0.01\n",
    "num_hidden_units = 16\n",
    "\n",
    "Qmodel = QShallowRegressionLSTM(\n",
    "    num_sensors=len(features), \n",
    "    hidden_units=num_hidden_units, \n",
    "    n_qubits=7,\n",
    "    n_qlayers=1\n",
    ")\n",
    "loss_function = nn.MSELoss()\n",
    "optimizer = torch.optim.Adam(Qmodel.parameters(), lr=learning_rate)"
   ]
  },
  {
   "cell_type": "code",
   "execution_count": 18,
   "metadata": {},
   "outputs": [
    {
     "name": "stdout",
     "output_type": "stream",
     "text": [
      "Number of parameters: 292\n"
     ]
    }
   ],
   "source": [
    "# Count number of parameters\n",
    "num_params = sum(p.numel() for p in Qmodel.parameters() if p.requires_grad)\n",
    "print(f\"Number of parameters: {num_params}\")"
   ]
  },
  {
   "cell_type": "code",
   "execution_count": 19,
   "metadata": {},
   "outputs": [
    {
     "name": "stdout",
     "output_type": "stream",
     "text": [
      "Untrained test\n",
      "--------\n",
      "Epoch 0\n",
      "---------\n",
      "Train loss: 0.2079641521163285\n",
      "Test loss: 0.04606334782544185\n",
      "Execution time 46.03912711143494\n",
      "Epoch 1\n",
      "---------\n",
      "Train loss: 0.06888077592477203\n",
      "Test loss: 0.028885672220812095\n",
      "Execution time 43.29296159744263\n",
      "Epoch 2\n",
      "---------\n",
      "Train loss: 0.04795075403060764\n",
      "Test loss: 0.022237212920365644\n",
      "Execution time 45.069756746292114\n",
      "Epoch 3\n",
      "---------\n",
      "Train loss: 0.029669357191814925\n",
      "Test loss: 0.011136306456054708\n",
      "Execution time 44.04217219352722\n",
      "Epoch 4\n",
      "---------\n",
      "Train loss: 0.020059172213909734\n",
      "Test loss: 0.012765579393029147\n",
      "Execution time 44.92648124694824\n"
     ]
    }
   ],
   "source": [
    "quantum_loss_train = []\n",
    "quantum_loss_test = []\n",
    "print(\"Untrained test\\n--------\")\n",
    "# start = time.time()\n",
    "# test_loss = test_model(test_loader, Qmodel, loss_function)\n",
    "# end = time.time()\n",
    "# print(\"Execution time\", end - start)\n",
    "# quantum_loss_test.append(test_loss)\n",
    "\n",
    "num_epochs = 5 # 50\n",
    "\n",
    "for ix_epoch in range(num_epochs):\n",
    "    print(f\"Epoch {ix_epoch}\\n---------\")\n",
    "    start = time.time()\n",
    "    train_loss = train_model(train_loader, Qmodel, loss_function, optimizer=optimizer)\n",
    "    test_loss = test_model(test_loader, Qmodel, loss_function)\n",
    "    end = time.time()\n",
    "    print(\"Execution time\", end - start)\n",
    "    quantum_loss_train.append(train_loss)\n",
    "    quantum_loss_test.append(test_loss)"
   ]
  },
  {
   "cell_type": "code",
   "execution_count": 20,
   "metadata": {},
   "outputs": [],
   "source": [
    "train_eval_loader = DataLoader(train_dataset, batch_size=batch_size, shuffle=False)\n",
    "test_eval_loader = DataLoader(test_dataset, batch_size=batch_size, shuffle=False)\n",
    "\n",
    "ystar_col_Q = \"Model Forecast\"\n",
    "df_train[ystar_col_Q] = predict(train_eval_loader, Qmodel).numpy()\n",
    "df_test[ystar_col_Q] = predict(test_eval_loader, Qmodel).numpy()"
   ]
  },
  {
   "cell_type": "code",
   "execution_count": 21,
   "metadata": {},
   "outputs": [
    {
     "data": {
      "image/png": "[encoded data removed]",
      "text/plain": [
       "<Figure size 1200x700 with 1 Axes>"
      ]
     },
     "metadata": {},
     "output_type": "display_data"
    }
   ],
   "source": [
    "plt.figure(figsize=(12, 7))\n",
    "plt.plot(range(len(df_train)), df_train[\"Close\"], label = \"Real Data\")\n",
    "plt.plot(range(len(df_train)), df_train[\"Model Forecast\"], label = \"QLSTM Train Prediction\")\n",
    "plt.ylabel('Stock Price')\n",
    "plt.xlabel('Days')\n",
    "plt.legend()\n",
    "plt.show()"
   ]
  },
  {
   "cell_type": "code",
   "execution_count": 22,
   "metadata": {},
   "outputs": [
    {
     "data": {
      "image/png": "[encoded data removed]",
      "text/plain": [
       "<Figure size 1200x700 with 1 Axes>"
      ]
     },
     "metadata": {},
     "output_type": "display_data"
    }
   ],
   "source": [
    "plt.figure(figsize=(12, 7))\n",
    "plt.plot(range(len(df_test)), df_test[\"Close\"], label = \"Real Data\")\n",
    "plt.plot(range(len(df_test)), df_test[\"Model Forecast\"], label = \"QLSTM Test Prediction\")\n",
    "plt.ylabel('Stock Price')\n",
    "plt.xlabel('Days')\n",
    "plt.legend() \n",
    "plt.show()"
   ]
  },
  {
   "cell_type": "code",
   "execution_count": 23,
   "metadata": {},
   "outputs": [
    {
     "name": "stdout",
     "output_type": "stream",
     "text": [
      "Train RMSE: 0.11709560278520818\n",
      "Test RMSE: 0.11298486225493312\n"
     ]
    }
   ],
   "source": [
    "# Calculate the RMSE for the train and test data\n",
    "from sklearn.metrics import mean_squared_error\n",
    "\n",
    "train_rmse = math.sqrt(mean_squared_error(df_train[\"Close\"], df_train[\"Model Forecast\"]))\n",
    "test_rmse = math.sqrt(mean_squared_error(df_test[\"Close\"], df_test[\"Model Forecast\"]))\n",
    "print(f\"Train RMSE: {train_rmse}\")\n",
    "print(f\"Test RMSE: {test_rmse}\")"
   ]
  },
  {
   "cell_type": "code",
   "execution_count": 24,
   "metadata": {},
   "outputs": [
    {
     "name": "stdout",
     "output_type": "stream",
     "text": [
      "Train accuracy: 0.6\n",
      "Test accuracy: 0.45454545454545453\n"
     ]
    }
   ],
   "source": [
    "# Calculate the accuracy of the model\n",
    "def accuracy(y, y_star):\n",
    "    return np.mean(np.abs(y - y_star) < 0.1)\n",
    "\n",
    "train_accuracy = accuracy(df_train[\"Close\"], df_train[\"Model Forecast\"])\n",
    "test_accuracy = accuracy(df_test[\"Close\"], df_test[\"Model Forecast\"])\n",
    "print(f\"Train accuracy: {train_accuracy}\")\n",
    "print(f\"Test accuracy: {test_accuracy}\")"
   ]
  },
  {
   "cell_type": "code",
   "execution_count": 25,
   "metadata": {},
   "outputs": [],
   "source": [
    "# Save the trained model\n",
    "torch.save(Qmodel.state_dict(), \"QLSTM_Stock_Price_Model.pt\")"
   ]
  },
  {
   "cell_type": "code",
   "execution_count": null,
   "metadata": {},
   "outputs": [],
   "source": []
  },
  {
   "cell_type": "code",
   "execution_count": null,
   "metadata": {},
   "outputs": [],
   "source": []
  }
 ],
 "metadata": {
  "kernelspec": {
   "display_name": "tf2_18",
   "language": "python",
   "name": "tf"
  },
  "language_info": {
   "codemirror_mode": {
    "name": "ipython",
    "version": 3
   },
   "file_extension": ".py",
   "mimetype": "text/x-python",
   "name": "python",
   "nbconvert_exporter": "python",
   "pygments_lexer": "ipython3",
   "version": "3.10.0"
  }
 },
 "nbformat": 4,
 "nbformat_minor": 4
}
