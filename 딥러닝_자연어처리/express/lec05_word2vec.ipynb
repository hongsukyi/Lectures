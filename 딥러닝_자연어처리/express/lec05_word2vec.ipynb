{
  "cells": [
    {
      "cell_type": "code",
      "execution_count": null,
      "metadata": {
        "id": "8q_hWBnkELPE"
      },
      "outputs": [],
      "source": [
        "import pandas as pd\n",
        "df=pd.read_csv(\"https://raw.githubusercontent.com/hongsukyi/Lectures/main/data/naver_movie_train.txt\", sep=\"\\t\")"
      ]
    },
    {
      "cell_type": "code",
      "execution_count": null,
      "metadata": {
        "id": "TvIRPDjzEzzM"
      },
      "outputs": [],
      "source": [
        "df.head()"
      ]
    },
    {
      "cell_type": "code",
      "execution_count": null,
      "metadata": {
        "id": "-BoTxamvHU10"
      },
      "outputs": [],
      "source": [
        "print(len(df))"
      ]
    },
    {
      "cell_type": "markdown",
      "metadata": {
        "id": "GKz_SnAFjQ5g"
      },
      "source": [
        "## 편의상 데이터 개수를 줄여주자.\n",
        "- 150,000개의 10%인 15,000개를 사용하자."
      ]
    },
    {
      "cell_type": "code",
      "execution_count": null,
      "metadata": {
        "id": "NivfUjE7HVbg"
      },
      "outputs": [],
      "source": [
        "df=df[:1000]\n",
        "print(len(df))"
      ]
    },
    {
      "cell_type": "code",
      "execution_count": null,
      "metadata": {
        "id": "HBTaCoQYES7r"
      },
      "outputs": [],
      "source": [
        "# 결측치처리\n",
        "df.replace(\"\", float(\"NaN\"), inplace=True)\n",
        "df = df.dropna().reset_index(drop=True)\n",
        "print('결측치 처리 이후:',len(df))\n",
        "\n",
        "# 중복 제거\n",
        "df = df.drop_duplicates(['document']).reset_index(drop=True)\n",
        "print('중복 제거 이후:',len(df))\n",
        "\n",
        "# 한글이 아닌 문자 제거\n",
        "df['document'] = df['document'].str.replace(\"[^ㄱ-ㅎㅏ-ㅣ가-힣 ]\",\"\")\n",
        "print('한글 아닌 문자 제거 이후:',len(df))\n",
        "\n",
        "#길이가 짧은 데이터 제거\n",
        "df['document'] = df['document'].apply(lambda x: ' '.join([token for token in x.split() if len(token) > 2]))\n",
        "print('리뷰 길이가 짧은 것 제거 :',len(df))\n"
      ]
    },
    {
      "cell_type": "code",
      "execution_count": null,
      "metadata": {
        "id": "A6mHwj04GPqB"
      },
      "outputs": [],
      "source": [
        "!pip install konlpy\n",
        "from konlpy.tag import Okt"
      ]
    },
    {
      "cell_type": "code",
      "execution_count": null,
      "metadata": {
        "id": "w85NkrSJE1j3"
      },
      "outputs": [],
      "source": [
        "# 불용어 정의\n",
        "stopwords = ['의','가','이','은','들','는','좀','잘','걍','과','도','를','으로','자','에','와','한','하다']"
      ]
    },
    {
      "cell_type": "code",
      "execution_count": null,
      "metadata": {
        "id": "WYOtr3h6vrwy"
      },
      "outputs": [],
      "source": [
        "df = list(df['document'])"
      ]
    },
    {
      "cell_type": "code",
      "execution_count": null,
      "metadata": {
        "id": "EhGvrGSMvrwy"
      },
      "outputs": [],
      "source": [
        "okt = Okt()\n",
        "df_token = []"
      ]
    },
    {
      "cell_type": "code",
      "execution_count": null,
      "metadata": {
        "id": "vMcjUNuNvrwz"
      },
      "outputs": [],
      "source": [
        "for sentence in df:\n",
        "    t_okt = okt.morphs(sentence, stem=True) # 토큰화\n",
        "    t_sentence = [word for word in t_okt if not word in stopwords] # 불용어 제거\n",
        "    df_token.append(t_sentence)"
      ]
    },
    {
      "cell_type": "code",
      "execution_count": null,
      "metadata": {
        "id": "x2VxRdwok1Xp"
      },
      "outputs": [],
      "source": [
        "len(df_token)"
      ]
    },
    {
      "cell_type": "code",
      "execution_count": null,
      "metadata": {
        "id": "wE-MeTIzk-xE"
      },
      "outputs": [],
      "source": [
        "print(df_token[:5])"
      ]
    },
    {
      "cell_type": "code",
      "execution_count": null,
      "metadata": {
        "id": "v3vJD438IAgz"
      },
      "outputs": [],
      "source": [
        "import matplotlib.pyplot as plt"
      ]
    },
    {
      "cell_type": "code",
      "execution_count": null,
      "metadata": {
        "id": "lYqh2VBmGLO3"
      },
      "outputs": [],
      "source": [
        "print('리뷰의 최대 길이 :',max(len(review) for review in df_token))\n",
        "print('리뷰의 평균 길이 :',sum(map(len, df_token))/len(df_token))\n",
        "plt.hist([len(review) for review in df_token], bins=50)\n",
        "plt.xlabel('length of samples')\n",
        "plt.ylabel('number of samples')\n",
        "plt.show()"
      ]
    },
    {
      "cell_type": "code",
      "execution_count": null,
      "metadata": {
        "id": "GJv5o1zbvrw1"
      },
      "outputs": [],
      "source": [
        "import gensim      # gensim은 파이썬에서 Word2Vec을 지원한다.\n",
        "gensim.__version__\n",
        "from gensim.models import Word2Vec"
      ]
    },
    {
      "cell_type": "code",
      "source": [],
      "metadata": {
        "id": "haH6SAMjw-h1"
      },
      "execution_count": null,
      "outputs": []
    },
    {
      "cell_type": "code",
      "source": [
        "embedding_dim = 100\n",
        "\n",
        "model = Word2Vec(\n",
        "    sentences = df_token,  vector_size = embedding_dim,\n",
        "    window = 5, min_count = 5, workers = 4, sg = 0  )   # sg=0은 CBOW, sg=1은 Skip-gram"
      ],
      "metadata": {
        "id": "krkDJ4vHw6NN"
      },
      "execution_count": null,
      "outputs": []
    },
    {
      "cell_type": "code",
      "source": [
        "word_vectors = model.wv\n",
        "vocabs = list(word_vectors.key_to_index.keys())"
      ],
      "metadata": {
        "id": "PeDJRHp3wnBE"
      },
      "execution_count": null,
      "outputs": []
    },
    {
      "cell_type": "code",
      "source": [
        "for sim_word in model.wv.most_similar(\"배우\"):\n",
        "    print(sim_word)"
      ],
      "metadata": {
        "id": "AoJ2bmtpxBn0"
      },
      "execution_count": null,
      "outputs": []
    },
    {
      "cell_type": "code",
      "source": [
        "print(model.wv.similarity('연기', '눈물'))"
      ],
      "metadata": {
        "id": "aUHl-M-FxDdM"
      },
      "execution_count": null,
      "outputs": []
    },
    {
      "cell_type": "code",
      "source": [
        "import numpy as np\n",
        "from sklearn.manifold import TSNE"
      ],
      "metadata": {
        "id": "wu5wbuGaxFvc"
      },
      "execution_count": null,
      "outputs": []
    },
    {
      "cell_type": "code",
      "source": [
        "word_vector_list = [word_vectors[word] for word in vocabs]"
      ],
      "metadata": {
        "id": "QKdhiPk3xU1k"
      },
      "execution_count": null,
      "outputs": []
    },
    {
      "cell_type": "code",
      "source": [
        "tsne = TSNE(learning_rate = 100)\n",
        "word_vector_list = np.array(word_vector_list)\n",
        "transformed = tsne.fit_transform(word_vector_list)\n",
        "\n",
        "x_axis_tsne = transformed[:, 0]\n",
        "y_axis_tsne = transformed[:, 1]\n",
        "\n",
        "def plot_tsne_graph(vocabs, x_asix, y_asix):\n",
        "  plt.figure(figsize=(30, 30))\n",
        "  plt.scatter(x_asix, y_asix, marker = 'o')\n",
        "  for i, v in enumerate(vocabs):\n",
        "    plt.annotate(v, xy=(x_asix[i], y_asix[i]))\n",
        "\n",
        "plot_tsne_graph(vocabs, x_axis_tsne, y_axis_tsne)"
      ],
      "metadata": {
        "id": "xaXMqXTvxWs8"
      },
      "execution_count": null,
      "outputs": []
    },
    {
      "cell_type": "code",
      "source": [],
      "metadata": {
        "id": "cQ7gWcgSxdZm"
      },
      "execution_count": null,
      "outputs": []
    },
    {
      "cell_type": "markdown",
      "source": [],
      "metadata": {
        "id": "gNMR1MOdxdoF"
      }
    },
    {
      "cell_type": "code",
      "source": [],
      "metadata": {
        "id": "a50r67lvxYjE"
      },
      "execution_count": null,
      "outputs": []
    }
  ],
  "metadata": {
    "accelerator": "GPU",
    "colab": {
      "gpuType": "T4",
      "private_outputs": true,
      "provenance": []
    },
    "kernelspec": {
      "display_name": "Python 3 (ipykernel)",
      "language": "python",
      "name": "python3"
    },
    "language_info": {
      "codemirror_mode": {
        "name": "ipython",
        "version": 3
      },
      "file_extension": ".py",
      "mimetype": "text/x-python",
      "name": "python",
      "nbconvert_exporter": "python",
      "pygments_lexer": "ipython3",
      "version": "3.12.9"
    }
  },
  "nbformat": 4,
  "nbformat_minor": 0
}