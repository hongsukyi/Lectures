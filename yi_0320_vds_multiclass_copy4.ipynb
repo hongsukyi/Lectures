{
 "cells": [
  {
   "cell_type": "markdown",
   "metadata": {},
   "source": [
    "### 멀티클래스에 interpret를 추가하고 VQC(output_shape=num_classes) \n",
    "\n",
    "# VQC 만 테스트 \n",
    "1. output_shape = num_classes\n",
    "2. interpret = index% num_classes\n",
    "3. feature=4"
   ]
  },
  {
   "cell_type": "code",
   "execution_count": 1,
   "metadata": {},
   "outputs": [
    {
     "name": "stdout",
     "output_type": "stream",
     "text": [
      "qiskit version: 1.4.2\n",
      "tf     version: 2.18.0\n",
      "Python Version: 3.10.0\n",
      "OS            : Windows\n",
      "코딩시간       : Thu Mar 20 23:59:22 2025 대한민국 표준시\n",
      "Copyright     : Hongsuk (hongsuk.yi@gmail.com)\n"
     ]
    }
   ],
   "source": [
    "import datetime\n",
    "import time\n",
    "import qiskit\n",
    "import tensorflow \n",
    "import platform\n",
    "\n",
    "datetime.datetime.now()\n",
    "\n",
    "print('qiskit version:', qiskit.__version__)\n",
    "print('tf     version:', tensorflow.__version__)\n",
    "print('Python Version:',platform.python_version())\n",
    "print('OS            :', platform.system())\n",
    "print('코딩시간       :', time.strftime(\"%a %b %d %H:%M:%S %Y %Z\"))\n",
    "print('Copyright     : Hongsuk (hongsuk.yi@gmail.com)')"
   ]
  },
  {
   "cell_type": "code",
   "execution_count": 2,
   "metadata": {},
   "outputs": [],
   "source": [
    "import numpy as np\n",
    "import seaborn as sns\n",
    "import pandas as pd\n",
    "\n",
    "from matplotlib import pyplot as plt\n",
    "from IPython.display import clear_output"
   ]
  },
  {
   "cell_type": "code",
   "execution_count": 3,
   "metadata": {},
   "outputs": [],
   "source": [
    "#sklearn\n",
    "from sklearn.svm import SVC \n",
    "from sklearn.neural_network import MLPClassifier\n",
    "from sklearn.decomposition import PCA\n",
    "from sklearn.model_selection import train_test_split, cross_val_score, KFold\n",
    "from sklearn.preprocessing import StandardScaler, MinMaxScaler\n",
    "from sklearn import metrics\n",
    "from sklearn.metrics import confusion_matrix, roc_curve, accuracy_score,classification_report\n",
    "from mlxtend.plotting import plot_decision_regions"
   ]
  },
  {
   "cell_type": "code",
   "execution_count": 4,
   "metadata": {},
   "outputs": [],
   "source": [
    "import tensorflow as tf\n",
    "from tensorflow.keras.models import Sequential\n",
    "from tensorflow.keras.layers import Dense, Dropout\n",
    "from tensorflow.keras.optimizers import Adam "
   ]
  },
  {
   "cell_type": "markdown",
   "metadata": {},
   "source": [
    "## 포팅"
   ]
  },
  {
   "cell_type": "code",
   "execution_count": 5,
   "metadata": {},
   "outputs": [],
   "source": [
    "# from qiskit_machine_learning.kernels import QuantumKernel\n",
    "from qiskit_machine_learning.utils import algorithm_globals\n",
    "from qiskit_machine_learning.optimizers import SPSA, L_BFGS_B, COBYLA\n",
    "from qiskit_machine_learning.algorithms import VQC, QSVC, NeuralNetworkClassifier \n",
    "from qiskit.primitives import Sampler\n",
    "\n",
    "from qiskit import QuantumCircuit\n",
    "from qiskit.circuit.library import ZZFeatureMap, RealAmplitudes, ZFeatureMap, EfficientSU2, TwoLocal\n",
    "from qiskit_machine_learning.circuit.library import QNNCircuit\n",
    "from qiskit_machine_learning.neural_networks import SamplerQNN\n",
    "from qiskit_machine_learning.exceptions import QiskitMachineLearningError\n",
    "from qiskit_machine_learning.utils import algorithm_globals"
   ]
  },
  {
   "cell_type": "code",
   "execution_count": 6,
   "metadata": {},
   "outputs": [],
   "source": [
    "import warnings\n",
    "warnings.filterwarnings('ignore')"
   ]
  },
  {
   "cell_type": "code",
   "execution_count": 7,
   "metadata": {},
   "outputs": [],
   "source": [
    "df_orig = pd.read_csv(\"https://raw.githubusercontent.com/hongsukyi/Lectures/main/data/vds16_L3_5m_Days20.csv\")\n",
    "#df = pd.read_csv(\"./vds16_L3_120m_Days20.csv\")"
   ]
  },
  {
   "cell_type": "markdown",
   "metadata": {},
   "source": [
    "## Feature selection"
   ]
  },
  {
   "cell_type": "code",
   "execution_count": 8,
   "metadata": {},
   "outputs": [
    {
     "data": {
      "text/html": [
       "<div>\n",
       "<style scoped>\n",
       "    .dataframe tbody tr th:only-of-type {\n",
       "        vertical-align: middle;\n",
       "    }\n",
       "\n",
       "    .dataframe tbody tr th {\n",
       "        vertical-align: top;\n",
       "    }\n",
       "\n",
       "    .dataframe thead th {\n",
       "        text-align: right;\n",
       "    }\n",
       "</style>\n",
       "<table border=\"1\" class=\"dataframe\">\n",
       "  <thead>\n",
       "    <tr style=\"text-align: right;\">\n",
       "      <th></th>\n",
       "      <th>Unnamed: 0</th>\n",
       "      <th>Date</th>\n",
       "      <th>ToVol</th>\n",
       "      <th>SmVol</th>\n",
       "      <th>MeVol</th>\n",
       "      <th>LaVol</th>\n",
       "      <th>Speed</th>\n",
       "      <th>OccRate</th>\n",
       "      <th>Hour</th>\n",
       "      <th>tfi</th>\n",
       "      <th>rho</th>\n",
       "      <th>label</th>\n",
       "    </tr>\n",
       "  </thead>\n",
       "  <tbody>\n",
       "    <tr>\n",
       "      <th>0</th>\n",
       "      <td>288</td>\n",
       "      <td>2017-04-03 00:00:00</td>\n",
       "      <td>30</td>\n",
       "      <td>21</td>\n",
       "      <td>9</td>\n",
       "      <td>0</td>\n",
       "      <td>58.6</td>\n",
       "      <td>1.09</td>\n",
       "      <td>0</td>\n",
       "      <td>0.123</td>\n",
       "      <td>0.044</td>\n",
       "      <td>Fast</td>\n",
       "    </tr>\n",
       "    <tr>\n",
       "      <th>1</th>\n",
       "      <td>289</td>\n",
       "      <td>2017-04-03 00:05:00</td>\n",
       "      <td>28</td>\n",
       "      <td>17</td>\n",
       "      <td>11</td>\n",
       "      <td>0</td>\n",
       "      <td>57.5</td>\n",
       "      <td>1.29</td>\n",
       "      <td>0</td>\n",
       "      <td>0.112</td>\n",
       "      <td>0.041</td>\n",
       "      <td>Fast</td>\n",
       "    </tr>\n",
       "    <tr>\n",
       "      <th>2</th>\n",
       "      <td>290</td>\n",
       "      <td>2017-04-03 00:10:00</td>\n",
       "      <td>42</td>\n",
       "      <td>33</td>\n",
       "      <td>8</td>\n",
       "      <td>1</td>\n",
       "      <td>53.1</td>\n",
       "      <td>1.53</td>\n",
       "      <td>0</td>\n",
       "      <td>0.156</td>\n",
       "      <td>0.073</td>\n",
       "      <td>Fast</td>\n",
       "    </tr>\n",
       "    <tr>\n",
       "      <th>3</th>\n",
       "      <td>291</td>\n",
       "      <td>2017-04-03 00:15:00</td>\n",
       "      <td>32</td>\n",
       "      <td>22</td>\n",
       "      <td>9</td>\n",
       "      <td>1</td>\n",
       "      <td>56.2</td>\n",
       "      <td>1.25</td>\n",
       "      <td>0</td>\n",
       "      <td>0.126</td>\n",
       "      <td>0.050</td>\n",
       "      <td>Fast</td>\n",
       "    </tr>\n",
       "    <tr>\n",
       "      <th>4</th>\n",
       "      <td>292</td>\n",
       "      <td>2017-04-03 00:20:00</td>\n",
       "      <td>22</td>\n",
       "      <td>15</td>\n",
       "      <td>7</td>\n",
       "      <td>0</td>\n",
       "      <td>52.8</td>\n",
       "      <td>1.02</td>\n",
       "      <td>0</td>\n",
       "      <td>0.081</td>\n",
       "      <td>0.034</td>\n",
       "      <td>Fast</td>\n",
       "    </tr>\n",
       "  </tbody>\n",
       "</table>\n",
       "</div>"
      ],
      "text/plain": [
       "   Unnamed: 0                 Date  ToVol  SmVol  MeVol  LaVol  Speed  \\\n",
       "0         288  2017-04-03 00:00:00     30     21      9      0   58.6   \n",
       "1         289  2017-04-03 00:05:00     28     17     11      0   57.5   \n",
       "2         290  2017-04-03 00:10:00     42     33      8      1   53.1   \n",
       "3         291  2017-04-03 00:15:00     32     22      9      1   56.2   \n",
       "4         292  2017-04-03 00:20:00     22     15      7      0   52.8   \n",
       "\n",
       "   OccRate  Hour    tfi    rho label  \n",
       "0     1.09     0  0.123  0.044  Fast  \n",
       "1     1.29     0  0.112  0.041  Fast  \n",
       "2     1.53     0  0.156  0.073  Fast  \n",
       "3     1.25     0  0.126  0.050  Fast  \n",
       "4     1.02     0  0.081  0.034  Fast  "
      ]
     },
     "execution_count": 8,
     "metadata": {},
     "output_type": "execute_result"
    }
   ],
   "source": [
    "df_orig.head()"
   ]
  },
  {
   "cell_type": "code",
   "execution_count": 9,
   "metadata": {},
   "outputs": [],
   "source": [
    "# 각 라벨별 샘풀링 개수 : 200개\n",
    "sample_per_label = 50"
   ]
  },
  {
   "cell_type": "code",
   "execution_count": 10,
   "metadata": {
    "scrolled": true
   },
   "outputs": [],
   "source": [
    "#각 라벨별로 200개씩 샘플링\n",
    "df = df_orig.groupby('label').apply(lambda x: x.sample(n=sample_per_label, random_state=42)).reset_index(drop=True)"
   ]
  },
  {
   "cell_type": "code",
   "execution_count": 11,
   "metadata": {
    "scrolled": true
   },
   "outputs": [
    {
     "name": "stdout",
     "output_type": "stream",
     "text": [
      "label\n",
      "Fast    50\n",
      "Jam     50\n",
      "Slow    50\n",
      "Name: count, dtype: int64\n"
     ]
    }
   ],
   "source": [
    "# 결과 확인\n",
    "label_counts = df['label'].value_counts()\n",
    "print(label_counts)"
   ]
  },
  {
   "cell_type": "code",
   "execution_count": 12,
   "metadata": {},
   "outputs": [
    {
     "data": {
      "image/png": "[encoded data removed]",
      "text/plain": [
       "<Figure size 640x480 with 1 Axes>"
      ]
     },
     "metadata": {},
     "output_type": "display_data"
    }
   ],
   "source": [
    "# pandas plot을 사용하여 bar chart 그리기\n",
    "label_counts.plot(kind='bar', title='Number of Samples per Label')\n",
    "plt.xlabel('Label')\n",
    "plt.ylabel('Number of Samples')\n",
    "plt.xticks(rotation=0) # x축 라벨 회전 (필요에 따라 조절)\n",
    "plt.tight_layout() # 레이아웃 조정\n",
    "plt.show()"
   ]
  },
  {
   "cell_type": "code",
   "execution_count": 13,
   "metadata": {},
   "outputs": [
    {
     "data": {
      "text/plain": [
       "Index(['Unnamed: 0', 'Date', 'ToVol', 'SmVol', 'MeVol', 'LaVol', 'Speed',\n",
       "       'OccRate', 'Hour', 'tfi', 'rho', 'label'],\n",
       "      dtype='object')"
      ]
     },
     "execution_count": 13,
     "metadata": {},
     "output_type": "execute_result"
    }
   ],
   "source": [
    "df.columns"
   ]
  },
  {
   "cell_type": "code",
   "execution_count": 14,
   "metadata": {},
   "outputs": [
    {
     "data": {
      "text/plain": [
       "<Axes: xlabel='ToVol', ylabel='Speed'>"
      ]
     },
     "execution_count": 14,
     "metadata": {},
     "output_type": "execute_result"
    },
    {
     "data": {
      "image/png": "[encoded data removed]",
      "text/plain": [
       "<Figure size 640x480 with 1 Axes>"
      ]
     },
     "metadata": {},
     "output_type": "display_data"
    }
   ],
   "source": [
    "sns.scatterplot(df, x = 'ToVol', y = 'Speed', hue='label') "
   ]
  },
  {
   "cell_type": "code",
   "execution_count": 15,
   "metadata": {},
   "outputs": [
    {
     "data": {
      "text/plain": [
       "<seaborn.axisgrid.FacetGrid at 0x2008ec18760>"
      ]
     },
     "execution_count": 15,
     "metadata": {},
     "output_type": "execute_result"
    },
    {
     "data": {
      "image/png": "[encoded data removed]",
      "text/plain": [
       "<Figure size 582.5x500 with 1 Axes>"
      ]
     },
     "metadata": {},
     "output_type": "display_data"
    }
   ],
   "source": [
    "sns.lmplot( x = 'rho', y = 'Speed', hue='label', data=df)"
   ]
  },
  {
   "cell_type": "markdown",
   "metadata": {},
   "source": [
    "# Classical classifiers "
   ]
  },
  {
   "cell_type": "code",
   "execution_count": 16,
   "metadata": {},
   "outputs": [
    {
     "data": {
      "text/plain": [
       "Index(['Unnamed: 0', 'Date', 'ToVol', 'SmVol', 'MeVol', 'LaVol', 'Speed',\n",
       "       'OccRate', 'Hour', 'tfi', 'rho', 'label'],\n",
       "      dtype='object')"
      ]
     },
     "execution_count": 16,
     "metadata": {},
     "output_type": "execute_result"
    }
   ],
   "source": [
    "df.columns"
   ]
  },
  {
   "cell_type": "code",
   "execution_count": 17,
   "metadata": {},
   "outputs": [],
   "source": [
    "# classical SVM\n",
    "X = df[['ToVol', 'Speed','Hour','rho' ]]\n",
    "y = df['label']"
   ]
  },
  {
   "cell_type": "code",
   "execution_count": 18,
   "metadata": {},
   "outputs": [
    {
     "name": "stdout",
     "output_type": "stream",
     "text": [
      "(150, 4)\n",
      "[[-0.90015611  0.37428852  1.56524758 -0.89255489]\n",
      " [-1.34520091  0.01190683 -1.09008314 -1.2127052 ]\n",
      " [-1.52003995  1.30612716 -1.36959164 -1.39392235]\n",
      " [-0.86836719  0.43899954  1.56524758 -0.87443318]\n",
      " [-1.55182886  0.36134632 -1.50934588 -1.38788178]]\n"
     ]
    }
   ],
   "source": [
    "from sklearn.preprocessing import LabelEncoder, StandardScaler\n",
    "X_scaled = StandardScaler().fit_transform(X)\n",
    "print(X_scaled.shape)\n",
    "print(X_scaled[:5,:])"
   ]
  },
  {
   "cell_type": "code",
   "execution_count": 19,
   "metadata": {},
   "outputs": [],
   "source": [
    "y_enc = LabelEncoder().fit_transform(y)"
   ]
  },
  {
   "cell_type": "code",
   "execution_count": 20,
   "metadata": {},
   "outputs": [],
   "source": [
    "X_train, X_test, y_train, y_test = train_test_split(X_scaled, y_enc, test_size=0.20)"
   ]
  },
  {
   "cell_type": "code",
   "execution_count": 21,
   "metadata": {},
   "outputs": [
    {
     "data": {
      "text/plain": [
       "(30, 2)"
      ]
     },
     "execution_count": 21,
     "metadata": {},
     "output_type": "execute_result"
    }
   ],
   "source": [
    "X_test2F=X_test[:, :2]\n",
    "X_test2F.shape"
   ]
  },
  {
   "cell_type": "code",
   "execution_count": 22,
   "metadata": {},
   "outputs": [],
   "source": [
    "acc_sv=0.0\n",
    "acc_ann=0.0\n",
    "acc_dnn=0.0\n",
    "acc_qsvc=0.0\n",
    "acc_vqc=0.0"
   ]
  },
  {
   "cell_type": "markdown",
   "metadata": {},
   "source": [
    "# Quantum Simulator for Quantum Classification"
   ]
  },
  {
   "cell_type": "code",
   "execution_count": 23,
   "metadata": {},
   "outputs": [],
   "source": [
    "import time\n",
    "from qiskit_machine_learning.algorithms import QSVC, VQC\n",
    "from qiskit.circuit.library import ZZFeatureMap,  RealAmplitudes\n",
    "from qiskit_machine_learning.optimizers import COBYLA\n",
    "from qiskit_machine_learning.kernels import FidelityQuantumKernel\n",
    "from qiskit_machine_learning.state_fidelities import ComputeUncompute\n",
    "from qiskit.primitives import StatevectorSampler as Sampler"
   ]
  },
  {
   "cell_type": "markdown",
   "metadata": {},
   "source": [
    "## 수정할 부분"
   ]
  },
  {
   "cell_type": "code",
   "execution_count": 24,
   "metadata": {},
   "outputs": [],
   "source": [
    "num_classes = y.nunique()\n",
    "num_features = X_train.shape[1]\n",
    "#print('특성 개수  :',num_features)\n",
    "#print(f\"클래스 개수: {num_classes}\")\n",
    "\n",
    "feature_map = ZZFeatureMap(feature_dimension = num_features , reps=1, entanglement=\"linear\")\n",
    "#ansatz = RealAmplitudes(num_qubits = num_features , reps=4, entanglement=\"full\")\n",
    "ansatz = EfficientSU2(num_qubits = num_features , reps=3, entanglement=\"full\")\n",
    "\n",
    "#ansatz.decompose().draw(output=\"mpl\", style=\"clifford\", fold=20)\n",
    "#feature_map.decompose().draw(output=\"mpl\", fold=20)   #style=\"clifford\",  fold=18"
   ]
  },
  {
   "cell_type": "code",
   "execution_count": 25,
   "metadata": {},
   "outputs": [],
   "source": [
    "def multi_class_interpret(measured_integer):\n",
    "    \"\"\"측정된 정수를 num_classes으로 나눈 나머지를 클래스 인덱스로 반환\"\"\"\n",
    "    return measured_integer % num_classes\n",
    "    \n",
    "# callback function that draws a live plot when the .fit() method is called\n",
    "def callback_graph(weights, obj_func_eval):\n",
    "    clear_output(wait=True)\n",
    "    objective_func_vals.append(obj_func_eval)\n",
    "    plt.title(\"Objective function value against iteration\")\n",
    "    plt.xlabel(\"Iteration\")\n",
    "    plt.ylabel(\"Objective function value\")\n",
    "    plt.plot(range(len(objective_func_vals)), objective_func_vals)\n",
    "    plt.show()"
   ]
  },
  {
   "cell_type": "code",
   "execution_count": 26,
   "metadata": {},
   "outputs": [
    {
     "name": "stderr",
     "output_type": "stream",
     "text": [
      "No gradient function provided, creating a gradient function. If your Sampler requires transpilation, please provide a pass manager.\n"
     ]
    }
   ],
   "source": [
    "sampler = Sampler()\n",
    "optimizer = COBYLA(maxiter=100)\n",
    "\n",
    "#optimizer = SPSA(maxiter=80, learning_rate=0.05, perturbation=0.05)\n",
    "\n",
    "vqc = VQC(\n",
    "    sampler=sampler,\n",
    "    feature_map=feature_map,\n",
    "    ansatz=ansatz,\n",
    "    optimizer=optimizer,\n",
    "    callback=callback_graph,\n",
    "    output_shape=num_classes,\n",
    "    interpret=multi_class_interpret  # interpret 함수 추가\n",
    ")"
   ]
  },
  {
   "cell_type": "code",
   "execution_count": null,
   "metadata": {},
   "outputs": [],
   "source": [
    "plt.rcParams[\"figure.figsize\"] = (12, 6)\n",
    "\n",
    "objective_func_vals = []\n",
    "start = time.time()\n",
    "vqc.fit(X_train, y_train)\n",
    "elapsed = time.time() - start\n",
    "print(f\"Training time: {round(elapsed)} seconds\")\n",
    "\n",
    "#plt.plot(objective_func_vals)"
   ]
  },
  {
   "cell_type": "code",
   "execution_count": null,
   "metadata": {},
   "outputs": [],
   "source": [
    "train_score_q4 = vqc.score(X_train, y_train)\n",
    "a_vqc = vqc.score(X_test, y_test)\n",
    "\n",
    "print(f\"Quantum VQC on the training dataset: {train_score_q4:.2f}\")\n",
    "print(f\"Quantum VQC on the test dataset    : {a_vqc:.2f}\")"
   ]
  },
  {
   "cell_type": "code",
   "execution_count": null,
   "metadata": {},
   "outputs": [],
   "source": [
    "y_pred = vqc.predict(X_test)\n",
    "\n",
    "# print classification report and confusion matrix for the classifier\n",
    "print(\"Classification report: \\n\", metrics.classification_report(y_test, y_pred))\n",
    "print(\"Confusion matrix: \\n\", metrics.confusion_matrix(y_test, y_pred))\n",
    "predict = vqc.predict(X_test)\n",
    "print(f\"Predicted labels: {predict}\")\n",
    "print(f\"Ground truth:     {y_test}\")"
   ]
  },
  {
   "cell_type": "code",
   "execution_count": null,
   "metadata": {},
   "outputs": [],
   "source": [
    "a_svm=a_ann=a_dnn=0.1\n",
    "df = pd.DataFrame({\n",
    "    'models': ['SVC', 'ANN','DNN', 'VQC'],\n",
    "    'accuracy':[a_svm, a_ann, a_dnn,  a_vqc]})\n",
    "df=df.sort_values(by='accuracy', ascending=True)\n",
    "\n",
    "df.plot.bar(x='models',y='accuracy',rot=15)"
   ]
  },
  {
   "cell_type": "code",
   "execution_count": null,
   "metadata": {},
   "outputs": [],
   "source": []
  },
  {
   "cell_type": "code",
   "execution_count": null,
   "metadata": {},
   "outputs": [],
   "source": []
  },
  {
   "cell_type": "code",
   "execution_count": null,
   "metadata": {},
   "outputs": [],
   "source": []
  },
  {
   "cell_type": "code",
   "execution_count": null,
   "metadata": {},
   "outputs": [],
   "source": []
  }
 ],
 "metadata": {
  "kernelspec": {
   "display_name": "TF_QISKIT",
   "language": "python",
   "name": "tf"
  },
  "language_info": {
   "codemirror_mode": {
    "name": "ipython",
    "version": 3
   },
   "file_extension": ".py",
   "mimetype": "text/x-python",
   "name": "python",
   "nbconvert_exporter": "python",
   "pygments_lexer": "ipython3",
   "version": "3.10.0"
  }
 },
 "nbformat": 4,
 "nbformat_minor": 4
}
