{
 "cells": [
  {
   "cell_type": "code",
   "execution_count": 1,
   "metadata": {
    "id": "2zBCWR7MZhtc"
   },
   "outputs": [],
   "source": [
    "import numpy as np\n",
    "import matplotlib.pyplot as plt\n",
    "\n",
    "from tensorflow.keras.layers import Embedding, Flatten, Dense\n",
    "from tensorflow.keras.models import Sequential\n",
    "from tensorflow.keras.preprocessing.text import one_hot\n",
    "from tensorflow.keras.preprocessing.sequence import pad_sequences"
   ]
  },
  {
   "cell_type": "code",
   "execution_count": 2,
   "metadata": {
    "id": "ZAwJmUgRazrY"
   },
   "outputs": [],
   "source": [
    "docs = ['additional income',\n",
    "\t\t'best price',\n",
    "\t\t'big bucks',\n",
    "\t\t'cash bonus',\n",
    "\t\t'earn extra cash',\n",
    "\t\t'spring savings certificate',\n",
    "\t\t'valero gas marketing',\n",
    "\t\t'all domestic employees',\n",
    "\t\t'nominations for oct',\n",
    "\t\t'confirmation from spinner']\n",
    "\n",
    "labels = np.array([1,1,1,1,1,0,0,0,0,0])"
   ]
  },
  {
   "cell_type": "markdown",
   "metadata": {
    "id": "-pSavDaKbL61"
   },
   "source": [
    "- one_hot() 함수는 해싱을 이용하여 정수를 생성한다.\n",
    "- 해시 함수의 충돌 확률을 줄이기 위하여 필요한 것 보다 큰 어휘 크기 50 사용한다."
   ]
  },
  {
   "cell_type": "code",
   "execution_count": 3,
   "metadata": {
    "id": "tLIs9DxTazuz"
   },
   "outputs": [
    {
     "name": "stdout",
     "output_type": "stream",
     "text": [
      "[[44, 4], [44, 41], [28, 24], [32, 36], [9, 14, 32], [23, 35, 1], [19, 47, 37], [3, 40, 43], [46, 26, 21], [8, 28, 10]]\n"
     ]
    }
   ],
   "source": [
    "vocab_size = 50\n",
    "encoded_docs = [one_hot(d, vocab_size) for d in docs]\n",
    "print(encoded_docs)"
   ]
  },
  {
   "cell_type": "markdown",
   "metadata": {
    "id": "JVICby4Ibqin"
   },
   "source": [
    "- pad_sequences()함수로 입력 시퀀스의 길이, 즉 단어의 개수를 같게 만든다.\n",
    "- 여기서는 충분한 단어 개수 (max_length)를 사용한다."
   ]
  },
  {
   "cell_type": "code",
   "execution_count": 4,
   "metadata": {
    "id": "4JODT-5jazyN"
   },
   "outputs": [
    {
     "name": "stdout",
     "output_type": "stream",
     "text": [
      "[[44  4  0  0  0]\n",
      " [44 41  0  0  0]\n",
      " [28 24  0  0  0]\n",
      " [32 36  0  0  0]\n",
      " [ 9 14 32  0  0]\n",
      " [23 35  1  0  0]\n",
      " [19 47 37  0  0]\n",
      " [ 3 40 43  0  0]\n",
      " [46 26 21  0  0]\n",
      " [ 8 28 10  0  0]]\n"
     ]
    }
   ],
   "source": [
    "max_length = 5\n",
    "padded_docs = pad_sequences(encoded_docs, maxlen=max_length, padding='post')\n",
    "print(padded_docs)"
   ]
  },
  {
   "cell_type": "markdown",
   "metadata": {
    "id": "6u7KERCMcU6i"
   },
   "source": [
    "### Embedding 임베딩 층에 대하여\n",
    "- Embedding() 층에서 50개의 어휘이고, 각 문장의 입력 길이는 5이다.\n",
    "- 각 단어를 임베딩하는 차원(즉, 임베딩 길이)은 10개를 사용하자.\n",
    "- 한번에 입력에 사용되는 길이는 max_length로 5개 어휘(단어)이다."
   ]
  },
  {
   "cell_type": "code",
   "execution_count": 6,
   "metadata": {
    "id": "btLnsFdWaz1n"
   },
   "outputs": [
    {
     "name": "stderr",
     "output_type": "stream",
     "text": [
      "C:\\Users\\admin\\anaconda3\\envs\\keras\\Lib\\site-packages\\keras\\src\\layers\\core\\embedding.py:90: UserWarning: Argument `input_length` is deprecated. Just remove it.\n",
      "  warnings.warn(\n"
     ]
    }
   ],
   "source": [
    "model = Sequential()\n",
    "model.add(Embedding(vocab_size, 64, input_length=max_length))\n",
    "model.add(Flatten())\n",
    "model.add(Dense(16, activation='relu'))\n",
    "model.add(Dense(1, activation='sigmoid'))"
   ]
  },
  {
   "cell_type": "code",
   "execution_count": 7,
   "metadata": {
    "id": "zpVR1CRRaz5a"
   },
   "outputs": [
    {
     "name": "stdout",
     "output_type": "stream",
     "text": [
      "Epoch 1/30\n",
      "1/1 - 1s - 1s/step - accuracy: 0.7000 - loss: 0.6907\n",
      "Epoch 2/30\n",
      "1/1 - 0s - 80ms/step - accuracy: 1.0000 - loss: 0.6827\n",
      "Epoch 3/30\n",
      "1/1 - 0s - 79ms/step - accuracy: 1.0000 - loss: 0.6760\n",
      "Epoch 4/30\n",
      "1/1 - 0s - 84ms/step - accuracy: 1.0000 - loss: 0.6695\n",
      "Epoch 5/30\n",
      "1/1 - 0s - 111ms/step - accuracy: 1.0000 - loss: 0.6633\n",
      "Epoch 6/30\n",
      "1/1 - 0s - 86ms/step - accuracy: 1.0000 - loss: 0.6568\n",
      "Epoch 7/30\n",
      "1/1 - 0s - 88ms/step - accuracy: 1.0000 - loss: 0.6498\n",
      "Epoch 8/30\n",
      "1/1 - 0s - 138ms/step - accuracy: 1.0000 - loss: 0.6425\n",
      "Epoch 9/30\n",
      "1/1 - 0s - 93ms/step - accuracy: 1.0000 - loss: 0.6351\n",
      "Epoch 10/30\n",
      "1/1 - 0s - 83ms/step - accuracy: 1.0000 - loss: 0.6272\n",
      "Epoch 11/30\n",
      "1/1 - 0s - 94ms/step - accuracy: 1.0000 - loss: 0.6190\n",
      "Epoch 12/30\n",
      "1/1 - 0s - 84ms/step - accuracy: 1.0000 - loss: 0.6106\n",
      "Epoch 13/30\n",
      "1/1 - 0s - 74ms/step - accuracy: 1.0000 - loss: 0.6019\n",
      "Epoch 14/30\n",
      "1/1 - 0s - 85ms/step - accuracy: 1.0000 - loss: 0.5930\n",
      "Epoch 15/30\n",
      "1/1 - 0s - 85ms/step - accuracy: 1.0000 - loss: 0.5836\n",
      "Epoch 16/30\n",
      "1/1 - 0s - 88ms/step - accuracy: 1.0000 - loss: 0.5739\n",
      "Epoch 17/30\n",
      "1/1 - 0s - 87ms/step - accuracy: 1.0000 - loss: 0.5638\n",
      "Epoch 18/30\n",
      "1/1 - 0s - 87ms/step - accuracy: 1.0000 - loss: 0.5534\n",
      "Epoch 19/30\n",
      "1/1 - 0s - 85ms/step - accuracy: 1.0000 - loss: 0.5427\n",
      "Epoch 20/30\n",
      "1/1 - 0s - 102ms/step - accuracy: 1.0000 - loss: 0.5316\n",
      "Epoch 21/30\n",
      "1/1 - 0s - 138ms/step - accuracy: 1.0000 - loss: 0.5202\n",
      "Epoch 22/30\n",
      "1/1 - 0s - 152ms/step - accuracy: 1.0000 - loss: 0.5084\n",
      "Epoch 23/30\n",
      "1/1 - 0s - 90ms/step - accuracy: 1.0000 - loss: 0.4963\n",
      "Epoch 24/30\n",
      "1/1 - 0s - 87ms/step - accuracy: 1.0000 - loss: 0.4838\n",
      "Epoch 25/30\n",
      "1/1 - 0s - 86ms/step - accuracy: 1.0000 - loss: 0.4710\n",
      "Epoch 26/30\n",
      "1/1 - 0s - 87ms/step - accuracy: 1.0000 - loss: 0.4579\n",
      "Epoch 27/30\n",
      "1/1 - 0s - 101ms/step - accuracy: 1.0000 - loss: 0.4446\n",
      "Epoch 28/30\n",
      "1/1 - 0s - 100ms/step - accuracy: 1.0000 - loss: 0.4309\n",
      "Epoch 29/30\n",
      "1/1 - 0s - 85ms/step - accuracy: 1.0000 - loss: 0.4171\n",
      "Epoch 30/30\n",
      "1/1 - 0s - 84ms/step - accuracy: 1.0000 - loss: 0.4030\n"
     ]
    }
   ],
   "source": [
    "model.compile(optimizer='adam', loss='binary_crossentropy', metrics=['accuracy'])\n",
    "history= model.fit(padded_docs, labels, epochs=30, verbose=2)"
   ]
  },
  {
   "cell_type": "code",
   "execution_count": 8,
   "metadata": {
    "id": "svdqgHn1aimd"
   },
   "outputs": [
    {
     "data": {
      "image/png": "[encoded data removed]",
      "text/plain": [
       "<Figure size 640x480 with 1 Axes>"
      ]
     },
     "metadata": {},
     "output_type": "display_data"
    }
   ],
   "source": [
    "plt.plot(history.history['loss'])\n",
    "plt.xlabel('Epoch')\n",
    "plt.ylabel('Loss')\n",
    "plt.show()"
   ]
  },
  {
   "cell_type": "code",
   "execution_count": 9,
   "metadata": {
    "id": "JNBoB5vWaipd"
   },
   "outputs": [
    {
     "data": {
      "image/png": "[encoded data removed]",
      "text/plain": [
       "<Figure size 640x480 with 1 Axes>"
      ]
     },
     "metadata": {},
     "output_type": "display_data"
    }
   ],
   "source": [
    "plt.plot(history.history['accuracy'])\n",
    "plt.xlabel('Epoch')\n",
    "plt.ylabel('Accuracy')\n",
    "plt.show()"
   ]
  },
  {
   "cell_type": "code",
   "execution_count": 10,
   "metadata": {
    "id": "5RLddRPtaijf"
   },
   "outputs": [
    {
     "name": "stdout",
     "output_type": "stream",
     "text": [
      "\u001b[1m1/1\u001b[0m \u001b[32m━━━━━━━━━━━━━━━━━━━━\u001b[0m\u001b[37m\u001b[0m \u001b[1m0s\u001b[0m 106ms/step\n",
      "[[0.61348057]]\n"
     ]
    }
   ],
   "source": [
    "test_doc = ['big income']\n",
    "encoded_docs = [one_hot(d, vocab_size) for d in test_doc]\n",
    "padded_docs = pad_sequences(encoded_docs, maxlen=max_length, padding='post')\n",
    "\n",
    "print(model.predict(padded_docs))"
   ]
  }
 ],
 "metadata": {
  "colab": {
   "private_outputs": true,
   "provenance": []
  },
  "kernelspec": {
   "display_name": "Python 3 (ipykernel)",
   "language": "python",
   "name": "python3"
  },
  "language_info": {
   "codemirror_mode": {
    "name": "ipython",
    "version": 3
   },
   "file_extension": ".py",
   "mimetype": "text/x-python",
   "name": "python",
   "nbconvert_exporter": "python",
   "pygments_lexer": "ipython3",
   "version": "3.12.9"
  }
 },
 "nbformat": 4,
 "nbformat_minor": 4
}
